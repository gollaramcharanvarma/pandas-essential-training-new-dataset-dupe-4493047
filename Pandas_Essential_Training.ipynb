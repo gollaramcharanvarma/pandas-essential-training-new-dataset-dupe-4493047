{
  "cells": [
    {
      "cell_type": "markdown",
      "metadata": {
        "id": "Qam369vSO_rt"
      },
      "source": [
        "# Pandas Essential Training"
      ]
    },
    {
      "cell_type": "markdown",
      "metadata": {
        "id": "nIp_KPjfO4J9"
      },
      "source": [
        "## Using pandas"
      ]
    },
    {
      "cell_type": "code",
      "execution_count": 3,
      "metadata": {
        "id": "cKNZud6X4_RL",
        "outputId": "b18c5f7c-1ba2-4aa3-a218-0de41d00f99a",
        "colab": {
          "base_uri": "https://localhost:8080/"
        }
      },
      "outputs": [
        {
          "output_type": "stream",
          "name": "stdout",
          "text": [
            "Collecting pandas==2.2.2\n",
            "  Downloading pandas-2.2.2-cp311-cp311-manylinux_2_17_x86_64.manylinux2014_x86_64.whl.metadata (19 kB)\n",
            "Requirement already satisfied: numpy>=1.23.2 in /usr/local/lib/python3.11/dist-packages (from pandas==2.2.2) (1.26.4)\n",
            "Requirement already satisfied: python-dateutil>=2.8.2 in /usr/local/lib/python3.11/dist-packages (from pandas==2.2.2) (2.8.2)\n",
            "Requirement already satisfied: pytz>=2020.1 in /usr/local/lib/python3.11/dist-packages (from pandas==2.2.2) (2025.1)\n",
            "Requirement already satisfied: tzdata>=2022.7 in /usr/local/lib/python3.11/dist-packages (from pandas==2.2.2) (2025.1)\n",
            "Requirement already satisfied: six>=1.5 in /usr/local/lib/python3.11/dist-packages (from python-dateutil>=2.8.2->pandas==2.2.2) (1.17.0)\n",
            "Downloading pandas-2.2.2-cp311-cp311-manylinux_2_17_x86_64.manylinux2014_x86_64.whl (13.0 MB)\n",
            "\u001b[2K   \u001b[90m━━━━━━━━━━━━━━━━━━━━━━━━━━━━━━━━━━━━━━━━\u001b[0m \u001b[32m13.0/13.0 MB\u001b[0m \u001b[31m59.4 MB/s\u001b[0m eta \u001b[36m0:00:00\u001b[0m\n",
            "\u001b[?25hInstalling collected packages: pandas\n",
            "  Attempting uninstall: pandas\n",
            "    Found existing installation: pandas 2.0.2\n",
            "    Uninstalling pandas-2.0.2:\n",
            "      Successfully uninstalled pandas-2.0.2\n",
            "Successfully installed pandas-2.2.2\n"
          ]
        }
      ],
      "source": [
        "!pip install pandas==2.2.2"
      ]
    },
    {
      "cell_type": "code",
      "execution_count": 4,
      "metadata": {
        "collapsed": true,
        "id": "fQ2h5qjgO4J9"
      },
      "outputs": [],
      "source": [
        "import pandas"
      ]
    },
    {
      "cell_type": "code",
      "execution_count": 5,
      "metadata": {
        "collapsed": true,
        "id": "SaGxEO5YO4J-"
      },
      "outputs": [],
      "source": [
        "import pandas as pd"
      ]
    },
    {
      "cell_type": "code",
      "execution_count": 6,
      "metadata": {
        "id": "C5JAgwmYO4J-",
        "outputId": "1cb942af-fdd0-46cf-8649-e353d31cb2f1",
        "colab": {
          "base_uri": "https://localhost:8080/",
          "height": 36
        }
      },
      "outputs": [
        {
          "output_type": "execute_result",
          "data": {
            "text/plain": [
              "'2.2.2'"
            ],
            "application/vnd.google.colaboratory.intrinsic+json": {
              "type": "string"
            }
          },
          "metadata": {},
          "execution_count": 6
        }
      ],
      "source": [
        "pd.__version__"
      ]
    },
    {
      "cell_type": "code",
      "execution_count": 7,
      "metadata": {
        "id": "n53FOqGY4T64",
        "collapsed": true,
        "outputId": "9972776d-2cb3-42d6-9a18-477eebc13c7d",
        "colab": {
          "base_uri": "https://localhost:8080/"
        }
      },
      "outputs": [
        {
          "output_type": "execute_result",
          "data": {
            "text/plain": [
              "['ArrowDtype',\n",
              " 'BooleanDtype',\n",
              " 'Categorical',\n",
              " 'CategoricalDtype',\n",
              " 'CategoricalIndex',\n",
              " 'DataFrame',\n",
              " 'DateOffset',\n",
              " 'DatetimeIndex',\n",
              " 'DatetimeTZDtype',\n",
              " 'ExcelFile',\n",
              " 'ExcelWriter',\n",
              " 'Flags',\n",
              " 'Float32Dtype',\n",
              " 'Float64Dtype',\n",
              " 'Grouper',\n",
              " 'HDFStore',\n",
              " 'Index',\n",
              " 'IndexSlice',\n",
              " 'Int16Dtype',\n",
              " 'Int32Dtype',\n",
              " 'Int64Dtype',\n",
              " 'Int8Dtype',\n",
              " 'Interval',\n",
              " 'IntervalDtype',\n",
              " 'IntervalIndex',\n",
              " 'MultiIndex',\n",
              " 'NA',\n",
              " 'NaT',\n",
              " 'NamedAgg',\n",
              " 'Period',\n",
              " 'PeriodDtype',\n",
              " 'PeriodIndex',\n",
              " 'RangeIndex',\n",
              " 'Series',\n",
              " 'SparseDtype',\n",
              " 'StringDtype',\n",
              " 'Timedelta',\n",
              " 'TimedeltaIndex',\n",
              " 'Timestamp',\n",
              " 'UInt16Dtype',\n",
              " 'UInt32Dtype',\n",
              " 'UInt64Dtype',\n",
              " 'UInt8Dtype',\n",
              " '__all__',\n",
              " '__builtins__',\n",
              " '__cached__',\n",
              " '__doc__',\n",
              " '__docformat__',\n",
              " '__file__',\n",
              " '__git_version__',\n",
              " '__loader__',\n",
              " '__name__',\n",
              " '__package__',\n",
              " '__path__',\n",
              " '__spec__',\n",
              " '__version__',\n",
              " '_built_with_meson',\n",
              " '_config',\n",
              " '_is_numpy_dev',\n",
              " '_libs',\n",
              " '_pandas_datetime_CAPI',\n",
              " '_pandas_parser_CAPI',\n",
              " '_testing',\n",
              " '_typing',\n",
              " '_version_meson',\n",
              " 'annotations',\n",
              " 'api',\n",
              " 'array',\n",
              " 'arrays',\n",
              " 'bdate_range',\n",
              " 'compat',\n",
              " 'concat',\n",
              " 'core',\n",
              " 'crosstab',\n",
              " 'cut',\n",
              " 'date_range',\n",
              " 'describe_option',\n",
              " 'errors',\n",
              " 'eval',\n",
              " 'factorize',\n",
              " 'from_dummies',\n",
              " 'get_dummies',\n",
              " 'get_option',\n",
              " 'infer_freq',\n",
              " 'interval_range',\n",
              " 'io',\n",
              " 'isna',\n",
              " 'isnull',\n",
              " 'json_normalize',\n",
              " 'lreshape',\n",
              " 'melt',\n",
              " 'merge',\n",
              " 'merge_asof',\n",
              " 'merge_ordered',\n",
              " 'notna',\n",
              " 'notnull',\n",
              " 'offsets',\n",
              " 'option_context',\n",
              " 'options',\n",
              " 'pandas',\n",
              " 'period_range',\n",
              " 'pivot',\n",
              " 'pivot_table',\n",
              " 'plotting',\n",
              " 'qcut',\n",
              " 'read_clipboard',\n",
              " 'read_csv',\n",
              " 'read_excel',\n",
              " 'read_feather',\n",
              " 'read_fwf',\n",
              " 'read_gbq',\n",
              " 'read_hdf',\n",
              " 'read_html',\n",
              " 'read_json',\n",
              " 'read_orc',\n",
              " 'read_parquet',\n",
              " 'read_pickle',\n",
              " 'read_sas',\n",
              " 'read_spss',\n",
              " 'read_sql',\n",
              " 'read_sql_query',\n",
              " 'read_sql_table',\n",
              " 'read_stata',\n",
              " 'read_table',\n",
              " 'read_xml',\n",
              " 'reset_option',\n",
              " 'set_eng_float_format',\n",
              " 'set_option',\n",
              " 'show_versions',\n",
              " 'test',\n",
              " 'testing',\n",
              " 'timedelta_range',\n",
              " 'to_datetime',\n",
              " 'to_numeric',\n",
              " 'to_pickle',\n",
              " 'to_timedelta',\n",
              " 'tseries',\n",
              " 'unique',\n",
              " 'util',\n",
              " 'value_counts',\n",
              " 'wide_to_long']"
            ]
          },
          "metadata": {},
          "execution_count": 7
        }
      ],
      "source": [
        "dir(pd)"
      ]
    },
    {
      "cell_type": "code",
      "execution_count": null,
      "metadata": {
        "collapsed": true,
        "id": "9-fFPNt1O4J-"
      },
      "outputs": [],
      "source": [
        "help(pd.read_csv)"
      ]
    },
    {
      "cell_type": "code",
      "execution_count": null,
      "metadata": {
        "collapsed": true,
        "id": "_vn0ZFdNO4J-"
      },
      "outputs": [],
      "source": [
        "pd.read_csv?"
      ]
    },
    {
      "cell_type": "markdown",
      "metadata": {
        "id": "43a6ZoJNbemF"
      },
      "source": [
        "Pandas documentation: https://pandas.pydata.org/docs/reference/index.html"
      ]
    },
    {
      "cell_type": "markdown",
      "metadata": {
        "id": "1QP__-BYFIFN"
      },
      "source": [
        "## Reading tabular data into pandas"
      ]
    },
    {
      "cell_type": "code",
      "execution_count": 8,
      "metadata": {
        "id": "JaItBRQ4FlFv",
        "outputId": "9471f39f-2fa7-410b-b4e4-dde38a49f52a",
        "colab": {
          "base_uri": "https://localhost:8080/"
        }
      },
      "outputs": [
        {
          "output_type": "stream",
          "name": "stdout",
          "text": [
            "--2025-02-11 13:25:03--  https://github.com/jonfernandes/pandas_essential/raw/main/olympics_1896_2004.csv\n",
            "Resolving github.com (github.com)... 140.82.113.4\n",
            "Connecting to github.com (github.com)|140.82.113.4|:443... connected.\n",
            "HTTP request sent, awaiting response... 302 Found\n",
            "Location: https://raw.githubusercontent.com/jonfernandes/pandas_essential/main/olympics_1896_2004.csv [following]\n",
            "--2025-02-11 13:25:03--  https://raw.githubusercontent.com/jonfernandes/pandas_essential/main/olympics_1896_2004.csv\n",
            "Resolving raw.githubusercontent.com (raw.githubusercontent.com)... 185.199.108.133, 185.199.109.133, 185.199.110.133, ...\n",
            "Connecting to raw.githubusercontent.com (raw.githubusercontent.com)|185.199.108.133|:443... connected.\n",
            "HTTP request sent, awaiting response... 200 OK\n",
            "Length: 2398388 (2.3M) [text/plain]\n",
            "Saving to: ‘olympics_1896_2004.csv’\n",
            "\n",
            "olympics_1896_2004. 100%[===================>]   2.29M  --.-KB/s    in 0.01s   \n",
            "\n",
            "2025-02-11 13:25:04 (189 MB/s) - ‘olympics_1896_2004.csv’ saved [2398388/2398388]\n",
            "\n"
          ]
        }
      ],
      "source": [
        "!wget https://github.com/jonfernandes/pandas_essential/raw/main/olympics_1896_2004.csv"
      ]
    },
    {
      "cell_type": "code",
      "source": [
        "#from google.colab import files\n",
        "#files.upload()"
      ],
      "metadata": {
        "id": "Pelnz4PfgRQ0"
      },
      "execution_count": null,
      "outputs": []
    },
    {
      "cell_type": "code",
      "execution_count": 1,
      "metadata": {
        "id": "uYdq9LXLFlFv",
        "outputId": "fcf8bdfa-caca-467c-b15e-b2473d8f4345",
        "colab": {
          "base_uri": "https://localhost:8080/"
        }
      },
      "outputs": [
        {
          "output_type": "stream",
          "name": "stdout",
          "text": [
            "total 16\n",
            "drwxr-xr-x 1 root root 4096 Feb  7 14:20 .\n",
            "drwxr-xr-x 1 root root 4096 Feb 11 13:20 ..\n",
            "drwxr-xr-x 4 root root 4096 Feb  7 14:19 .config\n",
            "drwxr-xr-x 1 root root 4096 Feb  7 14:20 sample_data\n"
          ]
        }
      ],
      "source": [
        "!ls -la"
      ]
    },
    {
      "cell_type": "code",
      "source": [
        "pd.read_csv?"
      ],
      "metadata": {
        "id": "Mk90BrMQg38E"
      },
      "execution_count": null,
      "outputs": []
    },
    {
      "cell_type": "code",
      "execution_count": 9,
      "metadata": {
        "id": "psxZiLijFuga",
        "collapsed": true,
        "outputId": "06bba9d3-add1-495d-836f-79fe9e19ee67",
        "colab": {
          "base_uri": "https://localhost:8080/",
          "height": 562
        }
      },
      "outputs": [
        {
          "output_type": "execute_result",
          "data": {
            "text/plain": [
              "      This is a list of medallists at the Summer Olympic Games (1896-2004) with details of the year of the olympics, city, sport, discipline, athlete name, gender, event and medal  \\\n",
              "0                                                    NaN                                                                                                                              \n",
              "1      DISCLAIMER: No guarantees, express or implied,...                                                                                                                              \n",
              "2                                                    NaN                                                                                                                              \n",
              "3                                                    NaN                                                                                                                              \n",
              "4                                                   Year                                                                                                                              \n",
              "...                                                  ...                                                                                                                              \n",
              "27174                                               2004                                                                                                                              \n",
              "27175                                               2004                                                                                                                              \n",
              "27176                                               2004                                                                                                                              \n",
              "27177                                               2004                                                                                                                              \n",
              "27178                                               2004                                                                                                                              \n",
              "\n",
              "      Unnamed: 1 Unnamed: 2  Unnamed: 3          Unnamed: 4 Unnamed: 5  \\\n",
              "0            NaN        NaN         NaN                 NaN        NaN   \n",
              "1            NaN        NaN         NaN                 NaN        NaN   \n",
              "2            NaN        NaN         NaN                 NaN        NaN   \n",
              "3            NaN        NaN         NaN                 NaN        NaN   \n",
              "4           City      Sport  Discipline        Athlete Name        NOC   \n",
              "...          ...        ...         ...                 ...        ...   \n",
              "27174     Athens    Fencing     Fencing  LOGOUNOVA, Tatiana        RUS   \n",
              "27175     Athens    Fencing     Fencing       SIVKOVA, Anna        RUS   \n",
              "27176     Athens    Fencing     Fencing      BOKEL, Claudia        GER   \n",
              "27177     Athens    Fencing     Fencing     DUPLITZER, Imke        GER   \n",
              "27178     Athens    Fencing     Fencing   HEIDEMANN, Britta        GER   \n",
              "\n",
              "      Unnamed: 6 Unnamed: 7    Unnamed: 8 Unnamed: 9 Unnamed: 10  \n",
              "0            NaN        NaN           NaN        NaN         NaN  \n",
              "1            NaN        NaN           NaN        NaN         NaN  \n",
              "2            NaN        NaN           NaN        NaN         NaN  \n",
              "3            NaN        NaN           NaN        NaN         NaN  \n",
              "4         Gender      Event  Event Gender      Medal    Position  \n",
              "...          ...        ...           ...        ...         ...  \n",
              "27174      Women  épée team             W       Gold           1  \n",
              "27175      Women  épée team             W       Gold           1  \n",
              "27176      Women  épée team             W     Silver           2  \n",
              "27177      Women  épée team             W     Silver           2  \n",
              "27178      Women  épée team             W     Silver           2  \n",
              "\n",
              "[27179 rows x 11 columns]"
            ],
            "text/html": [
              "\n",
              "  <div id=\"df-3e6df56e-adf9-44af-a863-45be392164d9\" class=\"colab-df-container\">\n",
              "    <div>\n",
              "<style scoped>\n",
              "    .dataframe tbody tr th:only-of-type {\n",
              "        vertical-align: middle;\n",
              "    }\n",
              "\n",
              "    .dataframe tbody tr th {\n",
              "        vertical-align: top;\n",
              "    }\n",
              "\n",
              "    .dataframe thead th {\n",
              "        text-align: right;\n",
              "    }\n",
              "</style>\n",
              "<table border=\"1\" class=\"dataframe\">\n",
              "  <thead>\n",
              "    <tr style=\"text-align: right;\">\n",
              "      <th></th>\n",
              "      <th>This is a list of medallists at the Summer Olympic Games (1896-2004) with details of the year of the olympics, city, sport, discipline, athlete name, gender, event and medal</th>\n",
              "      <th>Unnamed: 1</th>\n",
              "      <th>Unnamed: 2</th>\n",
              "      <th>Unnamed: 3</th>\n",
              "      <th>Unnamed: 4</th>\n",
              "      <th>Unnamed: 5</th>\n",
              "      <th>Unnamed: 6</th>\n",
              "      <th>Unnamed: 7</th>\n",
              "      <th>Unnamed: 8</th>\n",
              "      <th>Unnamed: 9</th>\n",
              "      <th>Unnamed: 10</th>\n",
              "    </tr>\n",
              "  </thead>\n",
              "  <tbody>\n",
              "    <tr>\n",
              "      <th>0</th>\n",
              "      <td>NaN</td>\n",
              "      <td>NaN</td>\n",
              "      <td>NaN</td>\n",
              "      <td>NaN</td>\n",
              "      <td>NaN</td>\n",
              "      <td>NaN</td>\n",
              "      <td>NaN</td>\n",
              "      <td>NaN</td>\n",
              "      <td>NaN</td>\n",
              "      <td>NaN</td>\n",
              "      <td>NaN</td>\n",
              "    </tr>\n",
              "    <tr>\n",
              "      <th>1</th>\n",
              "      <td>DISCLAIMER: No guarantees, express or implied,...</td>\n",
              "      <td>NaN</td>\n",
              "      <td>NaN</td>\n",
              "      <td>NaN</td>\n",
              "      <td>NaN</td>\n",
              "      <td>NaN</td>\n",
              "      <td>NaN</td>\n",
              "      <td>NaN</td>\n",
              "      <td>NaN</td>\n",
              "      <td>NaN</td>\n",
              "      <td>NaN</td>\n",
              "    </tr>\n",
              "    <tr>\n",
              "      <th>2</th>\n",
              "      <td>NaN</td>\n",
              "      <td>NaN</td>\n",
              "      <td>NaN</td>\n",
              "      <td>NaN</td>\n",
              "      <td>NaN</td>\n",
              "      <td>NaN</td>\n",
              "      <td>NaN</td>\n",
              "      <td>NaN</td>\n",
              "      <td>NaN</td>\n",
              "      <td>NaN</td>\n",
              "      <td>NaN</td>\n",
              "    </tr>\n",
              "    <tr>\n",
              "      <th>3</th>\n",
              "      <td>NaN</td>\n",
              "      <td>NaN</td>\n",
              "      <td>NaN</td>\n",
              "      <td>NaN</td>\n",
              "      <td>NaN</td>\n",
              "      <td>NaN</td>\n",
              "      <td>NaN</td>\n",
              "      <td>NaN</td>\n",
              "      <td>NaN</td>\n",
              "      <td>NaN</td>\n",
              "      <td>NaN</td>\n",
              "    </tr>\n",
              "    <tr>\n",
              "      <th>4</th>\n",
              "      <td>Year</td>\n",
              "      <td>City</td>\n",
              "      <td>Sport</td>\n",
              "      <td>Discipline</td>\n",
              "      <td>Athlete Name</td>\n",
              "      <td>NOC</td>\n",
              "      <td>Gender</td>\n",
              "      <td>Event</td>\n",
              "      <td>Event Gender</td>\n",
              "      <td>Medal</td>\n",
              "      <td>Position</td>\n",
              "    </tr>\n",
              "    <tr>\n",
              "      <th>...</th>\n",
              "      <td>...</td>\n",
              "      <td>...</td>\n",
              "      <td>...</td>\n",
              "      <td>...</td>\n",
              "      <td>...</td>\n",
              "      <td>...</td>\n",
              "      <td>...</td>\n",
              "      <td>...</td>\n",
              "      <td>...</td>\n",
              "      <td>...</td>\n",
              "      <td>...</td>\n",
              "    </tr>\n",
              "    <tr>\n",
              "      <th>27174</th>\n",
              "      <td>2004</td>\n",
              "      <td>Athens</td>\n",
              "      <td>Fencing</td>\n",
              "      <td>Fencing</td>\n",
              "      <td>LOGOUNOVA, Tatiana</td>\n",
              "      <td>RUS</td>\n",
              "      <td>Women</td>\n",
              "      <td>épée team</td>\n",
              "      <td>W</td>\n",
              "      <td>Gold</td>\n",
              "      <td>1</td>\n",
              "    </tr>\n",
              "    <tr>\n",
              "      <th>27175</th>\n",
              "      <td>2004</td>\n",
              "      <td>Athens</td>\n",
              "      <td>Fencing</td>\n",
              "      <td>Fencing</td>\n",
              "      <td>SIVKOVA, Anna</td>\n",
              "      <td>RUS</td>\n",
              "      <td>Women</td>\n",
              "      <td>épée team</td>\n",
              "      <td>W</td>\n",
              "      <td>Gold</td>\n",
              "      <td>1</td>\n",
              "    </tr>\n",
              "    <tr>\n",
              "      <th>27176</th>\n",
              "      <td>2004</td>\n",
              "      <td>Athens</td>\n",
              "      <td>Fencing</td>\n",
              "      <td>Fencing</td>\n",
              "      <td>BOKEL, Claudia</td>\n",
              "      <td>GER</td>\n",
              "      <td>Women</td>\n",
              "      <td>épée team</td>\n",
              "      <td>W</td>\n",
              "      <td>Silver</td>\n",
              "      <td>2</td>\n",
              "    </tr>\n",
              "    <tr>\n",
              "      <th>27177</th>\n",
              "      <td>2004</td>\n",
              "      <td>Athens</td>\n",
              "      <td>Fencing</td>\n",
              "      <td>Fencing</td>\n",
              "      <td>DUPLITZER, Imke</td>\n",
              "      <td>GER</td>\n",
              "      <td>Women</td>\n",
              "      <td>épée team</td>\n",
              "      <td>W</td>\n",
              "      <td>Silver</td>\n",
              "      <td>2</td>\n",
              "    </tr>\n",
              "    <tr>\n",
              "      <th>27178</th>\n",
              "      <td>2004</td>\n",
              "      <td>Athens</td>\n",
              "      <td>Fencing</td>\n",
              "      <td>Fencing</td>\n",
              "      <td>HEIDEMANN, Britta</td>\n",
              "      <td>GER</td>\n",
              "      <td>Women</td>\n",
              "      <td>épée team</td>\n",
              "      <td>W</td>\n",
              "      <td>Silver</td>\n",
              "      <td>2</td>\n",
              "    </tr>\n",
              "  </tbody>\n",
              "</table>\n",
              "<p>27179 rows × 11 columns</p>\n",
              "</div>\n",
              "    <div class=\"colab-df-buttons\">\n",
              "\n",
              "  <div class=\"colab-df-container\">\n",
              "    <button class=\"colab-df-convert\" onclick=\"convertToInteractive('df-3e6df56e-adf9-44af-a863-45be392164d9')\"\n",
              "            title=\"Convert this dataframe to an interactive table.\"\n",
              "            style=\"display:none;\">\n",
              "\n",
              "  <svg xmlns=\"http://www.w3.org/2000/svg\" height=\"24px\" viewBox=\"0 -960 960 960\">\n",
              "    <path d=\"M120-120v-720h720v720H120Zm60-500h600v-160H180v160Zm220 220h160v-160H400v160Zm0 220h160v-160H400v160ZM180-400h160v-160H180v160Zm440 0h160v-160H620v160ZM180-180h160v-160H180v160Zm440 0h160v-160H620v160Z\"/>\n",
              "  </svg>\n",
              "    </button>\n",
              "\n",
              "  <style>\n",
              "    .colab-df-container {\n",
              "      display:flex;\n",
              "      gap: 12px;\n",
              "    }\n",
              "\n",
              "    .colab-df-convert {\n",
              "      background-color: #E8F0FE;\n",
              "      border: none;\n",
              "      border-radius: 50%;\n",
              "      cursor: pointer;\n",
              "      display: none;\n",
              "      fill: #1967D2;\n",
              "      height: 32px;\n",
              "      padding: 0 0 0 0;\n",
              "      width: 32px;\n",
              "    }\n",
              "\n",
              "    .colab-df-convert:hover {\n",
              "      background-color: #E2EBFA;\n",
              "      box-shadow: 0px 1px 2px rgba(60, 64, 67, 0.3), 0px 1px 3px 1px rgba(60, 64, 67, 0.15);\n",
              "      fill: #174EA6;\n",
              "    }\n",
              "\n",
              "    .colab-df-buttons div {\n",
              "      margin-bottom: 4px;\n",
              "    }\n",
              "\n",
              "    [theme=dark] .colab-df-convert {\n",
              "      background-color: #3B4455;\n",
              "      fill: #D2E3FC;\n",
              "    }\n",
              "\n",
              "    [theme=dark] .colab-df-convert:hover {\n",
              "      background-color: #434B5C;\n",
              "      box-shadow: 0px 1px 3px 1px rgba(0, 0, 0, 0.15);\n",
              "      filter: drop-shadow(0px 1px 2px rgba(0, 0, 0, 0.3));\n",
              "      fill: #FFFFFF;\n",
              "    }\n",
              "  </style>\n",
              "\n",
              "    <script>\n",
              "      const buttonEl =\n",
              "        document.querySelector('#df-3e6df56e-adf9-44af-a863-45be392164d9 button.colab-df-convert');\n",
              "      buttonEl.style.display =\n",
              "        google.colab.kernel.accessAllowed ? 'block' : 'none';\n",
              "\n",
              "      async function convertToInteractive(key) {\n",
              "        const element = document.querySelector('#df-3e6df56e-adf9-44af-a863-45be392164d9');\n",
              "        const dataTable =\n",
              "          await google.colab.kernel.invokeFunction('convertToInteractive',\n",
              "                                                    [key], {});\n",
              "        if (!dataTable) return;\n",
              "\n",
              "        const docLinkHtml = 'Like what you see? Visit the ' +\n",
              "          '<a target=\"_blank\" href=https://colab.research.google.com/notebooks/data_table.ipynb>data table notebook</a>'\n",
              "          + ' to learn more about interactive tables.';\n",
              "        element.innerHTML = '';\n",
              "        dataTable['output_type'] = 'display_data';\n",
              "        await google.colab.output.renderOutput(dataTable, element);\n",
              "        const docLink = document.createElement('div');\n",
              "        docLink.innerHTML = docLinkHtml;\n",
              "        element.appendChild(docLink);\n",
              "      }\n",
              "    </script>\n",
              "  </div>\n",
              "\n",
              "\n",
              "<div id=\"df-0c2b70ec-f174-444c-80a6-a8a653b9141e\">\n",
              "  <button class=\"colab-df-quickchart\" onclick=\"quickchart('df-0c2b70ec-f174-444c-80a6-a8a653b9141e')\"\n",
              "            title=\"Suggest charts\"\n",
              "            style=\"display:none;\">\n",
              "\n",
              "<svg xmlns=\"http://www.w3.org/2000/svg\" height=\"24px\"viewBox=\"0 0 24 24\"\n",
              "     width=\"24px\">\n",
              "    <g>\n",
              "        <path d=\"M19 3H5c-1.1 0-2 .9-2 2v14c0 1.1.9 2 2 2h14c1.1 0 2-.9 2-2V5c0-1.1-.9-2-2-2zM9 17H7v-7h2v7zm4 0h-2V7h2v10zm4 0h-2v-4h2v4z\"/>\n",
              "    </g>\n",
              "</svg>\n",
              "  </button>\n",
              "\n",
              "<style>\n",
              "  .colab-df-quickchart {\n",
              "      --bg-color: #E8F0FE;\n",
              "      --fill-color: #1967D2;\n",
              "      --hover-bg-color: #E2EBFA;\n",
              "      --hover-fill-color: #174EA6;\n",
              "      --disabled-fill-color: #AAA;\n",
              "      --disabled-bg-color: #DDD;\n",
              "  }\n",
              "\n",
              "  [theme=dark] .colab-df-quickchart {\n",
              "      --bg-color: #3B4455;\n",
              "      --fill-color: #D2E3FC;\n",
              "      --hover-bg-color: #434B5C;\n",
              "      --hover-fill-color: #FFFFFF;\n",
              "      --disabled-bg-color: #3B4455;\n",
              "      --disabled-fill-color: #666;\n",
              "  }\n",
              "\n",
              "  .colab-df-quickchart {\n",
              "    background-color: var(--bg-color);\n",
              "    border: none;\n",
              "    border-radius: 50%;\n",
              "    cursor: pointer;\n",
              "    display: none;\n",
              "    fill: var(--fill-color);\n",
              "    height: 32px;\n",
              "    padding: 0;\n",
              "    width: 32px;\n",
              "  }\n",
              "\n",
              "  .colab-df-quickchart:hover {\n",
              "    background-color: var(--hover-bg-color);\n",
              "    box-shadow: 0 1px 2px rgba(60, 64, 67, 0.3), 0 1px 3px 1px rgba(60, 64, 67, 0.15);\n",
              "    fill: var(--button-hover-fill-color);\n",
              "  }\n",
              "\n",
              "  .colab-df-quickchart-complete:disabled,\n",
              "  .colab-df-quickchart-complete:disabled:hover {\n",
              "    background-color: var(--disabled-bg-color);\n",
              "    fill: var(--disabled-fill-color);\n",
              "    box-shadow: none;\n",
              "  }\n",
              "\n",
              "  .colab-df-spinner {\n",
              "    border: 2px solid var(--fill-color);\n",
              "    border-color: transparent;\n",
              "    border-bottom-color: var(--fill-color);\n",
              "    animation:\n",
              "      spin 1s steps(1) infinite;\n",
              "  }\n",
              "\n",
              "  @keyframes spin {\n",
              "    0% {\n",
              "      border-color: transparent;\n",
              "      border-bottom-color: var(--fill-color);\n",
              "      border-left-color: var(--fill-color);\n",
              "    }\n",
              "    20% {\n",
              "      border-color: transparent;\n",
              "      border-left-color: var(--fill-color);\n",
              "      border-top-color: var(--fill-color);\n",
              "    }\n",
              "    30% {\n",
              "      border-color: transparent;\n",
              "      border-left-color: var(--fill-color);\n",
              "      border-top-color: var(--fill-color);\n",
              "      border-right-color: var(--fill-color);\n",
              "    }\n",
              "    40% {\n",
              "      border-color: transparent;\n",
              "      border-right-color: var(--fill-color);\n",
              "      border-top-color: var(--fill-color);\n",
              "    }\n",
              "    60% {\n",
              "      border-color: transparent;\n",
              "      border-right-color: var(--fill-color);\n",
              "    }\n",
              "    80% {\n",
              "      border-color: transparent;\n",
              "      border-right-color: var(--fill-color);\n",
              "      border-bottom-color: var(--fill-color);\n",
              "    }\n",
              "    90% {\n",
              "      border-color: transparent;\n",
              "      border-bottom-color: var(--fill-color);\n",
              "    }\n",
              "  }\n",
              "</style>\n",
              "\n",
              "  <script>\n",
              "    async function quickchart(key) {\n",
              "      const quickchartButtonEl =\n",
              "        document.querySelector('#' + key + ' button');\n",
              "      quickchartButtonEl.disabled = true;  // To prevent multiple clicks.\n",
              "      quickchartButtonEl.classList.add('colab-df-spinner');\n",
              "      try {\n",
              "        const charts = await google.colab.kernel.invokeFunction(\n",
              "            'suggestCharts', [key], {});\n",
              "      } catch (error) {\n",
              "        console.error('Error during call to suggestCharts:', error);\n",
              "      }\n",
              "      quickchartButtonEl.classList.remove('colab-df-spinner');\n",
              "      quickchartButtonEl.classList.add('colab-df-quickchart-complete');\n",
              "    }\n",
              "    (() => {\n",
              "      let quickchartButtonEl =\n",
              "        document.querySelector('#df-0c2b70ec-f174-444c-80a6-a8a653b9141e button');\n",
              "      quickchartButtonEl.style.display =\n",
              "        google.colab.kernel.accessAllowed ? 'block' : 'none';\n",
              "    })();\n",
              "  </script>\n",
              "</div>\n",
              "\n",
              "    </div>\n",
              "  </div>\n"
            ],
            "application/vnd.google.colaboratory.intrinsic+json": {
              "type": "dataframe",
              "summary": "{\n  \"name\": \"pd\",\n  \"rows\": 27179,\n  \"fields\": [\n    {\n      \"column\": \"This is a list of medallists at the Summer Olympic Games (1896-2004) with details of the year of the olympics, city, sport, discipline, athlete name, gender, event and medal\",\n      \"properties\": {\n        \"dtype\": \"category\",\n        \"num_unique_values\": 27,\n        \"samples\": [\n          \"1924\",\n          \"1952\",\n          \"1928\"\n        ],\n        \"semantic_type\": \"\",\n        \"description\": \"\"\n      }\n    },\n    {\n      \"column\": \"Unnamed: 1\",\n      \"properties\": {\n        \"dtype\": \"category\",\n        \"num_unique_values\": 22,\n        \"samples\": [\n          \"City\",\n          \"Tokyo\",\n          \"Los Angeles\"\n        ],\n        \"semantic_type\": \"\",\n        \"description\": \"\"\n      }\n    },\n    {\n      \"column\": \"Unnamed: 2\",\n      \"properties\": {\n        \"dtype\": \"category\",\n        \"num_unique_values\": 43,\n        \"samples\": [\n          \"Table Tennis\",\n          \"Lacrosse\",\n          \"Water Motorsports\"\n        ],\n        \"semantic_type\": \"\",\n        \"description\": \"\"\n      }\n    },\n    {\n      \"column\": \"Unnamed: 3\",\n      \"properties\": {\n        \"dtype\": \"category\",\n        \"num_unique_values\": 56,\n        \"samples\": [\n          \"Discipline\",\n          \"Tennis\",\n          \"Figure skating\"\n        ],\n        \"semantic_type\": \"\",\n        \"description\": \"\"\n      }\n    },\n    {\n      \"column\": \"Unnamed: 4\",\n      \"properties\": {\n        \"dtype\": \"string\",\n        \"num_unique_values\": 19992,\n        \"samples\": [\n          \"SORM, Josef\",\n          \"LOVERA, Roberto\",\n          \"DE GROOT, Henri Franciscus\"\n        ],\n        \"semantic_type\": \"\",\n        \"description\": \"\"\n      }\n    },\n    {\n      \"column\": \"Unnamed: 5\",\n      \"properties\": {\n        \"dtype\": \"category\",\n        \"num_unique_values\": 133,\n        \"samples\": [\n          \"PUR\",\n          \"TUN\",\n          \"NZL\"\n        ],\n        \"semantic_type\": \"\",\n        \"description\": \"\"\n      }\n    },\n    {\n      \"column\": \"Unnamed: 6\",\n      \"properties\": {\n        \"dtype\": \"category\",\n        \"num_unique_values\": 3,\n        \"samples\": [\n          \"Gender\",\n          \"Men\",\n          \"Women\"\n        ],\n        \"semantic_type\": \"\",\n        \"description\": \"\"\n      }\n    },\n    {\n      \"column\": \"Unnamed: 7\",\n      \"properties\": {\n        \"dtype\": \"category\",\n        \"num_unique_values\": 573,\n        \"samples\": [\n          \"- 58 kg\",\n          \"cesta punta\",\n          \"club swinging\"\n        ],\n        \"semantic_type\": \"\",\n        \"description\": \"\"\n      }\n    },\n    {\n      \"column\": \"Unnamed: 8\",\n      \"properties\": {\n        \"dtype\": \"category\",\n        \"num_unique_values\": 4,\n        \"samples\": [\n          \"M\",\n          \"W\",\n          \"Event Gender\"\n        ],\n        \"semantic_type\": \"\",\n        \"description\": \"\"\n      }\n    },\n    {\n      \"column\": \"Unnamed: 9\",\n      \"properties\": {\n        \"dtype\": \"category\",\n        \"num_unique_values\": 4,\n        \"samples\": [\n          \"Gold\",\n          \"Bronze\",\n          \"Medal\"\n        ],\n        \"semantic_type\": \"\",\n        \"description\": \"\"\n      }\n    },\n    {\n      \"column\": \"Unnamed: 10\",\n      \"properties\": {\n        \"dtype\": \"category\",\n        \"num_unique_values\": 4,\n        \"samples\": [\n          \"1\",\n          \"3\",\n          \"Position\"\n        ],\n        \"semantic_type\": \"\",\n        \"description\": \"\"\n      }\n    }\n  ]\n}"
            }
          },
          "metadata": {},
          "execution_count": 9
        }
      ],
      "source": [
        "pd.read_csv('olympics_1896_2004.csv')"
      ]
    },
    {
      "cell_type": "code",
      "source": [
        "pd.read_csv(filepath_or_buffer='olympics_1896_2004.csv')"
      ],
      "metadata": {
        "id": "VB9FV0fahAcN",
        "collapsed": true,
        "outputId": "3da9268b-7469-4c98-b151-72f4593946e4",
        "colab": {
          "base_uri": "https://localhost:8080/",
          "height": 562
        }
      },
      "execution_count": 10,
      "outputs": [
        {
          "output_type": "execute_result",
          "data": {
            "text/plain": [
              "      This is a list of medallists at the Summer Olympic Games (1896-2004) with details of the year of the olympics, city, sport, discipline, athlete name, gender, event and medal  \\\n",
              "0                                                    NaN                                                                                                                              \n",
              "1      DISCLAIMER: No guarantees, express or implied,...                                                                                                                              \n",
              "2                                                    NaN                                                                                                                              \n",
              "3                                                    NaN                                                                                                                              \n",
              "4                                                   Year                                                                                                                              \n",
              "...                                                  ...                                                                                                                              \n",
              "27174                                               2004                                                                                                                              \n",
              "27175                                               2004                                                                                                                              \n",
              "27176                                               2004                                                                                                                              \n",
              "27177                                               2004                                                                                                                              \n",
              "27178                                               2004                                                                                                                              \n",
              "\n",
              "      Unnamed: 1 Unnamed: 2  Unnamed: 3          Unnamed: 4 Unnamed: 5  \\\n",
              "0            NaN        NaN         NaN                 NaN        NaN   \n",
              "1            NaN        NaN         NaN                 NaN        NaN   \n",
              "2            NaN        NaN         NaN                 NaN        NaN   \n",
              "3            NaN        NaN         NaN                 NaN        NaN   \n",
              "4           City      Sport  Discipline        Athlete Name        NOC   \n",
              "...          ...        ...         ...                 ...        ...   \n",
              "27174     Athens    Fencing     Fencing  LOGOUNOVA, Tatiana        RUS   \n",
              "27175     Athens    Fencing     Fencing       SIVKOVA, Anna        RUS   \n",
              "27176     Athens    Fencing     Fencing      BOKEL, Claudia        GER   \n",
              "27177     Athens    Fencing     Fencing     DUPLITZER, Imke        GER   \n",
              "27178     Athens    Fencing     Fencing   HEIDEMANN, Britta        GER   \n",
              "\n",
              "      Unnamed: 6 Unnamed: 7    Unnamed: 8 Unnamed: 9 Unnamed: 10  \n",
              "0            NaN        NaN           NaN        NaN         NaN  \n",
              "1            NaN        NaN           NaN        NaN         NaN  \n",
              "2            NaN        NaN           NaN        NaN         NaN  \n",
              "3            NaN        NaN           NaN        NaN         NaN  \n",
              "4         Gender      Event  Event Gender      Medal    Position  \n",
              "...          ...        ...           ...        ...         ...  \n",
              "27174      Women  épée team             W       Gold           1  \n",
              "27175      Women  épée team             W       Gold           1  \n",
              "27176      Women  épée team             W     Silver           2  \n",
              "27177      Women  épée team             W     Silver           2  \n",
              "27178      Women  épée team             W     Silver           2  \n",
              "\n",
              "[27179 rows x 11 columns]"
            ],
            "text/html": [
              "\n",
              "  <div id=\"df-0c93d961-d161-43af-b7de-45c1627eb8a7\" class=\"colab-df-container\">\n",
              "    <div>\n",
              "<style scoped>\n",
              "    .dataframe tbody tr th:only-of-type {\n",
              "        vertical-align: middle;\n",
              "    }\n",
              "\n",
              "    .dataframe tbody tr th {\n",
              "        vertical-align: top;\n",
              "    }\n",
              "\n",
              "    .dataframe thead th {\n",
              "        text-align: right;\n",
              "    }\n",
              "</style>\n",
              "<table border=\"1\" class=\"dataframe\">\n",
              "  <thead>\n",
              "    <tr style=\"text-align: right;\">\n",
              "      <th></th>\n",
              "      <th>This is a list of medallists at the Summer Olympic Games (1896-2004) with details of the year of the olympics, city, sport, discipline, athlete name, gender, event and medal</th>\n",
              "      <th>Unnamed: 1</th>\n",
              "      <th>Unnamed: 2</th>\n",
              "      <th>Unnamed: 3</th>\n",
              "      <th>Unnamed: 4</th>\n",
              "      <th>Unnamed: 5</th>\n",
              "      <th>Unnamed: 6</th>\n",
              "      <th>Unnamed: 7</th>\n",
              "      <th>Unnamed: 8</th>\n",
              "      <th>Unnamed: 9</th>\n",
              "      <th>Unnamed: 10</th>\n",
              "    </tr>\n",
              "  </thead>\n",
              "  <tbody>\n",
              "    <tr>\n",
              "      <th>0</th>\n",
              "      <td>NaN</td>\n",
              "      <td>NaN</td>\n",
              "      <td>NaN</td>\n",
              "      <td>NaN</td>\n",
              "      <td>NaN</td>\n",
              "      <td>NaN</td>\n",
              "      <td>NaN</td>\n",
              "      <td>NaN</td>\n",
              "      <td>NaN</td>\n",
              "      <td>NaN</td>\n",
              "      <td>NaN</td>\n",
              "    </tr>\n",
              "    <tr>\n",
              "      <th>1</th>\n",
              "      <td>DISCLAIMER: No guarantees, express or implied,...</td>\n",
              "      <td>NaN</td>\n",
              "      <td>NaN</td>\n",
              "      <td>NaN</td>\n",
              "      <td>NaN</td>\n",
              "      <td>NaN</td>\n",
              "      <td>NaN</td>\n",
              "      <td>NaN</td>\n",
              "      <td>NaN</td>\n",
              "      <td>NaN</td>\n",
              "      <td>NaN</td>\n",
              "    </tr>\n",
              "    <tr>\n",
              "      <th>2</th>\n",
              "      <td>NaN</td>\n",
              "      <td>NaN</td>\n",
              "      <td>NaN</td>\n",
              "      <td>NaN</td>\n",
              "      <td>NaN</td>\n",
              "      <td>NaN</td>\n",
              "      <td>NaN</td>\n",
              "      <td>NaN</td>\n",
              "      <td>NaN</td>\n",
              "      <td>NaN</td>\n",
              "      <td>NaN</td>\n",
              "    </tr>\n",
              "    <tr>\n",
              "      <th>3</th>\n",
              "      <td>NaN</td>\n",
              "      <td>NaN</td>\n",
              "      <td>NaN</td>\n",
              "      <td>NaN</td>\n",
              "      <td>NaN</td>\n",
              "      <td>NaN</td>\n",
              "      <td>NaN</td>\n",
              "      <td>NaN</td>\n",
              "      <td>NaN</td>\n",
              "      <td>NaN</td>\n",
              "      <td>NaN</td>\n",
              "    </tr>\n",
              "    <tr>\n",
              "      <th>4</th>\n",
              "      <td>Year</td>\n",
              "      <td>City</td>\n",
              "      <td>Sport</td>\n",
              "      <td>Discipline</td>\n",
              "      <td>Athlete Name</td>\n",
              "      <td>NOC</td>\n",
              "      <td>Gender</td>\n",
              "      <td>Event</td>\n",
              "      <td>Event Gender</td>\n",
              "      <td>Medal</td>\n",
              "      <td>Position</td>\n",
              "    </tr>\n",
              "    <tr>\n",
              "      <th>...</th>\n",
              "      <td>...</td>\n",
              "      <td>...</td>\n",
              "      <td>...</td>\n",
              "      <td>...</td>\n",
              "      <td>...</td>\n",
              "      <td>...</td>\n",
              "      <td>...</td>\n",
              "      <td>...</td>\n",
              "      <td>...</td>\n",
              "      <td>...</td>\n",
              "      <td>...</td>\n",
              "    </tr>\n",
              "    <tr>\n",
              "      <th>27174</th>\n",
              "      <td>2004</td>\n",
              "      <td>Athens</td>\n",
              "      <td>Fencing</td>\n",
              "      <td>Fencing</td>\n",
              "      <td>LOGOUNOVA, Tatiana</td>\n",
              "      <td>RUS</td>\n",
              "      <td>Women</td>\n",
              "      <td>épée team</td>\n",
              "      <td>W</td>\n",
              "      <td>Gold</td>\n",
              "      <td>1</td>\n",
              "    </tr>\n",
              "    <tr>\n",
              "      <th>27175</th>\n",
              "      <td>2004</td>\n",
              "      <td>Athens</td>\n",
              "      <td>Fencing</td>\n",
              "      <td>Fencing</td>\n",
              "      <td>SIVKOVA, Anna</td>\n",
              "      <td>RUS</td>\n",
              "      <td>Women</td>\n",
              "      <td>épée team</td>\n",
              "      <td>W</td>\n",
              "      <td>Gold</td>\n",
              "      <td>1</td>\n",
              "    </tr>\n",
              "    <tr>\n",
              "      <th>27176</th>\n",
              "      <td>2004</td>\n",
              "      <td>Athens</td>\n",
              "      <td>Fencing</td>\n",
              "      <td>Fencing</td>\n",
              "      <td>BOKEL, Claudia</td>\n",
              "      <td>GER</td>\n",
              "      <td>Women</td>\n",
              "      <td>épée team</td>\n",
              "      <td>W</td>\n",
              "      <td>Silver</td>\n",
              "      <td>2</td>\n",
              "    </tr>\n",
              "    <tr>\n",
              "      <th>27177</th>\n",
              "      <td>2004</td>\n",
              "      <td>Athens</td>\n",
              "      <td>Fencing</td>\n",
              "      <td>Fencing</td>\n",
              "      <td>DUPLITZER, Imke</td>\n",
              "      <td>GER</td>\n",
              "      <td>Women</td>\n",
              "      <td>épée team</td>\n",
              "      <td>W</td>\n",
              "      <td>Silver</td>\n",
              "      <td>2</td>\n",
              "    </tr>\n",
              "    <tr>\n",
              "      <th>27178</th>\n",
              "      <td>2004</td>\n",
              "      <td>Athens</td>\n",
              "      <td>Fencing</td>\n",
              "      <td>Fencing</td>\n",
              "      <td>HEIDEMANN, Britta</td>\n",
              "      <td>GER</td>\n",
              "      <td>Women</td>\n",
              "      <td>épée team</td>\n",
              "      <td>W</td>\n",
              "      <td>Silver</td>\n",
              "      <td>2</td>\n",
              "    </tr>\n",
              "  </tbody>\n",
              "</table>\n",
              "<p>27179 rows × 11 columns</p>\n",
              "</div>\n",
              "    <div class=\"colab-df-buttons\">\n",
              "\n",
              "  <div class=\"colab-df-container\">\n",
              "    <button class=\"colab-df-convert\" onclick=\"convertToInteractive('df-0c93d961-d161-43af-b7de-45c1627eb8a7')\"\n",
              "            title=\"Convert this dataframe to an interactive table.\"\n",
              "            style=\"display:none;\">\n",
              "\n",
              "  <svg xmlns=\"http://www.w3.org/2000/svg\" height=\"24px\" viewBox=\"0 -960 960 960\">\n",
              "    <path d=\"M120-120v-720h720v720H120Zm60-500h600v-160H180v160Zm220 220h160v-160H400v160Zm0 220h160v-160H400v160ZM180-400h160v-160H180v160Zm440 0h160v-160H620v160ZM180-180h160v-160H180v160Zm440 0h160v-160H620v160Z\"/>\n",
              "  </svg>\n",
              "    </button>\n",
              "\n",
              "  <style>\n",
              "    .colab-df-container {\n",
              "      display:flex;\n",
              "      gap: 12px;\n",
              "    }\n",
              "\n",
              "    .colab-df-convert {\n",
              "      background-color: #E8F0FE;\n",
              "      border: none;\n",
              "      border-radius: 50%;\n",
              "      cursor: pointer;\n",
              "      display: none;\n",
              "      fill: #1967D2;\n",
              "      height: 32px;\n",
              "      padding: 0 0 0 0;\n",
              "      width: 32px;\n",
              "    }\n",
              "\n",
              "    .colab-df-convert:hover {\n",
              "      background-color: #E2EBFA;\n",
              "      box-shadow: 0px 1px 2px rgba(60, 64, 67, 0.3), 0px 1px 3px 1px rgba(60, 64, 67, 0.15);\n",
              "      fill: #174EA6;\n",
              "    }\n",
              "\n",
              "    .colab-df-buttons div {\n",
              "      margin-bottom: 4px;\n",
              "    }\n",
              "\n",
              "    [theme=dark] .colab-df-convert {\n",
              "      background-color: #3B4455;\n",
              "      fill: #D2E3FC;\n",
              "    }\n",
              "\n",
              "    [theme=dark] .colab-df-convert:hover {\n",
              "      background-color: #434B5C;\n",
              "      box-shadow: 0px 1px 3px 1px rgba(0, 0, 0, 0.15);\n",
              "      filter: drop-shadow(0px 1px 2px rgba(0, 0, 0, 0.3));\n",
              "      fill: #FFFFFF;\n",
              "    }\n",
              "  </style>\n",
              "\n",
              "    <script>\n",
              "      const buttonEl =\n",
              "        document.querySelector('#df-0c93d961-d161-43af-b7de-45c1627eb8a7 button.colab-df-convert');\n",
              "      buttonEl.style.display =\n",
              "        google.colab.kernel.accessAllowed ? 'block' : 'none';\n",
              "\n",
              "      async function convertToInteractive(key) {\n",
              "        const element = document.querySelector('#df-0c93d961-d161-43af-b7de-45c1627eb8a7');\n",
              "        const dataTable =\n",
              "          await google.colab.kernel.invokeFunction('convertToInteractive',\n",
              "                                                    [key], {});\n",
              "        if (!dataTable) return;\n",
              "\n",
              "        const docLinkHtml = 'Like what you see? Visit the ' +\n",
              "          '<a target=\"_blank\" href=https://colab.research.google.com/notebooks/data_table.ipynb>data table notebook</a>'\n",
              "          + ' to learn more about interactive tables.';\n",
              "        element.innerHTML = '';\n",
              "        dataTable['output_type'] = 'display_data';\n",
              "        await google.colab.output.renderOutput(dataTable, element);\n",
              "        const docLink = document.createElement('div');\n",
              "        docLink.innerHTML = docLinkHtml;\n",
              "        element.appendChild(docLink);\n",
              "      }\n",
              "    </script>\n",
              "  </div>\n",
              "\n",
              "\n",
              "<div id=\"df-38b52207-e2a3-409e-ac19-42f2173f507c\">\n",
              "  <button class=\"colab-df-quickchart\" onclick=\"quickchart('df-38b52207-e2a3-409e-ac19-42f2173f507c')\"\n",
              "            title=\"Suggest charts\"\n",
              "            style=\"display:none;\">\n",
              "\n",
              "<svg xmlns=\"http://www.w3.org/2000/svg\" height=\"24px\"viewBox=\"0 0 24 24\"\n",
              "     width=\"24px\">\n",
              "    <g>\n",
              "        <path d=\"M19 3H5c-1.1 0-2 .9-2 2v14c0 1.1.9 2 2 2h14c1.1 0 2-.9 2-2V5c0-1.1-.9-2-2-2zM9 17H7v-7h2v7zm4 0h-2V7h2v10zm4 0h-2v-4h2v4z\"/>\n",
              "    </g>\n",
              "</svg>\n",
              "  </button>\n",
              "\n",
              "<style>\n",
              "  .colab-df-quickchart {\n",
              "      --bg-color: #E8F0FE;\n",
              "      --fill-color: #1967D2;\n",
              "      --hover-bg-color: #E2EBFA;\n",
              "      --hover-fill-color: #174EA6;\n",
              "      --disabled-fill-color: #AAA;\n",
              "      --disabled-bg-color: #DDD;\n",
              "  }\n",
              "\n",
              "  [theme=dark] .colab-df-quickchart {\n",
              "      --bg-color: #3B4455;\n",
              "      --fill-color: #D2E3FC;\n",
              "      --hover-bg-color: #434B5C;\n",
              "      --hover-fill-color: #FFFFFF;\n",
              "      --disabled-bg-color: #3B4455;\n",
              "      --disabled-fill-color: #666;\n",
              "  }\n",
              "\n",
              "  .colab-df-quickchart {\n",
              "    background-color: var(--bg-color);\n",
              "    border: none;\n",
              "    border-radius: 50%;\n",
              "    cursor: pointer;\n",
              "    display: none;\n",
              "    fill: var(--fill-color);\n",
              "    height: 32px;\n",
              "    padding: 0;\n",
              "    width: 32px;\n",
              "  }\n",
              "\n",
              "  .colab-df-quickchart:hover {\n",
              "    background-color: var(--hover-bg-color);\n",
              "    box-shadow: 0 1px 2px rgba(60, 64, 67, 0.3), 0 1px 3px 1px rgba(60, 64, 67, 0.15);\n",
              "    fill: var(--button-hover-fill-color);\n",
              "  }\n",
              "\n",
              "  .colab-df-quickchart-complete:disabled,\n",
              "  .colab-df-quickchart-complete:disabled:hover {\n",
              "    background-color: var(--disabled-bg-color);\n",
              "    fill: var(--disabled-fill-color);\n",
              "    box-shadow: none;\n",
              "  }\n",
              "\n",
              "  .colab-df-spinner {\n",
              "    border: 2px solid var(--fill-color);\n",
              "    border-color: transparent;\n",
              "    border-bottom-color: var(--fill-color);\n",
              "    animation:\n",
              "      spin 1s steps(1) infinite;\n",
              "  }\n",
              "\n",
              "  @keyframes spin {\n",
              "    0% {\n",
              "      border-color: transparent;\n",
              "      border-bottom-color: var(--fill-color);\n",
              "      border-left-color: var(--fill-color);\n",
              "    }\n",
              "    20% {\n",
              "      border-color: transparent;\n",
              "      border-left-color: var(--fill-color);\n",
              "      border-top-color: var(--fill-color);\n",
              "    }\n",
              "    30% {\n",
              "      border-color: transparent;\n",
              "      border-left-color: var(--fill-color);\n",
              "      border-top-color: var(--fill-color);\n",
              "      border-right-color: var(--fill-color);\n",
              "    }\n",
              "    40% {\n",
              "      border-color: transparent;\n",
              "      border-right-color: var(--fill-color);\n",
              "      border-top-color: var(--fill-color);\n",
              "    }\n",
              "    60% {\n",
              "      border-color: transparent;\n",
              "      border-right-color: var(--fill-color);\n",
              "    }\n",
              "    80% {\n",
              "      border-color: transparent;\n",
              "      border-right-color: var(--fill-color);\n",
              "      border-bottom-color: var(--fill-color);\n",
              "    }\n",
              "    90% {\n",
              "      border-color: transparent;\n",
              "      border-bottom-color: var(--fill-color);\n",
              "    }\n",
              "  }\n",
              "</style>\n",
              "\n",
              "  <script>\n",
              "    async function quickchart(key) {\n",
              "      const quickchartButtonEl =\n",
              "        document.querySelector('#' + key + ' button');\n",
              "      quickchartButtonEl.disabled = true;  // To prevent multiple clicks.\n",
              "      quickchartButtonEl.classList.add('colab-df-spinner');\n",
              "      try {\n",
              "        const charts = await google.colab.kernel.invokeFunction(\n",
              "            'suggestCharts', [key], {});\n",
              "      } catch (error) {\n",
              "        console.error('Error during call to suggestCharts:', error);\n",
              "      }\n",
              "      quickchartButtonEl.classList.remove('colab-df-spinner');\n",
              "      quickchartButtonEl.classList.add('colab-df-quickchart-complete');\n",
              "    }\n",
              "    (() => {\n",
              "      let quickchartButtonEl =\n",
              "        document.querySelector('#df-38b52207-e2a3-409e-ac19-42f2173f507c button');\n",
              "      quickchartButtonEl.style.display =\n",
              "        google.colab.kernel.accessAllowed ? 'block' : 'none';\n",
              "    })();\n",
              "  </script>\n",
              "</div>\n",
              "\n",
              "    </div>\n",
              "  </div>\n"
            ],
            "application/vnd.google.colaboratory.intrinsic+json": {
              "type": "dataframe",
              "summary": "{\n  \"name\": \"pd\",\n  \"rows\": 27179,\n  \"fields\": [\n    {\n      \"column\": \"This is a list of medallists at the Summer Olympic Games (1896-2004) with details of the year of the olympics, city, sport, discipline, athlete name, gender, event and medal\",\n      \"properties\": {\n        \"dtype\": \"category\",\n        \"num_unique_values\": 27,\n        \"samples\": [\n          \"1924\",\n          \"1952\",\n          \"1928\"\n        ],\n        \"semantic_type\": \"\",\n        \"description\": \"\"\n      }\n    },\n    {\n      \"column\": \"Unnamed: 1\",\n      \"properties\": {\n        \"dtype\": \"category\",\n        \"num_unique_values\": 22,\n        \"samples\": [\n          \"City\",\n          \"Tokyo\",\n          \"Los Angeles\"\n        ],\n        \"semantic_type\": \"\",\n        \"description\": \"\"\n      }\n    },\n    {\n      \"column\": \"Unnamed: 2\",\n      \"properties\": {\n        \"dtype\": \"category\",\n        \"num_unique_values\": 43,\n        \"samples\": [\n          \"Table Tennis\",\n          \"Lacrosse\",\n          \"Water Motorsports\"\n        ],\n        \"semantic_type\": \"\",\n        \"description\": \"\"\n      }\n    },\n    {\n      \"column\": \"Unnamed: 3\",\n      \"properties\": {\n        \"dtype\": \"category\",\n        \"num_unique_values\": 56,\n        \"samples\": [\n          \"Discipline\",\n          \"Tennis\",\n          \"Figure skating\"\n        ],\n        \"semantic_type\": \"\",\n        \"description\": \"\"\n      }\n    },\n    {\n      \"column\": \"Unnamed: 4\",\n      \"properties\": {\n        \"dtype\": \"string\",\n        \"num_unique_values\": 19992,\n        \"samples\": [\n          \"SORM, Josef\",\n          \"LOVERA, Roberto\",\n          \"DE GROOT, Henri Franciscus\"\n        ],\n        \"semantic_type\": \"\",\n        \"description\": \"\"\n      }\n    },\n    {\n      \"column\": \"Unnamed: 5\",\n      \"properties\": {\n        \"dtype\": \"category\",\n        \"num_unique_values\": 133,\n        \"samples\": [\n          \"PUR\",\n          \"TUN\",\n          \"NZL\"\n        ],\n        \"semantic_type\": \"\",\n        \"description\": \"\"\n      }\n    },\n    {\n      \"column\": \"Unnamed: 6\",\n      \"properties\": {\n        \"dtype\": \"category\",\n        \"num_unique_values\": 3,\n        \"samples\": [\n          \"Gender\",\n          \"Men\",\n          \"Women\"\n        ],\n        \"semantic_type\": \"\",\n        \"description\": \"\"\n      }\n    },\n    {\n      \"column\": \"Unnamed: 7\",\n      \"properties\": {\n        \"dtype\": \"category\",\n        \"num_unique_values\": 573,\n        \"samples\": [\n          \"- 58 kg\",\n          \"cesta punta\",\n          \"club swinging\"\n        ],\n        \"semantic_type\": \"\",\n        \"description\": \"\"\n      }\n    },\n    {\n      \"column\": \"Unnamed: 8\",\n      \"properties\": {\n        \"dtype\": \"category\",\n        \"num_unique_values\": 4,\n        \"samples\": [\n          \"M\",\n          \"W\",\n          \"Event Gender\"\n        ],\n        \"semantic_type\": \"\",\n        \"description\": \"\"\n      }\n    },\n    {\n      \"column\": \"Unnamed: 9\",\n      \"properties\": {\n        \"dtype\": \"category\",\n        \"num_unique_values\": 4,\n        \"samples\": [\n          \"Gold\",\n          \"Bronze\",\n          \"Medal\"\n        ],\n        \"semantic_type\": \"\",\n        \"description\": \"\"\n      }\n    },\n    {\n      \"column\": \"Unnamed: 10\",\n      \"properties\": {\n        \"dtype\": \"category\",\n        \"num_unique_values\": 4,\n        \"samples\": [\n          \"1\",\n          \"3\",\n          \"Position\"\n        ],\n        \"semantic_type\": \"\",\n        \"description\": \"\"\n      }\n    }\n  ]\n}"
            }
          },
          "metadata": {},
          "execution_count": 10
        }
      ]
    },
    {
      "cell_type": "code",
      "execution_count": 43,
      "metadata": {
        "id": "zk_3a5XhFlFv",
        "collapsed": true,
        "outputId": "66992a5b-a28c-422a-a13c-568f966cfa62",
        "colab": {
          "base_uri": "https://localhost:8080/",
          "height": 964
        }
      },
      "outputs": [
        {
          "output_type": "execute_result",
          "data": {
            "text/plain": [
              "      This is a list of medallists at the Summer Olympic Games (1896-2004) with details of the year of the olympics, city, sport, discipline, athlete name, gender, event and medal  \\\n",
              "0                                                    NaN                                                                                                                              \n",
              "1      DISCLAIMER: No guarantees, express or implied,...                                                                                                                              \n",
              "2                                                    NaN                                                                                                                              \n",
              "3                                                    NaN                                                                                                                              \n",
              "4                                                   Year                                                                                                                              \n",
              "...                                                  ...                                                                                                                              \n",
              "27174                                               2004                                                                                                                              \n",
              "27175                                               2004                                                                                                                              \n",
              "27176                                               2004                                                                                                                              \n",
              "27177                                               2004                                                                                                                              \n",
              "27178                                               2004                                                                                                                              \n",
              "\n",
              "      Unnamed: 1 Unnamed: 2  Unnamed: 3          Unnamed: 4 Unnamed: 5  \\\n",
              "0            NaN        NaN         NaN                 NaN        NaN   \n",
              "1            NaN        NaN         NaN                 NaN        NaN   \n",
              "2            NaN        NaN         NaN                 NaN        NaN   \n",
              "3            NaN        NaN         NaN                 NaN        NaN   \n",
              "4           City      Sport  Discipline        Athlete Name        NOC   \n",
              "...          ...        ...         ...                 ...        ...   \n",
              "27174     Athens    Fencing     Fencing  LOGOUNOVA, Tatiana        RUS   \n",
              "27175     Athens    Fencing     Fencing       SIVKOVA, Anna        RUS   \n",
              "27176     Athens    Fencing     Fencing      BOKEL, Claudia        GER   \n",
              "27177     Athens    Fencing     Fencing     DUPLITZER, Imke        GER   \n",
              "27178     Athens    Fencing     Fencing   HEIDEMANN, Britta        GER   \n",
              "\n",
              "      Unnamed: 6 Unnamed: 7    Unnamed: 8 Unnamed: 9 Unnamed: 10  \n",
              "0            NaN        NaN           NaN        NaN         NaN  \n",
              "1            NaN        NaN           NaN        NaN         NaN  \n",
              "2            NaN        NaN           NaN        NaN         NaN  \n",
              "3            NaN        NaN           NaN        NaN         NaN  \n",
              "4         Gender      Event  Event Gender      Medal    Position  \n",
              "...          ...        ...           ...        ...         ...  \n",
              "27174      Women  épée team             W       Gold           1  \n",
              "27175      Women  épée team             W       Gold           1  \n",
              "27176      Women  épée team             W     Silver           2  \n",
              "27177      Women  épée team             W     Silver           2  \n",
              "27178      Women  épée team             W     Silver           2  \n",
              "\n",
              "[27179 rows x 11 columns]"
            ],
            "text/html": [
              "\n",
              "  <div id=\"df-c33de112-8bd1-4d9f-b2f3-3fc1eab3add1\" class=\"colab-df-container\">\n",
              "    <div>\n",
              "<style scoped>\n",
              "    .dataframe tbody tr th:only-of-type {\n",
              "        vertical-align: middle;\n",
              "    }\n",
              "\n",
              "    .dataframe tbody tr th {\n",
              "        vertical-align: top;\n",
              "    }\n",
              "\n",
              "    .dataframe thead th {\n",
              "        text-align: right;\n",
              "    }\n",
              "</style>\n",
              "<table border=\"1\" class=\"dataframe\">\n",
              "  <thead>\n",
              "    <tr style=\"text-align: right;\">\n",
              "      <th></th>\n",
              "      <th>This is a list of medallists at the Summer Olympic Games (1896-2004) with details of the year of the olympics, city, sport, discipline, athlete name, gender, event and medal</th>\n",
              "      <th>Unnamed: 1</th>\n",
              "      <th>Unnamed: 2</th>\n",
              "      <th>Unnamed: 3</th>\n",
              "      <th>Unnamed: 4</th>\n",
              "      <th>Unnamed: 5</th>\n",
              "      <th>Unnamed: 6</th>\n",
              "      <th>Unnamed: 7</th>\n",
              "      <th>Unnamed: 8</th>\n",
              "      <th>Unnamed: 9</th>\n",
              "      <th>Unnamed: 10</th>\n",
              "    </tr>\n",
              "  </thead>\n",
              "  <tbody>\n",
              "    <tr>\n",
              "      <th>0</th>\n",
              "      <td>NaN</td>\n",
              "      <td>NaN</td>\n",
              "      <td>NaN</td>\n",
              "      <td>NaN</td>\n",
              "      <td>NaN</td>\n",
              "      <td>NaN</td>\n",
              "      <td>NaN</td>\n",
              "      <td>NaN</td>\n",
              "      <td>NaN</td>\n",
              "      <td>NaN</td>\n",
              "      <td>NaN</td>\n",
              "    </tr>\n",
              "    <tr>\n",
              "      <th>1</th>\n",
              "      <td>DISCLAIMER: No guarantees, express or implied,...</td>\n",
              "      <td>NaN</td>\n",
              "      <td>NaN</td>\n",
              "      <td>NaN</td>\n",
              "      <td>NaN</td>\n",
              "      <td>NaN</td>\n",
              "      <td>NaN</td>\n",
              "      <td>NaN</td>\n",
              "      <td>NaN</td>\n",
              "      <td>NaN</td>\n",
              "      <td>NaN</td>\n",
              "    </tr>\n",
              "    <tr>\n",
              "      <th>2</th>\n",
              "      <td>NaN</td>\n",
              "      <td>NaN</td>\n",
              "      <td>NaN</td>\n",
              "      <td>NaN</td>\n",
              "      <td>NaN</td>\n",
              "      <td>NaN</td>\n",
              "      <td>NaN</td>\n",
              "      <td>NaN</td>\n",
              "      <td>NaN</td>\n",
              "      <td>NaN</td>\n",
              "      <td>NaN</td>\n",
              "    </tr>\n",
              "    <tr>\n",
              "      <th>3</th>\n",
              "      <td>NaN</td>\n",
              "      <td>NaN</td>\n",
              "      <td>NaN</td>\n",
              "      <td>NaN</td>\n",
              "      <td>NaN</td>\n",
              "      <td>NaN</td>\n",
              "      <td>NaN</td>\n",
              "      <td>NaN</td>\n",
              "      <td>NaN</td>\n",
              "      <td>NaN</td>\n",
              "      <td>NaN</td>\n",
              "    </tr>\n",
              "    <tr>\n",
              "      <th>4</th>\n",
              "      <td>Year</td>\n",
              "      <td>City</td>\n",
              "      <td>Sport</td>\n",
              "      <td>Discipline</td>\n",
              "      <td>Athlete Name</td>\n",
              "      <td>NOC</td>\n",
              "      <td>Gender</td>\n",
              "      <td>Event</td>\n",
              "      <td>Event Gender</td>\n",
              "      <td>Medal</td>\n",
              "      <td>Position</td>\n",
              "    </tr>\n",
              "    <tr>\n",
              "      <th>...</th>\n",
              "      <td>...</td>\n",
              "      <td>...</td>\n",
              "      <td>...</td>\n",
              "      <td>...</td>\n",
              "      <td>...</td>\n",
              "      <td>...</td>\n",
              "      <td>...</td>\n",
              "      <td>...</td>\n",
              "      <td>...</td>\n",
              "      <td>...</td>\n",
              "      <td>...</td>\n",
              "    </tr>\n",
              "    <tr>\n",
              "      <th>27174</th>\n",
              "      <td>2004</td>\n",
              "      <td>Athens</td>\n",
              "      <td>Fencing</td>\n",
              "      <td>Fencing</td>\n",
              "      <td>LOGOUNOVA, Tatiana</td>\n",
              "      <td>RUS</td>\n",
              "      <td>Women</td>\n",
              "      <td>épée team</td>\n",
              "      <td>W</td>\n",
              "      <td>Gold</td>\n",
              "      <td>1</td>\n",
              "    </tr>\n",
              "    <tr>\n",
              "      <th>27175</th>\n",
              "      <td>2004</td>\n",
              "      <td>Athens</td>\n",
              "      <td>Fencing</td>\n",
              "      <td>Fencing</td>\n",
              "      <td>SIVKOVA, Anna</td>\n",
              "      <td>RUS</td>\n",
              "      <td>Women</td>\n",
              "      <td>épée team</td>\n",
              "      <td>W</td>\n",
              "      <td>Gold</td>\n",
              "      <td>1</td>\n",
              "    </tr>\n",
              "    <tr>\n",
              "      <th>27176</th>\n",
              "      <td>2004</td>\n",
              "      <td>Athens</td>\n",
              "      <td>Fencing</td>\n",
              "      <td>Fencing</td>\n",
              "      <td>BOKEL, Claudia</td>\n",
              "      <td>GER</td>\n",
              "      <td>Women</td>\n",
              "      <td>épée team</td>\n",
              "      <td>W</td>\n",
              "      <td>Silver</td>\n",
              "      <td>2</td>\n",
              "    </tr>\n",
              "    <tr>\n",
              "      <th>27177</th>\n",
              "      <td>2004</td>\n",
              "      <td>Athens</td>\n",
              "      <td>Fencing</td>\n",
              "      <td>Fencing</td>\n",
              "      <td>DUPLITZER, Imke</td>\n",
              "      <td>GER</td>\n",
              "      <td>Women</td>\n",
              "      <td>épée team</td>\n",
              "      <td>W</td>\n",
              "      <td>Silver</td>\n",
              "      <td>2</td>\n",
              "    </tr>\n",
              "    <tr>\n",
              "      <th>27178</th>\n",
              "      <td>2004</td>\n",
              "      <td>Athens</td>\n",
              "      <td>Fencing</td>\n",
              "      <td>Fencing</td>\n",
              "      <td>HEIDEMANN, Britta</td>\n",
              "      <td>GER</td>\n",
              "      <td>Women</td>\n",
              "      <td>épée team</td>\n",
              "      <td>W</td>\n",
              "      <td>Silver</td>\n",
              "      <td>2</td>\n",
              "    </tr>\n",
              "  </tbody>\n",
              "</table>\n",
              "<p>27179 rows × 11 columns</p>\n",
              "</div>\n",
              "    <div class=\"colab-df-buttons\">\n",
              "\n",
              "  <div class=\"colab-df-container\">\n",
              "    <button class=\"colab-df-convert\" onclick=\"convertToInteractive('df-c33de112-8bd1-4d9f-b2f3-3fc1eab3add1')\"\n",
              "            title=\"Convert this dataframe to an interactive table.\"\n",
              "            style=\"display:none;\">\n",
              "\n",
              "  <svg xmlns=\"http://www.w3.org/2000/svg\" height=\"24px\" viewBox=\"0 -960 960 960\">\n",
              "    <path d=\"M120-120v-720h720v720H120Zm60-500h600v-160H180v160Zm220 220h160v-160H400v160Zm0 220h160v-160H400v160ZM180-400h160v-160H180v160Zm440 0h160v-160H620v160ZM180-180h160v-160H180v160Zm440 0h160v-160H620v160Z\"/>\n",
              "  </svg>\n",
              "    </button>\n",
              "\n",
              "  <style>\n",
              "    .colab-df-container {\n",
              "      display:flex;\n",
              "      gap: 12px;\n",
              "    }\n",
              "\n",
              "    .colab-df-convert {\n",
              "      background-color: #E8F0FE;\n",
              "      border: none;\n",
              "      border-radius: 50%;\n",
              "      cursor: pointer;\n",
              "      display: none;\n",
              "      fill: #1967D2;\n",
              "      height: 32px;\n",
              "      padding: 0 0 0 0;\n",
              "      width: 32px;\n",
              "    }\n",
              "\n",
              "    .colab-df-convert:hover {\n",
              "      background-color: #E2EBFA;\n",
              "      box-shadow: 0px 1px 2px rgba(60, 64, 67, 0.3), 0px 1px 3px 1px rgba(60, 64, 67, 0.15);\n",
              "      fill: #174EA6;\n",
              "    }\n",
              "\n",
              "    .colab-df-buttons div {\n",
              "      margin-bottom: 4px;\n",
              "    }\n",
              "\n",
              "    [theme=dark] .colab-df-convert {\n",
              "      background-color: #3B4455;\n",
              "      fill: #D2E3FC;\n",
              "    }\n",
              "\n",
              "    [theme=dark] .colab-df-convert:hover {\n",
              "      background-color: #434B5C;\n",
              "      box-shadow: 0px 1px 3px 1px rgba(0, 0, 0, 0.15);\n",
              "      filter: drop-shadow(0px 1px 2px rgba(0, 0, 0, 0.3));\n",
              "      fill: #FFFFFF;\n",
              "    }\n",
              "  </style>\n",
              "\n",
              "    <script>\n",
              "      const buttonEl =\n",
              "        document.querySelector('#df-c33de112-8bd1-4d9f-b2f3-3fc1eab3add1 button.colab-df-convert');\n",
              "      buttonEl.style.display =\n",
              "        google.colab.kernel.accessAllowed ? 'block' : 'none';\n",
              "\n",
              "      async function convertToInteractive(key) {\n",
              "        const element = document.querySelector('#df-c33de112-8bd1-4d9f-b2f3-3fc1eab3add1');\n",
              "        const dataTable =\n",
              "          await google.colab.kernel.invokeFunction('convertToInteractive',\n",
              "                                                    [key], {});\n",
              "        if (!dataTable) return;\n",
              "\n",
              "        const docLinkHtml = 'Like what you see? Visit the ' +\n",
              "          '<a target=\"_blank\" href=https://colab.research.google.com/notebooks/data_table.ipynb>data table notebook</a>'\n",
              "          + ' to learn more about interactive tables.';\n",
              "        element.innerHTML = '';\n",
              "        dataTable['output_type'] = 'display_data';\n",
              "        await google.colab.output.renderOutput(dataTable, element);\n",
              "        const docLink = document.createElement('div');\n",
              "        docLink.innerHTML = docLinkHtml;\n",
              "        element.appendChild(docLink);\n",
              "      }\n",
              "    </script>\n",
              "  </div>\n",
              "\n",
              "\n",
              "<div id=\"df-610677fd-87db-41f7-b221-df47fa0882b9\">\n",
              "  <button class=\"colab-df-quickchart\" onclick=\"quickchart('df-610677fd-87db-41f7-b221-df47fa0882b9')\"\n",
              "            title=\"Suggest charts\"\n",
              "            style=\"display:none;\">\n",
              "\n",
              "<svg xmlns=\"http://www.w3.org/2000/svg\" height=\"24px\"viewBox=\"0 0 24 24\"\n",
              "     width=\"24px\">\n",
              "    <g>\n",
              "        <path d=\"M19 3H5c-1.1 0-2 .9-2 2v14c0 1.1.9 2 2 2h14c1.1 0 2-.9 2-2V5c0-1.1-.9-2-2-2zM9 17H7v-7h2v7zm4 0h-2V7h2v10zm4 0h-2v-4h2v4z\"/>\n",
              "    </g>\n",
              "</svg>\n",
              "  </button>\n",
              "\n",
              "<style>\n",
              "  .colab-df-quickchart {\n",
              "      --bg-color: #E8F0FE;\n",
              "      --fill-color: #1967D2;\n",
              "      --hover-bg-color: #E2EBFA;\n",
              "      --hover-fill-color: #174EA6;\n",
              "      --disabled-fill-color: #AAA;\n",
              "      --disabled-bg-color: #DDD;\n",
              "  }\n",
              "\n",
              "  [theme=dark] .colab-df-quickchart {\n",
              "      --bg-color: #3B4455;\n",
              "      --fill-color: #D2E3FC;\n",
              "      --hover-bg-color: #434B5C;\n",
              "      --hover-fill-color: #FFFFFF;\n",
              "      --disabled-bg-color: #3B4455;\n",
              "      --disabled-fill-color: #666;\n",
              "  }\n",
              "\n",
              "  .colab-df-quickchart {\n",
              "    background-color: var(--bg-color);\n",
              "    border: none;\n",
              "    border-radius: 50%;\n",
              "    cursor: pointer;\n",
              "    display: none;\n",
              "    fill: var(--fill-color);\n",
              "    height: 32px;\n",
              "    padding: 0;\n",
              "    width: 32px;\n",
              "  }\n",
              "\n",
              "  .colab-df-quickchart:hover {\n",
              "    background-color: var(--hover-bg-color);\n",
              "    box-shadow: 0 1px 2px rgba(60, 64, 67, 0.3), 0 1px 3px 1px rgba(60, 64, 67, 0.15);\n",
              "    fill: var(--button-hover-fill-color);\n",
              "  }\n",
              "\n",
              "  .colab-df-quickchart-complete:disabled,\n",
              "  .colab-df-quickchart-complete:disabled:hover {\n",
              "    background-color: var(--disabled-bg-color);\n",
              "    fill: var(--disabled-fill-color);\n",
              "    box-shadow: none;\n",
              "  }\n",
              "\n",
              "  .colab-df-spinner {\n",
              "    border: 2px solid var(--fill-color);\n",
              "    border-color: transparent;\n",
              "    border-bottom-color: var(--fill-color);\n",
              "    animation:\n",
              "      spin 1s steps(1) infinite;\n",
              "  }\n",
              "\n",
              "  @keyframes spin {\n",
              "    0% {\n",
              "      border-color: transparent;\n",
              "      border-bottom-color: var(--fill-color);\n",
              "      border-left-color: var(--fill-color);\n",
              "    }\n",
              "    20% {\n",
              "      border-color: transparent;\n",
              "      border-left-color: var(--fill-color);\n",
              "      border-top-color: var(--fill-color);\n",
              "    }\n",
              "    30% {\n",
              "      border-color: transparent;\n",
              "      border-left-color: var(--fill-color);\n",
              "      border-top-color: var(--fill-color);\n",
              "      border-right-color: var(--fill-color);\n",
              "    }\n",
              "    40% {\n",
              "      border-color: transparent;\n",
              "      border-right-color: var(--fill-color);\n",
              "      border-top-color: var(--fill-color);\n",
              "    }\n",
              "    60% {\n",
              "      border-color: transparent;\n",
              "      border-right-color: var(--fill-color);\n",
              "    }\n",
              "    80% {\n",
              "      border-color: transparent;\n",
              "      border-right-color: var(--fill-color);\n",
              "      border-bottom-color: var(--fill-color);\n",
              "    }\n",
              "    90% {\n",
              "      border-color: transparent;\n",
              "      border-bottom-color: var(--fill-color);\n",
              "    }\n",
              "  }\n",
              "</style>\n",
              "\n",
              "  <script>\n",
              "    async function quickchart(key) {\n",
              "      const quickchartButtonEl =\n",
              "        document.querySelector('#' + key + ' button');\n",
              "      quickchartButtonEl.disabled = true;  // To prevent multiple clicks.\n",
              "      quickchartButtonEl.classList.add('colab-df-spinner');\n",
              "      try {\n",
              "        const charts = await google.colab.kernel.invokeFunction(\n",
              "            'suggestCharts', [key], {});\n",
              "      } catch (error) {\n",
              "        console.error('Error during call to suggestCharts:', error);\n",
              "      }\n",
              "      quickchartButtonEl.classList.remove('colab-df-spinner');\n",
              "      quickchartButtonEl.classList.add('colab-df-quickchart-complete');\n",
              "    }\n",
              "    (() => {\n",
              "      let quickchartButtonEl =\n",
              "        document.querySelector('#df-610677fd-87db-41f7-b221-df47fa0882b9 button');\n",
              "      quickchartButtonEl.style.display =\n",
              "        google.colab.kernel.accessAllowed ? 'block' : 'none';\n",
              "    })();\n",
              "  </script>\n",
              "</div>\n",
              "\n",
              "  <div id=\"id_c9bdc810-9633-44a4-864e-bc1c173db50f\">\n",
              "    <style>\n",
              "      .colab-df-generate {\n",
              "        background-color: #E8F0FE;\n",
              "        border: none;\n",
              "        border-radius: 50%;\n",
              "        cursor: pointer;\n",
              "        display: none;\n",
              "        fill: #1967D2;\n",
              "        height: 32px;\n",
              "        padding: 0 0 0 0;\n",
              "        width: 32px;\n",
              "      }\n",
              "\n",
              "      .colab-df-generate:hover {\n",
              "        background-color: #E2EBFA;\n",
              "        box-shadow: 0px 1px 2px rgba(60, 64, 67, 0.3), 0px 1px 3px 1px rgba(60, 64, 67, 0.15);\n",
              "        fill: #174EA6;\n",
              "      }\n",
              "\n",
              "      [theme=dark] .colab-df-generate {\n",
              "        background-color: #3B4455;\n",
              "        fill: #D2E3FC;\n",
              "      }\n",
              "\n",
              "      [theme=dark] .colab-df-generate:hover {\n",
              "        background-color: #434B5C;\n",
              "        box-shadow: 0px 1px 3px 1px rgba(0, 0, 0, 0.15);\n",
              "        filter: drop-shadow(0px 1px 2px rgba(0, 0, 0, 0.3));\n",
              "        fill: #FFFFFF;\n",
              "      }\n",
              "    </style>\n",
              "    <button class=\"colab-df-generate\" onclick=\"generateWithVariable('oo')\"\n",
              "            title=\"Generate code using this dataframe.\"\n",
              "            style=\"display:none;\">\n",
              "\n",
              "  <svg xmlns=\"http://www.w3.org/2000/svg\" height=\"24px\"viewBox=\"0 0 24 24\"\n",
              "       width=\"24px\">\n",
              "    <path d=\"M7,19H8.4L18.45,9,17,7.55,7,17.6ZM5,21V16.75L18.45,3.32a2,2,0,0,1,2.83,0l1.4,1.43a1.91,1.91,0,0,1,.58,1.4,1.91,1.91,0,0,1-.58,1.4L9.25,21ZM18.45,9,17,7.55Zm-12,3A5.31,5.31,0,0,0,4.9,8.1,5.31,5.31,0,0,0,1,6.5,5.31,5.31,0,0,0,4.9,4.9,5.31,5.31,0,0,0,6.5,1,5.31,5.31,0,0,0,8.1,4.9,5.31,5.31,0,0,0,12,6.5,5.46,5.46,0,0,0,6.5,12Z\"/>\n",
              "  </svg>\n",
              "    </button>\n",
              "    <script>\n",
              "      (() => {\n",
              "      const buttonEl =\n",
              "        document.querySelector('#id_c9bdc810-9633-44a4-864e-bc1c173db50f button.colab-df-generate');\n",
              "      buttonEl.style.display =\n",
              "        google.colab.kernel.accessAllowed ? 'block' : 'none';\n",
              "\n",
              "      buttonEl.onclick = () => {\n",
              "        google.colab.notebook.generateWithVariable('oo');\n",
              "      }\n",
              "      })();\n",
              "    </script>\n",
              "  </div>\n",
              "\n",
              "    </div>\n",
              "  </div>\n"
            ],
            "application/vnd.google.colaboratory.intrinsic+json": {
              "type": "dataframe",
              "variable_name": "oo",
              "summary": "{\n  \"name\": \"oo\",\n  \"rows\": 27179,\n  \"fields\": [\n    {\n      \"column\": \"This is a list of medallists at the Summer Olympic Games (1896-2004) with details of the year of the olympics, city, sport, discipline, athlete name, gender, event and medal\",\n      \"properties\": {\n        \"dtype\": \"category\",\n        \"num_unique_values\": 27,\n        \"samples\": [\n          \"1924\",\n          \"1952\",\n          \"1928\"\n        ],\n        \"semantic_type\": \"\",\n        \"description\": \"\"\n      }\n    },\n    {\n      \"column\": \"Unnamed: 1\",\n      \"properties\": {\n        \"dtype\": \"category\",\n        \"num_unique_values\": 22,\n        \"samples\": [\n          \"City\",\n          \"Tokyo\",\n          \"Los Angeles\"\n        ],\n        \"semantic_type\": \"\",\n        \"description\": \"\"\n      }\n    },\n    {\n      \"column\": \"Unnamed: 2\",\n      \"properties\": {\n        \"dtype\": \"category\",\n        \"num_unique_values\": 43,\n        \"samples\": [\n          \"Table Tennis\",\n          \"Lacrosse\",\n          \"Water Motorsports\"\n        ],\n        \"semantic_type\": \"\",\n        \"description\": \"\"\n      }\n    },\n    {\n      \"column\": \"Unnamed: 3\",\n      \"properties\": {\n        \"dtype\": \"category\",\n        \"num_unique_values\": 56,\n        \"samples\": [\n          \"Discipline\",\n          \"Tennis\",\n          \"Figure skating\"\n        ],\n        \"semantic_type\": \"\",\n        \"description\": \"\"\n      }\n    },\n    {\n      \"column\": \"Unnamed: 4\",\n      \"properties\": {\n        \"dtype\": \"string\",\n        \"num_unique_values\": 19992,\n        \"samples\": [\n          \"SORM, Josef\",\n          \"LOVERA, Roberto\",\n          \"DE GROOT, Henri Franciscus\"\n        ],\n        \"semantic_type\": \"\",\n        \"description\": \"\"\n      }\n    },\n    {\n      \"column\": \"Unnamed: 5\",\n      \"properties\": {\n        \"dtype\": \"category\",\n        \"num_unique_values\": 133,\n        \"samples\": [\n          \"PUR\",\n          \"TUN\",\n          \"NZL\"\n        ],\n        \"semantic_type\": \"\",\n        \"description\": \"\"\n      }\n    },\n    {\n      \"column\": \"Unnamed: 6\",\n      \"properties\": {\n        \"dtype\": \"category\",\n        \"num_unique_values\": 3,\n        \"samples\": [\n          \"Gender\",\n          \"Men\",\n          \"Women\"\n        ],\n        \"semantic_type\": \"\",\n        \"description\": \"\"\n      }\n    },\n    {\n      \"column\": \"Unnamed: 7\",\n      \"properties\": {\n        \"dtype\": \"category\",\n        \"num_unique_values\": 573,\n        \"samples\": [\n          \"- 58 kg\",\n          \"cesta punta\",\n          \"club swinging\"\n        ],\n        \"semantic_type\": \"\",\n        \"description\": \"\"\n      }\n    },\n    {\n      \"column\": \"Unnamed: 8\",\n      \"properties\": {\n        \"dtype\": \"category\",\n        \"num_unique_values\": 4,\n        \"samples\": [\n          \"M\",\n          \"W\",\n          \"Event Gender\"\n        ],\n        \"semantic_type\": \"\",\n        \"description\": \"\"\n      }\n    },\n    {\n      \"column\": \"Unnamed: 9\",\n      \"properties\": {\n        \"dtype\": \"category\",\n        \"num_unique_values\": 4,\n        \"samples\": [\n          \"Gold\",\n          \"Bronze\",\n          \"Medal\"\n        ],\n        \"semantic_type\": \"\",\n        \"description\": \"\"\n      }\n    },\n    {\n      \"column\": \"Unnamed: 10\",\n      \"properties\": {\n        \"dtype\": \"category\",\n        \"num_unique_values\": 4,\n        \"samples\": [\n          \"1\",\n          \"3\",\n          \"Position\"\n        ],\n        \"semantic_type\": \"\",\n        \"description\": \"\"\n      }\n    }\n  ]\n}"
            }
          },
          "metadata": {},
          "execution_count": 43
        }
      ],
      "source": [
        "oo = pd.read_csv('olympics_1896_2004.csv')\n",
        "oo"
      ]
    },
    {
      "cell_type": "code",
      "execution_count": null,
      "metadata": {
        "id": "MfCWgZclFlFw"
      },
      "outputs": [],
      "source": [
        "oo = pd.read_csv('olympics_1896_2004.csv', skiprows=5)\n",
        "oo"
      ]
    },
    {
      "cell_type": "code",
      "execution_count": null,
      "metadata": {
        "id": "n57rypsOiifF"
      },
      "outputs": [],
      "source": [
        "filename = \"olympics_1896_2004.csv\""
      ]
    },
    {
      "cell_type": "code",
      "source": [
        "#from google.colab import files\n",
        "#files.upload()"
      ],
      "metadata": {
        "id": "09cr8R36lFSn"
      },
      "execution_count": null,
      "outputs": []
    },
    {
      "cell_type": "code",
      "source": [],
      "metadata": {
        "id": "HMT-uLXYvbKU"
      },
      "execution_count": null,
      "outputs": []
    },
    {
      "cell_type": "markdown",
      "metadata": {
        "id": "LRcakh4dQzWs"
      },
      "source": [
        "## Get an overview of the data and displaying it"
      ]
    },
    {
      "cell_type": "code",
      "source": [
        "!pip install --quiet pandas==2.2.2\n",
        "\n",
        "import pandas as pd\n",
        "from pathlib import Path\n",
        "\n",
        "if not Path(\"olympics_1896_2004.csv\").exists():\n",
        "  !wget https://github.com/jonfernandes/pandas_essential/raw/main/olympics_1896_2004.csv\n",
        "\n",
        "filename = \"olympics_1896_2004.csv\"\n",
        "print(\"Installed all of the necessary files for this section ...\")"
      ],
      "metadata": {
        "id": "wL5WNwGHZlOK",
        "outputId": "809bbf34-353b-4ef0-e6a3-06ecf45ea62e",
        "colab": {
          "base_uri": "https://localhost:8080/"
        }
      },
      "execution_count": 13,
      "outputs": [
        {
          "output_type": "stream",
          "name": "stdout",
          "text": [
            "Installed all of the necessary files for this section ...\n"
          ]
        }
      ]
    },
    {
      "cell_type": "code",
      "execution_count": 14,
      "metadata": {
        "id": "JDZYsEWnzkGK",
        "outputId": "5ca06c55-b408-4e3d-f9a4-528e24e80315",
        "colab": {
          "base_uri": "https://localhost:8080/",
          "height": 580
        }
      },
      "outputs": [
        {
          "output_type": "execute_result",
          "data": {
            "text/plain": [
              "       Year    City      Sport     Discipline        Athlete Name  NOC Gender  \\\n",
              "0      1896  Athens    Cycling  Cycling Track       FLAMENG, Léon  FRA    Men   \n",
              "1      1896  Athens    Cycling  Cycling Track  KOLETTIS, Georgios  GRE    Men   \n",
              "2      1896  Athens  Athletics      Athletics       LANE, Francis  USA    Men   \n",
              "3      1896  Athens  Athletics      Athletics    SZOKOLYI, Alajos  HUN    Men   \n",
              "4      1896  Athens  Athletics      Athletics       BURKE, Thomas  USA    Men   \n",
              "...     ...     ...        ...            ...                 ...  ...    ...   \n",
              "27169  2004  Athens    Fencing        Fencing  LOGOUNOVA, Tatiana  RUS  Women   \n",
              "27170  2004  Athens    Fencing        Fencing       SIVKOVA, Anna  RUS  Women   \n",
              "27171  2004  Athens    Fencing        Fencing      BOKEL, Claudia  GER  Women   \n",
              "27172  2004  Athens    Fencing        Fencing     DUPLITZER, Imke  GER  Women   \n",
              "27173  2004  Athens    Fencing        Fencing   HEIDEMANN, Britta  GER  Women   \n",
              "\n",
              "           Event Event Gender   Medal  Position  \n",
              "0          100km            M    Gold         1  \n",
              "1          100km            M  Silver         2  \n",
              "2           100m            M  Bronze         3  \n",
              "3           100m            M  Bronze         3  \n",
              "4           100m            M    Gold         1  \n",
              "...          ...          ...     ...       ...  \n",
              "27169  épée team            W    Gold         1  \n",
              "27170  épée team            W    Gold         1  \n",
              "27171  épée team            W  Silver         2  \n",
              "27172  épée team            W  Silver         2  \n",
              "27173  épée team            W  Silver         2  \n",
              "\n",
              "[27174 rows x 11 columns]"
            ],
            "text/html": [
              "\n",
              "  <div id=\"df-74101373-f8f9-44e9-b654-db026123481f\" class=\"colab-df-container\">\n",
              "    <div>\n",
              "<style scoped>\n",
              "    .dataframe tbody tr th:only-of-type {\n",
              "        vertical-align: middle;\n",
              "    }\n",
              "\n",
              "    .dataframe tbody tr th {\n",
              "        vertical-align: top;\n",
              "    }\n",
              "\n",
              "    .dataframe thead th {\n",
              "        text-align: right;\n",
              "    }\n",
              "</style>\n",
              "<table border=\"1\" class=\"dataframe\">\n",
              "  <thead>\n",
              "    <tr style=\"text-align: right;\">\n",
              "      <th></th>\n",
              "      <th>Year</th>\n",
              "      <th>City</th>\n",
              "      <th>Sport</th>\n",
              "      <th>Discipline</th>\n",
              "      <th>Athlete Name</th>\n",
              "      <th>NOC</th>\n",
              "      <th>Gender</th>\n",
              "      <th>Event</th>\n",
              "      <th>Event Gender</th>\n",
              "      <th>Medal</th>\n",
              "      <th>Position</th>\n",
              "    </tr>\n",
              "  </thead>\n",
              "  <tbody>\n",
              "    <tr>\n",
              "      <th>0</th>\n",
              "      <td>1896</td>\n",
              "      <td>Athens</td>\n",
              "      <td>Cycling</td>\n",
              "      <td>Cycling Track</td>\n",
              "      <td>FLAMENG, Léon</td>\n",
              "      <td>FRA</td>\n",
              "      <td>Men</td>\n",
              "      <td>100km</td>\n",
              "      <td>M</td>\n",
              "      <td>Gold</td>\n",
              "      <td>1</td>\n",
              "    </tr>\n",
              "    <tr>\n",
              "      <th>1</th>\n",
              "      <td>1896</td>\n",
              "      <td>Athens</td>\n",
              "      <td>Cycling</td>\n",
              "      <td>Cycling Track</td>\n",
              "      <td>KOLETTIS, Georgios</td>\n",
              "      <td>GRE</td>\n",
              "      <td>Men</td>\n",
              "      <td>100km</td>\n",
              "      <td>M</td>\n",
              "      <td>Silver</td>\n",
              "      <td>2</td>\n",
              "    </tr>\n",
              "    <tr>\n",
              "      <th>2</th>\n",
              "      <td>1896</td>\n",
              "      <td>Athens</td>\n",
              "      <td>Athletics</td>\n",
              "      <td>Athletics</td>\n",
              "      <td>LANE, Francis</td>\n",
              "      <td>USA</td>\n",
              "      <td>Men</td>\n",
              "      <td>100m</td>\n",
              "      <td>M</td>\n",
              "      <td>Bronze</td>\n",
              "      <td>3</td>\n",
              "    </tr>\n",
              "    <tr>\n",
              "      <th>3</th>\n",
              "      <td>1896</td>\n",
              "      <td>Athens</td>\n",
              "      <td>Athletics</td>\n",
              "      <td>Athletics</td>\n",
              "      <td>SZOKOLYI, Alajos</td>\n",
              "      <td>HUN</td>\n",
              "      <td>Men</td>\n",
              "      <td>100m</td>\n",
              "      <td>M</td>\n",
              "      <td>Bronze</td>\n",
              "      <td>3</td>\n",
              "    </tr>\n",
              "    <tr>\n",
              "      <th>4</th>\n",
              "      <td>1896</td>\n",
              "      <td>Athens</td>\n",
              "      <td>Athletics</td>\n",
              "      <td>Athletics</td>\n",
              "      <td>BURKE, Thomas</td>\n",
              "      <td>USA</td>\n",
              "      <td>Men</td>\n",
              "      <td>100m</td>\n",
              "      <td>M</td>\n",
              "      <td>Gold</td>\n",
              "      <td>1</td>\n",
              "    </tr>\n",
              "    <tr>\n",
              "      <th>...</th>\n",
              "      <td>...</td>\n",
              "      <td>...</td>\n",
              "      <td>...</td>\n",
              "      <td>...</td>\n",
              "      <td>...</td>\n",
              "      <td>...</td>\n",
              "      <td>...</td>\n",
              "      <td>...</td>\n",
              "      <td>...</td>\n",
              "      <td>...</td>\n",
              "      <td>...</td>\n",
              "    </tr>\n",
              "    <tr>\n",
              "      <th>27169</th>\n",
              "      <td>2004</td>\n",
              "      <td>Athens</td>\n",
              "      <td>Fencing</td>\n",
              "      <td>Fencing</td>\n",
              "      <td>LOGOUNOVA, Tatiana</td>\n",
              "      <td>RUS</td>\n",
              "      <td>Women</td>\n",
              "      <td>épée team</td>\n",
              "      <td>W</td>\n",
              "      <td>Gold</td>\n",
              "      <td>1</td>\n",
              "    </tr>\n",
              "    <tr>\n",
              "      <th>27170</th>\n",
              "      <td>2004</td>\n",
              "      <td>Athens</td>\n",
              "      <td>Fencing</td>\n",
              "      <td>Fencing</td>\n",
              "      <td>SIVKOVA, Anna</td>\n",
              "      <td>RUS</td>\n",
              "      <td>Women</td>\n",
              "      <td>épée team</td>\n",
              "      <td>W</td>\n",
              "      <td>Gold</td>\n",
              "      <td>1</td>\n",
              "    </tr>\n",
              "    <tr>\n",
              "      <th>27171</th>\n",
              "      <td>2004</td>\n",
              "      <td>Athens</td>\n",
              "      <td>Fencing</td>\n",
              "      <td>Fencing</td>\n",
              "      <td>BOKEL, Claudia</td>\n",
              "      <td>GER</td>\n",
              "      <td>Women</td>\n",
              "      <td>épée team</td>\n",
              "      <td>W</td>\n",
              "      <td>Silver</td>\n",
              "      <td>2</td>\n",
              "    </tr>\n",
              "    <tr>\n",
              "      <th>27172</th>\n",
              "      <td>2004</td>\n",
              "      <td>Athens</td>\n",
              "      <td>Fencing</td>\n",
              "      <td>Fencing</td>\n",
              "      <td>DUPLITZER, Imke</td>\n",
              "      <td>GER</td>\n",
              "      <td>Women</td>\n",
              "      <td>épée team</td>\n",
              "      <td>W</td>\n",
              "      <td>Silver</td>\n",
              "      <td>2</td>\n",
              "    </tr>\n",
              "    <tr>\n",
              "      <th>27173</th>\n",
              "      <td>2004</td>\n",
              "      <td>Athens</td>\n",
              "      <td>Fencing</td>\n",
              "      <td>Fencing</td>\n",
              "      <td>HEIDEMANN, Britta</td>\n",
              "      <td>GER</td>\n",
              "      <td>Women</td>\n",
              "      <td>épée team</td>\n",
              "      <td>W</td>\n",
              "      <td>Silver</td>\n",
              "      <td>2</td>\n",
              "    </tr>\n",
              "  </tbody>\n",
              "</table>\n",
              "<p>27174 rows × 11 columns</p>\n",
              "</div>\n",
              "    <div class=\"colab-df-buttons\">\n",
              "\n",
              "  <div class=\"colab-df-container\">\n",
              "    <button class=\"colab-df-convert\" onclick=\"convertToInteractive('df-74101373-f8f9-44e9-b654-db026123481f')\"\n",
              "            title=\"Convert this dataframe to an interactive table.\"\n",
              "            style=\"display:none;\">\n",
              "\n",
              "  <svg xmlns=\"http://www.w3.org/2000/svg\" height=\"24px\" viewBox=\"0 -960 960 960\">\n",
              "    <path d=\"M120-120v-720h720v720H120Zm60-500h600v-160H180v160Zm220 220h160v-160H400v160Zm0 220h160v-160H400v160ZM180-400h160v-160H180v160Zm440 0h160v-160H620v160ZM180-180h160v-160H180v160Zm440 0h160v-160H620v160Z\"/>\n",
              "  </svg>\n",
              "    </button>\n",
              "\n",
              "  <style>\n",
              "    .colab-df-container {\n",
              "      display:flex;\n",
              "      gap: 12px;\n",
              "    }\n",
              "\n",
              "    .colab-df-convert {\n",
              "      background-color: #E8F0FE;\n",
              "      border: none;\n",
              "      border-radius: 50%;\n",
              "      cursor: pointer;\n",
              "      display: none;\n",
              "      fill: #1967D2;\n",
              "      height: 32px;\n",
              "      padding: 0 0 0 0;\n",
              "      width: 32px;\n",
              "    }\n",
              "\n",
              "    .colab-df-convert:hover {\n",
              "      background-color: #E2EBFA;\n",
              "      box-shadow: 0px 1px 2px rgba(60, 64, 67, 0.3), 0px 1px 3px 1px rgba(60, 64, 67, 0.15);\n",
              "      fill: #174EA6;\n",
              "    }\n",
              "\n",
              "    .colab-df-buttons div {\n",
              "      margin-bottom: 4px;\n",
              "    }\n",
              "\n",
              "    [theme=dark] .colab-df-convert {\n",
              "      background-color: #3B4455;\n",
              "      fill: #D2E3FC;\n",
              "    }\n",
              "\n",
              "    [theme=dark] .colab-df-convert:hover {\n",
              "      background-color: #434B5C;\n",
              "      box-shadow: 0px 1px 3px 1px rgba(0, 0, 0, 0.15);\n",
              "      filter: drop-shadow(0px 1px 2px rgba(0, 0, 0, 0.3));\n",
              "      fill: #FFFFFF;\n",
              "    }\n",
              "  </style>\n",
              "\n",
              "    <script>\n",
              "      const buttonEl =\n",
              "        document.querySelector('#df-74101373-f8f9-44e9-b654-db026123481f button.colab-df-convert');\n",
              "      buttonEl.style.display =\n",
              "        google.colab.kernel.accessAllowed ? 'block' : 'none';\n",
              "\n",
              "      async function convertToInteractive(key) {\n",
              "        const element = document.querySelector('#df-74101373-f8f9-44e9-b654-db026123481f');\n",
              "        const dataTable =\n",
              "          await google.colab.kernel.invokeFunction('convertToInteractive',\n",
              "                                                    [key], {});\n",
              "        if (!dataTable) return;\n",
              "\n",
              "        const docLinkHtml = 'Like what you see? Visit the ' +\n",
              "          '<a target=\"_blank\" href=https://colab.research.google.com/notebooks/data_table.ipynb>data table notebook</a>'\n",
              "          + ' to learn more about interactive tables.';\n",
              "        element.innerHTML = '';\n",
              "        dataTable['output_type'] = 'display_data';\n",
              "        await google.colab.output.renderOutput(dataTable, element);\n",
              "        const docLink = document.createElement('div');\n",
              "        docLink.innerHTML = docLinkHtml;\n",
              "        element.appendChild(docLink);\n",
              "      }\n",
              "    </script>\n",
              "  </div>\n",
              "\n",
              "\n",
              "<div id=\"df-2da0ac3c-18d1-48ec-a2d6-a721d4e531dc\">\n",
              "  <button class=\"colab-df-quickchart\" onclick=\"quickchart('df-2da0ac3c-18d1-48ec-a2d6-a721d4e531dc')\"\n",
              "            title=\"Suggest charts\"\n",
              "            style=\"display:none;\">\n",
              "\n",
              "<svg xmlns=\"http://www.w3.org/2000/svg\" height=\"24px\"viewBox=\"0 0 24 24\"\n",
              "     width=\"24px\">\n",
              "    <g>\n",
              "        <path d=\"M19 3H5c-1.1 0-2 .9-2 2v14c0 1.1.9 2 2 2h14c1.1 0 2-.9 2-2V5c0-1.1-.9-2-2-2zM9 17H7v-7h2v7zm4 0h-2V7h2v10zm4 0h-2v-4h2v4z\"/>\n",
              "    </g>\n",
              "</svg>\n",
              "  </button>\n",
              "\n",
              "<style>\n",
              "  .colab-df-quickchart {\n",
              "      --bg-color: #E8F0FE;\n",
              "      --fill-color: #1967D2;\n",
              "      --hover-bg-color: #E2EBFA;\n",
              "      --hover-fill-color: #174EA6;\n",
              "      --disabled-fill-color: #AAA;\n",
              "      --disabled-bg-color: #DDD;\n",
              "  }\n",
              "\n",
              "  [theme=dark] .colab-df-quickchart {\n",
              "      --bg-color: #3B4455;\n",
              "      --fill-color: #D2E3FC;\n",
              "      --hover-bg-color: #434B5C;\n",
              "      --hover-fill-color: #FFFFFF;\n",
              "      --disabled-bg-color: #3B4455;\n",
              "      --disabled-fill-color: #666;\n",
              "  }\n",
              "\n",
              "  .colab-df-quickchart {\n",
              "    background-color: var(--bg-color);\n",
              "    border: none;\n",
              "    border-radius: 50%;\n",
              "    cursor: pointer;\n",
              "    display: none;\n",
              "    fill: var(--fill-color);\n",
              "    height: 32px;\n",
              "    padding: 0;\n",
              "    width: 32px;\n",
              "  }\n",
              "\n",
              "  .colab-df-quickchart:hover {\n",
              "    background-color: var(--hover-bg-color);\n",
              "    box-shadow: 0 1px 2px rgba(60, 64, 67, 0.3), 0 1px 3px 1px rgba(60, 64, 67, 0.15);\n",
              "    fill: var(--button-hover-fill-color);\n",
              "  }\n",
              "\n",
              "  .colab-df-quickchart-complete:disabled,\n",
              "  .colab-df-quickchart-complete:disabled:hover {\n",
              "    background-color: var(--disabled-bg-color);\n",
              "    fill: var(--disabled-fill-color);\n",
              "    box-shadow: none;\n",
              "  }\n",
              "\n",
              "  .colab-df-spinner {\n",
              "    border: 2px solid var(--fill-color);\n",
              "    border-color: transparent;\n",
              "    border-bottom-color: var(--fill-color);\n",
              "    animation:\n",
              "      spin 1s steps(1) infinite;\n",
              "  }\n",
              "\n",
              "  @keyframes spin {\n",
              "    0% {\n",
              "      border-color: transparent;\n",
              "      border-bottom-color: var(--fill-color);\n",
              "      border-left-color: var(--fill-color);\n",
              "    }\n",
              "    20% {\n",
              "      border-color: transparent;\n",
              "      border-left-color: var(--fill-color);\n",
              "      border-top-color: var(--fill-color);\n",
              "    }\n",
              "    30% {\n",
              "      border-color: transparent;\n",
              "      border-left-color: var(--fill-color);\n",
              "      border-top-color: var(--fill-color);\n",
              "      border-right-color: var(--fill-color);\n",
              "    }\n",
              "    40% {\n",
              "      border-color: transparent;\n",
              "      border-right-color: var(--fill-color);\n",
              "      border-top-color: var(--fill-color);\n",
              "    }\n",
              "    60% {\n",
              "      border-color: transparent;\n",
              "      border-right-color: var(--fill-color);\n",
              "    }\n",
              "    80% {\n",
              "      border-color: transparent;\n",
              "      border-right-color: var(--fill-color);\n",
              "      border-bottom-color: var(--fill-color);\n",
              "    }\n",
              "    90% {\n",
              "      border-color: transparent;\n",
              "      border-bottom-color: var(--fill-color);\n",
              "    }\n",
              "  }\n",
              "</style>\n",
              "\n",
              "  <script>\n",
              "    async function quickchart(key) {\n",
              "      const quickchartButtonEl =\n",
              "        document.querySelector('#' + key + ' button');\n",
              "      quickchartButtonEl.disabled = true;  // To prevent multiple clicks.\n",
              "      quickchartButtonEl.classList.add('colab-df-spinner');\n",
              "      try {\n",
              "        const charts = await google.colab.kernel.invokeFunction(\n",
              "            'suggestCharts', [key], {});\n",
              "      } catch (error) {\n",
              "        console.error('Error during call to suggestCharts:', error);\n",
              "      }\n",
              "      quickchartButtonEl.classList.remove('colab-df-spinner');\n",
              "      quickchartButtonEl.classList.add('colab-df-quickchart-complete');\n",
              "    }\n",
              "    (() => {\n",
              "      let quickchartButtonEl =\n",
              "        document.querySelector('#df-2da0ac3c-18d1-48ec-a2d6-a721d4e531dc button');\n",
              "      quickchartButtonEl.style.display =\n",
              "        google.colab.kernel.accessAllowed ? 'block' : 'none';\n",
              "    })();\n",
              "  </script>\n",
              "</div>\n",
              "\n",
              "  <div id=\"id_24249585-6811-4e22-97cc-18a266498a78\">\n",
              "    <style>\n",
              "      .colab-df-generate {\n",
              "        background-color: #E8F0FE;\n",
              "        border: none;\n",
              "        border-radius: 50%;\n",
              "        cursor: pointer;\n",
              "        display: none;\n",
              "        fill: #1967D2;\n",
              "        height: 32px;\n",
              "        padding: 0 0 0 0;\n",
              "        width: 32px;\n",
              "      }\n",
              "\n",
              "      .colab-df-generate:hover {\n",
              "        background-color: #E2EBFA;\n",
              "        box-shadow: 0px 1px 2px rgba(60, 64, 67, 0.3), 0px 1px 3px 1px rgba(60, 64, 67, 0.15);\n",
              "        fill: #174EA6;\n",
              "      }\n",
              "\n",
              "      [theme=dark] .colab-df-generate {\n",
              "        background-color: #3B4455;\n",
              "        fill: #D2E3FC;\n",
              "      }\n",
              "\n",
              "      [theme=dark] .colab-df-generate:hover {\n",
              "        background-color: #434B5C;\n",
              "        box-shadow: 0px 1px 3px 1px rgba(0, 0, 0, 0.15);\n",
              "        filter: drop-shadow(0px 1px 2px rgba(0, 0, 0, 0.3));\n",
              "        fill: #FFFFFF;\n",
              "      }\n",
              "    </style>\n",
              "    <button class=\"colab-df-generate\" onclick=\"generateWithVariable('oo')\"\n",
              "            title=\"Generate code using this dataframe.\"\n",
              "            style=\"display:none;\">\n",
              "\n",
              "  <svg xmlns=\"http://www.w3.org/2000/svg\" height=\"24px\"viewBox=\"0 0 24 24\"\n",
              "       width=\"24px\">\n",
              "    <path d=\"M7,19H8.4L18.45,9,17,7.55,7,17.6ZM5,21V16.75L18.45,3.32a2,2,0,0,1,2.83,0l1.4,1.43a1.91,1.91,0,0,1,.58,1.4,1.91,1.91,0,0,1-.58,1.4L9.25,21ZM18.45,9,17,7.55Zm-12,3A5.31,5.31,0,0,0,4.9,8.1,5.31,5.31,0,0,0,1,6.5,5.31,5.31,0,0,0,4.9,4.9,5.31,5.31,0,0,0,6.5,1,5.31,5.31,0,0,0,8.1,4.9,5.31,5.31,0,0,0,12,6.5,5.46,5.46,0,0,0,6.5,12Z\"/>\n",
              "  </svg>\n",
              "    </button>\n",
              "    <script>\n",
              "      (() => {\n",
              "      const buttonEl =\n",
              "        document.querySelector('#id_24249585-6811-4e22-97cc-18a266498a78 button.colab-df-generate');\n",
              "      buttonEl.style.display =\n",
              "        google.colab.kernel.accessAllowed ? 'block' : 'none';\n",
              "\n",
              "      buttonEl.onclick = () => {\n",
              "        google.colab.notebook.generateWithVariable('oo');\n",
              "      }\n",
              "      })();\n",
              "    </script>\n",
              "  </div>\n",
              "\n",
              "    </div>\n",
              "  </div>\n"
            ],
            "application/vnd.google.colaboratory.intrinsic+json": {
              "type": "dataframe",
              "variable_name": "oo",
              "summary": "{\n  \"name\": \"oo\",\n  \"rows\": 27174,\n  \"fields\": [\n    {\n      \"column\": \"Year\",\n      \"properties\": {\n        \"dtype\": \"number\",\n        \"std\": 31,\n        \"min\": 1896,\n        \"max\": 2004,\n        \"num_unique_values\": 25,\n        \"samples\": [\n          1932,\n          1972,\n          1896\n        ],\n        \"semantic_type\": \"\",\n        \"description\": \"\"\n      }\n    },\n    {\n      \"column\": \"City\",\n      \"properties\": {\n        \"dtype\": \"category\",\n        \"num_unique_values\": 21,\n        \"samples\": [\n          \"Athens\",\n          \"Seoul\",\n          \"Montreal\"\n        ],\n        \"semantic_type\": \"\",\n        \"description\": \"\"\n      }\n    },\n    {\n      \"column\": \"Sport\",\n      \"properties\": {\n        \"dtype\": \"category\",\n        \"num_unique_values\": 42,\n        \"samples\": [\n          \"Rackets\",\n          \"Croquet\",\n          \"Wrestling\"\n        ],\n        \"semantic_type\": \"\",\n        \"description\": \"\"\n      }\n    },\n    {\n      \"column\": \"Discipline\",\n      \"properties\": {\n        \"dtype\": \"category\",\n        \"num_unique_values\": 55,\n        \"samples\": [\n          \"Jeu de Paume\",\n          \"Fencing\",\n          \"Figure skating\"\n        ],\n        \"semantic_type\": \"\",\n        \"description\": \"\"\n      }\n    },\n    {\n      \"column\": \"Athlete Name\",\n      \"properties\": {\n        \"dtype\": \"string\",\n        \"num_unique_values\": 19991,\n        \"samples\": [\n          \"TOMAN, Ladislav\",\n          \"MATTO, Sergio A.\",\n          \"DE WOLF, Nicolaas\"\n        ],\n        \"semantic_type\": \"\",\n        \"description\": \"\"\n      }\n    },\n    {\n      \"column\": \"NOC\",\n      \"properties\": {\n        \"dtype\": \"category\",\n        \"num_unique_values\": 132,\n        \"samples\": [\n          \"VEN\",\n          \"ZIM\",\n          \"SWE\"\n        ],\n        \"semantic_type\": \"\",\n        \"description\": \"\"\n      }\n    },\n    {\n      \"column\": \"Gender\",\n      \"properties\": {\n        \"dtype\": \"category\",\n        \"num_unique_values\": 2,\n        \"samples\": [\n          \"Women\",\n          \"Men\"\n        ],\n        \"semantic_type\": \"\",\n        \"description\": \"\"\n      }\n    },\n    {\n      \"column\": \"Event\",\n      \"properties\": {\n        \"dtype\": \"category\",\n        \"num_unique_values\": 572,\n        \"samples\": [\n          \"- 58 kg\",\n          \"cricket\"\n        ],\n        \"semantic_type\": \"\",\n        \"description\": \"\"\n      }\n    },\n    {\n      \"column\": \"Event Gender\",\n      \"properties\": {\n        \"dtype\": \"category\",\n        \"num_unique_values\": 3,\n        \"samples\": [\n          \"M\",\n          \"X\"\n        ],\n        \"semantic_type\": \"\",\n        \"description\": \"\"\n      }\n    },\n    {\n      \"column\": \"Medal\",\n      \"properties\": {\n        \"dtype\": \"category\",\n        \"num_unique_values\": 3,\n        \"samples\": [\n          \"Gold\",\n          \"Silver\"\n        ],\n        \"semantic_type\": \"\",\n        \"description\": \"\"\n      }\n    },\n    {\n      \"column\": \"Position\",\n      \"properties\": {\n        \"dtype\": \"number\",\n        \"std\": 0,\n        \"min\": 1,\n        \"max\": 3,\n        \"num_unique_values\": 3,\n        \"samples\": [\n          1,\n          2\n        ],\n        \"semantic_type\": \"\",\n        \"description\": \"\"\n      }\n    }\n  ]\n}"
            }
          },
          "metadata": {},
          "execution_count": 14
        }
      ],
      "source": [
        "oo = pd.read_csv(filename, skiprows=5)\n",
        "oo"
      ]
    },
    {
      "cell_type": "code",
      "execution_count": 16,
      "metadata": {
        "id": "o3NIzDxyQzWs",
        "outputId": "eb328ccd-817d-46b7-e88d-a837d7a1d0d5",
        "colab": {
          "base_uri": "https://localhost:8080/"
        }
      },
      "outputs": [
        {
          "output_type": "execute_result",
          "data": {
            "text/plain": [
              "(27174, 11)"
            ]
          },
          "metadata": {},
          "execution_count": 16
        }
      ],
      "source": [
        "oo.shape"
      ]
    },
    {
      "cell_type": "code",
      "source": [
        "oo.shape?"
      ],
      "metadata": {
        "id": "B6asCtrReVJ5"
      },
      "execution_count": 17,
      "outputs": []
    },
    {
      "cell_type": "code",
      "execution_count": 19,
      "metadata": {
        "id": "0PCE_iXpQzWt",
        "collapsed": true,
        "outputId": "e79bbfff-0fc9-4afa-a5e8-08adf02a66d8",
        "colab": {
          "base_uri": "https://localhost:8080/",
          "height": 258
        }
      },
      "outputs": [
        {
          "output_type": "execute_result",
          "data": {
            "text/plain": [
              "   Year    City      Sport     Discipline        Athlete Name  NOC Gender  \\\n",
              "0  1896  Athens    Cycling  Cycling Track       FLAMENG, Léon  FRA    Men   \n",
              "1  1896  Athens    Cycling  Cycling Track  KOLETTIS, Georgios  GRE    Men   \n",
              "2  1896  Athens  Athletics      Athletics       LANE, Francis  USA    Men   \n",
              "3  1896  Athens  Athletics      Athletics    SZOKOLYI, Alajos  HUN    Men   \n",
              "4  1896  Athens  Athletics      Athletics       BURKE, Thomas  USA    Men   \n",
              "\n",
              "   Event Event Gender   Medal  Position  \n",
              "0  100km            M    Gold         1  \n",
              "1  100km            M  Silver         2  \n",
              "2   100m            M  Bronze         3  \n",
              "3   100m            M  Bronze         3  \n",
              "4   100m            M    Gold         1  "
            ],
            "text/html": [
              "\n",
              "  <div id=\"df-954dc9db-c029-4988-ab94-b89cf2e07cc1\" class=\"colab-df-container\">\n",
              "    <div>\n",
              "<style scoped>\n",
              "    .dataframe tbody tr th:only-of-type {\n",
              "        vertical-align: middle;\n",
              "    }\n",
              "\n",
              "    .dataframe tbody tr th {\n",
              "        vertical-align: top;\n",
              "    }\n",
              "\n",
              "    .dataframe thead th {\n",
              "        text-align: right;\n",
              "    }\n",
              "</style>\n",
              "<table border=\"1\" class=\"dataframe\">\n",
              "  <thead>\n",
              "    <tr style=\"text-align: right;\">\n",
              "      <th></th>\n",
              "      <th>Year</th>\n",
              "      <th>City</th>\n",
              "      <th>Sport</th>\n",
              "      <th>Discipline</th>\n",
              "      <th>Athlete Name</th>\n",
              "      <th>NOC</th>\n",
              "      <th>Gender</th>\n",
              "      <th>Event</th>\n",
              "      <th>Event Gender</th>\n",
              "      <th>Medal</th>\n",
              "      <th>Position</th>\n",
              "    </tr>\n",
              "  </thead>\n",
              "  <tbody>\n",
              "    <tr>\n",
              "      <th>0</th>\n",
              "      <td>1896</td>\n",
              "      <td>Athens</td>\n",
              "      <td>Cycling</td>\n",
              "      <td>Cycling Track</td>\n",
              "      <td>FLAMENG, Léon</td>\n",
              "      <td>FRA</td>\n",
              "      <td>Men</td>\n",
              "      <td>100km</td>\n",
              "      <td>M</td>\n",
              "      <td>Gold</td>\n",
              "      <td>1</td>\n",
              "    </tr>\n",
              "    <tr>\n",
              "      <th>1</th>\n",
              "      <td>1896</td>\n",
              "      <td>Athens</td>\n",
              "      <td>Cycling</td>\n",
              "      <td>Cycling Track</td>\n",
              "      <td>KOLETTIS, Georgios</td>\n",
              "      <td>GRE</td>\n",
              "      <td>Men</td>\n",
              "      <td>100km</td>\n",
              "      <td>M</td>\n",
              "      <td>Silver</td>\n",
              "      <td>2</td>\n",
              "    </tr>\n",
              "    <tr>\n",
              "      <th>2</th>\n",
              "      <td>1896</td>\n",
              "      <td>Athens</td>\n",
              "      <td>Athletics</td>\n",
              "      <td>Athletics</td>\n",
              "      <td>LANE, Francis</td>\n",
              "      <td>USA</td>\n",
              "      <td>Men</td>\n",
              "      <td>100m</td>\n",
              "      <td>M</td>\n",
              "      <td>Bronze</td>\n",
              "      <td>3</td>\n",
              "    </tr>\n",
              "    <tr>\n",
              "      <th>3</th>\n",
              "      <td>1896</td>\n",
              "      <td>Athens</td>\n",
              "      <td>Athletics</td>\n",
              "      <td>Athletics</td>\n",
              "      <td>SZOKOLYI, Alajos</td>\n",
              "      <td>HUN</td>\n",
              "      <td>Men</td>\n",
              "      <td>100m</td>\n",
              "      <td>M</td>\n",
              "      <td>Bronze</td>\n",
              "      <td>3</td>\n",
              "    </tr>\n",
              "    <tr>\n",
              "      <th>4</th>\n",
              "      <td>1896</td>\n",
              "      <td>Athens</td>\n",
              "      <td>Athletics</td>\n",
              "      <td>Athletics</td>\n",
              "      <td>BURKE, Thomas</td>\n",
              "      <td>USA</td>\n",
              "      <td>Men</td>\n",
              "      <td>100m</td>\n",
              "      <td>M</td>\n",
              "      <td>Gold</td>\n",
              "      <td>1</td>\n",
              "    </tr>\n",
              "  </tbody>\n",
              "</table>\n",
              "</div>\n",
              "    <div class=\"colab-df-buttons\">\n",
              "\n",
              "  <div class=\"colab-df-container\">\n",
              "    <button class=\"colab-df-convert\" onclick=\"convertToInteractive('df-954dc9db-c029-4988-ab94-b89cf2e07cc1')\"\n",
              "            title=\"Convert this dataframe to an interactive table.\"\n",
              "            style=\"display:none;\">\n",
              "\n",
              "  <svg xmlns=\"http://www.w3.org/2000/svg\" height=\"24px\" viewBox=\"0 -960 960 960\">\n",
              "    <path d=\"M120-120v-720h720v720H120Zm60-500h600v-160H180v160Zm220 220h160v-160H400v160Zm0 220h160v-160H400v160ZM180-400h160v-160H180v160Zm440 0h160v-160H620v160ZM180-180h160v-160H180v160Zm440 0h160v-160H620v160Z\"/>\n",
              "  </svg>\n",
              "    </button>\n",
              "\n",
              "  <style>\n",
              "    .colab-df-container {\n",
              "      display:flex;\n",
              "      gap: 12px;\n",
              "    }\n",
              "\n",
              "    .colab-df-convert {\n",
              "      background-color: #E8F0FE;\n",
              "      border: none;\n",
              "      border-radius: 50%;\n",
              "      cursor: pointer;\n",
              "      display: none;\n",
              "      fill: #1967D2;\n",
              "      height: 32px;\n",
              "      padding: 0 0 0 0;\n",
              "      width: 32px;\n",
              "    }\n",
              "\n",
              "    .colab-df-convert:hover {\n",
              "      background-color: #E2EBFA;\n",
              "      box-shadow: 0px 1px 2px rgba(60, 64, 67, 0.3), 0px 1px 3px 1px rgba(60, 64, 67, 0.15);\n",
              "      fill: #174EA6;\n",
              "    }\n",
              "\n",
              "    .colab-df-buttons div {\n",
              "      margin-bottom: 4px;\n",
              "    }\n",
              "\n",
              "    [theme=dark] .colab-df-convert {\n",
              "      background-color: #3B4455;\n",
              "      fill: #D2E3FC;\n",
              "    }\n",
              "\n",
              "    [theme=dark] .colab-df-convert:hover {\n",
              "      background-color: #434B5C;\n",
              "      box-shadow: 0px 1px 3px 1px rgba(0, 0, 0, 0.15);\n",
              "      filter: drop-shadow(0px 1px 2px rgba(0, 0, 0, 0.3));\n",
              "      fill: #FFFFFF;\n",
              "    }\n",
              "  </style>\n",
              "\n",
              "    <script>\n",
              "      const buttonEl =\n",
              "        document.querySelector('#df-954dc9db-c029-4988-ab94-b89cf2e07cc1 button.colab-df-convert');\n",
              "      buttonEl.style.display =\n",
              "        google.colab.kernel.accessAllowed ? 'block' : 'none';\n",
              "\n",
              "      async function convertToInteractive(key) {\n",
              "        const element = document.querySelector('#df-954dc9db-c029-4988-ab94-b89cf2e07cc1');\n",
              "        const dataTable =\n",
              "          await google.colab.kernel.invokeFunction('convertToInteractive',\n",
              "                                                    [key], {});\n",
              "        if (!dataTable) return;\n",
              "\n",
              "        const docLinkHtml = 'Like what you see? Visit the ' +\n",
              "          '<a target=\"_blank\" href=https://colab.research.google.com/notebooks/data_table.ipynb>data table notebook</a>'\n",
              "          + ' to learn more about interactive tables.';\n",
              "        element.innerHTML = '';\n",
              "        dataTable['output_type'] = 'display_data';\n",
              "        await google.colab.output.renderOutput(dataTable, element);\n",
              "        const docLink = document.createElement('div');\n",
              "        docLink.innerHTML = docLinkHtml;\n",
              "        element.appendChild(docLink);\n",
              "      }\n",
              "    </script>\n",
              "  </div>\n",
              "\n",
              "\n",
              "<div id=\"df-cfe4c0e5-7f5c-45c7-848b-be877d3398a5\">\n",
              "  <button class=\"colab-df-quickchart\" onclick=\"quickchart('df-cfe4c0e5-7f5c-45c7-848b-be877d3398a5')\"\n",
              "            title=\"Suggest charts\"\n",
              "            style=\"display:none;\">\n",
              "\n",
              "<svg xmlns=\"http://www.w3.org/2000/svg\" height=\"24px\"viewBox=\"0 0 24 24\"\n",
              "     width=\"24px\">\n",
              "    <g>\n",
              "        <path d=\"M19 3H5c-1.1 0-2 .9-2 2v14c0 1.1.9 2 2 2h14c1.1 0 2-.9 2-2V5c0-1.1-.9-2-2-2zM9 17H7v-7h2v7zm4 0h-2V7h2v10zm4 0h-2v-4h2v4z\"/>\n",
              "    </g>\n",
              "</svg>\n",
              "  </button>\n",
              "\n",
              "<style>\n",
              "  .colab-df-quickchart {\n",
              "      --bg-color: #E8F0FE;\n",
              "      --fill-color: #1967D2;\n",
              "      --hover-bg-color: #E2EBFA;\n",
              "      --hover-fill-color: #174EA6;\n",
              "      --disabled-fill-color: #AAA;\n",
              "      --disabled-bg-color: #DDD;\n",
              "  }\n",
              "\n",
              "  [theme=dark] .colab-df-quickchart {\n",
              "      --bg-color: #3B4455;\n",
              "      --fill-color: #D2E3FC;\n",
              "      --hover-bg-color: #434B5C;\n",
              "      --hover-fill-color: #FFFFFF;\n",
              "      --disabled-bg-color: #3B4455;\n",
              "      --disabled-fill-color: #666;\n",
              "  }\n",
              "\n",
              "  .colab-df-quickchart {\n",
              "    background-color: var(--bg-color);\n",
              "    border: none;\n",
              "    border-radius: 50%;\n",
              "    cursor: pointer;\n",
              "    display: none;\n",
              "    fill: var(--fill-color);\n",
              "    height: 32px;\n",
              "    padding: 0;\n",
              "    width: 32px;\n",
              "  }\n",
              "\n",
              "  .colab-df-quickchart:hover {\n",
              "    background-color: var(--hover-bg-color);\n",
              "    box-shadow: 0 1px 2px rgba(60, 64, 67, 0.3), 0 1px 3px 1px rgba(60, 64, 67, 0.15);\n",
              "    fill: var(--button-hover-fill-color);\n",
              "  }\n",
              "\n",
              "  .colab-df-quickchart-complete:disabled,\n",
              "  .colab-df-quickchart-complete:disabled:hover {\n",
              "    background-color: var(--disabled-bg-color);\n",
              "    fill: var(--disabled-fill-color);\n",
              "    box-shadow: none;\n",
              "  }\n",
              "\n",
              "  .colab-df-spinner {\n",
              "    border: 2px solid var(--fill-color);\n",
              "    border-color: transparent;\n",
              "    border-bottom-color: var(--fill-color);\n",
              "    animation:\n",
              "      spin 1s steps(1) infinite;\n",
              "  }\n",
              "\n",
              "  @keyframes spin {\n",
              "    0% {\n",
              "      border-color: transparent;\n",
              "      border-bottom-color: var(--fill-color);\n",
              "      border-left-color: var(--fill-color);\n",
              "    }\n",
              "    20% {\n",
              "      border-color: transparent;\n",
              "      border-left-color: var(--fill-color);\n",
              "      border-top-color: var(--fill-color);\n",
              "    }\n",
              "    30% {\n",
              "      border-color: transparent;\n",
              "      border-left-color: var(--fill-color);\n",
              "      border-top-color: var(--fill-color);\n",
              "      border-right-color: var(--fill-color);\n",
              "    }\n",
              "    40% {\n",
              "      border-color: transparent;\n",
              "      border-right-color: var(--fill-color);\n",
              "      border-top-color: var(--fill-color);\n",
              "    }\n",
              "    60% {\n",
              "      border-color: transparent;\n",
              "      border-right-color: var(--fill-color);\n",
              "    }\n",
              "    80% {\n",
              "      border-color: transparent;\n",
              "      border-right-color: var(--fill-color);\n",
              "      border-bottom-color: var(--fill-color);\n",
              "    }\n",
              "    90% {\n",
              "      border-color: transparent;\n",
              "      border-bottom-color: var(--fill-color);\n",
              "    }\n",
              "  }\n",
              "</style>\n",
              "\n",
              "  <script>\n",
              "    async function quickchart(key) {\n",
              "      const quickchartButtonEl =\n",
              "        document.querySelector('#' + key + ' button');\n",
              "      quickchartButtonEl.disabled = true;  // To prevent multiple clicks.\n",
              "      quickchartButtonEl.classList.add('colab-df-spinner');\n",
              "      try {\n",
              "        const charts = await google.colab.kernel.invokeFunction(\n",
              "            'suggestCharts', [key], {});\n",
              "      } catch (error) {\n",
              "        console.error('Error during call to suggestCharts:', error);\n",
              "      }\n",
              "      quickchartButtonEl.classList.remove('colab-df-spinner');\n",
              "      quickchartButtonEl.classList.add('colab-df-quickchart-complete');\n",
              "    }\n",
              "    (() => {\n",
              "      let quickchartButtonEl =\n",
              "        document.querySelector('#df-cfe4c0e5-7f5c-45c7-848b-be877d3398a5 button');\n",
              "      quickchartButtonEl.style.display =\n",
              "        google.colab.kernel.accessAllowed ? 'block' : 'none';\n",
              "    })();\n",
              "  </script>\n",
              "</div>\n",
              "\n",
              "    </div>\n",
              "  </div>\n"
            ],
            "application/vnd.google.colaboratory.intrinsic+json": {
              "type": "dataframe",
              "variable_name": "oo",
              "summary": "{\n  \"name\": \"oo\",\n  \"rows\": 27174,\n  \"fields\": [\n    {\n      \"column\": \"Year\",\n      \"properties\": {\n        \"dtype\": \"number\",\n        \"std\": 31,\n        \"min\": 1896,\n        \"max\": 2004,\n        \"num_unique_values\": 25,\n        \"samples\": [\n          1932,\n          1972,\n          1896\n        ],\n        \"semantic_type\": \"\",\n        \"description\": \"\"\n      }\n    },\n    {\n      \"column\": \"City\",\n      \"properties\": {\n        \"dtype\": \"category\",\n        \"num_unique_values\": 21,\n        \"samples\": [\n          \"Athens\",\n          \"Seoul\",\n          \"Montreal\"\n        ],\n        \"semantic_type\": \"\",\n        \"description\": \"\"\n      }\n    },\n    {\n      \"column\": \"Sport\",\n      \"properties\": {\n        \"dtype\": \"category\",\n        \"num_unique_values\": 42,\n        \"samples\": [\n          \"Rackets\",\n          \"Croquet\",\n          \"Wrestling\"\n        ],\n        \"semantic_type\": \"\",\n        \"description\": \"\"\n      }\n    },\n    {\n      \"column\": \"Discipline\",\n      \"properties\": {\n        \"dtype\": \"category\",\n        \"num_unique_values\": 55,\n        \"samples\": [\n          \"Jeu de Paume\",\n          \"Fencing\",\n          \"Figure skating\"\n        ],\n        \"semantic_type\": \"\",\n        \"description\": \"\"\n      }\n    },\n    {\n      \"column\": \"Athlete Name\",\n      \"properties\": {\n        \"dtype\": \"string\",\n        \"num_unique_values\": 19991,\n        \"samples\": [\n          \"TOMAN, Ladislav\",\n          \"MATTO, Sergio A.\",\n          \"DE WOLF, Nicolaas\"\n        ],\n        \"semantic_type\": \"\",\n        \"description\": \"\"\n      }\n    },\n    {\n      \"column\": \"NOC\",\n      \"properties\": {\n        \"dtype\": \"category\",\n        \"num_unique_values\": 132,\n        \"samples\": [\n          \"VEN\",\n          \"ZIM\",\n          \"SWE\"\n        ],\n        \"semantic_type\": \"\",\n        \"description\": \"\"\n      }\n    },\n    {\n      \"column\": \"Gender\",\n      \"properties\": {\n        \"dtype\": \"category\",\n        \"num_unique_values\": 2,\n        \"samples\": [\n          \"Women\",\n          \"Men\"\n        ],\n        \"semantic_type\": \"\",\n        \"description\": \"\"\n      }\n    },\n    {\n      \"column\": \"Event\",\n      \"properties\": {\n        \"dtype\": \"category\",\n        \"num_unique_values\": 572,\n        \"samples\": [\n          \"- 58 kg\",\n          \"cricket\"\n        ],\n        \"semantic_type\": \"\",\n        \"description\": \"\"\n      }\n    },\n    {\n      \"column\": \"Event Gender\",\n      \"properties\": {\n        \"dtype\": \"category\",\n        \"num_unique_values\": 3,\n        \"samples\": [\n          \"M\",\n          \"X\"\n        ],\n        \"semantic_type\": \"\",\n        \"description\": \"\"\n      }\n    },\n    {\n      \"column\": \"Medal\",\n      \"properties\": {\n        \"dtype\": \"category\",\n        \"num_unique_values\": 3,\n        \"samples\": [\n          \"Gold\",\n          \"Silver\"\n        ],\n        \"semantic_type\": \"\",\n        \"description\": \"\"\n      }\n    },\n    {\n      \"column\": \"Position\",\n      \"properties\": {\n        \"dtype\": \"number\",\n        \"std\": 0,\n        \"min\": 1,\n        \"max\": 3,\n        \"num_unique_values\": 3,\n        \"samples\": [\n          1,\n          2\n        ],\n        \"semantic_type\": \"\",\n        \"description\": \"\"\n      }\n    }\n  ]\n}"
            }
          },
          "metadata": {},
          "execution_count": 19
        }
      ],
      "source": [
        "oo.head()"
      ]
    },
    {
      "cell_type": "code",
      "execution_count": null,
      "metadata": {
        "id": "k7QFGUXEy8wk"
      },
      "outputs": [],
      "source": [
        "oo.head?"
      ]
    },
    {
      "cell_type": "code",
      "execution_count": null,
      "metadata": {
        "id": "VCOdQQZg9uVN"
      },
      "outputs": [],
      "source": [
        "oo.head(3)"
      ]
    },
    {
      "cell_type": "code",
      "execution_count": null,
      "metadata": {
        "id": "B_P8jwG0QzWt"
      },
      "outputs": [],
      "source": [
        "oo.tail()"
      ]
    },
    {
      "cell_type": "code",
      "execution_count": null,
      "metadata": {
        "id": "f5rgxIri9xlj"
      },
      "outputs": [],
      "source": [
        "oo.sample(5)"
      ]
    },
    {
      "cell_type": "code",
      "source": [
        "oo.sample?"
      ],
      "metadata": {
        "id": "Pj4QBYANegDD"
      },
      "execution_count": null,
      "outputs": []
    },
    {
      "cell_type": "code",
      "execution_count": 20,
      "metadata": {
        "id": "oyvg0lNQQzWu",
        "outputId": "106c21a6-068f-4bf3-a9cf-3136d9be5042",
        "colab": {
          "base_uri": "https://localhost:8080/"
        }
      },
      "outputs": [
        {
          "output_type": "stream",
          "name": "stdout",
          "text": [
            "<class 'pandas.core.frame.DataFrame'>\n",
            "RangeIndex: 27174 entries, 0 to 27173\n",
            "Data columns (total 11 columns):\n",
            " #   Column        Non-Null Count  Dtype \n",
            "---  ------        --------------  ----- \n",
            " 0   Year          27174 non-null  int64 \n",
            " 1   City          27174 non-null  object\n",
            " 2   Sport         27174 non-null  object\n",
            " 3   Discipline    27174 non-null  object\n",
            " 4   Athlete Name  27174 non-null  object\n",
            " 5   NOC           27174 non-null  object\n",
            " 6   Gender        27174 non-null  object\n",
            " 7   Event         27174 non-null  object\n",
            " 8   Event Gender  27174 non-null  object\n",
            " 9   Medal         27174 non-null  object\n",
            " 10  Position      27174 non-null  int64 \n",
            "dtypes: int64(2), object(9)\n",
            "memory usage: 2.3+ MB\n"
          ]
        }
      ],
      "source": [
        "oo.info()"
      ]
    },
    {
      "cell_type": "code",
      "execution_count": 21,
      "metadata": {
        "id": "aNUD6Ndobv4U",
        "outputId": "4ae506af-2d2a-4d15-e2db-de8ad762c00f",
        "colab": {
          "base_uri": "https://localhost:8080/",
          "height": 300
        }
      },
      "outputs": [
        {
          "output_type": "execute_result",
          "data": {
            "text/plain": [
              "               Year      Position\n",
              "count  27174.000000  27174.000000\n",
              "mean    1964.685803      1.992566\n",
              "std       31.590396      0.817469\n",
              "min     1896.000000      1.000000\n",
              "25%     1936.000000      1.000000\n",
              "50%     1972.000000      2.000000\n",
              "75%     1992.000000      3.000000\n",
              "max     2004.000000      3.000000"
            ],
            "text/html": [
              "\n",
              "  <div id=\"df-5947de34-26ea-4394-9b83-99979aca810e\" class=\"colab-df-container\">\n",
              "    <div>\n",
              "<style scoped>\n",
              "    .dataframe tbody tr th:only-of-type {\n",
              "        vertical-align: middle;\n",
              "    }\n",
              "\n",
              "    .dataframe tbody tr th {\n",
              "        vertical-align: top;\n",
              "    }\n",
              "\n",
              "    .dataframe thead th {\n",
              "        text-align: right;\n",
              "    }\n",
              "</style>\n",
              "<table border=\"1\" class=\"dataframe\">\n",
              "  <thead>\n",
              "    <tr style=\"text-align: right;\">\n",
              "      <th></th>\n",
              "      <th>Year</th>\n",
              "      <th>Position</th>\n",
              "    </tr>\n",
              "  </thead>\n",
              "  <tbody>\n",
              "    <tr>\n",
              "      <th>count</th>\n",
              "      <td>27174.000000</td>\n",
              "      <td>27174.000000</td>\n",
              "    </tr>\n",
              "    <tr>\n",
              "      <th>mean</th>\n",
              "      <td>1964.685803</td>\n",
              "      <td>1.992566</td>\n",
              "    </tr>\n",
              "    <tr>\n",
              "      <th>std</th>\n",
              "      <td>31.590396</td>\n",
              "      <td>0.817469</td>\n",
              "    </tr>\n",
              "    <tr>\n",
              "      <th>min</th>\n",
              "      <td>1896.000000</td>\n",
              "      <td>1.000000</td>\n",
              "    </tr>\n",
              "    <tr>\n",
              "      <th>25%</th>\n",
              "      <td>1936.000000</td>\n",
              "      <td>1.000000</td>\n",
              "    </tr>\n",
              "    <tr>\n",
              "      <th>50%</th>\n",
              "      <td>1972.000000</td>\n",
              "      <td>2.000000</td>\n",
              "    </tr>\n",
              "    <tr>\n",
              "      <th>75%</th>\n",
              "      <td>1992.000000</td>\n",
              "      <td>3.000000</td>\n",
              "    </tr>\n",
              "    <tr>\n",
              "      <th>max</th>\n",
              "      <td>2004.000000</td>\n",
              "      <td>3.000000</td>\n",
              "    </tr>\n",
              "  </tbody>\n",
              "</table>\n",
              "</div>\n",
              "    <div class=\"colab-df-buttons\">\n",
              "\n",
              "  <div class=\"colab-df-container\">\n",
              "    <button class=\"colab-df-convert\" onclick=\"convertToInteractive('df-5947de34-26ea-4394-9b83-99979aca810e')\"\n",
              "            title=\"Convert this dataframe to an interactive table.\"\n",
              "            style=\"display:none;\">\n",
              "\n",
              "  <svg xmlns=\"http://www.w3.org/2000/svg\" height=\"24px\" viewBox=\"0 -960 960 960\">\n",
              "    <path d=\"M120-120v-720h720v720H120Zm60-500h600v-160H180v160Zm220 220h160v-160H400v160Zm0 220h160v-160H400v160ZM180-400h160v-160H180v160Zm440 0h160v-160H620v160ZM180-180h160v-160H180v160Zm440 0h160v-160H620v160Z\"/>\n",
              "  </svg>\n",
              "    </button>\n",
              "\n",
              "  <style>\n",
              "    .colab-df-container {\n",
              "      display:flex;\n",
              "      gap: 12px;\n",
              "    }\n",
              "\n",
              "    .colab-df-convert {\n",
              "      background-color: #E8F0FE;\n",
              "      border: none;\n",
              "      border-radius: 50%;\n",
              "      cursor: pointer;\n",
              "      display: none;\n",
              "      fill: #1967D2;\n",
              "      height: 32px;\n",
              "      padding: 0 0 0 0;\n",
              "      width: 32px;\n",
              "    }\n",
              "\n",
              "    .colab-df-convert:hover {\n",
              "      background-color: #E2EBFA;\n",
              "      box-shadow: 0px 1px 2px rgba(60, 64, 67, 0.3), 0px 1px 3px 1px rgba(60, 64, 67, 0.15);\n",
              "      fill: #174EA6;\n",
              "    }\n",
              "\n",
              "    .colab-df-buttons div {\n",
              "      margin-bottom: 4px;\n",
              "    }\n",
              "\n",
              "    [theme=dark] .colab-df-convert {\n",
              "      background-color: #3B4455;\n",
              "      fill: #D2E3FC;\n",
              "    }\n",
              "\n",
              "    [theme=dark] .colab-df-convert:hover {\n",
              "      background-color: #434B5C;\n",
              "      box-shadow: 0px 1px 3px 1px rgba(0, 0, 0, 0.15);\n",
              "      filter: drop-shadow(0px 1px 2px rgba(0, 0, 0, 0.3));\n",
              "      fill: #FFFFFF;\n",
              "    }\n",
              "  </style>\n",
              "\n",
              "    <script>\n",
              "      const buttonEl =\n",
              "        document.querySelector('#df-5947de34-26ea-4394-9b83-99979aca810e button.colab-df-convert');\n",
              "      buttonEl.style.display =\n",
              "        google.colab.kernel.accessAllowed ? 'block' : 'none';\n",
              "\n",
              "      async function convertToInteractive(key) {\n",
              "        const element = document.querySelector('#df-5947de34-26ea-4394-9b83-99979aca810e');\n",
              "        const dataTable =\n",
              "          await google.colab.kernel.invokeFunction('convertToInteractive',\n",
              "                                                    [key], {});\n",
              "        if (!dataTable) return;\n",
              "\n",
              "        const docLinkHtml = 'Like what you see? Visit the ' +\n",
              "          '<a target=\"_blank\" href=https://colab.research.google.com/notebooks/data_table.ipynb>data table notebook</a>'\n",
              "          + ' to learn more about interactive tables.';\n",
              "        element.innerHTML = '';\n",
              "        dataTable['output_type'] = 'display_data';\n",
              "        await google.colab.output.renderOutput(dataTable, element);\n",
              "        const docLink = document.createElement('div');\n",
              "        docLink.innerHTML = docLinkHtml;\n",
              "        element.appendChild(docLink);\n",
              "      }\n",
              "    </script>\n",
              "  </div>\n",
              "\n",
              "\n",
              "<div id=\"df-668ce120-e30f-4f96-8867-12e7f61b901a\">\n",
              "  <button class=\"colab-df-quickchart\" onclick=\"quickchart('df-668ce120-e30f-4f96-8867-12e7f61b901a')\"\n",
              "            title=\"Suggest charts\"\n",
              "            style=\"display:none;\">\n",
              "\n",
              "<svg xmlns=\"http://www.w3.org/2000/svg\" height=\"24px\"viewBox=\"0 0 24 24\"\n",
              "     width=\"24px\">\n",
              "    <g>\n",
              "        <path d=\"M19 3H5c-1.1 0-2 .9-2 2v14c0 1.1.9 2 2 2h14c1.1 0 2-.9 2-2V5c0-1.1-.9-2-2-2zM9 17H7v-7h2v7zm4 0h-2V7h2v10zm4 0h-2v-4h2v4z\"/>\n",
              "    </g>\n",
              "</svg>\n",
              "  </button>\n",
              "\n",
              "<style>\n",
              "  .colab-df-quickchart {\n",
              "      --bg-color: #E8F0FE;\n",
              "      --fill-color: #1967D2;\n",
              "      --hover-bg-color: #E2EBFA;\n",
              "      --hover-fill-color: #174EA6;\n",
              "      --disabled-fill-color: #AAA;\n",
              "      --disabled-bg-color: #DDD;\n",
              "  }\n",
              "\n",
              "  [theme=dark] .colab-df-quickchart {\n",
              "      --bg-color: #3B4455;\n",
              "      --fill-color: #D2E3FC;\n",
              "      --hover-bg-color: #434B5C;\n",
              "      --hover-fill-color: #FFFFFF;\n",
              "      --disabled-bg-color: #3B4455;\n",
              "      --disabled-fill-color: #666;\n",
              "  }\n",
              "\n",
              "  .colab-df-quickchart {\n",
              "    background-color: var(--bg-color);\n",
              "    border: none;\n",
              "    border-radius: 50%;\n",
              "    cursor: pointer;\n",
              "    display: none;\n",
              "    fill: var(--fill-color);\n",
              "    height: 32px;\n",
              "    padding: 0;\n",
              "    width: 32px;\n",
              "  }\n",
              "\n",
              "  .colab-df-quickchart:hover {\n",
              "    background-color: var(--hover-bg-color);\n",
              "    box-shadow: 0 1px 2px rgba(60, 64, 67, 0.3), 0 1px 3px 1px rgba(60, 64, 67, 0.15);\n",
              "    fill: var(--button-hover-fill-color);\n",
              "  }\n",
              "\n",
              "  .colab-df-quickchart-complete:disabled,\n",
              "  .colab-df-quickchart-complete:disabled:hover {\n",
              "    background-color: var(--disabled-bg-color);\n",
              "    fill: var(--disabled-fill-color);\n",
              "    box-shadow: none;\n",
              "  }\n",
              "\n",
              "  .colab-df-spinner {\n",
              "    border: 2px solid var(--fill-color);\n",
              "    border-color: transparent;\n",
              "    border-bottom-color: var(--fill-color);\n",
              "    animation:\n",
              "      spin 1s steps(1) infinite;\n",
              "  }\n",
              "\n",
              "  @keyframes spin {\n",
              "    0% {\n",
              "      border-color: transparent;\n",
              "      border-bottom-color: var(--fill-color);\n",
              "      border-left-color: var(--fill-color);\n",
              "    }\n",
              "    20% {\n",
              "      border-color: transparent;\n",
              "      border-left-color: var(--fill-color);\n",
              "      border-top-color: var(--fill-color);\n",
              "    }\n",
              "    30% {\n",
              "      border-color: transparent;\n",
              "      border-left-color: var(--fill-color);\n",
              "      border-top-color: var(--fill-color);\n",
              "      border-right-color: var(--fill-color);\n",
              "    }\n",
              "    40% {\n",
              "      border-color: transparent;\n",
              "      border-right-color: var(--fill-color);\n",
              "      border-top-color: var(--fill-color);\n",
              "    }\n",
              "    60% {\n",
              "      border-color: transparent;\n",
              "      border-right-color: var(--fill-color);\n",
              "    }\n",
              "    80% {\n",
              "      border-color: transparent;\n",
              "      border-right-color: var(--fill-color);\n",
              "      border-bottom-color: var(--fill-color);\n",
              "    }\n",
              "    90% {\n",
              "      border-color: transparent;\n",
              "      border-bottom-color: var(--fill-color);\n",
              "    }\n",
              "  }\n",
              "</style>\n",
              "\n",
              "  <script>\n",
              "    async function quickchart(key) {\n",
              "      const quickchartButtonEl =\n",
              "        document.querySelector('#' + key + ' button');\n",
              "      quickchartButtonEl.disabled = true;  // To prevent multiple clicks.\n",
              "      quickchartButtonEl.classList.add('colab-df-spinner');\n",
              "      try {\n",
              "        const charts = await google.colab.kernel.invokeFunction(\n",
              "            'suggestCharts', [key], {});\n",
              "      } catch (error) {\n",
              "        console.error('Error during call to suggestCharts:', error);\n",
              "      }\n",
              "      quickchartButtonEl.classList.remove('colab-df-spinner');\n",
              "      quickchartButtonEl.classList.add('colab-df-quickchart-complete');\n",
              "    }\n",
              "    (() => {\n",
              "      let quickchartButtonEl =\n",
              "        document.querySelector('#df-668ce120-e30f-4f96-8867-12e7f61b901a button');\n",
              "      quickchartButtonEl.style.display =\n",
              "        google.colab.kernel.accessAllowed ? 'block' : 'none';\n",
              "    })();\n",
              "  </script>\n",
              "</div>\n",
              "\n",
              "    </div>\n",
              "  </div>\n"
            ],
            "application/vnd.google.colaboratory.intrinsic+json": {
              "type": "dataframe",
              "summary": "{\n  \"name\": \"oo\",\n  \"rows\": 8,\n  \"fields\": [\n    {\n      \"column\": \"Year\",\n      \"properties\": {\n        \"dtype\": \"number\",\n        \"std\": 9036.969600209351,\n        \"min\": 31.59039557374503,\n        \"max\": 27174.0,\n        \"num_unique_values\": 8,\n        \"samples\": [\n          1964.6858026054317,\n          1972.0,\n          27174.0\n        ],\n        \"semantic_type\": \"\",\n        \"description\": \"\"\n      }\n    },\n    {\n      \"column\": \"Position\",\n      \"properties\": {\n        \"dtype\": \"number\",\n        \"std\": 9606.812870133512,\n        \"min\": 0.8174687731911136,\n        \"max\": 27174.0,\n        \"num_unique_values\": 6,\n        \"samples\": [\n          27174.0,\n          1.9925664237874439,\n          3.0\n        ],\n        \"semantic_type\": \"\",\n        \"description\": \"\"\n      }\n    }\n  ]\n}"
            }
          },
          "metadata": {},
          "execution_count": 21
        }
      ],
      "source": [
        "oo.describe()"
      ]
    },
    {
      "cell_type": "code",
      "execution_count": 22,
      "metadata": {
        "id": "CMuwyzFyWvq4",
        "outputId": "bbbb4e2b-5ce3-4f75-9901-fe8c20b2d73a",
        "colab": {
          "base_uri": "https://localhost:8080/"
        }
      },
      "outputs": [
        {
          "output_type": "execute_result",
          "data": {
            "text/plain": [
              "60"
            ]
          },
          "metadata": {},
          "execution_count": 22
        }
      ],
      "source": [
        "pd.get_option(\"display.max_rows\")"
      ]
    },
    {
      "cell_type": "code",
      "execution_count": null,
      "metadata": {
        "id": "3pZ5LHvnV7TA"
      },
      "outputs": [],
      "source": [
        "pd.set_option(\"display.max_rows\", None)\n",
        "oo"
      ]
    },
    {
      "cell_type": "code",
      "execution_count": null,
      "metadata": {
        "id": "44cpSDDbWEoT"
      },
      "outputs": [],
      "source": [
        "pd.set_option(\"display.max_rows\", 60)\n",
        "oo"
      ]
    },
    {
      "cell_type": "code",
      "source": [
        "pd.get_option(\"display.max_columns\")"
      ],
      "metadata": {
        "id": "6LC6MhhvkJ7w"
      },
      "execution_count": null,
      "outputs": []
    },
    {
      "cell_type": "code",
      "source": [
        "pd.get_option(\"display.width\")"
      ],
      "metadata": {
        "id": "OodXDgN0k3_6"
      },
      "execution_count": null,
      "outputs": []
    },
    {
      "cell_type": "code",
      "source": [
        "pd.set_option(\"display.width\", 100)"
      ],
      "metadata": {
        "id": "3I4G6skCk_-w"
      },
      "execution_count": null,
      "outputs": []
    },
    {
      "cell_type": "markdown",
      "metadata": {
        "id": "vto6K36OcbBY"
      },
      "source": [
        "## Select a Series (column)"
      ]
    },
    {
      "cell_type": "code",
      "source": [
        "!pip install --quiet pandas==2.0.2\n",
        "\n",
        "import pandas as pd\n",
        "from pathlib import Path\n",
        "\n",
        "if not Path(\"olympics_1896_2004.csv\").exists():\n",
        "  !wget https://github.com/jonfernandes/pandas_essential/raw/main/olympics_1896_2004.csv\n",
        "\n",
        "filename = \"olympics_1896_2004.csv\"\n",
        "print(\"Installed all of the necessary files for this section ...\")"
      ],
      "metadata": {
        "id": "tpDuBbu6aqdo"
      },
      "execution_count": null,
      "outputs": []
    },
    {
      "cell_type": "code",
      "execution_count": 45,
      "metadata": {
        "id": "K9h2_rrOiztl",
        "outputId": "c60321a6-fa92-4183-c3f7-b390b5852cc3",
        "colab": {
          "base_uri": "https://localhost:8080/",
          "height": 267
        }
      },
      "outputs": [
        {
          "output_type": "execute_result",
          "data": {
            "text/plain": [
              "       Year      City          Sport     Discipline  \\\n",
              "13126  1972    Munich  Weightlifting  Weightlifting   \n",
              "8838   1952  Helsinki        Sailing        Sailing   \n",
              "14772  1976  Montreal       Handball       Handball   \n",
              "\n",
              "                           Athlete Name  NOC Gender  \\\n",
              "13126                 BETTEMBOURG, Hans  SWE    Men   \n",
              "8838   FIUZA, Joaquim Mascarenhas De M.  POR    Men   \n",
              "14772                 BADOREK, Gabriele  GDR  Women   \n",
              "\n",
              "                                         Event Event Gender   Medal  Position  \n",
              "13126  82.5 - 90kg, total (middle-heavyweight)            M  Bronze         3  \n",
              "8838           two-person keelboat open (Star)            X  Bronze         3  \n",
              "14772                                 handball            W  Silver         2  "
            ],
            "text/html": [
              "\n",
              "  <div id=\"df-178d5336-a6ba-4494-b3c2-0f6760d0261b\" class=\"colab-df-container\">\n",
              "    <div>\n",
              "<style scoped>\n",
              "    .dataframe tbody tr th:only-of-type {\n",
              "        vertical-align: middle;\n",
              "    }\n",
              "\n",
              "    .dataframe tbody tr th {\n",
              "        vertical-align: top;\n",
              "    }\n",
              "\n",
              "    .dataframe thead th {\n",
              "        text-align: right;\n",
              "    }\n",
              "</style>\n",
              "<table border=\"1\" class=\"dataframe\">\n",
              "  <thead>\n",
              "    <tr style=\"text-align: right;\">\n",
              "      <th></th>\n",
              "      <th>Year</th>\n",
              "      <th>City</th>\n",
              "      <th>Sport</th>\n",
              "      <th>Discipline</th>\n",
              "      <th>Athlete Name</th>\n",
              "      <th>NOC</th>\n",
              "      <th>Gender</th>\n",
              "      <th>Event</th>\n",
              "      <th>Event Gender</th>\n",
              "      <th>Medal</th>\n",
              "      <th>Position</th>\n",
              "    </tr>\n",
              "  </thead>\n",
              "  <tbody>\n",
              "    <tr>\n",
              "      <th>13126</th>\n",
              "      <td>1972</td>\n",
              "      <td>Munich</td>\n",
              "      <td>Weightlifting</td>\n",
              "      <td>Weightlifting</td>\n",
              "      <td>BETTEMBOURG, Hans</td>\n",
              "      <td>SWE</td>\n",
              "      <td>Men</td>\n",
              "      <td>82.5 - 90kg, total (middle-heavyweight)</td>\n",
              "      <td>M</td>\n",
              "      <td>Bronze</td>\n",
              "      <td>3</td>\n",
              "    </tr>\n",
              "    <tr>\n",
              "      <th>8838</th>\n",
              "      <td>1952</td>\n",
              "      <td>Helsinki</td>\n",
              "      <td>Sailing</td>\n",
              "      <td>Sailing</td>\n",
              "      <td>FIUZA, Joaquim Mascarenhas De M.</td>\n",
              "      <td>POR</td>\n",
              "      <td>Men</td>\n",
              "      <td>two-person keelboat open (Star)</td>\n",
              "      <td>X</td>\n",
              "      <td>Bronze</td>\n",
              "      <td>3</td>\n",
              "    </tr>\n",
              "    <tr>\n",
              "      <th>14772</th>\n",
              "      <td>1976</td>\n",
              "      <td>Montreal</td>\n",
              "      <td>Handball</td>\n",
              "      <td>Handball</td>\n",
              "      <td>BADOREK, Gabriele</td>\n",
              "      <td>GDR</td>\n",
              "      <td>Women</td>\n",
              "      <td>handball</td>\n",
              "      <td>W</td>\n",
              "      <td>Silver</td>\n",
              "      <td>2</td>\n",
              "    </tr>\n",
              "  </tbody>\n",
              "</table>\n",
              "</div>\n",
              "    <div class=\"colab-df-buttons\">\n",
              "\n",
              "  <div class=\"colab-df-container\">\n",
              "    <button class=\"colab-df-convert\" onclick=\"convertToInteractive('df-178d5336-a6ba-4494-b3c2-0f6760d0261b')\"\n",
              "            title=\"Convert this dataframe to an interactive table.\"\n",
              "            style=\"display:none;\">\n",
              "\n",
              "  <svg xmlns=\"http://www.w3.org/2000/svg\" height=\"24px\" viewBox=\"0 -960 960 960\">\n",
              "    <path d=\"M120-120v-720h720v720H120Zm60-500h600v-160H180v160Zm220 220h160v-160H400v160Zm0 220h160v-160H400v160ZM180-400h160v-160H180v160Zm440 0h160v-160H620v160ZM180-180h160v-160H180v160Zm440 0h160v-160H620v160Z\"/>\n",
              "  </svg>\n",
              "    </button>\n",
              "\n",
              "  <style>\n",
              "    .colab-df-container {\n",
              "      display:flex;\n",
              "      gap: 12px;\n",
              "    }\n",
              "\n",
              "    .colab-df-convert {\n",
              "      background-color: #E8F0FE;\n",
              "      border: none;\n",
              "      border-radius: 50%;\n",
              "      cursor: pointer;\n",
              "      display: none;\n",
              "      fill: #1967D2;\n",
              "      height: 32px;\n",
              "      padding: 0 0 0 0;\n",
              "      width: 32px;\n",
              "    }\n",
              "\n",
              "    .colab-df-convert:hover {\n",
              "      background-color: #E2EBFA;\n",
              "      box-shadow: 0px 1px 2px rgba(60, 64, 67, 0.3), 0px 1px 3px 1px rgba(60, 64, 67, 0.15);\n",
              "      fill: #174EA6;\n",
              "    }\n",
              "\n",
              "    .colab-df-buttons div {\n",
              "      margin-bottom: 4px;\n",
              "    }\n",
              "\n",
              "    [theme=dark] .colab-df-convert {\n",
              "      background-color: #3B4455;\n",
              "      fill: #D2E3FC;\n",
              "    }\n",
              "\n",
              "    [theme=dark] .colab-df-convert:hover {\n",
              "      background-color: #434B5C;\n",
              "      box-shadow: 0px 1px 3px 1px rgba(0, 0, 0, 0.15);\n",
              "      filter: drop-shadow(0px 1px 2px rgba(0, 0, 0, 0.3));\n",
              "      fill: #FFFFFF;\n",
              "    }\n",
              "  </style>\n",
              "\n",
              "    <script>\n",
              "      const buttonEl =\n",
              "        document.querySelector('#df-178d5336-a6ba-4494-b3c2-0f6760d0261b button.colab-df-convert');\n",
              "      buttonEl.style.display =\n",
              "        google.colab.kernel.accessAllowed ? 'block' : 'none';\n",
              "\n",
              "      async function convertToInteractive(key) {\n",
              "        const element = document.querySelector('#df-178d5336-a6ba-4494-b3c2-0f6760d0261b');\n",
              "        const dataTable =\n",
              "          await google.colab.kernel.invokeFunction('convertToInteractive',\n",
              "                                                    [key], {});\n",
              "        if (!dataTable) return;\n",
              "\n",
              "        const docLinkHtml = 'Like what you see? Visit the ' +\n",
              "          '<a target=\"_blank\" href=https://colab.research.google.com/notebooks/data_table.ipynb>data table notebook</a>'\n",
              "          + ' to learn more about interactive tables.';\n",
              "        element.innerHTML = '';\n",
              "        dataTable['output_type'] = 'display_data';\n",
              "        await google.colab.output.renderOutput(dataTable, element);\n",
              "        const docLink = document.createElement('div');\n",
              "        docLink.innerHTML = docLinkHtml;\n",
              "        element.appendChild(docLink);\n",
              "      }\n",
              "    </script>\n",
              "  </div>\n",
              "\n",
              "\n",
              "<div id=\"df-da434875-e535-470f-8c95-bcd183ae0289\">\n",
              "  <button class=\"colab-df-quickchart\" onclick=\"quickchart('df-da434875-e535-470f-8c95-bcd183ae0289')\"\n",
              "            title=\"Suggest charts\"\n",
              "            style=\"display:none;\">\n",
              "\n",
              "<svg xmlns=\"http://www.w3.org/2000/svg\" height=\"24px\"viewBox=\"0 0 24 24\"\n",
              "     width=\"24px\">\n",
              "    <g>\n",
              "        <path d=\"M19 3H5c-1.1 0-2 .9-2 2v14c0 1.1.9 2 2 2h14c1.1 0 2-.9 2-2V5c0-1.1-.9-2-2-2zM9 17H7v-7h2v7zm4 0h-2V7h2v10zm4 0h-2v-4h2v4z\"/>\n",
              "    </g>\n",
              "</svg>\n",
              "  </button>\n",
              "\n",
              "<style>\n",
              "  .colab-df-quickchart {\n",
              "      --bg-color: #E8F0FE;\n",
              "      --fill-color: #1967D2;\n",
              "      --hover-bg-color: #E2EBFA;\n",
              "      --hover-fill-color: #174EA6;\n",
              "      --disabled-fill-color: #AAA;\n",
              "      --disabled-bg-color: #DDD;\n",
              "  }\n",
              "\n",
              "  [theme=dark] .colab-df-quickchart {\n",
              "      --bg-color: #3B4455;\n",
              "      --fill-color: #D2E3FC;\n",
              "      --hover-bg-color: #434B5C;\n",
              "      --hover-fill-color: #FFFFFF;\n",
              "      --disabled-bg-color: #3B4455;\n",
              "      --disabled-fill-color: #666;\n",
              "  }\n",
              "\n",
              "  .colab-df-quickchart {\n",
              "    background-color: var(--bg-color);\n",
              "    border: none;\n",
              "    border-radius: 50%;\n",
              "    cursor: pointer;\n",
              "    display: none;\n",
              "    fill: var(--fill-color);\n",
              "    height: 32px;\n",
              "    padding: 0;\n",
              "    width: 32px;\n",
              "  }\n",
              "\n",
              "  .colab-df-quickchart:hover {\n",
              "    background-color: var(--hover-bg-color);\n",
              "    box-shadow: 0 1px 2px rgba(60, 64, 67, 0.3), 0 1px 3px 1px rgba(60, 64, 67, 0.15);\n",
              "    fill: var(--button-hover-fill-color);\n",
              "  }\n",
              "\n",
              "  .colab-df-quickchart-complete:disabled,\n",
              "  .colab-df-quickchart-complete:disabled:hover {\n",
              "    background-color: var(--disabled-bg-color);\n",
              "    fill: var(--disabled-fill-color);\n",
              "    box-shadow: none;\n",
              "  }\n",
              "\n",
              "  .colab-df-spinner {\n",
              "    border: 2px solid var(--fill-color);\n",
              "    border-color: transparent;\n",
              "    border-bottom-color: var(--fill-color);\n",
              "    animation:\n",
              "      spin 1s steps(1) infinite;\n",
              "  }\n",
              "\n",
              "  @keyframes spin {\n",
              "    0% {\n",
              "      border-color: transparent;\n",
              "      border-bottom-color: var(--fill-color);\n",
              "      border-left-color: var(--fill-color);\n",
              "    }\n",
              "    20% {\n",
              "      border-color: transparent;\n",
              "      border-left-color: var(--fill-color);\n",
              "      border-top-color: var(--fill-color);\n",
              "    }\n",
              "    30% {\n",
              "      border-color: transparent;\n",
              "      border-left-color: var(--fill-color);\n",
              "      border-top-color: var(--fill-color);\n",
              "      border-right-color: var(--fill-color);\n",
              "    }\n",
              "    40% {\n",
              "      border-color: transparent;\n",
              "      border-right-color: var(--fill-color);\n",
              "      border-top-color: var(--fill-color);\n",
              "    }\n",
              "    60% {\n",
              "      border-color: transparent;\n",
              "      border-right-color: var(--fill-color);\n",
              "    }\n",
              "    80% {\n",
              "      border-color: transparent;\n",
              "      border-right-color: var(--fill-color);\n",
              "      border-bottom-color: var(--fill-color);\n",
              "    }\n",
              "    90% {\n",
              "      border-color: transparent;\n",
              "      border-bottom-color: var(--fill-color);\n",
              "    }\n",
              "  }\n",
              "</style>\n",
              "\n",
              "  <script>\n",
              "    async function quickchart(key) {\n",
              "      const quickchartButtonEl =\n",
              "        document.querySelector('#' + key + ' button');\n",
              "      quickchartButtonEl.disabled = true;  // To prevent multiple clicks.\n",
              "      quickchartButtonEl.classList.add('colab-df-spinner');\n",
              "      try {\n",
              "        const charts = await google.colab.kernel.invokeFunction(\n",
              "            'suggestCharts', [key], {});\n",
              "      } catch (error) {\n",
              "        console.error('Error during call to suggestCharts:', error);\n",
              "      }\n",
              "      quickchartButtonEl.classList.remove('colab-df-spinner');\n",
              "      quickchartButtonEl.classList.add('colab-df-quickchart-complete');\n",
              "    }\n",
              "    (() => {\n",
              "      let quickchartButtonEl =\n",
              "        document.querySelector('#df-da434875-e535-470f-8c95-bcd183ae0289 button');\n",
              "      quickchartButtonEl.style.display =\n",
              "        google.colab.kernel.accessAllowed ? 'block' : 'none';\n",
              "    })();\n",
              "  </script>\n",
              "</div>\n",
              "\n",
              "    </div>\n",
              "  </div>\n"
            ],
            "application/vnd.google.colaboratory.intrinsic+json": {
              "type": "dataframe",
              "summary": "{\n  \"name\": \"oo\",\n  \"rows\": 3,\n  \"fields\": [\n    {\n      \"column\": \"Year\",\n      \"properties\": {\n        \"dtype\": \"number\",\n        \"std\": 12,\n        \"min\": 1952,\n        \"max\": 1976,\n        \"num_unique_values\": 3,\n        \"samples\": [\n          1972,\n          1952,\n          1976\n        ],\n        \"semantic_type\": \"\",\n        \"description\": \"\"\n      }\n    },\n    {\n      \"column\": \"City\",\n      \"properties\": {\n        \"dtype\": \"string\",\n        \"num_unique_values\": 3,\n        \"samples\": [\n          \"Munich\",\n          \"Helsinki\",\n          \"Montreal\"\n        ],\n        \"semantic_type\": \"\",\n        \"description\": \"\"\n      }\n    },\n    {\n      \"column\": \"Sport\",\n      \"properties\": {\n        \"dtype\": \"string\",\n        \"num_unique_values\": 3,\n        \"samples\": [\n          \"Weightlifting\",\n          \"Sailing\",\n          \"Handball\"\n        ],\n        \"semantic_type\": \"\",\n        \"description\": \"\"\n      }\n    },\n    {\n      \"column\": \"Discipline\",\n      \"properties\": {\n        \"dtype\": \"string\",\n        \"num_unique_values\": 3,\n        \"samples\": [\n          \"Weightlifting\",\n          \"Sailing\",\n          \"Handball\"\n        ],\n        \"semantic_type\": \"\",\n        \"description\": \"\"\n      }\n    },\n    {\n      \"column\": \"Athlete Name\",\n      \"properties\": {\n        \"dtype\": \"string\",\n        \"num_unique_values\": 3,\n        \"samples\": [\n          \"BETTEMBOURG, Hans\",\n          \"FIUZA, Joaquim Mascarenhas De M.\",\n          \"BADOREK, Gabriele\"\n        ],\n        \"semantic_type\": \"\",\n        \"description\": \"\"\n      }\n    },\n    {\n      \"column\": \"NOC\",\n      \"properties\": {\n        \"dtype\": \"string\",\n        \"num_unique_values\": 3,\n        \"samples\": [\n          \"SWE\",\n          \"POR\",\n          \"GDR\"\n        ],\n        \"semantic_type\": \"\",\n        \"description\": \"\"\n      }\n    },\n    {\n      \"column\": \"Gender\",\n      \"properties\": {\n        \"dtype\": \"string\",\n        \"num_unique_values\": 2,\n        \"samples\": [\n          \"Women\",\n          \"Men\"\n        ],\n        \"semantic_type\": \"\",\n        \"description\": \"\"\n      }\n    },\n    {\n      \"column\": \"Event\",\n      \"properties\": {\n        \"dtype\": \"string\",\n        \"num_unique_values\": 3,\n        \"samples\": [\n          \"82.5 - 90kg, total (middle-heavyweight)\",\n          \"two-person keelboat open (Star)\"\n        ],\n        \"semantic_type\": \"\",\n        \"description\": \"\"\n      }\n    },\n    {\n      \"column\": \"Event Gender\",\n      \"properties\": {\n        \"dtype\": \"string\",\n        \"num_unique_values\": 3,\n        \"samples\": [\n          \"M\",\n          \"X\"\n        ],\n        \"semantic_type\": \"\",\n        \"description\": \"\"\n      }\n    },\n    {\n      \"column\": \"Medal\",\n      \"properties\": {\n        \"dtype\": \"string\",\n        \"num_unique_values\": 2,\n        \"samples\": [\n          \"Silver\",\n          \"Bronze\"\n        ],\n        \"semantic_type\": \"\",\n        \"description\": \"\"\n      }\n    },\n    {\n      \"column\": \"Position\",\n      \"properties\": {\n        \"dtype\": \"number\",\n        \"std\": 0,\n        \"min\": 2,\n        \"max\": 3,\n        \"num_unique_values\": 2,\n        \"samples\": [\n          2,\n          3\n        ],\n        \"semantic_type\": \"\",\n        \"description\": \"\"\n      }\n    }\n  ]\n}"
            }
          },
          "metadata": {},
          "execution_count": 45
        }
      ],
      "source": [
        "oo = pd.read_csv(filename, skiprows=5)\n",
        "oo.sample(3)"
      ]
    },
    {
      "cell_type": "code",
      "execution_count": 23,
      "metadata": {
        "id": "SYDcU5ydfcOA",
        "outputId": "c961a3f8-3676-4c19-de5b-54a8a2bafab3",
        "colab": {
          "base_uri": "https://localhost:8080/",
          "height": 203
        }
      },
      "outputs": [
        {
          "output_type": "execute_result",
          "data": {
            "text/plain": [
              "pandas.core.frame.DataFrame"
            ],
            "text/html": [
              "<div style=\"max-width:800px; border: 1px solid var(--colab-border-color);\"><style>\n",
              "      pre.function-repr-contents {\n",
              "        overflow-x: auto;\n",
              "        padding: 8px 12px;\n",
              "        max-height: 500px;\n",
              "      }\n",
              "\n",
              "      pre.function-repr-contents.function-repr-contents-collapsed {\n",
              "        cursor: pointer;\n",
              "        max-height: 100px;\n",
              "      }\n",
              "    </style>\n",
              "    <pre style=\"white-space: initial; background:\n",
              "         var(--colab-secondary-surface-color); padding: 8px 12px;\n",
              "         border-bottom: 1px solid var(--colab-border-color);\"><b>pandas.core.frame.DataFrame</b><br/>def __init__(data=None, index: Axes | None=None, columns: Axes | None=None, dtype: Dtype | None=None, copy: bool | None=None) -&gt; None</pre><pre class=\"function-repr-contents function-repr-contents-collapsed\" style=\"\"><a class=\"filepath\" style=\"display:none\" href=\"#\">/usr/local/lib/python3.11/dist-packages/pandas/core/frame.py</a>Two-dimensional, size-mutable, potentially heterogeneous tabular data.\n",
              "\n",
              "Data structure also contains labeled axes (rows and columns).\n",
              "Arithmetic operations align on both row and column labels. Can be\n",
              "thought of as a dict-like container for Series objects. The primary\n",
              "pandas data structure.\n",
              "\n",
              "Parameters\n",
              "----------\n",
              "data : ndarray (structured or homogeneous), Iterable, dict, or DataFrame\n",
              "    Dict can contain Series, arrays, constants, dataclass or list-like objects. If\n",
              "    data is a dict, column order follows insertion-order. If a dict contains Series\n",
              "    which have an index defined, it is aligned by its index. This alignment also\n",
              "    occurs if data is a Series or a DataFrame itself. Alignment is done on\n",
              "    Series/DataFrame inputs.\n",
              "\n",
              "    If data is a list of dicts, column order follows insertion-order.\n",
              "\n",
              "index : Index or array-like\n",
              "    Index to use for resulting frame. Will default to RangeIndex if\n",
              "    no indexing information part of input data and no index provided.\n",
              "columns : Index or array-like\n",
              "    Column labels to use for resulting frame when data does not have them,\n",
              "    defaulting to RangeIndex(0, 1, 2, ..., n). If data contains column labels,\n",
              "    will perform column selection instead.\n",
              "dtype : dtype, default None\n",
              "    Data type to force. Only a single dtype is allowed. If None, infer.\n",
              "copy : bool or None, default None\n",
              "    Copy data from inputs.\n",
              "    For dict data, the default of None behaves like ``copy=True``.  For DataFrame\n",
              "    or 2d ndarray input, the default of None behaves like ``copy=False``.\n",
              "    If data is a dict containing one or more Series (possibly of different dtypes),\n",
              "    ``copy=False`` will ensure that these inputs are not copied.\n",
              "\n",
              "    .. versionchanged:: 1.3.0\n",
              "\n",
              "See Also\n",
              "--------\n",
              "DataFrame.from_records : Constructor from tuples, also record arrays.\n",
              "DataFrame.from_dict : From dicts of Series, arrays, or dicts.\n",
              "read_csv : Read a comma-separated values (csv) file into DataFrame.\n",
              "read_table : Read general delimited file into DataFrame.\n",
              "read_clipboard : Read text from clipboard into DataFrame.\n",
              "\n",
              "Notes\n",
              "-----\n",
              "Please reference the :ref:`User Guide &lt;basics.dataframe&gt;` for more information.\n",
              "\n",
              "Examples\n",
              "--------\n",
              "Constructing DataFrame from a dictionary.\n",
              "\n",
              "&gt;&gt;&gt; d = {&#x27;col1&#x27;: [1, 2], &#x27;col2&#x27;: [3, 4]}\n",
              "&gt;&gt;&gt; df = pd.DataFrame(data=d)\n",
              "&gt;&gt;&gt; df\n",
              "   col1  col2\n",
              "0     1     3\n",
              "1     2     4\n",
              "\n",
              "Notice that the inferred dtype is int64.\n",
              "\n",
              "&gt;&gt;&gt; df.dtypes\n",
              "col1    int64\n",
              "col2    int64\n",
              "dtype: object\n",
              "\n",
              "To enforce a single dtype:\n",
              "\n",
              "&gt;&gt;&gt; df = pd.DataFrame(data=d, dtype=np.int8)\n",
              "&gt;&gt;&gt; df.dtypes\n",
              "col1    int8\n",
              "col2    int8\n",
              "dtype: object\n",
              "\n",
              "Constructing DataFrame from a dictionary including Series:\n",
              "\n",
              "&gt;&gt;&gt; d = {&#x27;col1&#x27;: [0, 1, 2, 3], &#x27;col2&#x27;: pd.Series([2, 3], index=[2, 3])}\n",
              "&gt;&gt;&gt; pd.DataFrame(data=d, index=[0, 1, 2, 3])\n",
              "   col1  col2\n",
              "0     0   NaN\n",
              "1     1   NaN\n",
              "2     2   2.0\n",
              "3     3   3.0\n",
              "\n",
              "Constructing DataFrame from numpy ndarray:\n",
              "\n",
              "&gt;&gt;&gt; df2 = pd.DataFrame(np.array([[1, 2, 3], [4, 5, 6], [7, 8, 9]]),\n",
              "...                    columns=[&#x27;a&#x27;, &#x27;b&#x27;, &#x27;c&#x27;])\n",
              "&gt;&gt;&gt; df2\n",
              "   a  b  c\n",
              "0  1  2  3\n",
              "1  4  5  6\n",
              "2  7  8  9\n",
              "\n",
              "Constructing DataFrame from a numpy ndarray that has labeled columns:\n",
              "\n",
              "&gt;&gt;&gt; data = np.array([(1, 2, 3), (4, 5, 6), (7, 8, 9)],\n",
              "...                 dtype=[(&quot;a&quot;, &quot;i4&quot;), (&quot;b&quot;, &quot;i4&quot;), (&quot;c&quot;, &quot;i4&quot;)])\n",
              "&gt;&gt;&gt; df3 = pd.DataFrame(data, columns=[&#x27;c&#x27;, &#x27;a&#x27;])\n",
              "...\n",
              "&gt;&gt;&gt; df3\n",
              "   c  a\n",
              "0  3  1\n",
              "1  6  4\n",
              "2  9  7\n",
              "\n",
              "Constructing DataFrame from dataclass:\n",
              "\n",
              "&gt;&gt;&gt; from dataclasses import make_dataclass\n",
              "&gt;&gt;&gt; Point = make_dataclass(&quot;Point&quot;, [(&quot;x&quot;, int), (&quot;y&quot;, int)])\n",
              "&gt;&gt;&gt; pd.DataFrame([Point(0, 0), Point(0, 3), Point(2, 3)])\n",
              "   x  y\n",
              "0  0  0\n",
              "1  0  3\n",
              "2  2  3\n",
              "\n",
              "Constructing DataFrame from Series/DataFrame:\n",
              "\n",
              "&gt;&gt;&gt; ser = pd.Series([1, 2, 3], index=[&quot;a&quot;, &quot;b&quot;, &quot;c&quot;])\n",
              "&gt;&gt;&gt; df = pd.DataFrame(data=ser, index=[&quot;a&quot;, &quot;c&quot;])\n",
              "&gt;&gt;&gt; df\n",
              "   0\n",
              "a  1\n",
              "c  3\n",
              "\n",
              "&gt;&gt;&gt; df1 = pd.DataFrame([1, 2, 3], index=[&quot;a&quot;, &quot;b&quot;, &quot;c&quot;], columns=[&quot;x&quot;])\n",
              "&gt;&gt;&gt; df2 = pd.DataFrame(data=df1, index=[&quot;a&quot;, &quot;c&quot;])\n",
              "&gt;&gt;&gt; df2\n",
              "   x\n",
              "a  1\n",
              "c  3</pre>\n",
              "      <script>\n",
              "      if (google.colab.kernel.accessAllowed && google.colab.files && google.colab.files.view) {\n",
              "        for (const element of document.querySelectorAll('.filepath')) {\n",
              "          element.style.display = 'block'\n",
              "          element.onclick = (event) => {\n",
              "            event.preventDefault();\n",
              "            event.stopPropagation();\n",
              "            google.colab.files.view(element.textContent, 509);\n",
              "          };\n",
              "        }\n",
              "      }\n",
              "      for (const element of document.querySelectorAll('.function-repr-contents')) {\n",
              "        element.onclick = (event) => {\n",
              "          event.preventDefault();\n",
              "          event.stopPropagation();\n",
              "          element.classList.toggle('function-repr-contents-collapsed');\n",
              "        };\n",
              "      }\n",
              "      </script>\n",
              "      </div>"
            ]
          },
          "metadata": {},
          "execution_count": 23
        }
      ],
      "source": [
        "type(oo)"
      ]
    },
    {
      "cell_type": "code",
      "execution_count": null,
      "metadata": {
        "id": "QGyLHeXechHL"
      },
      "outputs": [],
      "source": [
        "oo[\"Discipline\"]"
      ]
    },
    {
      "cell_type": "code",
      "execution_count": null,
      "metadata": {
        "id": "03mViRO_jVle"
      },
      "outputs": [],
      "source": [
        "oo['Discipline']"
      ]
    },
    {
      "cell_type": "code",
      "execution_count": null,
      "metadata": {
        "id": "fHkIb8rBchHM"
      },
      "outputs": [],
      "source": [
        "#oo[\"discipline\"]"
      ]
    },
    {
      "cell_type": "code",
      "execution_count": 24,
      "metadata": {
        "id": "YAftK9Qvj9nv",
        "outputId": "f86559c1-d02b-46ad-db33-d01b65d7dbed",
        "colab": {
          "base_uri": "https://localhost:8080/",
          "height": 203
        }
      },
      "outputs": [
        {
          "output_type": "execute_result",
          "data": {
            "text/plain": [
              "pandas.core.series.Series"
            ],
            "text/html": [
              "<div style=\"max-width:800px; border: 1px solid var(--colab-border-color);\"><style>\n",
              "      pre.function-repr-contents {\n",
              "        overflow-x: auto;\n",
              "        padding: 8px 12px;\n",
              "        max-height: 500px;\n",
              "      }\n",
              "\n",
              "      pre.function-repr-contents.function-repr-contents-collapsed {\n",
              "        cursor: pointer;\n",
              "        max-height: 100px;\n",
              "      }\n",
              "    </style>\n",
              "    <pre style=\"white-space: initial; background:\n",
              "         var(--colab-secondary-surface-color); padding: 8px 12px;\n",
              "         border-bottom: 1px solid var(--colab-border-color);\"><b>pandas.core.series.Series</b><br/>def __init__(data=None, index=None, dtype: Dtype | None=None, name=None, copy: bool | None=None, fastpath: bool | lib.NoDefault=lib.no_default) -&gt; None</pre><pre class=\"function-repr-contents function-repr-contents-collapsed\" style=\"\"><a class=\"filepath\" style=\"display:none\" href=\"#\">/usr/local/lib/python3.11/dist-packages/pandas/core/series.py</a>One-dimensional ndarray with axis labels (including time series).\n",
              "\n",
              "Labels need not be unique but must be a hashable type. The object\n",
              "supports both integer- and label-based indexing and provides a host of\n",
              "methods for performing operations involving the index. Statistical\n",
              "methods from ndarray have been overridden to automatically exclude\n",
              "missing data (currently represented as NaN).\n",
              "\n",
              "Operations between Series (+, -, /, \\*, \\*\\*) align values based on their\n",
              "associated index values-- they need not be the same length. The result\n",
              "index will be the sorted union of the two indexes.\n",
              "\n",
              "Parameters\n",
              "----------\n",
              "data : array-like, Iterable, dict, or scalar value\n",
              "    Contains data stored in Series. If data is a dict, argument order is\n",
              "    maintained.\n",
              "index : array-like or Index (1d)\n",
              "    Values must be hashable and have the same length as `data`.\n",
              "    Non-unique index values are allowed. Will default to\n",
              "    RangeIndex (0, 1, 2, ..., n) if not provided. If data is dict-like\n",
              "    and index is None, then the keys in the data are used as the index. If the\n",
              "    index is not None, the resulting Series is reindexed with the index values.\n",
              "dtype : str, numpy.dtype, or ExtensionDtype, optional\n",
              "    Data type for the output Series. If not specified, this will be\n",
              "    inferred from `data`.\n",
              "    See the :ref:`user guide &lt;basics.dtypes&gt;` for more usages.\n",
              "name : Hashable, default None\n",
              "    The name to give to the Series.\n",
              "copy : bool, default False\n",
              "    Copy input data. Only affects Series or 1d ndarray input. See examples.\n",
              "\n",
              "Notes\n",
              "-----\n",
              "Please reference the :ref:`User Guide &lt;basics.series&gt;` for more information.\n",
              "\n",
              "Examples\n",
              "--------\n",
              "Constructing Series from a dictionary with an Index specified\n",
              "\n",
              "&gt;&gt;&gt; d = {&#x27;a&#x27;: 1, &#x27;b&#x27;: 2, &#x27;c&#x27;: 3}\n",
              "&gt;&gt;&gt; ser = pd.Series(data=d, index=[&#x27;a&#x27;, &#x27;b&#x27;, &#x27;c&#x27;])\n",
              "&gt;&gt;&gt; ser\n",
              "a   1\n",
              "b   2\n",
              "c   3\n",
              "dtype: int64\n",
              "\n",
              "The keys of the dictionary match with the Index values, hence the Index\n",
              "values have no effect.\n",
              "\n",
              "&gt;&gt;&gt; d = {&#x27;a&#x27;: 1, &#x27;b&#x27;: 2, &#x27;c&#x27;: 3}\n",
              "&gt;&gt;&gt; ser = pd.Series(data=d, index=[&#x27;x&#x27;, &#x27;y&#x27;, &#x27;z&#x27;])\n",
              "&gt;&gt;&gt; ser\n",
              "x   NaN\n",
              "y   NaN\n",
              "z   NaN\n",
              "dtype: float64\n",
              "\n",
              "Note that the Index is first build with the keys from the dictionary.\n",
              "After this the Series is reindexed with the given Index values, hence we\n",
              "get all NaN as a result.\n",
              "\n",
              "Constructing Series from a list with `copy=False`.\n",
              "\n",
              "&gt;&gt;&gt; r = [1, 2]\n",
              "&gt;&gt;&gt; ser = pd.Series(r, copy=False)\n",
              "&gt;&gt;&gt; ser.iloc[0] = 999\n",
              "&gt;&gt;&gt; r\n",
              "[1, 2]\n",
              "&gt;&gt;&gt; ser\n",
              "0    999\n",
              "1      2\n",
              "dtype: int64\n",
              "\n",
              "Due to input data type the Series has a `copy` of\n",
              "the original data even though `copy=False`, so\n",
              "the data is unchanged.\n",
              "\n",
              "Constructing Series from a 1d ndarray with `copy=False`.\n",
              "\n",
              "&gt;&gt;&gt; r = np.array([1, 2])\n",
              "&gt;&gt;&gt; ser = pd.Series(r, copy=False)\n",
              "&gt;&gt;&gt; ser.iloc[0] = 999\n",
              "&gt;&gt;&gt; r\n",
              "array([999,   2])\n",
              "&gt;&gt;&gt; ser\n",
              "0    999\n",
              "1      2\n",
              "dtype: int64\n",
              "\n",
              "Due to input data type the Series has a `view` on\n",
              "the original data, so\n",
              "the data is changed as well.</pre>\n",
              "      <script>\n",
              "      if (google.colab.kernel.accessAllowed && google.colab.files && google.colab.files.view) {\n",
              "        for (const element of document.querySelectorAll('.filepath')) {\n",
              "          element.style.display = 'block'\n",
              "          element.onclick = (event) => {\n",
              "            event.preventDefault();\n",
              "            event.stopPropagation();\n",
              "            google.colab.files.view(element.textContent, 263);\n",
              "          };\n",
              "        }\n",
              "      }\n",
              "      for (const element of document.querySelectorAll('.function-repr-contents')) {\n",
              "        element.onclick = (event) => {\n",
              "          event.preventDefault();\n",
              "          event.stopPropagation();\n",
              "          element.classList.toggle('function-repr-contents-collapsed');\n",
              "        };\n",
              "      }\n",
              "      </script>\n",
              "      </div>"
            ]
          },
          "metadata": {},
          "execution_count": 24
        }
      ],
      "source": [
        "type(oo[\"Discipline\"])"
      ]
    },
    {
      "cell_type": "code",
      "execution_count": null,
      "metadata": {
        "id": "yKj8_1ZPchHM"
      },
      "outputs": [],
      "source": [
        "oo.Discipline"
      ]
    },
    {
      "cell_type": "code",
      "execution_count": null,
      "metadata": {
        "id": "VbDpqF7ajkRz"
      },
      "outputs": [],
      "source": [
        "oo.columns"
      ]
    },
    {
      "cell_type": "code",
      "execution_count": null,
      "metadata": {
        "id": "c_g6y8_ochHM"
      },
      "outputs": [],
      "source": [
        "oo[\"Athlete Name\"]"
      ]
    },
    {
      "cell_type": "code",
      "execution_count": null,
      "metadata": {
        "id": "LUj-Fr0ichHM"
      },
      "outputs": [],
      "source": [
        "#oo.Athlete Name"
      ]
    },
    {
      "cell_type": "code",
      "source": [
        "oo.sample(3)"
      ],
      "metadata": {
        "id": "MRnsL11AoJJY"
      },
      "execution_count": null,
      "outputs": []
    },
    {
      "cell_type": "code",
      "source": [
        "oo.Year.unique()"
      ],
      "metadata": {
        "id": "yRHMYUlbnvR9"
      },
      "execution_count": null,
      "outputs": []
    },
    {
      "cell_type": "code",
      "source": [
        "oo.Year.unique?"
      ],
      "metadata": {
        "id": "GGX0bbMNoRNa"
      },
      "execution_count": 25,
      "outputs": []
    },
    {
      "cell_type": "code",
      "source": [
        "oo.Sport.unique()"
      ],
      "metadata": {
        "id": "C6oOf_7Zn9eS"
      },
      "execution_count": null,
      "outputs": []
    },
    {
      "cell_type": "code",
      "source": [
        "oo.sample(3)"
      ],
      "metadata": {
        "id": "_7eyeVfEoXJg"
      },
      "execution_count": null,
      "outputs": []
    },
    {
      "cell_type": "code",
      "source": [
        "oo.Year.value_counts()"
      ],
      "metadata": {
        "id": "HlLqBDkaodQx",
        "collapsed": true,
        "outputId": "ae910cee-c1a7-400a-8139-359e74d0d9d7",
        "colab": {
          "base_uri": "https://localhost:8080/",
          "height": 899
        }
      },
      "execution_count": 26,
      "outputs": [
        {
          "output_type": "execute_result",
          "data": {
            "text/plain": [
              "Year\n",
              "2000    2015\n",
              "2004    1998\n",
              "1996    1859\n",
              "1992    1705\n",
              "1988    1546\n",
              "1984    1459\n",
              "1980    1387\n",
              "1976    1305\n",
              "1920    1298\n",
              "1972    1185\n",
              "1968    1031\n",
              "1964    1010\n",
              "1952     889\n",
              "1956     885\n",
              "1912     885\n",
              "1924     884\n",
              "1960     882\n",
              "1936     875\n",
              "1948     814\n",
              "1908     804\n",
              "1928     710\n",
              "1932     615\n",
              "1900     512\n",
              "1904     470\n",
              "1896     151\n",
              "Name: count, dtype: int64"
            ],
            "text/html": [
              "<div>\n",
              "<style scoped>\n",
              "    .dataframe tbody tr th:only-of-type {\n",
              "        vertical-align: middle;\n",
              "    }\n",
              "\n",
              "    .dataframe tbody tr th {\n",
              "        vertical-align: top;\n",
              "    }\n",
              "\n",
              "    .dataframe thead th {\n",
              "        text-align: right;\n",
              "    }\n",
              "</style>\n",
              "<table border=\"1\" class=\"dataframe\">\n",
              "  <thead>\n",
              "    <tr style=\"text-align: right;\">\n",
              "      <th></th>\n",
              "      <th>count</th>\n",
              "    </tr>\n",
              "    <tr>\n",
              "      <th>Year</th>\n",
              "      <th></th>\n",
              "    </tr>\n",
              "  </thead>\n",
              "  <tbody>\n",
              "    <tr>\n",
              "      <th>2000</th>\n",
              "      <td>2015</td>\n",
              "    </tr>\n",
              "    <tr>\n",
              "      <th>2004</th>\n",
              "      <td>1998</td>\n",
              "    </tr>\n",
              "    <tr>\n",
              "      <th>1996</th>\n",
              "      <td>1859</td>\n",
              "    </tr>\n",
              "    <tr>\n",
              "      <th>1992</th>\n",
              "      <td>1705</td>\n",
              "    </tr>\n",
              "    <tr>\n",
              "      <th>1988</th>\n",
              "      <td>1546</td>\n",
              "    </tr>\n",
              "    <tr>\n",
              "      <th>1984</th>\n",
              "      <td>1459</td>\n",
              "    </tr>\n",
              "    <tr>\n",
              "      <th>1980</th>\n",
              "      <td>1387</td>\n",
              "    </tr>\n",
              "    <tr>\n",
              "      <th>1976</th>\n",
              "      <td>1305</td>\n",
              "    </tr>\n",
              "    <tr>\n",
              "      <th>1920</th>\n",
              "      <td>1298</td>\n",
              "    </tr>\n",
              "    <tr>\n",
              "      <th>1972</th>\n",
              "      <td>1185</td>\n",
              "    </tr>\n",
              "    <tr>\n",
              "      <th>1968</th>\n",
              "      <td>1031</td>\n",
              "    </tr>\n",
              "    <tr>\n",
              "      <th>1964</th>\n",
              "      <td>1010</td>\n",
              "    </tr>\n",
              "    <tr>\n",
              "      <th>1952</th>\n",
              "      <td>889</td>\n",
              "    </tr>\n",
              "    <tr>\n",
              "      <th>1956</th>\n",
              "      <td>885</td>\n",
              "    </tr>\n",
              "    <tr>\n",
              "      <th>1912</th>\n",
              "      <td>885</td>\n",
              "    </tr>\n",
              "    <tr>\n",
              "      <th>1924</th>\n",
              "      <td>884</td>\n",
              "    </tr>\n",
              "    <tr>\n",
              "      <th>1960</th>\n",
              "      <td>882</td>\n",
              "    </tr>\n",
              "    <tr>\n",
              "      <th>1936</th>\n",
              "      <td>875</td>\n",
              "    </tr>\n",
              "    <tr>\n",
              "      <th>1948</th>\n",
              "      <td>814</td>\n",
              "    </tr>\n",
              "    <tr>\n",
              "      <th>1908</th>\n",
              "      <td>804</td>\n",
              "    </tr>\n",
              "    <tr>\n",
              "      <th>1928</th>\n",
              "      <td>710</td>\n",
              "    </tr>\n",
              "    <tr>\n",
              "      <th>1932</th>\n",
              "      <td>615</td>\n",
              "    </tr>\n",
              "    <tr>\n",
              "      <th>1900</th>\n",
              "      <td>512</td>\n",
              "    </tr>\n",
              "    <tr>\n",
              "      <th>1904</th>\n",
              "      <td>470</td>\n",
              "    </tr>\n",
              "    <tr>\n",
              "      <th>1896</th>\n",
              "      <td>151</td>\n",
              "    </tr>\n",
              "  </tbody>\n",
              "</table>\n",
              "</div><br><label><b>dtype:</b> int64</label>"
            ]
          },
          "metadata": {},
          "execution_count": 26
        }
      ]
    },
    {
      "cell_type": "code",
      "source": [
        "oo.Year.value_counts?"
      ],
      "metadata": {
        "id": "4bDPb1J8o-8p"
      },
      "execution_count": null,
      "outputs": []
    },
    {
      "cell_type": "code",
      "source": [
        "oo.Year.value_counts(normalize=True)"
      ],
      "metadata": {
        "id": "VH4wKXONpYwh",
        "outputId": "5949ab40-2201-4202-91f5-0badebf65efb",
        "colab": {
          "base_uri": "https://localhost:8080/",
          "height": 899
        }
      },
      "execution_count": 30,
      "outputs": [
        {
          "output_type": "execute_result",
          "data": {
            "text/plain": [
              "Year\n",
              "2000    0.074152\n",
              "2004    0.073526\n",
              "1996    0.068411\n",
              "1992    0.062744\n",
              "1988    0.056893\n",
              "1984    0.053691\n",
              "1980    0.051041\n",
              "1976    0.048024\n",
              "1920    0.047766\n",
              "1972    0.043608\n",
              "1968    0.037941\n",
              "1964    0.037168\n",
              "1952    0.032715\n",
              "1956    0.032568\n",
              "1912    0.032568\n",
              "1924    0.032531\n",
              "1960    0.032457\n",
              "1936    0.032200\n",
              "1948    0.029955\n",
              "1908    0.029587\n",
              "1928    0.026128\n",
              "1932    0.022632\n",
              "1900    0.018842\n",
              "1904    0.017296\n",
              "1896    0.005557\n",
              "Name: proportion, dtype: float64"
            ],
            "text/html": [
              "<div>\n",
              "<style scoped>\n",
              "    .dataframe tbody tr th:only-of-type {\n",
              "        vertical-align: middle;\n",
              "    }\n",
              "\n",
              "    .dataframe tbody tr th {\n",
              "        vertical-align: top;\n",
              "    }\n",
              "\n",
              "    .dataframe thead th {\n",
              "        text-align: right;\n",
              "    }\n",
              "</style>\n",
              "<table border=\"1\" class=\"dataframe\">\n",
              "  <thead>\n",
              "    <tr style=\"text-align: right;\">\n",
              "      <th></th>\n",
              "      <th>proportion</th>\n",
              "    </tr>\n",
              "    <tr>\n",
              "      <th>Year</th>\n",
              "      <th></th>\n",
              "    </tr>\n",
              "  </thead>\n",
              "  <tbody>\n",
              "    <tr>\n",
              "      <th>2000</th>\n",
              "      <td>0.074152</td>\n",
              "    </tr>\n",
              "    <tr>\n",
              "      <th>2004</th>\n",
              "      <td>0.073526</td>\n",
              "    </tr>\n",
              "    <tr>\n",
              "      <th>1996</th>\n",
              "      <td>0.068411</td>\n",
              "    </tr>\n",
              "    <tr>\n",
              "      <th>1992</th>\n",
              "      <td>0.062744</td>\n",
              "    </tr>\n",
              "    <tr>\n",
              "      <th>1988</th>\n",
              "      <td>0.056893</td>\n",
              "    </tr>\n",
              "    <tr>\n",
              "      <th>1984</th>\n",
              "      <td>0.053691</td>\n",
              "    </tr>\n",
              "    <tr>\n",
              "      <th>1980</th>\n",
              "      <td>0.051041</td>\n",
              "    </tr>\n",
              "    <tr>\n",
              "      <th>1976</th>\n",
              "      <td>0.048024</td>\n",
              "    </tr>\n",
              "    <tr>\n",
              "      <th>1920</th>\n",
              "      <td>0.047766</td>\n",
              "    </tr>\n",
              "    <tr>\n",
              "      <th>1972</th>\n",
              "      <td>0.043608</td>\n",
              "    </tr>\n",
              "    <tr>\n",
              "      <th>1968</th>\n",
              "      <td>0.037941</td>\n",
              "    </tr>\n",
              "    <tr>\n",
              "      <th>1964</th>\n",
              "      <td>0.037168</td>\n",
              "    </tr>\n",
              "    <tr>\n",
              "      <th>1952</th>\n",
              "      <td>0.032715</td>\n",
              "    </tr>\n",
              "    <tr>\n",
              "      <th>1956</th>\n",
              "      <td>0.032568</td>\n",
              "    </tr>\n",
              "    <tr>\n",
              "      <th>1912</th>\n",
              "      <td>0.032568</td>\n",
              "    </tr>\n",
              "    <tr>\n",
              "      <th>1924</th>\n",
              "      <td>0.032531</td>\n",
              "    </tr>\n",
              "    <tr>\n",
              "      <th>1960</th>\n",
              "      <td>0.032457</td>\n",
              "    </tr>\n",
              "    <tr>\n",
              "      <th>1936</th>\n",
              "      <td>0.032200</td>\n",
              "    </tr>\n",
              "    <tr>\n",
              "      <th>1948</th>\n",
              "      <td>0.029955</td>\n",
              "    </tr>\n",
              "    <tr>\n",
              "      <th>1908</th>\n",
              "      <td>0.029587</td>\n",
              "    </tr>\n",
              "    <tr>\n",
              "      <th>1928</th>\n",
              "      <td>0.026128</td>\n",
              "    </tr>\n",
              "    <tr>\n",
              "      <th>1932</th>\n",
              "      <td>0.022632</td>\n",
              "    </tr>\n",
              "    <tr>\n",
              "      <th>1900</th>\n",
              "      <td>0.018842</td>\n",
              "    </tr>\n",
              "    <tr>\n",
              "      <th>1904</th>\n",
              "      <td>0.017296</td>\n",
              "    </tr>\n",
              "    <tr>\n",
              "      <th>1896</th>\n",
              "      <td>0.005557</td>\n",
              "    </tr>\n",
              "  </tbody>\n",
              "</table>\n",
              "</div><br><label><b>dtype:</b> float64</label>"
            ]
          },
          "metadata": {},
          "execution_count": 30
        }
      ]
    },
    {
      "cell_type": "markdown",
      "source": [
        "## Challenge"
      ],
      "metadata": {
        "id": "Y7NNcfO4xlea"
      }
    },
    {
      "cell_type": "markdown",
      "source": [
        "Answer the following questions. Indicate the Pandas command where relevant.\n",
        "\n",
        "1.   What is the time range covered in this dataset?\n",
        "2.   The Olympics take place every 4 years. Why are there missing years?\n",
        "3.   What are the types of medals awarded?\n",
        "4.   Across all of the Olympic Games, how many Gold, Silver and Bronze medals have there been?\n",
        "5.   Why are there not an equal number of Gold, Silver and Bronze medals?\n",
        "6.   There are more Gold medals than Silver, and more Silver than Bronze. Why might that be?\n",
        "7.   What are the different NOCs (National Olympic Committees)\n",
        "8.   What does the NOC 'ZZX' represent?\n",
        "\n",
        "\n"
      ],
      "metadata": {
        "id": "8zCUnsNAxo-g"
      }
    },
    {
      "cell_type": "code",
      "source": [
        "#1 What is the time range covered in this dataset?\n",
        "print(oo.Year.min(), oo.Year.max())\n"
      ],
      "metadata": {
        "id": "-4qIqKk8P4wH",
        "outputId": "fb9a1322-f501-4d04-fdf9-a772cc4ca00d",
        "colab": {
          "base_uri": "https://localhost:8080/"
        }
      },
      "execution_count": 39,
      "outputs": [
        {
          "output_type": "stream",
          "name": "stdout",
          "text": [
            "1896 2004\n"
          ]
        }
      ]
    },
    {
      "cell_type": "code",
      "source": [
        "#2 The Olympics take place every 4 years. Why are there missing years?\n"
      ],
      "metadata": {
        "id": "DkcxwgIvP4oe"
      },
      "execution_count": null,
      "outputs": []
    },
    {
      "cell_type": "code",
      "source": [
        "#3 What are the types of medals awarded?\n",
        "oo.Medal.unique()"
      ],
      "metadata": {
        "id": "YJ03UDxZP4go",
        "outputId": "e1acd45c-c4fe-4d55-f9e7-679d6826f5e4",
        "colab": {
          "base_uri": "https://localhost:8080/"
        }
      },
      "execution_count": 41,
      "outputs": [
        {
          "output_type": "execute_result",
          "data": {
            "text/plain": [
              "array(['Gold', 'Silver', 'Bronze'], dtype=object)"
            ]
          },
          "metadata": {},
          "execution_count": 41
        }
      ]
    },
    {
      "cell_type": "code",
      "source": [
        "#4 Across all of the Olympic Games, how many Gold, Silver and Bronze medals have there been?\n",
        "oo.Medal.value_counts()"
      ],
      "metadata": {
        "id": "-rv48Bp8P4Z4",
        "outputId": "ee761280-21e8-4d82-8f48-b3b6cb02487b",
        "colab": {
          "base_uri": "https://localhost:8080/",
          "height": 209
        }
      },
      "execution_count": 42,
      "outputs": [
        {
          "output_type": "execute_result",
          "data": {
            "text/plain": [
              "Medal\n",
              "Gold      9181\n",
              "Silver    9014\n",
              "Bronze    8979\n",
              "Name: count, dtype: int64"
            ],
            "text/html": [
              "<div>\n",
              "<style scoped>\n",
              "    .dataframe tbody tr th:only-of-type {\n",
              "        vertical-align: middle;\n",
              "    }\n",
              "\n",
              "    .dataframe tbody tr th {\n",
              "        vertical-align: top;\n",
              "    }\n",
              "\n",
              "    .dataframe thead th {\n",
              "        text-align: right;\n",
              "    }\n",
              "</style>\n",
              "<table border=\"1\" class=\"dataframe\">\n",
              "  <thead>\n",
              "    <tr style=\"text-align: right;\">\n",
              "      <th></th>\n",
              "      <th>count</th>\n",
              "    </tr>\n",
              "    <tr>\n",
              "      <th>Medal</th>\n",
              "      <th></th>\n",
              "    </tr>\n",
              "  </thead>\n",
              "  <tbody>\n",
              "    <tr>\n",
              "      <th>Gold</th>\n",
              "      <td>9181</td>\n",
              "    </tr>\n",
              "    <tr>\n",
              "      <th>Silver</th>\n",
              "      <td>9014</td>\n",
              "    </tr>\n",
              "    <tr>\n",
              "      <th>Bronze</th>\n",
              "      <td>8979</td>\n",
              "    </tr>\n",
              "  </tbody>\n",
              "</table>\n",
              "</div><br><label><b>dtype:</b> int64</label>"
            ]
          },
          "metadata": {},
          "execution_count": 42
        }
      ]
    },
    {
      "cell_type": "code",
      "source": [
        "oo.NOC.unique()"
      ],
      "metadata": {
        "id": "4ibftVC5P4Pa",
        "outputId": "5a3804c5-02ff-4713-f9f5-96ca652ee8af",
        "colab": {
          "base_uri": "https://localhost:8080/"
        }
      },
      "execution_count": 47,
      "outputs": [
        {
          "output_type": "execute_result",
          "data": {
            "text/plain": [
              "array(['FRA', 'GRE', 'USA', 'HUN', 'GER', 'AUT', 'GBR', 'AUS', 'DEN',\n",
              "       'ZZX', 'SUI', 'IND', 'NED', 'CAN', 'NOR', 'BEL', 'ESP', 'BOH',\n",
              "       'ITA', 'SWE', 'CUB', 'RU1', 'FIN', 'RSA', 'ANZ', 'LUX', 'EST',\n",
              "       'BRA', 'JPN', 'TCH', 'NZL', 'ARG', 'HAI', 'POL', 'URU', 'YUG',\n",
              "       'ROU', 'POR', 'EGY', 'PHI', 'IRL', 'CHI', 'MEX', 'LAT', 'TUR',\n",
              "       'KOR', 'PAN', 'JAM', 'SRI', 'PER', 'PUR', 'IRI', 'TRI', 'URS',\n",
              "       'LIB', 'BUL', 'VEN', 'EUA', 'PAK', 'ISL', 'BAH', 'BWI', 'GHA',\n",
              "       'IRQ', 'SIN', 'TPE', 'ETH', 'MAR', 'TUN', 'NGR', 'KEN', 'FRG',\n",
              "       'MGL', 'GDR', 'UGA', 'CMR', 'PRK', 'COL', 'NIG', 'BER', 'THA',\n",
              "       'TAN', 'GUY', 'ZIM', 'ZAM', 'CHN', 'CIV', 'DOM', 'ALG', 'SYR',\n",
              "       'SUR', 'CRC', 'SEN', 'AHO', 'DJI', 'ISV', 'INA', 'EUN', 'NAM',\n",
              "       'IOP', 'QAT', 'ISR', 'LTU', 'CRO', 'SLO', 'MAS', 'RUS', 'UKR',\n",
              "       'TGA', 'ARM', 'BLR', 'MDA', 'ECU', 'KAZ', 'AZE', 'BDI', 'SVK',\n",
              "       'CZE', 'UZB', 'GEO', 'MOZ', 'HKG', 'KGZ', 'BAR', 'KSA', 'VIE',\n",
              "       'MKD', 'KUW', 'ERI', 'SCG', 'UAE', 'PAR'], dtype=object)"
            ]
          },
          "metadata": {},
          "execution_count": 47
        }
      ]
    },
    {
      "cell_type": "code",
      "source": [],
      "metadata": {
        "id": "qCCavId6P4Df"
      },
      "execution_count": null,
      "outputs": []
    },
    {
      "cell_type": "code",
      "source": [],
      "metadata": {
        "id": "u8JI2buIP35f"
      },
      "execution_count": null,
      "outputs": []
    },
    {
      "cell_type": "code",
      "source": [],
      "metadata": {
        "id": "ll6RxOsmP3uE"
      },
      "execution_count": null,
      "outputs": []
    },
    {
      "cell_type": "code",
      "source": [],
      "metadata": {
        "id": "QbNB97KcP3en"
      },
      "execution_count": null,
      "outputs": []
    },
    {
      "cell_type": "markdown",
      "source": [
        "##Solution"
      ],
      "metadata": {
        "id": "cXD8zRjrB0vc"
      }
    },
    {
      "cell_type": "code",
      "source": [
        "!pip install --quiet pandas==2.0.2\n",
        "\n",
        "import pandas as pd\n",
        "from pathlib import Path\n",
        "\n",
        "if not Path(\"olympics_1896_2004.csv\").exists():\n",
        "  !wget https://github.com/jonfernandes/pandas_essential/raw/main/olympics_1896_2004.csv\n",
        "\n",
        "filename = \"olympics_1896_2004.csv\"\n",
        "print(\"Installed all of the necessary files for this section ...\")"
      ],
      "metadata": {
        "id": "gTUIMlWPCDnR"
      },
      "execution_count": null,
      "outputs": []
    },
    {
      "cell_type": "markdown",
      "source": [
        "1. What is the time range covered in this dataset?"
      ],
      "metadata": {
        "id": "-j8eT2c2CN7g"
      }
    },
    {
      "cell_type": "code",
      "source": [
        "oo.Year.drop_duplicates"
      ],
      "metadata": {
        "id": "pOSB7qBmUcn4",
        "outputId": "022debc8-8a12-4f0a-efc5-4ebf481fd270",
        "colab": {
          "base_uri": "https://localhost:8080/",
          "height": 203
        }
      },
      "execution_count": 56,
      "outputs": [
        {
          "output_type": "execute_result",
          "data": {
            "text/plain": [
              "<bound method Series.drop_duplicates of 0        1896\n",
              "1        1896\n",
              "2        1896\n",
              "3        1896\n",
              "4        1896\n",
              "         ... \n",
              "27169    2004\n",
              "27170    2004\n",
              "27171    2004\n",
              "27172    2004\n",
              "27173    2004\n",
              "Name: Year, Length: 27174, dtype: int64>"
            ],
            "text/html": [
              "<div style=\"max-width:800px; border: 1px solid var(--colab-border-color);\"><style>\n",
              "      pre.function-repr-contents {\n",
              "        overflow-x: auto;\n",
              "        padding: 8px 12px;\n",
              "        max-height: 500px;\n",
              "      }\n",
              "\n",
              "      pre.function-repr-contents.function-repr-contents-collapsed {\n",
              "        cursor: pointer;\n",
              "        max-height: 100px;\n",
              "      }\n",
              "    </style>\n",
              "    <pre style=\"white-space: initial; background:\n",
              "         var(--colab-secondary-surface-color); padding: 8px 12px;\n",
              "         border-bottom: 1px solid var(--colab-border-color);\"><b>pandas.core.series.Series.drop_duplicates</b><br/>def drop_duplicates(*, keep: DropKeep=&#x27;first&#x27;, inplace: bool=False, ignore_index: bool=False) -&gt; Series | None</pre><pre class=\"function-repr-contents function-repr-contents-collapsed\" style=\"\"><a class=\"filepath\" style=\"display:none\" href=\"#\">/usr/local/lib/python3.11/dist-packages/pandas/core/series.py</a>Return Series with duplicate values removed.\n",
              "\n",
              "Parameters\n",
              "----------\n",
              "keep : {&#x27;first&#x27;, &#x27;last&#x27;, ``False``}, default &#x27;first&#x27;\n",
              "    Method to handle dropping duplicates:\n",
              "\n",
              "    - &#x27;first&#x27; : Drop duplicates except for the first occurrence.\n",
              "    - &#x27;last&#x27; : Drop duplicates except for the last occurrence.\n",
              "    - ``False`` : Drop all duplicates.\n",
              "\n",
              "inplace : bool, default ``False``\n",
              "    If ``True``, performs operation inplace and returns None.\n",
              "\n",
              "ignore_index : bool, default ``False``\n",
              "    If ``True``, the resulting axis will be labeled 0, 1, …, n - 1.\n",
              "\n",
              "    .. versionadded:: 2.0.0\n",
              "\n",
              "Returns\n",
              "-------\n",
              "Series or None\n",
              "    Series with duplicates dropped or None if ``inplace=True``.\n",
              "\n",
              "See Also\n",
              "--------\n",
              "Index.drop_duplicates : Equivalent method on Index.\n",
              "DataFrame.drop_duplicates : Equivalent method on DataFrame.\n",
              "Series.duplicated : Related method on Series, indicating duplicate\n",
              "    Series values.\n",
              "Series.unique : Return unique values as an array.\n",
              "\n",
              "Examples\n",
              "--------\n",
              "Generate a Series with duplicated entries.\n",
              "\n",
              "&gt;&gt;&gt; s = pd.Series([&#x27;llama&#x27;, &#x27;cow&#x27;, &#x27;llama&#x27;, &#x27;beetle&#x27;, &#x27;llama&#x27;, &#x27;hippo&#x27;],\n",
              "...               name=&#x27;animal&#x27;)\n",
              "&gt;&gt;&gt; s\n",
              "0     llama\n",
              "1       cow\n",
              "2     llama\n",
              "3    beetle\n",
              "4     llama\n",
              "5     hippo\n",
              "Name: animal, dtype: object\n",
              "\n",
              "With the &#x27;keep&#x27; parameter, the selection behaviour of duplicated values\n",
              "can be changed. The value &#x27;first&#x27; keeps the first occurrence for each\n",
              "set of duplicated entries. The default value of keep is &#x27;first&#x27;.\n",
              "\n",
              "&gt;&gt;&gt; s.drop_duplicates()\n",
              "0     llama\n",
              "1       cow\n",
              "3    beetle\n",
              "5     hippo\n",
              "Name: animal, dtype: object\n",
              "\n",
              "The value &#x27;last&#x27; for parameter &#x27;keep&#x27; keeps the last occurrence for\n",
              "each set of duplicated entries.\n",
              "\n",
              "&gt;&gt;&gt; s.drop_duplicates(keep=&#x27;last&#x27;)\n",
              "1       cow\n",
              "3    beetle\n",
              "4     llama\n",
              "5     hippo\n",
              "Name: animal, dtype: object\n",
              "\n",
              "The value ``False`` for parameter &#x27;keep&#x27; discards all sets of\n",
              "duplicated entries.\n",
              "\n",
              "&gt;&gt;&gt; s.drop_duplicates(keep=False)\n",
              "1       cow\n",
              "3    beetle\n",
              "5     hippo\n",
              "Name: animal, dtype: object</pre>\n",
              "      <script>\n",
              "      if (google.colab.kernel.accessAllowed && google.colab.files && google.colab.files.view) {\n",
              "        for (const element of document.querySelectorAll('.filepath')) {\n",
              "          element.style.display = 'block'\n",
              "          element.onclick = (event) => {\n",
              "            event.preventDefault();\n",
              "            event.stopPropagation();\n",
              "            google.colab.files.view(element.textContent, 2431);\n",
              "          };\n",
              "        }\n",
              "      }\n",
              "      for (const element of document.querySelectorAll('.function-repr-contents')) {\n",
              "        element.onclick = (event) => {\n",
              "          event.preventDefault();\n",
              "          event.stopPropagation();\n",
              "          element.classList.toggle('function-repr-contents-collapsed');\n",
              "        };\n",
              "      }\n",
              "      </script>\n",
              "      </div>"
            ]
          },
          "metadata": {},
          "execution_count": 56
        }
      ]
    },
    {
      "cell_type": "code",
      "source": [
        "oo.Year.unique()"
      ],
      "metadata": {
        "id": "ZSs_CV6SB5wf",
        "outputId": "8a15dbcc-5350-4323-d153-d27c297c63a7",
        "colab": {
          "base_uri": "https://localhost:8080/",
          "height": 106
        }
      },
      "execution_count": 50,
      "outputs": [
        {
          "output_type": "error",
          "ename": "SyntaxError",
          "evalue": "invalid syntax (<ipython-input-50-8efa4a19a89a>, line 1)",
          "traceback": [
            "\u001b[0;36m  File \u001b[0;32m\"<ipython-input-50-8efa4a19a89a>\"\u001b[0;36m, line \u001b[0;32m1\u001b[0m\n\u001b[0;31m    oo.Year.unique()?\u001b[0m\n\u001b[0m                    ^\u001b[0m\n\u001b[0;31mSyntaxError\u001b[0m\u001b[0;31m:\u001b[0m invalid syntax\n"
          ]
        }
      ]
    },
    {
      "cell_type": "markdown",
      "source": [
        "2. The Olympics take place every 4 years. Why are there missing years?\n",
        "- World War 1: 1914-1918\n",
        "- World War 2: 1939-1945"
      ],
      "metadata": {
        "id": "PdU9kXBqHUVx"
      }
    },
    {
      "cell_type": "markdown",
      "source": [
        "3. What are the types of medals awarded?"
      ],
      "metadata": {
        "id": "FO4CF7mACXgJ"
      }
    },
    {
      "cell_type": "code",
      "source": [
        "oo.Medal.unique()"
      ],
      "metadata": {
        "id": "z_gSubsK7GjH"
      },
      "execution_count": null,
      "outputs": []
    },
    {
      "cell_type": "markdown",
      "source": [
        "4. Across all of the Olympics, how many Gold, Silver and Bronze medals have there been?"
      ],
      "metadata": {
        "id": "maVn15rhChhr"
      }
    },
    {
      "cell_type": "code",
      "source": [
        "oo.Medal.value_counts()"
      ],
      "metadata": {
        "id": "4NrbRaLP7_kp"
      },
      "execution_count": null,
      "outputs": []
    },
    {
      "cell_type": "markdown",
      "source": [
        "5. Why are there not an equal number of Gold, Silver and Bronze medals?\n",
        "- Tied results\n",
        "- Team events\n",
        "- Disqualifications"
      ],
      "metadata": {
        "id": "L0BaqP40Cvja"
      }
    },
    {
      "cell_type": "code",
      "source": [
        "oo.head(10)"
      ],
      "metadata": {
        "id": "pmyToiQBIsmO",
        "outputId": "935fb0e3-bf0b-4a94-c175-af34d7ccfc0e",
        "colab": {
          "base_uri": "https://localhost:8080/",
          "height": 536
        }
      },
      "execution_count": 49,
      "outputs": [
        {
          "output_type": "execute_result",
          "data": {
            "text/plain": [
              "   Year    City      Sport     Discipline        Athlete Name  NOC Gender  \\\n",
              "0  1896  Athens    Cycling  Cycling Track       FLAMENG, Léon  FRA    Men   \n",
              "1  1896  Athens    Cycling  Cycling Track  KOLETTIS, Georgios  GRE    Men   \n",
              "2  1896  Athens  Athletics      Athletics       LANE, Francis  USA    Men   \n",
              "3  1896  Athens  Athletics      Athletics    SZOKOLYI, Alajos  HUN    Men   \n",
              "4  1896  Athens  Athletics      Athletics       BURKE, Thomas  USA    Men   \n",
              "5  1896  Athens  Athletics      Athletics      HOFMANN, Fritz  GER    Men   \n",
              "6  1896  Athens   Aquatics       Swimming       HAJOS, Alfred  HUN    Men   \n",
              "7  1896  Athens   Aquatics       Swimming    HERSCHMANN, Otto  AUT    Men   \n",
              "8  1896  Athens   Aquatics       Swimming   DRIVAS, Dimitrios  GRE    Men   \n",
              "9  1896  Athens   Aquatics       Swimming  MALOKINIS, Ioannis  GRE    Men   \n",
              "\n",
              "                        Event Event Gender   Medal  Position  \n",
              "0                       100km            M    Gold         1  \n",
              "1                       100km            M  Silver         2  \n",
              "2                        100m            M  Bronze         3  \n",
              "3                        100m            M  Bronze         3  \n",
              "4                        100m            M    Gold         1  \n",
              "5                        100m            M  Silver         2  \n",
              "6              100m freestyle            M    Gold         1  \n",
              "7              100m freestyle            M  Silver         2  \n",
              "8  100m freestyle for sailors            M  Bronze         3  \n",
              "9  100m freestyle for sailors            M    Gold         1  "
            ],
            "text/html": [
              "\n",
              "  <div id=\"df-c92e37b9-8e09-4973-9f4f-2567504347cd\" class=\"colab-df-container\">\n",
              "    <div>\n",
              "<style scoped>\n",
              "    .dataframe tbody tr th:only-of-type {\n",
              "        vertical-align: middle;\n",
              "    }\n",
              "\n",
              "    .dataframe tbody tr th {\n",
              "        vertical-align: top;\n",
              "    }\n",
              "\n",
              "    .dataframe thead th {\n",
              "        text-align: right;\n",
              "    }\n",
              "</style>\n",
              "<table border=\"1\" class=\"dataframe\">\n",
              "  <thead>\n",
              "    <tr style=\"text-align: right;\">\n",
              "      <th></th>\n",
              "      <th>Year</th>\n",
              "      <th>City</th>\n",
              "      <th>Sport</th>\n",
              "      <th>Discipline</th>\n",
              "      <th>Athlete Name</th>\n",
              "      <th>NOC</th>\n",
              "      <th>Gender</th>\n",
              "      <th>Event</th>\n",
              "      <th>Event Gender</th>\n",
              "      <th>Medal</th>\n",
              "      <th>Position</th>\n",
              "    </tr>\n",
              "  </thead>\n",
              "  <tbody>\n",
              "    <tr>\n",
              "      <th>0</th>\n",
              "      <td>1896</td>\n",
              "      <td>Athens</td>\n",
              "      <td>Cycling</td>\n",
              "      <td>Cycling Track</td>\n",
              "      <td>FLAMENG, Léon</td>\n",
              "      <td>FRA</td>\n",
              "      <td>Men</td>\n",
              "      <td>100km</td>\n",
              "      <td>M</td>\n",
              "      <td>Gold</td>\n",
              "      <td>1</td>\n",
              "    </tr>\n",
              "    <tr>\n",
              "      <th>1</th>\n",
              "      <td>1896</td>\n",
              "      <td>Athens</td>\n",
              "      <td>Cycling</td>\n",
              "      <td>Cycling Track</td>\n",
              "      <td>KOLETTIS, Georgios</td>\n",
              "      <td>GRE</td>\n",
              "      <td>Men</td>\n",
              "      <td>100km</td>\n",
              "      <td>M</td>\n",
              "      <td>Silver</td>\n",
              "      <td>2</td>\n",
              "    </tr>\n",
              "    <tr>\n",
              "      <th>2</th>\n",
              "      <td>1896</td>\n",
              "      <td>Athens</td>\n",
              "      <td>Athletics</td>\n",
              "      <td>Athletics</td>\n",
              "      <td>LANE, Francis</td>\n",
              "      <td>USA</td>\n",
              "      <td>Men</td>\n",
              "      <td>100m</td>\n",
              "      <td>M</td>\n",
              "      <td>Bronze</td>\n",
              "      <td>3</td>\n",
              "    </tr>\n",
              "    <tr>\n",
              "      <th>3</th>\n",
              "      <td>1896</td>\n",
              "      <td>Athens</td>\n",
              "      <td>Athletics</td>\n",
              "      <td>Athletics</td>\n",
              "      <td>SZOKOLYI, Alajos</td>\n",
              "      <td>HUN</td>\n",
              "      <td>Men</td>\n",
              "      <td>100m</td>\n",
              "      <td>M</td>\n",
              "      <td>Bronze</td>\n",
              "      <td>3</td>\n",
              "    </tr>\n",
              "    <tr>\n",
              "      <th>4</th>\n",
              "      <td>1896</td>\n",
              "      <td>Athens</td>\n",
              "      <td>Athletics</td>\n",
              "      <td>Athletics</td>\n",
              "      <td>BURKE, Thomas</td>\n",
              "      <td>USA</td>\n",
              "      <td>Men</td>\n",
              "      <td>100m</td>\n",
              "      <td>M</td>\n",
              "      <td>Gold</td>\n",
              "      <td>1</td>\n",
              "    </tr>\n",
              "    <tr>\n",
              "      <th>5</th>\n",
              "      <td>1896</td>\n",
              "      <td>Athens</td>\n",
              "      <td>Athletics</td>\n",
              "      <td>Athletics</td>\n",
              "      <td>HOFMANN, Fritz</td>\n",
              "      <td>GER</td>\n",
              "      <td>Men</td>\n",
              "      <td>100m</td>\n",
              "      <td>M</td>\n",
              "      <td>Silver</td>\n",
              "      <td>2</td>\n",
              "    </tr>\n",
              "    <tr>\n",
              "      <th>6</th>\n",
              "      <td>1896</td>\n",
              "      <td>Athens</td>\n",
              "      <td>Aquatics</td>\n",
              "      <td>Swimming</td>\n",
              "      <td>HAJOS, Alfred</td>\n",
              "      <td>HUN</td>\n",
              "      <td>Men</td>\n",
              "      <td>100m freestyle</td>\n",
              "      <td>M</td>\n",
              "      <td>Gold</td>\n",
              "      <td>1</td>\n",
              "    </tr>\n",
              "    <tr>\n",
              "      <th>7</th>\n",
              "      <td>1896</td>\n",
              "      <td>Athens</td>\n",
              "      <td>Aquatics</td>\n",
              "      <td>Swimming</td>\n",
              "      <td>HERSCHMANN, Otto</td>\n",
              "      <td>AUT</td>\n",
              "      <td>Men</td>\n",
              "      <td>100m freestyle</td>\n",
              "      <td>M</td>\n",
              "      <td>Silver</td>\n",
              "      <td>2</td>\n",
              "    </tr>\n",
              "    <tr>\n",
              "      <th>8</th>\n",
              "      <td>1896</td>\n",
              "      <td>Athens</td>\n",
              "      <td>Aquatics</td>\n",
              "      <td>Swimming</td>\n",
              "      <td>DRIVAS, Dimitrios</td>\n",
              "      <td>GRE</td>\n",
              "      <td>Men</td>\n",
              "      <td>100m freestyle for sailors</td>\n",
              "      <td>M</td>\n",
              "      <td>Bronze</td>\n",
              "      <td>3</td>\n",
              "    </tr>\n",
              "    <tr>\n",
              "      <th>9</th>\n",
              "      <td>1896</td>\n",
              "      <td>Athens</td>\n",
              "      <td>Aquatics</td>\n",
              "      <td>Swimming</td>\n",
              "      <td>MALOKINIS, Ioannis</td>\n",
              "      <td>GRE</td>\n",
              "      <td>Men</td>\n",
              "      <td>100m freestyle for sailors</td>\n",
              "      <td>M</td>\n",
              "      <td>Gold</td>\n",
              "      <td>1</td>\n",
              "    </tr>\n",
              "  </tbody>\n",
              "</table>\n",
              "</div>\n",
              "    <div class=\"colab-df-buttons\">\n",
              "\n",
              "  <div class=\"colab-df-container\">\n",
              "    <button class=\"colab-df-convert\" onclick=\"convertToInteractive('df-c92e37b9-8e09-4973-9f4f-2567504347cd')\"\n",
              "            title=\"Convert this dataframe to an interactive table.\"\n",
              "            style=\"display:none;\">\n",
              "\n",
              "  <svg xmlns=\"http://www.w3.org/2000/svg\" height=\"24px\" viewBox=\"0 -960 960 960\">\n",
              "    <path d=\"M120-120v-720h720v720H120Zm60-500h600v-160H180v160Zm220 220h160v-160H400v160Zm0 220h160v-160H400v160ZM180-400h160v-160H180v160Zm440 0h160v-160H620v160ZM180-180h160v-160H180v160Zm440 0h160v-160H620v160Z\"/>\n",
              "  </svg>\n",
              "    </button>\n",
              "\n",
              "  <style>\n",
              "    .colab-df-container {\n",
              "      display:flex;\n",
              "      gap: 12px;\n",
              "    }\n",
              "\n",
              "    .colab-df-convert {\n",
              "      background-color: #E8F0FE;\n",
              "      border: none;\n",
              "      border-radius: 50%;\n",
              "      cursor: pointer;\n",
              "      display: none;\n",
              "      fill: #1967D2;\n",
              "      height: 32px;\n",
              "      padding: 0 0 0 0;\n",
              "      width: 32px;\n",
              "    }\n",
              "\n",
              "    .colab-df-convert:hover {\n",
              "      background-color: #E2EBFA;\n",
              "      box-shadow: 0px 1px 2px rgba(60, 64, 67, 0.3), 0px 1px 3px 1px rgba(60, 64, 67, 0.15);\n",
              "      fill: #174EA6;\n",
              "    }\n",
              "\n",
              "    .colab-df-buttons div {\n",
              "      margin-bottom: 4px;\n",
              "    }\n",
              "\n",
              "    [theme=dark] .colab-df-convert {\n",
              "      background-color: #3B4455;\n",
              "      fill: #D2E3FC;\n",
              "    }\n",
              "\n",
              "    [theme=dark] .colab-df-convert:hover {\n",
              "      background-color: #434B5C;\n",
              "      box-shadow: 0px 1px 3px 1px rgba(0, 0, 0, 0.15);\n",
              "      filter: drop-shadow(0px 1px 2px rgba(0, 0, 0, 0.3));\n",
              "      fill: #FFFFFF;\n",
              "    }\n",
              "  </style>\n",
              "\n",
              "    <script>\n",
              "      const buttonEl =\n",
              "        document.querySelector('#df-c92e37b9-8e09-4973-9f4f-2567504347cd button.colab-df-convert');\n",
              "      buttonEl.style.display =\n",
              "        google.colab.kernel.accessAllowed ? 'block' : 'none';\n",
              "\n",
              "      async function convertToInteractive(key) {\n",
              "        const element = document.querySelector('#df-c92e37b9-8e09-4973-9f4f-2567504347cd');\n",
              "        const dataTable =\n",
              "          await google.colab.kernel.invokeFunction('convertToInteractive',\n",
              "                                                    [key], {});\n",
              "        if (!dataTable) return;\n",
              "\n",
              "        const docLinkHtml = 'Like what you see? Visit the ' +\n",
              "          '<a target=\"_blank\" href=https://colab.research.google.com/notebooks/data_table.ipynb>data table notebook</a>'\n",
              "          + ' to learn more about interactive tables.';\n",
              "        element.innerHTML = '';\n",
              "        dataTable['output_type'] = 'display_data';\n",
              "        await google.colab.output.renderOutput(dataTable, element);\n",
              "        const docLink = document.createElement('div');\n",
              "        docLink.innerHTML = docLinkHtml;\n",
              "        element.appendChild(docLink);\n",
              "      }\n",
              "    </script>\n",
              "  </div>\n",
              "\n",
              "\n",
              "<div id=\"df-63cfaa59-1ba4-4838-8940-d3e3abcf5cb1\">\n",
              "  <button class=\"colab-df-quickchart\" onclick=\"quickchart('df-63cfaa59-1ba4-4838-8940-d3e3abcf5cb1')\"\n",
              "            title=\"Suggest charts\"\n",
              "            style=\"display:none;\">\n",
              "\n",
              "<svg xmlns=\"http://www.w3.org/2000/svg\" height=\"24px\"viewBox=\"0 0 24 24\"\n",
              "     width=\"24px\">\n",
              "    <g>\n",
              "        <path d=\"M19 3H5c-1.1 0-2 .9-2 2v14c0 1.1.9 2 2 2h14c1.1 0 2-.9 2-2V5c0-1.1-.9-2-2-2zM9 17H7v-7h2v7zm4 0h-2V7h2v10zm4 0h-2v-4h2v4z\"/>\n",
              "    </g>\n",
              "</svg>\n",
              "  </button>\n",
              "\n",
              "<style>\n",
              "  .colab-df-quickchart {\n",
              "      --bg-color: #E8F0FE;\n",
              "      --fill-color: #1967D2;\n",
              "      --hover-bg-color: #E2EBFA;\n",
              "      --hover-fill-color: #174EA6;\n",
              "      --disabled-fill-color: #AAA;\n",
              "      --disabled-bg-color: #DDD;\n",
              "  }\n",
              "\n",
              "  [theme=dark] .colab-df-quickchart {\n",
              "      --bg-color: #3B4455;\n",
              "      --fill-color: #D2E3FC;\n",
              "      --hover-bg-color: #434B5C;\n",
              "      --hover-fill-color: #FFFFFF;\n",
              "      --disabled-bg-color: #3B4455;\n",
              "      --disabled-fill-color: #666;\n",
              "  }\n",
              "\n",
              "  .colab-df-quickchart {\n",
              "    background-color: var(--bg-color);\n",
              "    border: none;\n",
              "    border-radius: 50%;\n",
              "    cursor: pointer;\n",
              "    display: none;\n",
              "    fill: var(--fill-color);\n",
              "    height: 32px;\n",
              "    padding: 0;\n",
              "    width: 32px;\n",
              "  }\n",
              "\n",
              "  .colab-df-quickchart:hover {\n",
              "    background-color: var(--hover-bg-color);\n",
              "    box-shadow: 0 1px 2px rgba(60, 64, 67, 0.3), 0 1px 3px 1px rgba(60, 64, 67, 0.15);\n",
              "    fill: var(--button-hover-fill-color);\n",
              "  }\n",
              "\n",
              "  .colab-df-quickchart-complete:disabled,\n",
              "  .colab-df-quickchart-complete:disabled:hover {\n",
              "    background-color: var(--disabled-bg-color);\n",
              "    fill: var(--disabled-fill-color);\n",
              "    box-shadow: none;\n",
              "  }\n",
              "\n",
              "  .colab-df-spinner {\n",
              "    border: 2px solid var(--fill-color);\n",
              "    border-color: transparent;\n",
              "    border-bottom-color: var(--fill-color);\n",
              "    animation:\n",
              "      spin 1s steps(1) infinite;\n",
              "  }\n",
              "\n",
              "  @keyframes spin {\n",
              "    0% {\n",
              "      border-color: transparent;\n",
              "      border-bottom-color: var(--fill-color);\n",
              "      border-left-color: var(--fill-color);\n",
              "    }\n",
              "    20% {\n",
              "      border-color: transparent;\n",
              "      border-left-color: var(--fill-color);\n",
              "      border-top-color: var(--fill-color);\n",
              "    }\n",
              "    30% {\n",
              "      border-color: transparent;\n",
              "      border-left-color: var(--fill-color);\n",
              "      border-top-color: var(--fill-color);\n",
              "      border-right-color: var(--fill-color);\n",
              "    }\n",
              "    40% {\n",
              "      border-color: transparent;\n",
              "      border-right-color: var(--fill-color);\n",
              "      border-top-color: var(--fill-color);\n",
              "    }\n",
              "    60% {\n",
              "      border-color: transparent;\n",
              "      border-right-color: var(--fill-color);\n",
              "    }\n",
              "    80% {\n",
              "      border-color: transparent;\n",
              "      border-right-color: var(--fill-color);\n",
              "      border-bottom-color: var(--fill-color);\n",
              "    }\n",
              "    90% {\n",
              "      border-color: transparent;\n",
              "      border-bottom-color: var(--fill-color);\n",
              "    }\n",
              "  }\n",
              "</style>\n",
              "\n",
              "  <script>\n",
              "    async function quickchart(key) {\n",
              "      const quickchartButtonEl =\n",
              "        document.querySelector('#' + key + ' button');\n",
              "      quickchartButtonEl.disabled = true;  // To prevent multiple clicks.\n",
              "      quickchartButtonEl.classList.add('colab-df-spinner');\n",
              "      try {\n",
              "        const charts = await google.colab.kernel.invokeFunction(\n",
              "            'suggestCharts', [key], {});\n",
              "      } catch (error) {\n",
              "        console.error('Error during call to suggestCharts:', error);\n",
              "      }\n",
              "      quickchartButtonEl.classList.remove('colab-df-spinner');\n",
              "      quickchartButtonEl.classList.add('colab-df-quickchart-complete');\n",
              "    }\n",
              "    (() => {\n",
              "      let quickchartButtonEl =\n",
              "        document.querySelector('#df-63cfaa59-1ba4-4838-8940-d3e3abcf5cb1 button');\n",
              "      quickchartButtonEl.style.display =\n",
              "        google.colab.kernel.accessAllowed ? 'block' : 'none';\n",
              "    })();\n",
              "  </script>\n",
              "</div>\n",
              "\n",
              "    </div>\n",
              "  </div>\n"
            ],
            "application/vnd.google.colaboratory.intrinsic+json": {
              "type": "dataframe",
              "variable_name": "oo",
              "summary": "{\n  \"name\": \"oo\",\n  \"rows\": 27174,\n  \"fields\": [\n    {\n      \"column\": \"Year\",\n      \"properties\": {\n        \"dtype\": \"number\",\n        \"std\": 31,\n        \"min\": 1896,\n        \"max\": 2004,\n        \"num_unique_values\": 25,\n        \"samples\": [\n          1932,\n          1972,\n          1896\n        ],\n        \"semantic_type\": \"\",\n        \"description\": \"\"\n      }\n    },\n    {\n      \"column\": \"City\",\n      \"properties\": {\n        \"dtype\": \"category\",\n        \"num_unique_values\": 21,\n        \"samples\": [\n          \"Athens\",\n          \"Seoul\",\n          \"Montreal\"\n        ],\n        \"semantic_type\": \"\",\n        \"description\": \"\"\n      }\n    },\n    {\n      \"column\": \"Sport\",\n      \"properties\": {\n        \"dtype\": \"category\",\n        \"num_unique_values\": 42,\n        \"samples\": [\n          \"Rackets\",\n          \"Croquet\",\n          \"Wrestling\"\n        ],\n        \"semantic_type\": \"\",\n        \"description\": \"\"\n      }\n    },\n    {\n      \"column\": \"Discipline\",\n      \"properties\": {\n        \"dtype\": \"category\",\n        \"num_unique_values\": 55,\n        \"samples\": [\n          \"Jeu de Paume\",\n          \"Fencing\",\n          \"Figure skating\"\n        ],\n        \"semantic_type\": \"\",\n        \"description\": \"\"\n      }\n    },\n    {\n      \"column\": \"Athlete Name\",\n      \"properties\": {\n        \"dtype\": \"string\",\n        \"num_unique_values\": 19991,\n        \"samples\": [\n          \"TOMAN, Ladislav\",\n          \"MATTO, Sergio A.\",\n          \"DE WOLF, Nicolaas\"\n        ],\n        \"semantic_type\": \"\",\n        \"description\": \"\"\n      }\n    },\n    {\n      \"column\": \"NOC\",\n      \"properties\": {\n        \"dtype\": \"category\",\n        \"num_unique_values\": 132,\n        \"samples\": [\n          \"VEN\",\n          \"ZIM\",\n          \"SWE\"\n        ],\n        \"semantic_type\": \"\",\n        \"description\": \"\"\n      }\n    },\n    {\n      \"column\": \"Gender\",\n      \"properties\": {\n        \"dtype\": \"category\",\n        \"num_unique_values\": 2,\n        \"samples\": [\n          \"Women\",\n          \"Men\"\n        ],\n        \"semantic_type\": \"\",\n        \"description\": \"\"\n      }\n    },\n    {\n      \"column\": \"Event\",\n      \"properties\": {\n        \"dtype\": \"category\",\n        \"num_unique_values\": 572,\n        \"samples\": [\n          \"- 58 kg\",\n          \"cricket\"\n        ],\n        \"semantic_type\": \"\",\n        \"description\": \"\"\n      }\n    },\n    {\n      \"column\": \"Event Gender\",\n      \"properties\": {\n        \"dtype\": \"category\",\n        \"num_unique_values\": 3,\n        \"samples\": [\n          \"M\",\n          \"X\"\n        ],\n        \"semantic_type\": \"\",\n        \"description\": \"\"\n      }\n    },\n    {\n      \"column\": \"Medal\",\n      \"properties\": {\n        \"dtype\": \"category\",\n        \"num_unique_values\": 3,\n        \"samples\": [\n          \"Gold\",\n          \"Silver\"\n        ],\n        \"semantic_type\": \"\",\n        \"description\": \"\"\n      }\n    },\n    {\n      \"column\": \"Position\",\n      \"properties\": {\n        \"dtype\": \"number\",\n        \"std\": 0,\n        \"min\": 1,\n        \"max\": 3,\n        \"num_unique_values\": 3,\n        \"samples\": [\n          1,\n          2\n        ],\n        \"semantic_type\": \"\",\n        \"description\": \"\"\n      }\n    }\n  ]\n}"
            }
          },
          "metadata": {},
          "execution_count": 49
        }
      ]
    },
    {
      "cell_type": "markdown",
      "source": [
        "6. There are more Gold medals than Silver, and more Silver than Bronze. Why might that be?\n",
        "\n",
        "Men's 100km cycling\n",
        "- https://en.wikipedia.org/wiki/Cycling_at_the_1896_Summer_Olympics_%E2%80%93_Men%27s_100_kilometres\n",
        "- https://en.wikipedia.org/wiki/Aristidis_Konstantinidis\n",
        "\n",
        "Men's 100m freestyle (1896)\n",
        "- https://en.wikipedia.org/wiki/Swimming_at_the_1896_Summer_Olympics_%E2%80%93_Men%27s_100_metre_freestyle\n"
      ],
      "metadata": {
        "id": "QTvM7ugqKpZz"
      }
    },
    {
      "cell_type": "markdown",
      "source": [
        "7. What are the different NOCs (National Olympic Committees)\n"
      ],
      "metadata": {
        "id": "oARaNXGtOiK_"
      }
    },
    {
      "cell_type": "code",
      "source": [
        "oo.NOC.unique()"
      ],
      "metadata": {
        "id": "uWY4zpb4O2v0"
      },
      "execution_count": null,
      "outputs": []
    },
    {
      "cell_type": "markdown",
      "source": [
        "8. What does the NOC 'ZZX' represent?\n",
        "- https://en.wikipedia.org/wiki/Mixed_teams_at_the_Olympics"
      ],
      "metadata": {
        "id": "02ouyDJvO5On"
      }
    },
    {
      "cell_type": "markdown",
      "metadata": {
        "id": "dVneSuG42rEV"
      },
      "source": [
        "## Python Lists and Dictionaries"
      ]
    },
    {
      "cell_type": "code",
      "execution_count": null,
      "metadata": {
        "id": "yaMoREyw2ugU"
      },
      "outputs": [],
      "source": [
        "medals = [\"Gold\", \"Silver\", \"Bronze\"]\n",
        "medals"
      ]
    },
    {
      "cell_type": "code",
      "execution_count": null,
      "metadata": {
        "id": "6KcUdX414wX0"
      },
      "outputs": [],
      "source": [
        "type(medals)"
      ]
    },
    {
      "cell_type": "code",
      "execution_count": null,
      "metadata": {
        "id": "q1xsb6BG5CWv"
      },
      "outputs": [],
      "source": [
        "position = {\"First\": \"Gold\",\n",
        "            \"Second\": \"Silver\",\n",
        "            \"Third\": \"Bronze\"\n",
        "}\n",
        "position"
      ]
    },
    {
      "cell_type": "code",
      "execution_count": null,
      "metadata": {
        "id": "T-4bqeTz-tyH"
      },
      "outputs": [],
      "source": [
        "type(position)"
      ]
    },
    {
      "cell_type": "code",
      "execution_count": null,
      "metadata": {
        "id": "s5wBJSTq-gqd"
      },
      "outputs": [],
      "source": [
        "position[\"First\"]"
      ]
    },
    {
      "cell_type": "markdown",
      "metadata": {
        "id": "Ckw-4M9hpoa3"
      },
      "source": [
        "## Rename a series (or column)"
      ]
    },
    {
      "cell_type": "code",
      "source": [
        "!pip install --quiet pandas==2.0.2\n",
        "\n",
        "import pandas as pd\n",
        "from pathlib import Path\n",
        "\n",
        "if not Path(\"olympics_1896_2004.csv\").exists():\n",
        "  !wget https://github.com/jonfernandes/pandas_essential/raw/main/olympics_1896_2004.csv\n",
        "\n",
        "filename = \"olympics_1896_2004.csv\"\n",
        "print(\"Installed all of the necessary files for this section ...\")"
      ],
      "metadata": {
        "id": "ZkvEYRvXbZBQ"
      },
      "execution_count": null,
      "outputs": []
    },
    {
      "cell_type": "code",
      "execution_count": null,
      "metadata": {
        "id": "GuCHMPABqCOg"
      },
      "outputs": [],
      "source": [
        "oo = pd.read_csv(filename, skiprows=5)\n",
        "oo.sample(3)"
      ]
    },
    {
      "cell_type": "code",
      "execution_count": null,
      "metadata": {
        "id": "aBkPYBGSqZdy"
      },
      "outputs": [],
      "source": [
        "mapper = {\"Athlete Name\": \"Athlete_Name\",\n",
        "          \"Event Gender\": \"Event_Gender\"}"
      ]
    },
    {
      "cell_type": "code",
      "source": [
        "oo.rename?"
      ],
      "metadata": {
        "id": "BGhEHsDscPRn"
      },
      "execution_count": null,
      "outputs": []
    },
    {
      "cell_type": "code",
      "execution_count": null,
      "metadata": {
        "id": "IXlHzMRFqGVP"
      },
      "outputs": [],
      "source": [
        "oo.rename(columns=mapper)"
      ]
    },
    {
      "cell_type": "code",
      "execution_count": null,
      "metadata": {
        "id": "Xr3XjUKFqxBu"
      },
      "outputs": [],
      "source": [
        "oo.sample(3)"
      ]
    },
    {
      "cell_type": "code",
      "execution_count": null,
      "metadata": {
        "id": "nDNiC7Uvq4o4"
      },
      "outputs": [],
      "source": [
        "oo = oo.rename(columns=mapper)\n",
        "oo.sample(3)"
      ]
    },
    {
      "cell_type": "code",
      "source": [
        "oo = pd.read_csv(filename, skiprows=5).rename(columns=mapper)\n",
        "oo.sample(3)"
      ],
      "metadata": {
        "id": "7IGqoCWcbvHc"
      },
      "execution_count": null,
      "outputs": []
    },
    {
      "cell_type": "code",
      "execution_count": null,
      "metadata": {
        "id": "jXX7uTomrDKG"
      },
      "outputs": [],
      "source": [
        "oo = pd.read_csv(filename, skiprows=5)\n",
        "oo = oo.rename(columns={\"Athlete Name\": \"Athlete_Name\", \"Event Gender\": \"Event_Gender\"})\n",
        "oo.sample(3)"
      ]
    },
    {
      "cell_type": "code",
      "execution_count": null,
      "metadata": {
        "id": "kMbTKuQ5rj1I"
      },
      "outputs": [],
      "source": [
        "oo = pd.read_csv(filename, skiprows=5)\n",
        "oo.columns"
      ]
    },
    {
      "cell_type": "code",
      "execution_count": null,
      "metadata": {
        "id": "i2BiQO6Crp6a"
      },
      "outputs": [],
      "source": [
        "column_names = ['Year', 'City', 'Sport', 'Discipline', 'Athlete_Name', 'NOC', 'Gender',\n",
        "       'Event', 'Event_Gender', 'Medal', 'Position']\n",
        "oo.columns = column_names\n",
        "oo.sample(3)"
      ]
    },
    {
      "cell_type": "code",
      "execution_count": null,
      "metadata": {
        "id": "hFOa9jTjr-4m"
      },
      "outputs": [],
      "source": [
        "oo = pd.read_csv(filename, skiprows=5)\n",
        "oo.sample(3)"
      ]
    },
    {
      "cell_type": "code",
      "execution_count": null,
      "metadata": {
        "id": "X3Wc_Xy1swWe"
      },
      "outputs": [],
      "source": [
        "oo = pd.read_csv(filename, skiprows=5, names=column_names)\n",
        "oo.head()"
      ]
    },
    {
      "cell_type": "code",
      "execution_count": null,
      "metadata": {
        "id": "Slv2MGpztEvf"
      },
      "outputs": [],
      "source": [
        "oo = pd.read_csv(filename, skiprows=5, names=column_names, header=0)\n",
        "oo.head()"
      ]
    },
    {
      "cell_type": "markdown",
      "metadata": {
        "id": "W9Nhfv3LkjL0"
      },
      "source": [
        "## Remove a Series (column) or row"
      ]
    },
    {
      "cell_type": "code",
      "source": [
        "!pip install --quiet pandas==2.0.2\n",
        "\n",
        "import pandas as pd\n",
        "from pathlib import Path\n",
        "\n",
        "if not Path(\"olympics_1896_2004.csv\").exists():\n",
        "  !wget https://github.com/jonfernandes/pandas_essential/raw/main/olympics_1896_2004.csv\n",
        "\n",
        "filename = \"olympics_1896_2004.csv\"\n",
        "print(\"Installed all of the necessary files for this section ...\")"
      ],
      "metadata": {
        "id": "wyyfLAZYcyey"
      },
      "execution_count": null,
      "outputs": []
    },
    {
      "cell_type": "code",
      "execution_count": null,
      "metadata": {
        "id": "Jvu3BkX8pEx6"
      },
      "outputs": [],
      "source": [
        "oo = pd.read_csv(filename, skiprows=5)\n",
        "oo.sample(3)"
      ]
    },
    {
      "cell_type": "code",
      "execution_count": null,
      "metadata": {
        "id": "20cP8jKNpI-b"
      },
      "outputs": [],
      "source": [
        "oo.drop('Position', axis=1)"
      ]
    },
    {
      "cell_type": "code",
      "source": [
        "#oo.drop('Position', axis=0)"
      ],
      "metadata": {
        "id": "G3EbLvxuY50E"
      },
      "execution_count": null,
      "outputs": []
    },
    {
      "cell_type": "code",
      "execution_count": null,
      "metadata": {
        "id": "1dHlMJCCpf3C"
      },
      "outputs": [],
      "source": [
        "oo.sample(3)"
      ]
    },
    {
      "cell_type": "code",
      "source": [
        "oo = oo.drop('Position', axis=1)\n",
        "oo.sample(3)"
      ],
      "metadata": {
        "id": "3X4HbXnaZeBw"
      },
      "execution_count": null,
      "outputs": []
    },
    {
      "cell_type": "code",
      "source": [
        "oo = pd.read_csv(filename, skiprows=5).drop('Position', axis=1)\n",
        "oo.sample(3)"
      ],
      "metadata": {
        "id": "Fq1lyaCpajT4"
      },
      "execution_count": null,
      "outputs": []
    },
    {
      "cell_type": "code",
      "source": [
        "oo = (pd.read_csv(filename, skiprows=5)\n",
        "      .drop('Position', axis=1)\n",
        ")\n",
        "oo.sample(3)"
      ],
      "metadata": {
        "id": "ZhTF2wwh2xfr"
      },
      "execution_count": null,
      "outputs": []
    },
    {
      "cell_type": "code",
      "source": [
        "oo = (pd.read_csv(filename, skiprows=5)\n",
        "      .drop('Position', axis=1)\n",
        ")\n",
        "oo.sample(3)"
      ],
      "metadata": {
        "id": "mpxeqJaSa0SH"
      },
      "execution_count": null,
      "outputs": []
    },
    {
      "cell_type": "code",
      "source": [
        "oo = pd.read_csv(filename, skiprows=5)\n",
        "oo.drop('Position', axis=1, inplace=True)\n",
        "oo.sample(3)"
      ],
      "metadata": {
        "id": "FwsO7VDt3Idt"
      },
      "execution_count": null,
      "outputs": []
    },
    {
      "cell_type": "code",
      "execution_count": null,
      "metadata": {
        "id": "r_0NfmZAputk"
      },
      "outputs": [],
      "source": [
        "#oo = (pd.read_csv(filename, skiprows=5)\n",
        "#      .drop('Position', axis=1, inplace=True)\n",
        "#)\n",
        "#oo.sample(3)"
      ]
    },
    {
      "cell_type": "code",
      "source": [
        "oo.drop?"
      ],
      "metadata": {
        "id": "tRDLq3HuZ1pK"
      },
      "execution_count": null,
      "outputs": []
    },
    {
      "cell_type": "code",
      "execution_count": null,
      "metadata": {
        "id": "K8jXziF_p5dJ"
      },
      "outputs": [],
      "source": [
        "oo = (pd.read_csv(filename, skiprows=5)\n",
        "      .drop('Position', axis=1)\n",
        ")\n",
        "oo.sample(3)"
      ]
    },
    {
      "cell_type": "code",
      "execution_count": null,
      "metadata": {
        "id": "bwjWbu26qOle"
      },
      "outputs": [],
      "source": [
        "oo.head(3)"
      ]
    },
    {
      "cell_type": "code",
      "execution_count": null,
      "metadata": {
        "id": "SCzu6DsFqUNn"
      },
      "outputs": [],
      "source": [
        "oo = (pd.read_csv(filename, skiprows=5)\n",
        "      .drop(2, axis=0)\n",
        ")\n",
        "oo.head(3)"
      ]
    },
    {
      "cell_type": "code",
      "execution_count": null,
      "metadata": {
        "id": "OyPaiwdAr7wT"
      },
      "outputs": [],
      "source": [
        "oo = (pd.read_csv(filename, skiprows=5)\n",
        "      .drop([0, 1, 3], axis=0)\n",
        ")\n",
        "oo.head(3)"
      ]
    },
    {
      "cell_type": "code",
      "execution_count": null,
      "metadata": {
        "id": "O7kPV4fXsPpT"
      },
      "outputs": [],
      "source": [
        "oo = oo.drop(['City', 'Sport'], axis=1)\n",
        "oo.head(3)"
      ]
    },
    {
      "cell_type": "code",
      "execution_count": null,
      "metadata": {
        "id": "zP14TUgHrAWV"
      },
      "outputs": [],
      "source": [
        "oo = (pd.read_csv(filename, skiprows=5)\n",
        "      .drop('Position', axis=1)\n",
        ")\n",
        "oo.sample(3)"
      ]
    },
    {
      "cell_type": "code",
      "source": [
        "pd.merge?"
      ],
      "metadata": {
        "id": "Kn5U4c_6etcq"
      },
      "execution_count": null,
      "outputs": []
    },
    {
      "cell_type": "code",
      "source": [
        "pd.concat?"
      ],
      "metadata": {
        "id": "xeu9LEEPe1E9"
      },
      "execution_count": null,
      "outputs": []
    },
    {
      "cell_type": "code",
      "source": [
        "oo.groupby?"
      ],
      "metadata": {
        "id": "oNN6PLPRe9Q6"
      },
      "execution_count": null,
      "outputs": []
    },
    {
      "cell_type": "markdown",
      "metadata": {
        "id": "KoS5odaaWiBi"
      },
      "source": [
        "## Filtering rows for a single condition"
      ]
    },
    {
      "cell_type": "code",
      "source": [
        "!pip install --quiet pandas==2.0.2\n",
        "\n",
        "import pandas as pd\n",
        "from pathlib import Path\n",
        "\n",
        "if not Path(\"olympics_1896_2004.csv\").exists():\n",
        "  !wget https://github.com/jonfernandes/pandas_essential/raw/main/olympics_1896_2004.csv\n",
        "\n",
        "filename = \"olympics_1896_2004.csv\"\n",
        "print(\"Installed all of the necessary files for this section ...\")"
      ],
      "metadata": {
        "id": "lXgyKJGPe8Tu"
      },
      "execution_count": null,
      "outputs": []
    },
    {
      "cell_type": "code",
      "source": [
        "oo = (pd.read_csv(filename, skiprows=5)\n",
        "      .drop('Position', axis=1)\n",
        ")\n",
        "oo.sample(3)"
      ],
      "metadata": {
        "id": "t29BT5gbrBIc"
      },
      "execution_count": null,
      "outputs": []
    },
    {
      "cell_type": "code",
      "execution_count": null,
      "metadata": {
        "id": "sc8z0Lt6YUPO"
      },
      "outputs": [],
      "source": [
        "type(True)"
      ]
    },
    {
      "cell_type": "code",
      "execution_count": null,
      "metadata": {
        "id": "Bmwe33a1Y-2P"
      },
      "outputs": [],
      "source": [
        "type(False)"
      ]
    },
    {
      "cell_type": "code",
      "execution_count": null,
      "metadata": {
        "id": "4dO8-KghZiSV"
      },
      "outputs": [],
      "source": [
        "oo.Year.dtype"
      ]
    },
    {
      "cell_type": "code",
      "execution_count": null,
      "metadata": {
        "id": "6GUl6DVbZFTN"
      },
      "outputs": [],
      "source": [
        "first_olympics = (oo.Year == 1896)\n",
        "first_olympics"
      ]
    },
    {
      "cell_type": "code",
      "execution_count": null,
      "metadata": {
        "id": "f6y4vN4pap6g"
      },
      "outputs": [],
      "source": [
        "oo[first_olympics]"
      ]
    },
    {
      "cell_type": "code",
      "execution_count": null,
      "metadata": {
        "id": "-CeFZjg1av38"
      },
      "outputs": [],
      "source": [
        "oo[oo.Year == 1896]"
      ]
    },
    {
      "cell_type": "code",
      "execution_count": null,
      "metadata": {
        "id": "-bcylkijfi3p"
      },
      "outputs": [],
      "source": [
        "oo[oo.Year < 1896]"
      ]
    },
    {
      "cell_type": "code",
      "execution_count": null,
      "metadata": {
        "id": "1mVCF2aBfojw"
      },
      "outputs": [],
      "source": [
        "oo[(oo.Year <= 1896)]"
      ]
    },
    {
      "cell_type": "markdown",
      "metadata": {
        "id": "IEMaZhWNgH8S"
      },
      "source": [
        "## Filter rows for multiple conditions"
      ]
    },
    {
      "cell_type": "code",
      "source": [
        "!pip install --quiet pandas==2.0.2\n",
        "\n",
        "import pandas as pd\n",
        "from pathlib import Path\n",
        "\n",
        "if not Path(\"olympics_1896_2004.csv\").exists():\n",
        "  !wget https://github.com/jonfernandes/pandas_essential/raw/main/olympics_1896_2004.csv\n",
        "\n",
        "filename = \"olympics_1896_2004.csv\"\n",
        "print(\"Installed all of the necessary files for this section ...\")"
      ],
      "metadata": {
        "id": "2laJYlXsfDLv"
      },
      "execution_count": null,
      "outputs": []
    },
    {
      "cell_type": "code",
      "source": [
        "oo = (pd.read_csv(filename, skiprows=5)\n",
        "      .drop('Position', axis=1)\n",
        ")\n",
        "oo.tail(3)"
      ],
      "metadata": {
        "id": "IlOsfcIgjvUW"
      },
      "execution_count": null,
      "outputs": []
    },
    {
      "cell_type": "code",
      "execution_count": null,
      "metadata": {
        "id": "BW-mRtxwg1qc"
      },
      "outputs": [],
      "source": [
        "oo.dtypes"
      ]
    },
    {
      "cell_type": "code",
      "execution_count": null,
      "metadata": {
        "id": "u7nXHc19gPwj"
      },
      "outputs": [],
      "source": [
        "oo[oo.City == 'Athens']"
      ]
    },
    {
      "cell_type": "code",
      "source": [
        "#oo[oo.City == Athens]"
      ],
      "metadata": {
        "id": "Aw8sVdFAkIBP"
      },
      "execution_count": null,
      "outputs": []
    },
    {
      "cell_type": "code",
      "execution_count": null,
      "metadata": {
        "id": "WHGrdM0AhRuo"
      },
      "outputs": [],
      "source": [
        "oo[(oo.Year == 1896) | (oo.Year == 2004)]"
      ]
    },
    {
      "cell_type": "code",
      "execution_count": null,
      "metadata": {
        "id": "m-4U5Jo3ke6f"
      },
      "outputs": [],
      "source": [
        "oo[(oo.City == 'Athens') & (oo.Year == 2004)]"
      ]
    },
    {
      "cell_type": "code",
      "execution_count": null,
      "metadata": {
        "id": "KmCyCTnyksgk"
      },
      "outputs": [],
      "source": [
        "oo[(oo.City == 'Athens') & ~(oo.Year == 1896)]"
      ]
    },
    {
      "cell_type": "code",
      "execution_count": null,
      "metadata": {
        "id": "yQR50DX2iXd6"
      },
      "outputs": [],
      "source": [
        "first_men_100m = oo[(oo.Year == 1896) & (oo.Gender == 'Men') & (oo.Event == '100m')]\n",
        "first_men_100m"
      ]
    },
    {
      "cell_type": "code",
      "execution_count": null,
      "metadata": {
        "id": "Yl6_EgtTFebl"
      },
      "outputs": [],
      "source": [
        "oo[(oo.Year == 1896) & (oo.Gender == 'Men') & (oo.Event == '100m')][[\"Year\", \"Athlete Name\", \"NOC\", \"Event\", \"Medal\"]]"
      ]
    },
    {
      "cell_type": "code",
      "execution_count": null,
      "metadata": {
        "id": "_f5j-cJ-Ge3d"
      },
      "outputs": [],
      "source": [
        "first_men_100m[[\"Year\", \"Athlete Name\", \"NOC\", \"Event\", \"Medal\"]]"
      ]
    },
    {
      "cell_type": "markdown",
      "metadata": {
        "id": "PLavnC_tldUv"
      },
      "source": [
        "## Using String methods"
      ]
    },
    {
      "cell_type": "code",
      "source": [
        "!pip install --quiet pandas==2.0.2\n",
        "\n",
        "import pandas as pd\n",
        "from pathlib import Path\n",
        "\n",
        "if not Path(\"olympics_1896_2004.csv\").exists():\n",
        "  !wget https://github.com/jonfernandes/pandas_essential/raw/main/olympics_1896_2004.csv\n",
        "\n",
        "filename = \"olympics_1896_2004.csv\"\n",
        "print(\"Installed all of the necessary files for this section ...\")"
      ],
      "metadata": {
        "id": "5WIpCHr9fIM3"
      },
      "execution_count": null,
      "outputs": []
    },
    {
      "cell_type": "code",
      "source": [
        "oo = (pd.read_csv(filename, skiprows=5)\n",
        "      .drop('Position', axis=1)\n",
        ")\n",
        "oo.head(3)"
      ],
      "metadata": {
        "id": "AGr-1o_FeH1w"
      },
      "execution_count": null,
      "outputs": []
    },
    {
      "cell_type": "code",
      "execution_count": null,
      "metadata": {
        "id": "tMUM65Bmlknv"
      },
      "outputs": [],
      "source": [
        "oo[\"Athlete Name\"].str.lower()"
      ]
    },
    {
      "cell_type": "code",
      "execution_count": null,
      "metadata": {
        "id": "GFFRSXU8oTh-"
      },
      "outputs": [],
      "source": [
        "oo.Event.unique()"
      ]
    },
    {
      "cell_type": "code",
      "execution_count": null,
      "metadata": {
        "id": "0KvKRpO9pVd6"
      },
      "outputs": [],
      "source": [
        "oo.Event.str.capitalize()"
      ]
    },
    {
      "cell_type": "code",
      "execution_count": null,
      "metadata": {
        "id": "Mrk9loD6pprs"
      },
      "outputs": [],
      "source": [
        "oo.Event = oo.Event.str.capitalize()\n",
        "oo.Event.unique()"
      ]
    },
    {
      "cell_type": "code",
      "source": [
        "dir(oo.Event.str)"
      ],
      "metadata": {
        "id": "SoySwvn3e7fQ"
      },
      "execution_count": null,
      "outputs": []
    },
    {
      "cell_type": "code",
      "execution_count": null,
      "metadata": {
        "id": "ljwZKwEKp4C9"
      },
      "outputs": [],
      "source": [
        "oo[\"Athlete Name\"].str.contains(\"Latynina\")"
      ]
    },
    {
      "cell_type": "code",
      "execution_count": null,
      "metadata": {
        "id": "9jxM-wfXqBlg"
      },
      "outputs": [],
      "source": [
        "# Larisa Latynina - most decorated Female athlete\n",
        "oo[oo[\"Athlete Name\"].str.contains(\"Latynina\")]"
      ]
    },
    {
      "cell_type": "code",
      "execution_count": null,
      "metadata": {
        "id": "RE5DJK7pt-eW"
      },
      "outputs": [],
      "source": [
        "oo[oo[\"Athlete Name\"].str.contains(\"LATYNINA\")]"
      ]
    },
    {
      "cell_type": "code",
      "source": [
        "dir(oo.Event.str)"
      ],
      "metadata": {
        "id": "F71XMdtviKk3"
      },
      "execution_count": null,
      "outputs": []
    },
    {
      "cell_type": "code",
      "source": [
        "oo.City = oo.City.str.upper()\n",
        "oo.sample(3)"
      ],
      "metadata": {
        "id": "WQjAIm1Silxv"
      },
      "execution_count": null,
      "outputs": []
    },
    {
      "cell_type": "code",
      "source": [
        "oo.City.unique()"
      ],
      "metadata": {
        "id": "gc1CF1PlBg1l"
      },
      "execution_count": null,
      "outputs": []
    },
    {
      "cell_type": "markdown",
      "metadata": {
        "id": "f6JGaT7avvyR"
      },
      "source": [
        "## Sorting a DataFrame or Series"
      ]
    },
    {
      "cell_type": "code",
      "source": [
        "!pip install --quiet pandas==2.0.2\n",
        "\n",
        "import pandas as pd\n",
        "from pathlib import Path\n",
        "\n",
        "if not Path(\"olympics_1896_2004.csv\").exists():\n",
        "  !wget https://github.com/jonfernandes/pandas_essential/raw/main/olympics_1896_2004.csv\n",
        "\n",
        "filename = \"olympics_1896_2004.csv\"\n",
        "print(\"Installed all of the necessary files for this section ...\")"
      ],
      "metadata": {
        "id": "kzVA7nVSfNJv"
      },
      "execution_count": null,
      "outputs": []
    },
    {
      "cell_type": "code",
      "source": [
        "oo = (pd.read_csv(filename, skiprows=5)\n",
        "      .drop('Position', axis=1)\n",
        ")\n",
        "oo.sample(3)"
      ],
      "metadata": {
        "id": "hLvgmZ4WkVlp"
      },
      "execution_count": null,
      "outputs": []
    },
    {
      "cell_type": "code",
      "execution_count": null,
      "metadata": {
        "id": "qP81z2s4vvyV"
      },
      "outputs": [],
      "source": [
        "oo[\"Athlete Name\"].sort_values()"
      ]
    },
    {
      "cell_type": "code",
      "execution_count": null,
      "metadata": {
        "id": "LYg8VS5Iw139"
      },
      "outputs": [],
      "source": [
        "type(oo[\"Athlete Name\"].sort_values())"
      ]
    },
    {
      "cell_type": "code",
      "execution_count": null,
      "metadata": {
        "id": "lM2n1Iq5w6US"
      },
      "outputs": [],
      "source": [
        "oo.sort_values(\"Athlete Name\")"
      ]
    },
    {
      "cell_type": "code",
      "execution_count": null,
      "metadata": {
        "id": "tm7lexN9xSsJ"
      },
      "outputs": [],
      "source": [
        "type(oo.sort_values(\"Athlete Name\"))"
      ]
    },
    {
      "cell_type": "code",
      "execution_count": null,
      "metadata": {
        "id": "fmTzGpfCxFsJ"
      },
      "outputs": [],
      "source": [
        "oo.head(3)"
      ]
    },
    {
      "cell_type": "code",
      "source": [
        "oo.sort_values(\"Athlete Name\", ascending=False)"
      ],
      "metadata": {
        "id": "d_C8hopolmqH"
      },
      "execution_count": null,
      "outputs": []
    },
    {
      "cell_type": "code",
      "execution_count": null,
      "metadata": {
        "id": "6_lOD6wExwOg"
      },
      "outputs": [],
      "source": [
        "oo.sort_values(\"Athlete Name\", ascending=False).head(25)"
      ]
    },
    {
      "cell_type": "code",
      "execution_count": null,
      "metadata": {
        "id": "HVYkoY25vvyW"
      },
      "outputs": [],
      "source": [
        "oo.sort_values(by=['Year','Athlete Name'])"
      ]
    },
    {
      "cell_type": "code",
      "execution_count": null,
      "metadata": {
        "id": "ADjQXqsJvvyW"
      },
      "outputs": [],
      "source": [
        "oo.sort_values(by=[\"Year\", \"Athlete Name\"], ascending=[False, True])"
      ]
    },
    {
      "cell_type": "code",
      "execution_count": null,
      "metadata": {
        "id": "KzxqFKgSyr3q"
      },
      "outputs": [],
      "source": [
        "oo.head(7)"
      ]
    },
    {
      "cell_type": "code",
      "execution_count": null,
      "metadata": {
        "id": "Z4UEv9N-0Pq4"
      },
      "outputs": [],
      "source": [
        "oo.sort_values(by=[\"Year\", \"Event\", \"Medal\"], ascending=[True, True, False]).head(7)"
      ]
    },
    {
      "cell_type": "code",
      "source": [
        "oo.dtypes"
      ],
      "metadata": {
        "id": "fdFb8ZTfEcJv"
      },
      "execution_count": null,
      "outputs": []
    },
    {
      "cell_type": "markdown",
      "metadata": {
        "id": "B66y0jue2DMa"
      },
      "source": [
        "## Working with data types (dtype)"
      ]
    },
    {
      "cell_type": "code",
      "source": [
        "!pip install --quiet pandas==2.0.2\n",
        "\n",
        "import pandas as pd\n",
        "from pathlib import Path\n",
        "\n",
        "if not Path(\"olympics_1896_2004.csv\").exists():\n",
        "  !wget https://github.com/jonfernandes/pandas_essential/raw/main/olympics_1896_2004.csv\n",
        "\n",
        "filename = \"olympics_1896_2004.csv\"\n",
        "print(\"Installed all of the necessary files for this section ...\")"
      ],
      "metadata": {
        "id": "TToL2dscfPOv"
      },
      "execution_count": null,
      "outputs": []
    },
    {
      "cell_type": "code",
      "source": [
        "oo = (pd.read_csv(filename, skiprows=5)\n",
        "      .drop('Position', axis=1)\n",
        ")\n",
        "oo.sample(3)"
      ],
      "metadata": {
        "id": "jRjIv_lpvgLA"
      },
      "execution_count": null,
      "outputs": []
    },
    {
      "cell_type": "code",
      "execution_count": null,
      "metadata": {
        "id": "eImgvCkE2DMc"
      },
      "outputs": [],
      "source": [
        "oo.dtypes"
      ]
    },
    {
      "cell_type": "code",
      "execution_count": null,
      "metadata": {
        "id": "Z3cGak7D47Kf"
      },
      "outputs": [],
      "source": [
        "oo.Medal.unique()"
      ]
    },
    {
      "cell_type": "code",
      "execution_count": null,
      "metadata": {
        "id": "FEUzLnJt2DMc"
      },
      "outputs": [],
      "source": [
        "oo.Medal = oo.Medal.astype(\"category\")\n",
        "oo.dtypes"
      ]
    },
    {
      "cell_type": "code",
      "execution_count": null,
      "metadata": {
        "id": "bAmV0u-Y6ZjR"
      },
      "outputs": [],
      "source": [
        "oo.Gender.unique()"
      ]
    },
    {
      "cell_type": "code",
      "execution_count": null,
      "metadata": {
        "id": "bBeXGHUJ6iAf"
      },
      "outputs": [],
      "source": [
        "oo['Event Gender'].unique()"
      ]
    },
    {
      "cell_type": "code",
      "execution_count": null,
      "metadata": {
        "id": "N0N06RbL2DMc"
      },
      "outputs": [],
      "source": [
        "oo.Gender = oo.Gender.astype(\"category\")\n",
        "oo['Event Gender'] = oo['Event Gender'].astype(\"category\")\n",
        "oo.dtypes"
      ]
    },
    {
      "cell_type": "code",
      "execution_count": null,
      "metadata": {
        "id": "IWPYJ5622DMd"
      },
      "outputs": [],
      "source": [
        "oo.Medal.astype(\"category\")"
      ]
    },
    {
      "cell_type": "code",
      "execution_count": null,
      "metadata": {
        "id": "dZfDXytt2DMd"
      },
      "outputs": [],
      "source": [
        "pd.Categorical?"
      ]
    },
    {
      "cell_type": "code",
      "execution_count": null,
      "metadata": {
        "id": "6-KFI_Eb2DMd"
      },
      "outputs": [],
      "source": [
        "medal_order = [\"Bronze\", \"Silver\", \"Gold\"]\n",
        "pd.Categorical(oo.Medal, categories=medal_order, ordered=True)"
      ]
    },
    {
      "cell_type": "code",
      "execution_count": null,
      "metadata": {
        "id": "D93d0_Wr2DMe"
      },
      "outputs": [],
      "source": [
        "oo.Medal = pd.Categorical(oo.Medal, categories=medal_order, ordered=True)\n",
        "oo.dtypes"
      ]
    },
    {
      "cell_type": "code",
      "source": [
        "oo.Medal"
      ],
      "metadata": {
        "id": "GihNArACC_oT"
      },
      "execution_count": null,
      "outputs": []
    },
    {
      "cell_type": "code",
      "execution_count": null,
      "metadata": {
        "id": "y0jfCp2R8JRn"
      },
      "outputs": [],
      "source": [
        "oo.sort_values(by=[\"Year\", \"Event\", \"Medal\"], ascending=[True, True, False]).head(7)"
      ]
    },
    {
      "cell_type": "markdown",
      "source": [
        "## Memory usage of different dtypes"
      ],
      "metadata": {
        "id": "gIiaB-pcEKdf"
      }
    },
    {
      "cell_type": "code",
      "source": [
        "!pip install --quiet pandas==2.0.2\n",
        "\n",
        "import pandas as pd\n",
        "from pathlib import Path\n",
        "\n",
        "if not Path(\"olympics_1896_2004.csv\").exists():\n",
        "  !wget https://github.com/jonfernandes/pandas_essential/raw/main/olympics_1896_2004.csv\n",
        "\n",
        "filename = \"olympics_1896_2004.csv\"\n",
        "print(\"Installed all of the necessary files for this section ...\")"
      ],
      "metadata": {
        "id": "6YonaJwdETbf"
      },
      "execution_count": null,
      "outputs": []
    },
    {
      "cell_type": "code",
      "execution_count": null,
      "metadata": {
        "id": "9zzPWxb2-uRW"
      },
      "outputs": [],
      "source": [
        "df = pd.read_csv(filename, skiprows=5)\n",
        "df.dtypes"
      ]
    },
    {
      "cell_type": "code",
      "execution_count": null,
      "metadata": {
        "id": "ZLK0wGa0-yJl"
      },
      "outputs": [],
      "source": [
        "oo.dtypes"
      ]
    },
    {
      "cell_type": "code",
      "source": [
        "oo.Medal.memory_usage?"
      ],
      "metadata": {
        "id": "Cvd_ExfYda3V"
      },
      "execution_count": null,
      "outputs": []
    },
    {
      "cell_type": "code",
      "execution_count": null,
      "metadata": {
        "id": "BZSld4yT2DMg"
      },
      "outputs": [],
      "source": [
        "print(f\"Medal series memory usage using dtype category: {oo.Medal.memory_usage(deep=True)}\")\n",
        "print(f\"Medal series memory usage using dtype object: {df.Medal.memory_usage(deep=True)}\")"
      ]
    },
    {
      "cell_type": "code",
      "execution_count": null,
      "metadata": {
        "id": "EZoF7uo-BcAV"
      },
      "outputs": [],
      "source": [
        "oo.Medal.memory_usage(deep=True) / df.Medal.memory_usage(deep=True)"
      ]
    },
    {
      "cell_type": "code",
      "execution_count": null,
      "metadata": {
        "id": "rrwnjQH32DMf"
      },
      "outputs": [],
      "source": [
        "print(f\"Gender series memory usage using dtype category: {oo.Gender.memory_usage(deep=True)}\")\n",
        "print(f\"Gender series memory usage using dtype object: {df.Gender.memory_usage(deep=True)}\")\n",
        "print(f\"Gender series memory usage using dtype category: {oo['Event Gender'].memory_usage(deep=True)}\")\n",
        "print(f\"Gender series memory usage using dtype object: {df['Event Gender'].memory_usage(deep=True)}\")"
      ]
    },
    {
      "cell_type": "code",
      "execution_count": null,
      "metadata": {
        "id": "XNQxzZDw9lz_"
      },
      "outputs": [],
      "source": [
        "oo.City.astype(\"string\")"
      ]
    },
    {
      "cell_type": "code",
      "execution_count": null,
      "metadata": {
        "id": "klsqOxME9-XF"
      },
      "outputs": [],
      "source": [
        "oo.sample(2)"
      ]
    },
    {
      "cell_type": "code",
      "source": [
        "oo.dtypes"
      ],
      "metadata": {
        "id": "6iW7ALfUF4iY"
      },
      "execution_count": null,
      "outputs": []
    },
    {
      "cell_type": "code",
      "execution_count": null,
      "metadata": {
        "id": "gg6Ks_9g9ump"
      },
      "outputs": [],
      "source": [
        "oo.City = oo.City.astype(\"string\")\n",
        "oo.Sport = oo.Sport.astype(\"string\")\n",
        "oo.Discipline = oo.Discipline.astype(\"string\")\n",
        "oo[\"Athlete Name\"] = oo[\"Athlete Name\"].astype(\"string\")\n",
        "oo.NOC = oo.NOC.astype(\"string\")\n",
        "oo.Event = oo.Event.astype(\"string\")\n",
        "oo.dtypes"
      ]
    },
    {
      "cell_type": "code",
      "source": [
        "oo.City.dtype"
      ],
      "metadata": {
        "id": "HFM79UpXeQJw"
      },
      "execution_count": null,
      "outputs": []
    },
    {
      "cell_type": "code",
      "source": [
        "df.City.dtype"
      ],
      "metadata": {
        "id": "0yvz-Uj0etHB"
      },
      "execution_count": null,
      "outputs": []
    },
    {
      "cell_type": "code",
      "execution_count": null,
      "metadata": {
        "id": "6Yy4JJQKFa5D"
      },
      "outputs": [],
      "source": [
        "print(f\"City series memory usage using dtype string: {oo.City.memory_usage(deep=True)}\")\n",
        "print(f\"City series memory usage using dtype object: {df.City.memory_usage(deep=True)}\")"
      ]
    },
    {
      "cell_type": "markdown",
      "metadata": {
        "id": "tW9suZ3CGCpG"
      },
      "source": [
        "## Defining dtypes when you read in a file"
      ]
    },
    {
      "cell_type": "code",
      "source": [
        "!pip install --quiet pandas==2.0.2\n",
        "\n",
        "import pandas as pd\n",
        "from pathlib import Path\n",
        "\n",
        "if not Path(\"olympics_1896_2004.csv\").exists():\n",
        "  !wget https://github.com/jonfernandes/pandas_essential/raw/main/olympics_1896_2004.csv\n",
        "\n",
        "filename = \"olympics_1896_2004.csv\"\n",
        "print(\"Installed all of the necessary files for this section ...\")"
      ],
      "metadata": {
        "id": "hsUPA47HfriT"
      },
      "execution_count": null,
      "outputs": []
    },
    {
      "cell_type": "code",
      "source": [
        "oo = (pd.read_csv(filename, skiprows=5)\n",
        "      .drop('Position', axis=1)\n",
        ")\n",
        "oo.sample(3)"
      ],
      "metadata": {
        "id": "Zk8t5MkRIE5N"
      },
      "execution_count": null,
      "outputs": []
    },
    {
      "cell_type": "code",
      "source": [
        "oo.dtypes"
      ],
      "metadata": {
        "id": "vZymSxdVI28x"
      },
      "execution_count": null,
      "outputs": []
    },
    {
      "cell_type": "code",
      "execution_count": null,
      "metadata": {
        "id": "rFdyP-IHGkjl"
      },
      "outputs": [],
      "source": [
        "dtype_mapper = {\"Year\": \"int64\",\n",
        "                \"City\": \"string\",\n",
        "                \"Sport\": \"string\",\n",
        "                \"Discipline\": \"string\",\n",
        "                \"Athlete Name\": \"string\",\n",
        "                \"NOC\": \"string\",\n",
        "                \"Gender\": \"category\",\n",
        "                \"Event\": \"string\",\n",
        "                \"Event_gender\": \"category\",\n",
        "                \"Medal\": \"category\"}\n",
        "\n",
        "dtype_mapper"
      ]
    },
    {
      "cell_type": "code",
      "execution_count": null,
      "metadata": {
        "id": "3mfyl9ZnLjWt"
      },
      "outputs": [],
      "source": [
        "pd.api.types.CategoricalDtype?"
      ]
    },
    {
      "cell_type": "code",
      "execution_count": null,
      "metadata": {
        "id": "1UaAriDnIJd8"
      },
      "outputs": [],
      "source": [
        "ordered_medals = pd.api.types.CategoricalDtype(categories=[\"Bronze\", \"Silver\", \"Gold\"], ordered=True)\n",
        "ordered_medals"
      ]
    },
    {
      "cell_type": "code",
      "execution_count": null,
      "metadata": {
        "id": "C8EZPlNLJD2a"
      },
      "outputs": [],
      "source": [
        "dtype_mapper = {\"Year\": \"int64\",\n",
        "                \"City\": \"string\",\n",
        "                \"Sport\": \"string\",\n",
        "                \"Discipline\": \"string\",\n",
        "                \"Athlete Name\": \"string\",\n",
        "                \"NOC\": \"string\",\n",
        "                \"Gender\": \"category\",\n",
        "                \"Event\": \"string\",\n",
        "                \"Event_gender\": \"category\",\n",
        "                \"Medal\": ordered_medals}\n",
        "\n",
        "dtype_mapper"
      ]
    },
    {
      "cell_type": "code",
      "execution_count": null,
      "metadata": {
        "id": "hHzmd08z2DMf"
      },
      "outputs": [],
      "source": [
        "oo = pd.read_csv(filename, skiprows=5, dtype=dtype_mapper)\n",
        "oo.sample(3)"
      ]
    },
    {
      "cell_type": "code",
      "execution_count": null,
      "metadata": {
        "id": "0JGknumqLPNg"
      },
      "outputs": [],
      "source": [
        "oo.dtypes"
      ]
    },
    {
      "cell_type": "code",
      "source": [
        "oo[\"Event Gender\"].unique()"
      ],
      "metadata": {
        "id": "mqBaGeK_Je4B"
      },
      "execution_count": null,
      "outputs": []
    },
    {
      "cell_type": "code",
      "source": [
        "oo = pd.read_csv(filename, skiprows=5, dtype=dtype_mapper)\n",
        "oo['Event Gender'] = oo['Event Gender'].astype(\"category\")\n",
        "oo.dtypes"
      ],
      "metadata": {
        "id": "pkh4kO8nWciS"
      },
      "execution_count": null,
      "outputs": []
    },
    {
      "cell_type": "markdown",
      "metadata": {
        "id": "fBBqvMS_uhNk"
      },
      "source": [
        "## Python Functions"
      ]
    },
    {
      "cell_type": "code",
      "source": [
        "!pip install --quiet pandas==2.0.2\n",
        "\n",
        "import pandas as pd\n",
        "from pathlib import Path\n",
        "\n",
        "if not Path(\"olympics_1896_2004.csv\").exists():\n",
        "  !wget https://github.com/jonfernandes/pandas_essential/raw/main/olympics_1896_2004.csv\n",
        "\n",
        "filename = \"olympics_1896_2004.csv\"\n",
        "print(\"Installed all of the necessary files for this section ...\")"
      ],
      "metadata": {
        "id": "TjBgdDnGiTA2"
      },
      "execution_count": null,
      "outputs": []
    },
    {
      "cell_type": "code",
      "execution_count": null,
      "metadata": {
        "id": "E7dIcbNPUTn1"
      },
      "outputs": [],
      "source": [
        "def show_df(filename=\"olympics_1896_2004.csv\"):\n",
        "  \"\"\"Read in csv file and display DataFrame\"\"\"\n",
        "  df = pd.read_csv(filename, skiprows=5)\n",
        "  return df\n",
        "\n",
        "show_df()"
      ]
    },
    {
      "cell_type": "code",
      "execution_count": null,
      "metadata": {
        "id": "O0g0X3fKVU6L"
      },
      "outputs": [],
      "source": [
        "type(show_df())"
      ]
    },
    {
      "cell_type": "code",
      "execution_count": null,
      "metadata": {
        "id": "ihKcmGeLZKMW"
      },
      "outputs": [],
      "source": [
        "ordered_medals = pd.api.types.CategoricalDtype(categories=[\"Bronze\", \"Silver\", \"Gold\"], ordered=True)\n",
        "dtype_mapper = {\"Year\": \"int64\",\n",
        "                \"City\": \"string\",\n",
        "                \"Sport\": \"string\",\n",
        "                \"Discipline\": \"string\",\n",
        "                \"Athlete Name\": \"string\",\n",
        "                \"NOC\": \"string\",\n",
        "                \"Gender\": \"category\",\n",
        "                \"Event\": \"string\",\n",
        "                \"Event_gender\": \"category\",\n",
        "                \"Medal\": ordered_medals}\n",
        "\n",
        "dtype_mapper"
      ]
    },
    {
      "cell_type": "code",
      "execution_count": null,
      "metadata": {
        "id": "oCJcaJFaZMOU"
      },
      "outputs": [],
      "source": [
        "oo = (pd.read_csv(filename, skiprows=5, dtype=dtype_mapper)\n",
        "      .drop('Position', axis=1)\n",
        ")\n",
        "oo.sample(3)"
      ]
    },
    {
      "cell_type": "code",
      "execution_count": null,
      "metadata": {
        "id": "3oXQfacqursw"
      },
      "outputs": [],
      "source": [
        "def preprocess(filename = \"olympics_1896_2004.csv\"):\n",
        "  \"\"\"Preparing and transforming dataframe\"\"\"\n",
        "  print(f\"Preprocessing {filename} ...\\n\")\n",
        "  ordered_medals = pd.api.types.CategoricalDtype(categories=[\"Bronze\", \"Silver\", \"Gold\"], ordered=True)\n",
        "  dtype_mapper = {\"Year\": \"int64\",\n",
        "                \"City\": \"string\",\n",
        "                \"Sport\": \"string\",\n",
        "                \"Discipline\": \"string\",\n",
        "                \"Athlete Name\": \"string\",\n",
        "                \"NOC\": \"string\",\n",
        "                \"Gender\": \"category\",\n",
        "                \"Event\": \"string\",\n",
        "                \"Event_gender\": \"category\",\n",
        "                \"Medal\": ordered_medals}\n",
        "  df = (pd.read_csv(filename, skiprows=5, dtype=dtype_mapper)\n",
        "        .drop('Position', axis=1)\n",
        "  )\n",
        "\n",
        "  return df\n",
        "\n",
        "preprocess()"
      ]
    },
    {
      "cell_type": "code",
      "execution_count": null,
      "metadata": {
        "id": "BwQNeMAivzLq"
      },
      "outputs": [],
      "source": [
        "preprocess()"
      ]
    },
    {
      "cell_type": "code",
      "execution_count": null,
      "metadata": {
        "id": "xREoRlWqvp9J"
      },
      "outputs": [],
      "source": [
        "oo = preprocess()\n",
        "oo.sample(3)"
      ]
    },
    {
      "cell_type": "code",
      "source": [
        "oo.dtypes"
      ],
      "metadata": {
        "id": "kGQ5zFebVPAV"
      },
      "execution_count": null,
      "outputs": []
    },
    {
      "cell_type": "code",
      "source": [
        "oo[\"Event Gender\"].unique()"
      ],
      "metadata": {
        "id": "jWr1WWwyrj3Z"
      },
      "execution_count": null,
      "outputs": []
    },
    {
      "cell_type": "code",
      "source": [
        "def preprocess(filename = \"olympics_1896_2004.csv\"):\n",
        "  \"\"\"Preparing and transforming dataframe\"\"\"\n",
        "  print(f\"Preprocessing {filename} ...\\n\")\n",
        "  ordered_medals = pd.api.types.CategoricalDtype(categories=[\"Bronze\", \"Silver\", \"Gold\"], ordered=True)\n",
        "  dtype_mapper = {\"Year\": \"int64\",\n",
        "                \"City\": \"string\",\n",
        "                \"Sport\": \"string\",\n",
        "                \"Discipline\": \"string\",\n",
        "                \"Athlete Name\": \"string\",\n",
        "                \"NOC\": \"string\",\n",
        "                \"Gender\": \"category\",\n",
        "                \"Event\": \"string\",\n",
        "                \"Event_gender\": \"category\",\n",
        "                \"Medal\": ordered_medals}\n",
        "  df = (pd.read_csv(filename, skiprows=5, dtype=dtype_mapper)\n",
        "        .drop('Position', axis=1)\n",
        "  )\n",
        "  df[\"Event Gender\"] = df[\"Event Gender\"].astype(\"category\")\n",
        "  return df\n",
        "\n",
        "oo = preprocess()\n",
        "oo.sample(3)"
      ],
      "metadata": {
        "id": "9RhvwIbZXwPo"
      },
      "execution_count": null,
      "outputs": []
    },
    {
      "cell_type": "code",
      "source": [
        "oo.dtypes"
      ],
      "metadata": {
        "id": "bjXSAvd_YBi1"
      },
      "execution_count": null,
      "outputs": []
    },
    {
      "cell_type": "markdown",
      "metadata": {
        "id": "RM1S3nJ0vcXs"
      },
      "source": [
        "## Working with Indexes"
      ]
    },
    {
      "cell_type": "code",
      "source": [
        "!pip install --quiet pandas==2.0.2\n",
        "\n",
        "import pandas as pd\n",
        "from pathlib import Path\n",
        "\n",
        "if not Path(\"olympics_1896_2004.csv\").exists():\n",
        "  !wget https://github.com/jonfernandes/pandas_essential/raw/main/olympics_1896_2004.csv\n",
        "\n",
        "filename = \"olympics_1896_2004.csv\"\n",
        "print(\"Installed all of the necessary files for this section ...\")"
      ],
      "metadata": {
        "id": "ELUrukUKprZB"
      },
      "execution_count": null,
      "outputs": []
    },
    {
      "cell_type": "code",
      "execution_count": null,
      "metadata": {
        "id": "2zPiuEBcvblg"
      },
      "outputs": [],
      "source": [
        "def preprocess(filename = \"olympics_1896_2004.csv\"):\n",
        "  \"\"\"Preparing and transforming dataframe\"\"\"\n",
        "  print(f\"Preprocessing {filename} ...\\n\")\n",
        "  ordered_medals = pd.api.types.CategoricalDtype(categories=[\"Bronze\", \"Silver\", \"Gold\"], ordered=True)\n",
        "  dtype_mapper = {\"Year\": \"int64\",\n",
        "                \"City\": \"string\",\n",
        "                \"Sport\": \"string\",\n",
        "                \"Discipline\": \"string\",\n",
        "                \"Athlete Name\": \"string\",\n",
        "                \"NOC\": \"string\",\n",
        "                \"Gender\": \"category\",\n",
        "                \"Event\": \"string\",\n",
        "                \"Event_gender\": \"category\",\n",
        "                \"Medal\": ordered_medals}\n",
        "  df = (pd.read_csv(filename, skiprows=5, dtype=dtype_mapper)\n",
        "        .drop('Position', axis=1)\n",
        "  )\n",
        "  df[\"Event Gender\"] = df[\"Event Gender\"].astype(\"category\")\n",
        "  return df\n",
        "\n",
        "oo = preprocess()\n",
        "oo.head(5)"
      ]
    },
    {
      "cell_type": "code",
      "execution_count": null,
      "metadata": {
        "id": "YGeesWuLw5Tn"
      },
      "outputs": [],
      "source": [
        "oo.index"
      ]
    },
    {
      "cell_type": "code",
      "execution_count": null,
      "metadata": {
        "id": "ZW885B2MxOH-"
      },
      "outputs": [],
      "source": [
        "oo.columns"
      ]
    },
    {
      "cell_type": "code",
      "execution_count": null,
      "metadata": {
        "id": "oGmUPXC6yLWV"
      },
      "outputs": [],
      "source": [
        "oo.shape"
      ]
    },
    {
      "cell_type": "code",
      "execution_count": null,
      "metadata": {
        "id": "joiGhkGTymci"
      },
      "outputs": [],
      "source": [
        "pd.read_csv(filename, skiprows=5, header=None).head()\n"
      ]
    },
    {
      "cell_type": "code",
      "execution_count": null,
      "metadata": {
        "id": "Fjh9SJ4Q0POv"
      },
      "outputs": [],
      "source": [
        "oo = preprocess()\n",
        "oo.head(5)"
      ]
    },
    {
      "cell_type": "code",
      "execution_count": null,
      "metadata": {
        "id": "Y0jhalvD1wJr"
      },
      "outputs": [],
      "source": [
        "oo[oo['Athlete Name'].str.contains(\"LEWIS, Carl\")]"
      ]
    },
    {
      "cell_type": "code",
      "execution_count": null,
      "metadata": {
        "id": "zYCkIFOi2Htz"
      },
      "outputs": [],
      "source": [
        "oo.loc[22719, \"Event\"]"
      ]
    },
    {
      "cell_type": "code",
      "execution_count": null,
      "metadata": {
        "id": "ONnjbHTa3Amt"
      },
      "outputs": [],
      "source": [
        "oo = oo.set_index(\"Athlete Name\")\n",
        "oo.head(5)"
      ]
    },
    {
      "cell_type": "code",
      "execution_count": null,
      "metadata": {
        "id": "sNKbF5EW4CfA"
      },
      "outputs": [],
      "source": [
        "oo.index"
      ]
    },
    {
      "cell_type": "code",
      "execution_count": null,
      "metadata": {
        "id": "p4HUipxR3Vqt"
      },
      "outputs": [],
      "source": [
        "oo.loc[\"LEWIS, Carl\", \"Event\"]"
      ]
    },
    {
      "cell_type": "code",
      "execution_count": null,
      "metadata": {
        "id": "hivXx2NJ4stZ"
      },
      "outputs": [],
      "source": [
        "oo.head(3)"
      ]
    },
    {
      "cell_type": "code",
      "execution_count": null,
      "metadata": {
        "id": "HyG7IgT54Vsx"
      },
      "outputs": [],
      "source": [
        "oo.columns"
      ]
    },
    {
      "cell_type": "code",
      "execution_count": null,
      "metadata": {
        "id": "JuTTmVYQ4Rs1"
      },
      "outputs": [],
      "source": [
        "oo.shape"
      ]
    },
    {
      "cell_type": "code",
      "execution_count": null,
      "metadata": {
        "id": "IvMMCdGj6TJI"
      },
      "outputs": [],
      "source": [
        "oo.head(3)"
      ]
    },
    {
      "cell_type": "code",
      "execution_count": null,
      "metadata": {
        "id": "7lnnepwCDU95"
      },
      "outputs": [],
      "source": [
        "oo.loc[\"LEWIS, Carl\", [\"Year\", \"Event\", \"Medal\"]]"
      ]
    },
    {
      "cell_type": "code",
      "execution_count": null,
      "metadata": {
        "id": "UwegmOH2DvrZ"
      },
      "outputs": [],
      "source": [
        "oo.loc[\"LEWIS, Carl\", :]"
      ]
    },
    {
      "cell_type": "code",
      "execution_count": null,
      "metadata": {
        "id": "Zjq6Ap2_D7_s"
      },
      "outputs": [],
      "source": [
        "oo.loc[\"LEWIS, Carl\"]"
      ]
    },
    {
      "cell_type": "code",
      "execution_count": null,
      "metadata": {
        "id": "aCqAQxgw6dfc"
      },
      "outputs": [],
      "source": [
        "oo = oo.sort_index()\n",
        "oo.head(3)"
      ]
    },
    {
      "cell_type": "code",
      "execution_count": null,
      "metadata": {
        "id": "KICIHBuU5HBL"
      },
      "outputs": [],
      "source": [
        "oo = oo.reset_index()\n",
        "oo.head(3)"
      ]
    },
    {
      "cell_type": "code",
      "execution_count": null,
      "metadata": {
        "id": "UK37rcqdCrU2"
      },
      "outputs": [],
      "source": [
        "oo.iloc[0, 0]"
      ]
    },
    {
      "cell_type": "code",
      "source": [
        "oo.iloc[0, 5]"
      ],
      "metadata": {
        "id": "olA305lnyCQg"
      },
      "execution_count": null,
      "outputs": []
    },
    {
      "cell_type": "code",
      "source": [
        "oo.iloc[0, :]"
      ],
      "metadata": {
        "id": "JH7Gr3RLyI8E"
      },
      "execution_count": null,
      "outputs": []
    },
    {
      "cell_type": "code",
      "source": [
        "oo.iloc[0]"
      ],
      "metadata": {
        "id": "raIogoAPyP3N"
      },
      "execution_count": null,
      "outputs": []
    },
    {
      "cell_type": "markdown",
      "metadata": {
        "id": "SCq05iZiwibC"
      },
      "source": [
        "## Being Productive in pandas - My Best Practices"
      ]
    },
    {
      "cell_type": "code",
      "source": [
        "!pip install --quiet pandas==2.0.2\n",
        "\n",
        "import pandas as pd\n",
        "from pathlib import Path\n",
        "\n",
        "if not Path(\"olympics_1896_2004.csv\").exists():\n",
        "  !wget https://github.com/jonfernandes/pandas_essential/raw/main/olympics_1896_2004.csv\n",
        "\n",
        "filename = \"olympics_1896_2004.csv\"\n",
        "print(\"Installed all of the necessary files for this section ...\")"
      ],
      "metadata": {
        "id": "jnHdKL7YpzwM"
      },
      "execution_count": null,
      "outputs": []
    },
    {
      "cell_type": "code",
      "source": [
        "def preprocess(filename = \"olympics_1896_2004.csv\"):\n",
        "  \"\"\"Preparing and transforming dataframe\"\"\"\n",
        "  print(f\"Preprocessing {filename} ...\\n\")\n",
        "  ordered_medals = pd.api.types.CategoricalDtype(categories=[\"Bronze\", \"Silver\", \"Gold\"], ordered=True)\n",
        "  dtype_mapper = {\"Year\": \"int64\",\n",
        "                \"City\": \"string\",\n",
        "                \"Sport\": \"string\",\n",
        "                \"Discipline\": \"string\",\n",
        "                \"Athlete Name\": \"string\",\n",
        "                \"NOC\": \"string\",\n",
        "                \"Gender\": \"category\",\n",
        "                \"Event\": \"string\",\n",
        "                \"Event_gender\": \"category\",\n",
        "                \"Medal\": ordered_medals}\n",
        "  df = (pd.read_csv(filename, skiprows=5, dtype=dtype_mapper)\n",
        "        .drop('Position', axis=1)\n",
        "  )\n",
        "  df[\"Event Gender\"] = df[\"Event Gender\"].astype(\"category\")\n",
        "  return df\n",
        "\n",
        "oo = preprocess()\n",
        "oo.sample(3)"
      ],
      "metadata": {
        "id": "k0-XRGK7nR62"
      },
      "execution_count": null,
      "outputs": []
    },
    {
      "cell_type": "markdown",
      "source": [
        "**Get immediate feedback**"
      ],
      "metadata": {
        "id": "5BP1DH0bm6fn"
      }
    },
    {
      "cell_type": "code",
      "source": [
        "oo = preprocess()"
      ],
      "metadata": {
        "id": "kCnXvBcAm9cD"
      },
      "execution_count": null,
      "outputs": []
    },
    {
      "cell_type": "code",
      "source": [
        "oo.sample(3)"
      ],
      "metadata": {
        "id": "HZTxSp_xqZ0H"
      },
      "execution_count": null,
      "outputs": []
    },
    {
      "cell_type": "code",
      "source": [
        "oo = preprocess()\n",
        "oo.sample(3)"
      ],
      "metadata": {
        "id": "mxt4ISkDnUpd"
      },
      "execution_count": null,
      "outputs": []
    },
    {
      "cell_type": "markdown",
      "source": [
        "**Understand the basics of Python**"
      ],
      "metadata": {
        "id": "Ro0ieaQIcf9m"
      }
    },
    {
      "cell_type": "code",
      "source": [
        "dir(pd)"
      ],
      "metadata": {
        "id": "XKgsz5cVbbBs"
      },
      "execution_count": null,
      "outputs": []
    },
    {
      "cell_type": "code",
      "source": [
        "[func.upper() for func in dir(pd)]"
      ],
      "metadata": {
        "id": "vaTnK1HUcsda"
      },
      "execution_count": null,
      "outputs": []
    },
    {
      "cell_type": "markdown",
      "metadata": {
        "id": "hcg8ujl-mVeu"
      },
      "source": [
        "**Searching for method names**"
      ]
    },
    {
      "cell_type": "code",
      "execution_count": null,
      "metadata": {
        "id": "H8vzfekQwqx4"
      },
      "outputs": [],
      "source": [
        "import re\n",
        "import pandas as pd\n",
        "\n",
        "search_string = \"excel\"\n",
        "\n",
        "[func for func in dir(pd) if re.search(rf\"{search_string}\", func, re.IGNORECASE)]"
      ]
    },
    {
      "cell_type": "code",
      "source": [
        "pd.read_excel?"
      ],
      "metadata": {
        "id": "ryj0jvuKrEB-"
      },
      "execution_count": null,
      "outputs": []
    },
    {
      "cell_type": "code",
      "source": [
        "[func\n",
        " for func in dir(pd)\n",
        " if re.search(rf\"{search_string}\", func, re.IGNORECASE)]"
      ],
      "metadata": {
        "id": "vlhzHMgqztPe"
      },
      "execution_count": null,
      "outputs": []
    },
    {
      "cell_type": "markdown",
      "metadata": {
        "id": "ZeLHFbxnmZQf"
      },
      "source": [
        "**Documentation while staying in the IDE**"
      ]
    },
    {
      "cell_type": "code",
      "execution_count": null,
      "metadata": {
        "id": "50S1wJpKxy3J"
      },
      "outputs": [],
      "source": [
        "pd.read_excel?"
      ]
    },
    {
      "cell_type": "markdown",
      "metadata": {
        "id": "E4v0oobOmjYF"
      },
      "source": [
        "**head() vs. sample()**"
      ]
    },
    {
      "cell_type": "code",
      "execution_count": null,
      "metadata": {
        "id": "K3BAxqULz_Ef"
      },
      "outputs": [],
      "source": [
        "oo = (pd.read_csv(filename, skiprows=5)\n",
        "      .drop('Position', axis=1)\n",
        ")\n",
        "oo.sample(3)"
      ]
    },
    {
      "cell_type": "markdown",
      "metadata": {
        "id": "zXtT_AqrmpzE"
      },
      "source": [
        "**Functions to preprocess data. Modify the data, not the original files**"
      ]
    },
    {
      "cell_type": "code",
      "execution_count": null,
      "metadata": {
        "id": "T_SLXopI0S87"
      },
      "outputs": [],
      "source": [
        "def preprocess(filename):\n",
        "  \"\"\"Transform the data. Change the dataframe and not the original csv files\"\"\"\n",
        "  ...\n",
        "\n",
        "preprocess(filename)"
      ]
    },
    {
      "cell_type": "markdown",
      "metadata": {
        "id": "P_UymMfcmzh8"
      },
      "source": [
        "**Using python assert**"
      ]
    },
    {
      "cell_type": "code",
      "execution_count": null,
      "metadata": {
        "id": "cablAtbT0qAf"
      },
      "outputs": [],
      "source": [
        "oo[(oo.Year < 1896) & (oo.Year > 2004)].shape"
      ]
    },
    {
      "cell_type": "code",
      "execution_count": null,
      "metadata": {
        "id": "xYmXnSHq1ZVE"
      },
      "outputs": [],
      "source": [
        "oo[(oo.Year < 1896) & (oo.Year > 2004)].shape[0] == 0"
      ]
    },
    {
      "cell_type": "code",
      "execution_count": null,
      "metadata": {
        "id": "iCll2J2k5Imw"
      },
      "outputs": [],
      "source": [
        "assert(oo[(oo.Year < 1896) & (oo.Year > 2004)].shape[0] == 0)"
      ]
    },
    {
      "cell_type": "code",
      "execution_count": null,
      "metadata": {
        "id": "VxIi0y9y1dRn"
      },
      "outputs": [],
      "source": [
        "assert(oo[(oo.Year < 1896) & (oo.Year > 2004)].shape[0] == 0)\n",
        "print(\"All tests passed\")"
      ]
    },
    {
      "cell_type": "code",
      "execution_count": null,
      "metadata": {
        "id": "wxO2TQRG5Awz"
      },
      "outputs": [],
      "source": [
        "#assert(oo[(oo.Year < 1896) & (oo.Year > 2004)].shape[0] == (0, 10))\n",
        "#print(\"All tests passed\")"
      ]
    },
    {
      "cell_type": "markdown",
      "metadata": {
        "id": "jC4ahcAcnOot"
      },
      "source": [
        "**Chaining and splitting over several rows. No inplace=True**"
      ]
    },
    {
      "cell_type": "code",
      "execution_count": null,
      "metadata": {
        "id": "frTUBUC357py"
      },
      "outputs": [],
      "source": [
        "oo = pd.read_csv(filename, skiprows=5)\n",
        "oo = oo.drop('Position', axis=1)\n",
        "oo.head(3)"
      ]
    },
    {
      "cell_type": "code",
      "source": [
        "oo = (pd.read_csv(filename, skiprows=5)\n",
        "      .drop('Position', axis=1)\n",
        ")\n",
        "oo.head(3)"
      ],
      "metadata": {
        "id": "PChfl-uKoZC7"
      },
      "execution_count": null,
      "outputs": []
    },
    {
      "cell_type": "code",
      "execution_count": null,
      "metadata": {
        "id": "HKLzCINP_r-h"
      },
      "outputs": [],
      "source": [
        "last3 = pd.read_csv(filename, skiprows=5).sort_values(['Year', 'Athlete Name']).tail(3)\n",
        "last3"
      ]
    },
    {
      "cell_type": "code",
      "execution_count": null,
      "metadata": {
        "id": "JufCdeUYAAfi"
      },
      "outputs": [],
      "source": [
        "last3 = (pd.read_csv(filename, skiprows=5)\n",
        "        .sort_values(['Year', 'Athlete Name'])\n",
        "        .tail(3)\n",
        ")\n",
        "last3"
      ]
    },
    {
      "cell_type": "code",
      "execution_count": null,
      "metadata": {
        "id": "qPynmpjEAgNJ"
      },
      "outputs": [],
      "source": [
        "last3 = (pd.read_csv(filename, skiprows=5)\n",
        "#        .sort_values(['Year', 'Athlete Name'])\n",
        "        .tail(3)\n",
        ")\n",
        "last3"
      ]
    },
    {
      "cell_type": "markdown",
      "source": [
        "**isin()**"
      ],
      "metadata": {
        "id": "6UqKSsGOr_tV"
      }
    },
    {
      "cell_type": "code",
      "source": [
        "oo.Year.isin?"
      ],
      "metadata": {
        "id": "UIz-lkJ_xqVQ"
      },
      "execution_count": null,
      "outputs": []
    },
    {
      "cell_type": "code",
      "source": [
        "years_of_interest = [1972, 1980, 1984, 1992, 2000, 2004]"
      ],
      "metadata": {
        "id": "OCvhY0qYxCRd"
      },
      "execution_count": null,
      "outputs": []
    },
    {
      "cell_type": "code",
      "source": [
        "oo[oo.Year.isin(years_of_interest)]"
      ],
      "metadata": {
        "id": "COsacC9sr_R7"
      },
      "execution_count": null,
      "outputs": []
    },
    {
      "cell_type": "code",
      "source": [
        "oo[~oo.Year.isin(years_of_interest)]"
      ],
      "metadata": {
        "id": "KnnNeawWyGjI"
      },
      "execution_count": null,
      "outputs": []
    },
    {
      "cell_type": "markdown",
      "metadata": {
        "id": "FFNB7w6Kn4wQ"
      },
      "source": [
        "**Finding and dealing with missing values**"
      ]
    },
    {
      "cell_type": "code",
      "execution_count": null,
      "metadata": {
        "id": "OvZWEEl0mPpt"
      },
      "outputs": [],
      "source": [
        "oo.info()"
      ]
    },
    {
      "cell_type": "markdown",
      "metadata": {
        "id": "Z0rYN2NIPxNZ"
      },
      "source": [
        "## Creating Series and DataFrames"
      ]
    },
    {
      "cell_type": "code",
      "source": [
        "import pandas as pd"
      ],
      "metadata": {
        "id": "aV6MY1Xt0KXm"
      },
      "execution_count": null,
      "outputs": []
    },
    {
      "cell_type": "code",
      "execution_count": null,
      "metadata": {
        "id": "7JJx8J__NISg"
      },
      "outputs": [],
      "source": [
        "city = [\"London\", \"Rio\", \"Tokyo\"]\n",
        "start_date = [\"27th Jul, 2012\", \"5th Aug, 2016\", \"23rd July, 2021\"]"
      ]
    },
    {
      "cell_type": "code",
      "execution_count": null,
      "metadata": {
        "id": "wSq6TkwFp09e"
      },
      "outputs": [],
      "source": [
        "pd.Series(city)"
      ]
    },
    {
      "cell_type": "code",
      "execution_count": null,
      "metadata": {
        "id": "2enzKn6_b5Sp"
      },
      "outputs": [],
      "source": [
        "pd.DataFrame({\"City\": pd.Series(city),\n",
        "              \"Start Date\": pd.Series(start_date)})"
      ]
    },
    {
      "cell_type": "code",
      "execution_count": null,
      "metadata": {
        "id": "sQhbHFRCAhF5"
      },
      "outputs": [],
      "source": [
        "pd.DataFrame({\"City\": city,\n",
        "              \"Start Date\": start_date})"
      ]
    },
    {
      "cell_type": "code",
      "source": [
        "pd.DataFrame(zip(city, start_date))"
      ],
      "metadata": {
        "id": "5s9m1kYq2E1q"
      },
      "execution_count": null,
      "outputs": []
    },
    {
      "cell_type": "code",
      "execution_count": null,
      "metadata": {
        "id": "mbFN8_X5bJ7K"
      },
      "outputs": [],
      "source": [
        "pd.DataFrame(zip(city, start_date), columns=[\"City\", \"Start Date\"])"
      ]
    },
    {
      "cell_type": "markdown",
      "metadata": {
        "id": "mFDo3MYfd60y"
      },
      "source": [
        "## Working with dates"
      ]
    },
    {
      "cell_type": "code",
      "source": [
        "import pandas as pd"
      ],
      "metadata": {
        "id": "kv-qiZLQ2L4e"
      },
      "execution_count": null,
      "outputs": []
    },
    {
      "cell_type": "code",
      "execution_count": null,
      "metadata": {
        "id": "tCe5g9CpfTda"
      },
      "outputs": [],
      "source": [
        "city = [\"London\", \"Rio\", \"Tokyo\"]\n",
        "start_date = [\"07-27-2012\", \"5th Aug, 2016\", \"23rd Jul, 2021\"]\n",
        "end_date = [\"12th Aug, 2012\", \"21-08-2016\", \"8th Aug, 2021\"]"
      ]
    },
    {
      "cell_type": "code",
      "execution_count": null,
      "metadata": {
        "id": "rJMXpKQTdx-g"
      },
      "outputs": [],
      "source": [
        "games = pd.DataFrame(zip(city, start_date, end_date), columns=[\"City\", \"Start Date\", \"End Date\"])\n",
        "games"
      ]
    },
    {
      "cell_type": "code",
      "execution_count": null,
      "metadata": {
        "id": "GmCoDvSyd_C6"
      },
      "outputs": [],
      "source": [
        "games.dtypes"
      ]
    },
    {
      "cell_type": "code",
      "execution_count": null,
      "metadata": {
        "id": "Wz1bAV3SeCk_"
      },
      "outputs": [],
      "source": [
        "import re\n",
        "import pandas as pd\n",
        "\n",
        "search_string = \"date\"\n",
        "\n",
        "[func for func in dir(pd) if re.search(rf\"{search_string}\", func, re.IGNORECASE)]"
      ]
    },
    {
      "cell_type": "code",
      "source": [
        "pd.to_datetime?"
      ],
      "metadata": {
        "id": "orEyvILk6ueE"
      },
      "execution_count": null,
      "outputs": []
    },
    {
      "cell_type": "code",
      "execution_count": null,
      "metadata": {
        "id": "rD15NL_veS6L"
      },
      "outputs": [],
      "source": [
        "#pd.to_datetime(games[\"Start Date\"])"
      ]
    },
    {
      "cell_type": "code",
      "source": [
        "pd.to_datetime(games[\"Start Date\"], format='mixed')"
      ],
      "metadata": {
        "id": "bp1qfHo28QoH"
      },
      "execution_count": null,
      "outputs": []
    },
    {
      "cell_type": "code",
      "execution_count": null,
      "metadata": {
        "id": "85602zibeibf"
      },
      "outputs": [],
      "source": [
        "games[\"Start Date\"] = pd.to_datetime(games[\"Start Date\"], format='mixed')\n",
        "games[\"End Date\"] = pd.to_datetime(games[\"End Date\"], format='mixed')\n",
        "games[\"City\"] = games.City.astype(\"string\")\n",
        "games"
      ]
    },
    {
      "cell_type": "code",
      "execution_count": null,
      "metadata": {
        "id": "ZvB1OP3Xen30"
      },
      "outputs": [],
      "source": [
        "games.dtypes"
      ]
    },
    {
      "cell_type": "code",
      "execution_count": null,
      "metadata": {
        "id": "vyq0kyJRiVcV"
      },
      "outputs": [],
      "source": [
        "games[\"End Date\"]"
      ]
    },
    {
      "cell_type": "code",
      "execution_count": null,
      "metadata": {
        "id": "jYSyhes9iXYh"
      },
      "outputs": [],
      "source": [
        "games[\"Start Date\"]"
      ]
    },
    {
      "cell_type": "code",
      "execution_count": null,
      "metadata": {
        "id": "BiCTrRtth_75"
      },
      "outputs": [],
      "source": [
        "games[\"End Date\"] - games[\"Start Date\"]"
      ]
    },
    {
      "cell_type": "code",
      "execution_count": null,
      "metadata": {
        "id": "JniIyVA-jDeN"
      },
      "outputs": [],
      "source": [
        "games = games.assign(duration=games[\"End Date\"] - games[\"Start Date\"])\n",
        "games"
      ]
    },
    {
      "cell_type": "code",
      "execution_count": null,
      "metadata": {
        "id": "8ePDtaiqjljJ"
      },
      "outputs": [],
      "source": [
        "games.dtypes"
      ]
    },
    {
      "cell_type": "markdown",
      "metadata": {
        "id": "bU802QvxZOh_"
      },
      "source": [
        "## Combining DataFrames"
      ]
    },
    {
      "cell_type": "code",
      "source": [
        "import pandas as pd"
      ],
      "metadata": {
        "id": "uAHilytz_xAs"
      },
      "execution_count": null,
      "outputs": []
    },
    {
      "cell_type": "code",
      "execution_count": null,
      "metadata": {
        "id": "Bfn4C3ZTdOIC"
      },
      "outputs": [],
      "source": [
        "start = pd.DataFrame({\"city\": [\"London\", \"Rio\", \"Tokyo\"],\n",
        "                      \"start_date\": [\"27th Jul, 2012\", \"5th Aug, 2016\", \"23rd July, 2021\"]})\n",
        "start"
      ]
    },
    {
      "cell_type": "code",
      "execution_count": null,
      "metadata": {
        "id": "qbZm-hmRcMJs"
      },
      "outputs": [],
      "source": [
        "end = pd.DataFrame({\"City\": [\"London\", \"Tokyo\", \"Paris\"],\n",
        "                    \"end_date\": [\"12th Aug, 2012\", \"8th Aug, 2021\", \"11th Aug, 2024\"]})\n",
        "end"
      ]
    },
    {
      "cell_type": "code",
      "execution_count": null,
      "metadata": {
        "id": "1v4gGo1XnxES"
      },
      "outputs": [],
      "source": [
        "pd.concat?"
      ]
    },
    {
      "cell_type": "code",
      "execution_count": null,
      "metadata": {
        "id": "Cp6Y8fFlnrEY"
      },
      "outputs": [],
      "source": [
        "pd.concat([start, end], axis=0)"
      ]
    },
    {
      "cell_type": "code",
      "source": [
        "end = pd.DataFrame({\"city\": [\"London\", \"Tokyo\", \"Paris\"],\n",
        "                    \"end_date\": [\"12th Aug, 2012\", \"8th Aug, 2021\", \"11th Aug, 2024\"]})\n",
        "end"
      ],
      "metadata": {
        "id": "LBcoth7NAsBZ"
      },
      "execution_count": null,
      "outputs": []
    },
    {
      "cell_type": "code",
      "source": [
        "pd.concat([start, end], axis=0)"
      ],
      "metadata": {
        "id": "3W6Ml__fBDT-"
      },
      "execution_count": null,
      "outputs": []
    },
    {
      "cell_type": "code",
      "execution_count": null,
      "metadata": {
        "id": "IV8rqQUnn5V-"
      },
      "outputs": [],
      "source": [
        "pd.concat([start, end], axis=1)"
      ]
    },
    {
      "cell_type": "markdown",
      "metadata": {
        "id": "95AObzLMaJ2O"
      },
      "source": [
        "**Inner join**"
      ]
    },
    {
      "cell_type": "code",
      "execution_count": null,
      "metadata": {
        "id": "mL_lnFQl_7pE"
      },
      "outputs": [],
      "source": [
        "start"
      ]
    },
    {
      "cell_type": "code",
      "execution_count": null,
      "metadata": {
        "id": "4CNVJS3f_7pE"
      },
      "outputs": [],
      "source": [
        "end"
      ]
    },
    {
      "cell_type": "code",
      "source": [
        "pd.merge?"
      ],
      "metadata": {
        "id": "O5wR6KsxA5HZ"
      },
      "execution_count": null,
      "outputs": []
    },
    {
      "cell_type": "code",
      "execution_count": null,
      "metadata": {
        "id": "4ZB3I1hDlsfT"
      },
      "outputs": [],
      "source": [
        "pd.merge(left=start, right=end, on=\"city\", how=\"inner\")"
      ]
    },
    {
      "cell_type": "markdown",
      "metadata": {
        "id": "x4qMqkY6aWfy"
      },
      "source": [
        "**Outer join**"
      ]
    },
    {
      "cell_type": "code",
      "execution_count": null,
      "metadata": {
        "id": "gXlmFT4FmP6B"
      },
      "outputs": [],
      "source": [
        "start"
      ]
    },
    {
      "cell_type": "code",
      "execution_count": null,
      "metadata": {
        "id": "vxXO0chfmRG7"
      },
      "outputs": [],
      "source": [
        "end"
      ]
    },
    {
      "cell_type": "code",
      "execution_count": null,
      "metadata": {
        "id": "EyPqa2Ndk5Mz"
      },
      "outputs": [],
      "source": [
        "pd.merge(left=start, right=end, on=\"city\", how=\"outer\")"
      ]
    },
    {
      "cell_type": "markdown",
      "metadata": {
        "id": "VKkhqBWfad0J"
      },
      "source": [
        "**Left join**"
      ]
    },
    {
      "cell_type": "code",
      "execution_count": null,
      "metadata": {
        "id": "Ts5pNF6mmWnh"
      },
      "outputs": [],
      "source": [
        "start"
      ]
    },
    {
      "cell_type": "code",
      "execution_count": null,
      "metadata": {
        "id": "uuAtLImaau4u"
      },
      "outputs": [],
      "source": [
        "pd.merge(left=start, right=end, on=\"city\", how=\"left\")"
      ]
    },
    {
      "cell_type": "markdown",
      "metadata": {
        "id": "dPgGwru2a9TB"
      },
      "source": [
        "**Right join**"
      ]
    },
    {
      "cell_type": "code",
      "execution_count": null,
      "metadata": {
        "id": "rXpbjz6HmaJh"
      },
      "outputs": [],
      "source": [
        "end"
      ]
    },
    {
      "cell_type": "code",
      "execution_count": null,
      "metadata": {
        "id": "nE5Gxayoa_XU"
      },
      "outputs": [],
      "source": [
        "pd.merge(left=start, right=end, on=\"city\", how=\"right\")"
      ]
    },
    {
      "cell_type": "markdown",
      "metadata": {
        "id": "DEyNm2RLoeGd"
      },
      "source": [
        "## Combining Datasets"
      ]
    },
    {
      "cell_type": "code",
      "source": [
        "!pip install --quiet pandas==2.0.2\n",
        "\n",
        "import pandas as pd\n",
        "from pathlib import Path\n",
        "\n",
        "if not Path(\"olympics_1896_2004.csv\").exists():\n",
        "  !wget https://github.com/jonfernandes/pandas_essential/raw/main/olympics_1896_2004.csv\n",
        "\n",
        "filename = \"olympics_1896_2004.csv\"\n",
        "print(\"Installed all of the necessary files for this section ...\")"
      ],
      "metadata": {
        "id": "5FPr9Euwp9Lj"
      },
      "execution_count": null,
      "outputs": []
    },
    {
      "cell_type": "code",
      "source": [
        "def preprocess(filename = \"olympics_1896_2004.csv\"):\n",
        "  \"\"\"Preparing and transforming dataframe\"\"\"\n",
        "  print(f\"Preprocessing {filename} ...\\n\")\n",
        "  ordered_medals = pd.api.types.CategoricalDtype(categories=[\"Bronze\", \"Silver\", \"Gold\"], ordered=True)\n",
        "  dtype_mapper = {\"Year\": \"int64\",\n",
        "                \"City\": \"string\",\n",
        "                \"Sport\": \"string\",\n",
        "                \"Discipline\": \"string\",\n",
        "                \"Athlete Name\": \"string\",\n",
        "                \"NOC\": \"string\",\n",
        "                \"Gender\": \"category\",\n",
        "                \"Event\": \"string\",\n",
        "                \"Event_gender\": \"category\",\n",
        "                \"Medal\": ordered_medals}\n",
        "  df = (pd.read_csv(filename, skiprows=5, dtype=dtype_mapper)\n",
        "        .drop('Position', axis=1)\n",
        "  )\n",
        "  df[\"Event Gender\"] = df[\"Event Gender\"].astype(\"category\")\n",
        "  return df\n",
        "\n",
        "preprocess()"
      ],
      "metadata": {
        "id": "Y7cv0VM762Pi"
      },
      "execution_count": null,
      "outputs": []
    },
    {
      "cell_type": "code",
      "execution_count": null,
      "metadata": {
        "id": "qvrU1Jh_oj4c"
      },
      "outputs": [],
      "source": [
        "oo = preprocess()\n",
        "oo.sample(3)"
      ]
    },
    {
      "cell_type": "code",
      "execution_count": null,
      "metadata": {
        "id": "PmWbYgeaojk9"
      },
      "outputs": [],
      "source": [
        "!wget https://github.com/jonfernandes/pandas_essential/raw/main/olympics_2008.csv"
      ]
    },
    {
      "cell_type": "code",
      "source": [
        "new_filename =  \"olympics_2008.csv\"\n",
        "nw = pd.read_csv(new_filename)\n",
        "nw.head(5)"
      ],
      "metadata": {
        "id": "ZpK7tnIzZVmG"
      },
      "execution_count": null,
      "outputs": []
    },
    {
      "cell_type": "code",
      "source": [
        "oo.sample(3)"
      ],
      "metadata": {
        "id": "NrkQRln1bNg6"
      },
      "execution_count": null,
      "outputs": []
    },
    {
      "cell_type": "code",
      "source": [
        "pd.concat([oo, nw], axis=0)"
      ],
      "metadata": {
        "id": "GM5UsBtlZ3Cr"
      },
      "execution_count": null,
      "outputs": []
    },
    {
      "cell_type": "code",
      "source": [
        "nw.columns"
      ],
      "metadata": {
        "id": "jdqpKDFbt9J2"
      },
      "execution_count": null,
      "outputs": []
    },
    {
      "cell_type": "code",
      "source": [
        "oo.columns"
      ],
      "metadata": {
        "id": "KM9vztovt_m2"
      },
      "execution_count": null,
      "outputs": []
    },
    {
      "cell_type": "code",
      "source": [
        "nw.columns = ['City', 'Edition', 'Sport', 'Discipline', 'Athlete', 'Country_code',\n",
        "       'Gender', 'Event', 'Event_gender', 'Medal', 'Result']\n",
        "nw.columns"
      ],
      "metadata": {
        "id": "21cc4lPQuNny"
      },
      "execution_count": null,
      "outputs": []
    },
    {
      "cell_type": "code",
      "source": [
        "new_columns = ['City', 'Edition', 'Sport', 'Discipline', 'Athlete', 'Country_code',\n",
        "       'Gender', 'Event', 'Event_gender', 'Medal', 'Result']"
      ],
      "metadata": {
        "id": "bDXyYYwb6YJq"
      },
      "execution_count": null,
      "outputs": []
    },
    {
      "cell_type": "code",
      "source": [
        "nw = pd.read_csv(new_filename, names=new_columns)\n",
        "nw.columns"
      ],
      "metadata": {
        "id": "35q0mneeuuWU"
      },
      "execution_count": null,
      "outputs": []
    },
    {
      "cell_type": "code",
      "source": [
        "nw.columns = [column.capitalize() for column in nw.columns]\n",
        "nw.columns"
      ],
      "metadata": {
        "id": "m6s7OzQnugEk"
      },
      "execution_count": null,
      "outputs": []
    },
    {
      "cell_type": "code",
      "source": [
        "pd.concat([oo, nw], axis=0)"
      ],
      "metadata": {
        "id": "9ITtwDmGvDn1"
      },
      "execution_count": null,
      "outputs": []
    },
    {
      "cell_type": "code",
      "source": [
        "oo.columns"
      ],
      "metadata": {
        "id": "c854ig1uvrJh"
      },
      "execution_count": null,
      "outputs": []
    },
    {
      "cell_type": "code",
      "source": [
        "nw.columns"
      ],
      "metadata": {
        "id": "TFLt_GF_vurN"
      },
      "execution_count": null,
      "outputs": []
    },
    {
      "cell_type": "code",
      "source": [
        "nw.columns = ['City', 'Year', 'Sport', 'Discipline', 'Athlete Name', 'NOC',\n",
        "       'Gender', 'Event', 'Event Gender', 'Medal', 'Result']"
      ],
      "metadata": {
        "id": "30-bKfomwMIY"
      },
      "execution_count": null,
      "outputs": []
    },
    {
      "cell_type": "code",
      "source": [
        "pd.concat([oo, nw], axis=0)"
      ],
      "metadata": {
        "id": "6RFkaLASwbHe"
      },
      "execution_count": null,
      "outputs": []
    },
    {
      "cell_type": "code",
      "source": [
        "nw.Result.unique()"
      ],
      "metadata": {
        "id": "mW7SKK0Kxa3Q"
      },
      "execution_count": null,
      "outputs": []
    },
    {
      "cell_type": "code",
      "source": [
        "nw = nw.drop(\"Result\", axis=1)\n",
        "nw.sample(3)"
      ],
      "metadata": {
        "id": "Ma1wyjIDxfev"
      },
      "execution_count": null,
      "outputs": []
    },
    {
      "cell_type": "code",
      "source": [
        "pd.concat([oo, nw], axis=0)"
      ],
      "metadata": {
        "id": "bEQ84QIFxuMc"
      },
      "execution_count": null,
      "outputs": []
    },
    {
      "cell_type": "code",
      "source": [
        "pd.concat([oo, nw], axis=0).dtypes"
      ],
      "metadata": {
        "id": "rOriZgSsx1PK"
      },
      "execution_count": null,
      "outputs": []
    },
    {
      "cell_type": "code",
      "source": [
        "def preprocess_2008(filename=\"olympics_2008.csv\"):\n",
        "  df = pd.read_csv(filename)\n",
        "  df.columns = ['City', 'Year', 'Sport', 'Discipline', 'Athlete Name', 'NOC',\n",
        "       'Gender', 'Event', 'Event Gender', 'Medal', 'Result']\n",
        "  df = df.drop(\"Result\", axis=1)\n",
        "  return df\n",
        "\n",
        "nw = preprocess_2008()\n",
        "nw.sample(3)"
      ],
      "metadata": {
        "id": "ELoqzkbqw1yT"
      },
      "execution_count": null,
      "outputs": []
    },
    {
      "cell_type": "markdown",
      "source": [
        "## Working with Missing Data"
      ],
      "metadata": {
        "id": "FematpDlyP3J"
      }
    },
    {
      "cell_type": "code",
      "source": [
        "!pip install --quiet pandas==2.0.2\n",
        "\n",
        "import pandas as pd\n",
        "from pathlib import Path\n",
        "\n",
        "if not Path(\"olympics_1896_2004.csv\").exists():\n",
        "  !wget https://github.com/jonfernandes/pandas_essential/raw/main/olympics_1896_2004.csv\n",
        "if not Path(\"olympics_2008.csv\").exists():\n",
        "  !wget https://github.com/jonfernandes/pandas_essential/raw/main/olympics_2008.csv\n",
        "\n",
        "filename = \"olympics_1896_2004.csv\"\n",
        "print(\"Installed all of the necessary files for this section ...\")"
      ],
      "metadata": {
        "id": "uKhIUj8UrJTT"
      },
      "execution_count": null,
      "outputs": []
    },
    {
      "cell_type": "code",
      "source": [
        "nw = preprocess_2008()\n",
        "nw.sample(3)"
      ],
      "metadata": {
        "id": "rWt8-HcXyT61"
      },
      "execution_count": null,
      "outputs": []
    },
    {
      "cell_type": "code",
      "source": [
        "nw.info()"
      ],
      "metadata": {
        "id": "k5D4UxSWyabN"
      },
      "execution_count": null,
      "outputs": []
    },
    {
      "cell_type": "code",
      "source": [
        "import re\n",
        "\n",
        "search_string = \"na\"\n",
        "\n",
        "[func for func in dir(nw.City) if re.search(rf\"{search_string}$\", func, re.IGNORECASE)]"
      ],
      "metadata": {
        "id": "inv1wbnFEu15"
      },
      "execution_count": null,
      "outputs": []
    },
    {
      "cell_type": "code",
      "source": [
        "nw.City.isna?"
      ],
      "metadata": {
        "id": "66DdxC_JEO_s"
      },
      "execution_count": null,
      "outputs": []
    },
    {
      "cell_type": "code",
      "source": [
        "nw.City.isna()"
      ],
      "metadata": {
        "id": "4uoReWLZ3eLU"
      },
      "execution_count": null,
      "outputs": []
    },
    {
      "cell_type": "code",
      "source": [
        "nw.City.isna().sum()"
      ],
      "metadata": {
        "id": "pM4SAK_l3jKa"
      },
      "execution_count": null,
      "outputs": []
    },
    {
      "cell_type": "code",
      "source": [
        "nw[nw.City.isna()]"
      ],
      "metadata": {
        "id": "3OEXLwoEye78"
      },
      "execution_count": null,
      "outputs": []
    },
    {
      "cell_type": "code",
      "source": [
        "nw.City.unique()"
      ],
      "metadata": {
        "id": "1erE0ZRw_4y4"
      },
      "execution_count": null,
      "outputs": []
    },
    {
      "cell_type": "code",
      "source": [
        "nw.shape"
      ],
      "metadata": {
        "id": "oGJ7HNak6wxa"
      },
      "execution_count": null,
      "outputs": []
    },
    {
      "cell_type": "code",
      "source": [
        "import re\n",
        "\n",
        "search_string = \"na\"\n",
        "\n",
        "[func for func in dir(nw.City) if re.search(rf\"{search_string}$\", func, re.IGNORECASE)]"
      ],
      "metadata": {
        "id": "BwcYzjE0FV64"
      },
      "execution_count": null,
      "outputs": []
    },
    {
      "cell_type": "code",
      "source": [
        "nw.City.fillna?"
      ],
      "metadata": {
        "id": "laxs_wK0AQ8i"
      },
      "execution_count": null,
      "outputs": []
    },
    {
      "cell_type": "code",
      "source": [
        "nw.City = nw.City.fillna(value=\"Beijing\")\n",
        "nw.City.unique()"
      ],
      "metadata": {
        "id": "zddqCceEAIfB"
      },
      "execution_count": null,
      "outputs": []
    },
    {
      "cell_type": "code",
      "source": [
        "nw.Year"
      ],
      "metadata": {
        "id": "e9b8FghNA440"
      },
      "execution_count": null,
      "outputs": []
    },
    {
      "cell_type": "code",
      "source": [
        "nw.Year.unique()"
      ],
      "metadata": {
        "id": "A78SlZC9481h"
      },
      "execution_count": null,
      "outputs": []
    },
    {
      "cell_type": "code",
      "source": [
        "nw.Year = nw.Year.fillna(value=2008)\n",
        "nw.info()"
      ],
      "metadata": {
        "id": "nNC-1pr-5EOL"
      },
      "execution_count": null,
      "outputs": []
    },
    {
      "cell_type": "code",
      "source": [
        "def preprocess_2008(filename=\"olympics_2008.csv\"):\n",
        "  df = pd.read_csv(filename)\n",
        "  df.columns = ['City', 'Year', 'Sport', 'Discipline', 'Athlete Name', 'NOC',\n",
        "       'Gender', 'Event', 'Event Gender', 'Medal', 'Result']\n",
        "  df = df.drop(\"Result\", axis=1)\n",
        "  df.City = df.City.fillna(value=\"Beijing\")\n",
        "  df.Year = df.Year.fillna(value=2008)\n",
        "  return df\n",
        "\n",
        "nw = preprocess_2008()\n",
        "nw.sample(3)"
      ],
      "metadata": {
        "id": "azUTDKxc5ctc"
      },
      "execution_count": null,
      "outputs": []
    },
    {
      "cell_type": "code",
      "source": [
        "nw.dtypes"
      ],
      "metadata": {
        "id": "05dHle50VjsF"
      },
      "execution_count": null,
      "outputs": []
    },
    {
      "cell_type": "markdown",
      "source": [
        "## Removing Missing Data"
      ],
      "metadata": {
        "id": "emB7XuGpBOPu"
      }
    },
    {
      "cell_type": "code",
      "source": [
        "!pip install --quiet pandas==2.0.2\n",
        "\n",
        "import pandas as pd\n",
        "from pathlib import Path\n",
        "\n",
        "if not Path(\"olympics_1896_2004.csv\").exists():\n",
        "  !wget https://github.com/jonfernandes/pandas_essential/raw/main/olympics_1896_2004.csv\n",
        "if not Path(\"olympics_2008.csv\").exists():\n",
        "  !wget https://github.com/jonfernandes/pandas_essential/raw/main/olympics_2008.csv\n",
        "\n",
        "filename = \"olympics_1896_2004.csv\"\n",
        "print(\"Installed all of the necessary files for this section ...\")"
      ],
      "metadata": {
        "id": "IMeKqkvprH96"
      },
      "execution_count": null,
      "outputs": []
    },
    {
      "cell_type": "code",
      "source": [
        "def preprocess_2008(filename=\"olympics_2008.csv\"):\n",
        "  df = pd.read_csv(filename)\n",
        "  df.columns = ['City', 'Year', 'Sport', 'Discipline', 'Athlete Name', 'NOC',\n",
        "       'Gender', 'Event', 'Event Gender', 'Medal', 'Result']\n",
        "  df = df.drop(\"Result\", axis=1)\n",
        "  df.City = df.City.fillna(value=\"Beijing\")\n",
        "  df.Year = df.Year.fillna(value=2008)\n",
        "  return df\n",
        "\n",
        "nw = preprocess_2008()\n",
        "nw.sample(3)"
      ],
      "metadata": {
        "id": "I_ywNXrrBQrt"
      },
      "execution_count": null,
      "outputs": []
    },
    {
      "cell_type": "code",
      "source": [
        "nw.info()"
      ],
      "metadata": {
        "id": "D0GGrn5-BUi8"
      },
      "execution_count": null,
      "outputs": []
    },
    {
      "cell_type": "code",
      "source": [
        "nw[nw.Sport.isna()]"
      ],
      "metadata": {
        "id": "CZMPwsAmYbQj"
      },
      "execution_count": null,
      "outputs": []
    },
    {
      "cell_type": "code",
      "source": [
        "nw.dropna(how=\"all\", axis=0)"
      ],
      "metadata": {
        "id": "7arenC0wB7vk"
      },
      "execution_count": null,
      "outputs": []
    },
    {
      "cell_type": "code",
      "source": [
        "nw.dropna(how=\"any\", axis=0)"
      ],
      "metadata": {
        "id": "5aatWXUuCdu2"
      },
      "execution_count": null,
      "outputs": []
    },
    {
      "cell_type": "code",
      "source": [
        "nw[nw.Sport.isna()]"
      ],
      "metadata": {
        "id": "2G7qXMqiCj7N"
      },
      "execution_count": null,
      "outputs": []
    },
    {
      "cell_type": "code",
      "source": [
        "nw.dropna?"
      ],
      "metadata": {
        "id": "_P6iWSr7Cz4h"
      },
      "execution_count": null,
      "outputs": []
    },
    {
      "cell_type": "code",
      "source": [
        "nw.columns"
      ],
      "metadata": {
        "id": "YOGjsI6kCvDY"
      },
      "execution_count": null,
      "outputs": []
    },
    {
      "cell_type": "code",
      "source": [
        "nw.dropna(subset=['Sport', 'Discipline', 'Athlete Name', 'NOC', 'Gender',\n",
        "       'Event', 'Event Gender', 'Medal'], how=\"all\")"
      ],
      "metadata": {
        "id": "XoovbAMMClzE"
      },
      "execution_count": null,
      "outputs": []
    },
    {
      "cell_type": "code",
      "source": [
        "nw = nw.dropna(subset=['Sport', 'Discipline', 'Athlete Name', 'NOC', 'Gender',\n",
        "       'Event', 'Event Gender', 'Medal'], how=\"all\")\n",
        "nw.info()"
      ],
      "metadata": {
        "id": "_DJc-cyaDLab"
      },
      "execution_count": null,
      "outputs": []
    },
    {
      "cell_type": "code",
      "source": [
        "def preprocess_2008(filename=\"olympics_2008.csv\"):\n",
        "  df = pd.read_csv(filename)\n",
        "  df.columns = ['City', 'Year', 'Sport', 'Discipline', 'Athlete Name', 'NOC',\n",
        "       'Gender', 'Event', 'Event Gender', 'Medal', 'Result']\n",
        "  df = df.drop(\"Result\", axis=1)\n",
        "  df.City = df.City.fillna(value=\"Beijing\")\n",
        "  df.Year = df.Year.fillna(value=2008)\n",
        "  df = df.dropna(subset=['Sport', 'Discipline', 'Athlete Name', 'NOC', 'Gender',\n",
        "       'Event', 'Event Gender', 'Medal'], how=\"all\")\n",
        "  return df\n",
        "\n",
        "nw = preprocess_2008()\n",
        "nw.sample(3)"
      ],
      "metadata": {
        "id": "TbvIR2KuDOce"
      },
      "execution_count": null,
      "outputs": []
    },
    {
      "cell_type": "markdown",
      "source": [
        "##Working with Duplicates"
      ],
      "metadata": {
        "id": "Utjd5YTX5ruR"
      }
    },
    {
      "cell_type": "code",
      "source": [
        "!pip install --quiet pandas==2.0.2\n",
        "\n",
        "import pandas as pd\n",
        "from pathlib import Path\n",
        "\n",
        "if not Path(\"olympics_1896_2004.csv\").exists():\n",
        "  !wget https://github.com/jonfernandes/pandas_essential/raw/main/olympics_1896_2004.csv\n",
        "if not Path(\"olympics_2008.csv\").exists():\n",
        "  !wget https://github.com/jonfernandes/pandas_essential/raw/main/olympics_2008.csv\n",
        "\n",
        "filename = \"olympics_1896_2004.csv\"\n",
        "print(\"Installed all of the necessary files for this section ...\")"
      ],
      "metadata": {
        "id": "Wx0imt2brFps"
      },
      "execution_count": null,
      "outputs": []
    },
    {
      "cell_type": "code",
      "source": [
        "def preprocess_2008(filename=\"olympics_2008.csv\"):\n",
        "  df = pd.read_csv(filename)\n",
        "  df.columns = ['City', 'Year', 'Sport', 'Discipline', 'Athlete Name', 'NOC',\n",
        "       'Gender', 'Event', 'Event Gender', 'Medal', 'Result']\n",
        "  df = df.drop(\"Result\", axis=1)\n",
        "  df.City = df.City.fillna(value=\"Beijing\")\n",
        "  df.Year = df.Year.fillna(value=2008)\n",
        "  df = df.dropna(subset=['Sport', 'Discipline', 'Athlete Name', 'NOC', 'Gender',\n",
        "       'Event', 'Event Gender', 'Medal'], how=\"all\")\n",
        "  return df\n",
        "\n",
        "nw = preprocess_2008()\n",
        "nw.sample(3)"
      ],
      "metadata": {
        "id": "PhF-plEy5rOc"
      },
      "execution_count": null,
      "outputs": []
    },
    {
      "cell_type": "code",
      "source": [
        "nw.shape"
      ],
      "metadata": {
        "id": "lnY00dZWD1_8"
      },
      "execution_count": null,
      "outputs": []
    },
    {
      "cell_type": "code",
      "source": [
        "nw.duplicated?"
      ],
      "metadata": {
        "id": "pZ6N3UlLBzX8"
      },
      "execution_count": null,
      "outputs": []
    },
    {
      "cell_type": "code",
      "source": [
        "nw.duplicated()"
      ],
      "metadata": {
        "id": "NgPpC9HQE3Ry"
      },
      "execution_count": null,
      "outputs": []
    },
    {
      "cell_type": "code",
      "source": [
        "nw.duplicated().sum()"
      ],
      "metadata": {
        "id": "Jgp4ubzZGa9o"
      },
      "execution_count": null,
      "outputs": []
    },
    {
      "cell_type": "code",
      "source": [
        "nw.loc[nw.duplicated(), :]"
      ],
      "metadata": {
        "id": "JVtJfNHJE3Of"
      },
      "execution_count": null,
      "outputs": []
    },
    {
      "cell_type": "code",
      "source": [
        "nw.shape"
      ],
      "metadata": {
        "id": "IBd61f-72BfX"
      },
      "execution_count": null,
      "outputs": []
    },
    {
      "cell_type": "code",
      "source": [
        "nw = nw.drop_duplicates()\n",
        "nw.shape"
      ],
      "metadata": {
        "id": "O87BZiyT17P-"
      },
      "execution_count": null,
      "outputs": []
    },
    {
      "cell_type": "code",
      "source": [
        "nw.columns"
      ],
      "metadata": {
        "id": "bECzvRPB2gDS"
      },
      "execution_count": null,
      "outputs": []
    },
    {
      "cell_type": "code",
      "source": [
        "athlete_multiple_events = nw.duplicated(subset=['Athlete Name', 'NOC', 'Gender'])\n",
        "athlete_multiple_events"
      ],
      "metadata": {
        "id": "0QXfMx362b90"
      },
      "execution_count": null,
      "outputs": []
    },
    {
      "cell_type": "code",
      "source": [
        "nw.duplicated?"
      ],
      "metadata": {
        "id": "qbe4O9cG9Bx6"
      },
      "execution_count": null,
      "outputs": []
    },
    {
      "cell_type": "code",
      "source": [
        "nw.loc[athlete_multiple_events, :]"
      ],
      "metadata": {
        "id": "AXu-1OdR23dQ"
      },
      "execution_count": null,
      "outputs": []
    },
    {
      "cell_type": "code",
      "source": [
        "nw.loc[athlete_multiple_events, :].sort_values(\"Athlete Name\")"
      ],
      "metadata": {
        "id": "Aejpo1cQ9t8z"
      },
      "execution_count": null,
      "outputs": []
    },
    {
      "cell_type": "code",
      "source": [
        "nw.loc[nw[\"Athlete Name\"] == \"ZOU, Kai\"]"
      ],
      "metadata": {
        "id": "OSVcTGp26RL1"
      },
      "execution_count": null,
      "outputs": []
    },
    {
      "cell_type": "code",
      "source": [
        "def preprocess_2008(filename=\"olympics_2008.csv\"):\n",
        "  df = pd.read_csv(filename)\n",
        "  df.columns = ['City', 'Year', 'Sport', 'Discipline', 'Athlete Name', 'NOC',\n",
        "       'Gender', 'Event', 'Event Gender', 'Medal', 'Result']\n",
        "  df = df.drop(\"Result\", axis=1)\n",
        "  df.City = df.City.fillna(value=\"Beijing\")\n",
        "  df.Year = df.Year.fillna(value=2008)\n",
        "  df = df.dropna(subset=['Sport', 'Discipline', 'Athlete Name', 'NOC', 'Gender',\n",
        "       'Event', 'Event Gender', 'Medal'], how=\"all\")\n",
        "  df = df.drop_duplicates()\n",
        "  return df\n",
        "\n",
        "nw = preprocess_2008()\n",
        "nw.sample(3)"
      ],
      "metadata": {
        "id": "JvOKU5gh-LkC"
      },
      "execution_count": null,
      "outputs": []
    },
    {
      "cell_type": "markdown",
      "metadata": {
        "id": "UbtEix9Y-6Uc"
      },
      "source": [
        "## Validating data"
      ]
    },
    {
      "cell_type": "code",
      "source": [
        "!pip install --quiet pandas==2.0.2\n",
        "\n",
        "import pandas as pd\n",
        "from pathlib import Path\n",
        "\n",
        "if not Path(\"olympics_1896_2004.csv\").exists():\n",
        "  !wget https://github.com/jonfernandes/pandas_essential/raw/main/olympics_1896_2004.csv\n",
        "if not Path(\"olympics_2008.csv\").exists():\n",
        "  !wget https://github.com/jonfernandes/pandas_essential/raw/main/olympics_2008.csv\n",
        "\n",
        "filename = \"olympics_1896_2004.csv\"\n",
        "print(\"Installed all of the necessary files for this section ...\")"
      ],
      "metadata": {
        "id": "K-3GE0qErC57"
      },
      "execution_count": null,
      "outputs": []
    },
    {
      "cell_type": "code",
      "source": [
        "def preprocess(filename = \"olympics_1896_2004.csv\"):\n",
        "  \"\"\"Preparing and transforming dataframe\"\"\"\n",
        "  print(f\"Preprocessing {filename} ...\\n\")\n",
        "  ordered_medals = pd.api.types.CategoricalDtype(categories=[\"Bronze\", \"Silver\", \"Gold\"], ordered=True)\n",
        "  dtype_mapper = {\"Year\": \"int64\",\n",
        "                \"City\": \"string\",\n",
        "                \"Sport\": \"string\",\n",
        "                \"Discipline\": \"string\",\n",
        "                \"Athlete Name\": \"string\",\n",
        "                \"NOC\": \"string\",\n",
        "                \"Gender\": \"category\",\n",
        "                \"Event\": \"string\",\n",
        "                \"Event_gender\": \"category\",\n",
        "                \"Medal\": ordered_medals}\n",
        "  df = (pd.read_csv(filename, skiprows=5, dtype=dtype_mapper)\n",
        "        .drop('Position', axis=1)\n",
        "  )\n",
        "  df[\"Event Gender\"] = df[\"Event Gender\"].astype(\"category\")\n",
        "  return df\n",
        "\n",
        "oo = preprocess()\n",
        "\n",
        "def preprocess_2008(filename=\"olympics_2008.csv\"):\n",
        "  df = pd.read_csv(filename)\n",
        "  df.columns = ['City', 'Year', 'Sport', 'Discipline', 'Athlete Name', 'NOC',\n",
        "       'Gender', 'Event', 'Event Gender', 'Medal', 'Result']\n",
        "  df = df.drop(\"Result\", axis=1)\n",
        "  df.City = df.City.fillna(value=\"Beijing\")\n",
        "  df.Year = df.Year.fillna(value=2008)\n",
        "  df = df.dropna(subset=['Sport', 'Discipline', 'Athlete Name', 'NOC', 'Gender',\n",
        "       'Event', 'Event Gender', 'Medal'], how=\"all\")\n",
        "  df = df.drop_duplicates()\n",
        "  return df\n",
        "\n",
        "nw = preprocess_2008()\n",
        "nw.sample(3)"
      ],
      "metadata": {
        "id": "HwNEL7CXQyu5"
      },
      "execution_count": null,
      "outputs": []
    },
    {
      "cell_type": "code",
      "source": [
        "nw[\"Event Gender\"].unique()"
      ],
      "metadata": {
        "id": "rhetXk9g8AsY"
      },
      "execution_count": null,
      "outputs": []
    },
    {
      "cell_type": "code",
      "source": [
        "nw.Gender.unique()"
      ],
      "metadata": {
        "id": "l1qJFDAX8GSY"
      },
      "execution_count": null,
      "outputs": []
    },
    {
      "cell_type": "code",
      "execution_count": null,
      "metadata": {
        "id": "eYHYicgr_EzJ"
      },
      "outputs": [],
      "source": [
        "nw.loc[(nw[\"Event Gender\"] == \"M\") & (nw.Gender != \"Men\")]"
      ]
    },
    {
      "cell_type": "code",
      "execution_count": null,
      "metadata": {
        "id": "l1sWOUlZBylc"
      },
      "outputs": [],
      "source": [
        "nw.loc[(nw[\"Event Gender\"] == \"F\") & (nw.Gender != \"Women\")]"
      ]
    },
    {
      "cell_type": "code",
      "source": [
        "nw.loc[(nw.Gender == \"Women\") & ((nw[\"Event Gender\"] != \"W\") & (nw[\"Event Gender\"] != \"X\"))]"
      ],
      "metadata": {
        "id": "EuwgJImaMzwT"
      },
      "execution_count": null,
      "outputs": []
    },
    {
      "cell_type": "code",
      "source": [
        "nw.loc[(nw.Gender == \"Men\") & ((nw[\"Event Gender\"] != \"M\") & (nw[\"Event Gender\"] != \"X\"))]"
      ],
      "metadata": {
        "id": "JIpUdf5oGImN"
      },
      "execution_count": null,
      "outputs": []
    },
    {
      "cell_type": "code",
      "source": [
        "oo[\"Event Gender\"].unique()"
      ],
      "metadata": {
        "id": "EX9V3FzM9BQt"
      },
      "execution_count": null,
      "outputs": []
    },
    {
      "cell_type": "code",
      "source": [
        "oo.Gender.unique()"
      ],
      "metadata": {
        "id": "-0BXwVdH9OAH"
      },
      "execution_count": null,
      "outputs": []
    },
    {
      "cell_type": "code",
      "source": [
        "oo.loc[(oo[\"Event Gender\"] == \"M\") & (oo.Gender != \"Men\")]"
      ],
      "metadata": {
        "id": "9TkKywKF9dIP"
      },
      "execution_count": null,
      "outputs": []
    },
    {
      "cell_type": "code",
      "source": [
        "oo.loc[(oo[\"Event Gender\"] == \"F\") & (oo.Gender != \"Women\")]"
      ],
      "metadata": {
        "id": "D_pgFuPv9kbM"
      },
      "execution_count": null,
      "outputs": []
    },
    {
      "cell_type": "code",
      "source": [
        "oo.loc[(oo.Gender == \"Women\") & ((oo[\"Event Gender\"] != \"W\") & (oo[\"Event Gender\"] != \"X\"))]"
      ],
      "metadata": {
        "id": "vlnNr3cU9zyy"
      },
      "execution_count": null,
      "outputs": []
    },
    {
      "cell_type": "code",
      "source": [
        "oo.loc[(oo.Gender == \"Men\") & ((oo[\"Event Gender\"] != \"M\") & (oo[\"Event Gender\"] != \"X\"))]"
      ],
      "metadata": {
        "id": "RBRUQUVm96_l"
      },
      "execution_count": null,
      "outputs": []
    },
    {
      "cell_type": "code",
      "source": [
        "oo.loc[(oo.Year == 2000) & (oo.Event == \"marathon\")]"
      ],
      "metadata": {
        "id": "-SbUAODK-LB1"
      },
      "execution_count": null,
      "outputs": []
    },
    {
      "cell_type": "code",
      "source": [
        "oo.loc[24676, \"Gender\"] = \"Women\"\n",
        "oo.loc[(oo.Year == 2000) & (oo.Event == \"marathon\")]"
      ],
      "metadata": {
        "id": "oKFCpt5S_ofd"
      },
      "execution_count": null,
      "outputs": []
    },
    {
      "cell_type": "code",
      "source": [
        "def preprocess(filename = \"olympics_1896_2004.csv\"):\n",
        "  \"\"\"Preparing and transforming dataframe\"\"\"\n",
        "  print(f\"Preprocessing {filename} ...\\n\")\n",
        "  ordered_medals = pd.api.types.CategoricalDtype(categories=[\"Bronze\", \"Silver\", \"Gold\"], ordered=True)\n",
        "  dtype_mapper = {\"Year\": \"int64\",\n",
        "                \"City\": \"string\",\n",
        "                \"Sport\": \"string\",\n",
        "                \"Discipline\": \"string\",\n",
        "                \"Athlete Name\": \"string\",\n",
        "                \"NOC\": \"string\",\n",
        "                \"Gender\": \"category\",\n",
        "                \"Event\": \"string\",\n",
        "                \"Event_gender\": \"category\",\n",
        "                \"Medal\": ordered_medals}\n",
        "  df = (pd.read_csv(filename, skiprows=5, dtype=dtype_mapper)\n",
        "        .drop('Position', axis=1)\n",
        "  )\n",
        "  df[\"Event Gender\"] = df[\"Event Gender\"].astype(\"category\")\n",
        "  df.loc[24676, \"Gender\"] = \"Women\"\n",
        "  return df\n",
        "\n",
        "oo = preprocess()\n",
        "oo.sample(3)"
      ],
      "metadata": {
        "id": "hVoK33fL_k20"
      },
      "execution_count": null,
      "outputs": []
    },
    {
      "cell_type": "code",
      "source": [
        "oo.dtypes"
      ],
      "metadata": {
        "id": "4Osa_SYePnWU"
      },
      "execution_count": null,
      "outputs": []
    },
    {
      "cell_type": "code",
      "source": [
        "nw.Year.unique()"
      ],
      "metadata": {
        "id": "TbvtLls0XmeR"
      },
      "execution_count": null,
      "outputs": []
    },
    {
      "cell_type": "code",
      "source": [
        "nw.City.unique()"
      ],
      "metadata": {
        "id": "hZ9-Og4rXjKh"
      },
      "execution_count": null,
      "outputs": []
    },
    {
      "cell_type": "code",
      "source": [
        "nw[\"Event Gender\"].unique()"
      ],
      "metadata": {
        "id": "YnOLgu_gUSIH"
      },
      "execution_count": null,
      "outputs": []
    },
    {
      "cell_type": "code",
      "execution_count": null,
      "metadata": {
        "id": "jQ1zI7dsHB6y"
      },
      "outputs": [],
      "source": [
        "nw[\"Event Gender\"].unique().tolist()"
      ]
    },
    {
      "cell_type": "code",
      "source": [
        "oo[\"Event Gender\"].unique().tolist()"
      ],
      "metadata": {
        "id": "1ZQ5IIN9aB8M"
      },
      "execution_count": null,
      "outputs": []
    },
    {
      "cell_type": "code",
      "source": [
        "nw[\"Event Gender\"].unique().tolist() == oo[\"Event Gender\"].unique().tolist()"
      ],
      "metadata": {
        "id": "RWjS9PJQBzZf"
      },
      "execution_count": null,
      "outputs": []
    },
    {
      "cell_type": "code",
      "source": [
        "sorted(nw[\"Event Gender\"].unique().tolist())"
      ],
      "metadata": {
        "id": "CxqGXp08V_52"
      },
      "execution_count": null,
      "outputs": []
    },
    {
      "cell_type": "code",
      "source": [
        "sorted(oo[\"Event Gender\"].unique().tolist())"
      ],
      "metadata": {
        "id": "SOMsVp49ShoN"
      },
      "execution_count": null,
      "outputs": []
    },
    {
      "cell_type": "code",
      "execution_count": null,
      "metadata": {
        "id": "8l3rPB3DMzuI"
      },
      "outputs": [],
      "source": [
        "assert(sorted(nw[\"Event Gender\"].unique().tolist()) == sorted(oo[\"Event Gender\"].unique().tolist()))\n",
        "print(\"Passes all tests ...\")"
      ]
    },
    {
      "cell_type": "code",
      "execution_count": null,
      "metadata": {
        "id": "cccr9txiHrau"
      },
      "outputs": [],
      "source": [
        "#assert(sorted(nw[\"Event Gender\"].unique().tolist()) == sorted(oo[\"Event Gender\"].unique().tolist()))\n",
        "#assert(sorted(nw.Gender.unique().tolist()) == sorted(oo.Gender.unique().tolist()))\n",
        "#assert(sorted(nw.Medal.unique().tolist()) == sorted(oo.Medal.unique().tolist()))\n",
        "#print(\"Passes all tests ...\")"
      ]
    },
    {
      "cell_type": "code",
      "source": [
        "sorted(oo.Medal.unique().tolist())"
      ],
      "metadata": {
        "id": "yNIqLCfCWzsZ"
      },
      "execution_count": null,
      "outputs": []
    },
    {
      "cell_type": "code",
      "source": [
        "sorted(nw.Medal.unique().tolist())"
      ],
      "metadata": {
        "id": "0XNUaBHDWoc8"
      },
      "execution_count": null,
      "outputs": []
    },
    {
      "cell_type": "code",
      "source": [
        "nw.Medal.str.capitalize()"
      ],
      "metadata": {
        "id": "8uIxl1TBW9Fs"
      },
      "execution_count": null,
      "outputs": []
    },
    {
      "cell_type": "code",
      "source": [
        "nw.Medal = nw.Medal.str.capitalize()\n",
        "nw.sample(3)"
      ],
      "metadata": {
        "id": "sgUAncYIX7He"
      },
      "execution_count": null,
      "outputs": []
    },
    {
      "cell_type": "code",
      "source": [
        "assert(sorted(nw[\"Event Gender\"].unique().tolist()) == sorted(oo[\"Event Gender\"].unique().tolist()))\n",
        "assert(sorted(nw.Gender.unique().tolist()) == sorted(oo.Gender.unique().tolist()))\n",
        "assert(sorted(nw.Medal.unique().tolist()) == sorted(oo.Medal.unique().tolist()))\n",
        "print(\"Passes all tests ...\")"
      ],
      "metadata": {
        "id": "ahSYGIbVMKBQ"
      },
      "execution_count": null,
      "outputs": []
    },
    {
      "cell_type": "code",
      "source": [
        "sorted(nw.Sport.unique().tolist())"
      ],
      "metadata": {
        "id": "PpJbb4ZDbez1"
      },
      "execution_count": null,
      "outputs": []
    },
    {
      "cell_type": "code",
      "source": [
        "sorted(oo.Sport.unique().tolist())"
      ],
      "metadata": {
        "id": "tjmUeyJ-br55"
      },
      "execution_count": null,
      "outputs": []
    },
    {
      "cell_type": "code",
      "source": [
        "nw.NOC.unique()"
      ],
      "metadata": {
        "id": "Q0H1hrjuFgZC"
      },
      "execution_count": null,
      "outputs": []
    },
    {
      "cell_type": "code",
      "source": [
        "nw.Sport = nw.Sport.str.lower()\n",
        "nw.Discipline = nw.Discipline.str.lower()\n",
        "nw.Event = nw.Event.str.lower()\n",
        "nw.NOC = nw.NOC.str.upper()\n",
        "nw.sample(3)"
      ],
      "metadata": {
        "id": "qYYpOxjYb1Zl"
      },
      "execution_count": null,
      "outputs": []
    },
    {
      "cell_type": "code",
      "execution_count": null,
      "metadata": {
        "id": "cVFweCTTKK16"
      },
      "outputs": [],
      "source": [
        "def preprocess_2008(filename=\"olympics_2008.csv\"):\n",
        "  df = pd.read_csv(filename)\n",
        "  df.columns = ['City', 'Year', 'Sport', 'Discipline', 'Athlete Name', 'NOC',\n",
        "       'Gender', 'Event', 'Event Gender', 'Medal', 'Result']\n",
        "  df = df.drop(\"Result\", axis=1)\n",
        "  df.City = df.City.fillna(value=\"Beijing\")\n",
        "  df.Year = df.Year.fillna(value=2008)\n",
        "  df = df.dropna(subset=['Sport', 'Discipline', 'Athlete Name', 'NOC', 'Gender',\n",
        "       'Event', 'Event Gender', 'Medal'], how=\"all\")\n",
        "  df = df.drop_duplicates()\n",
        "  df.Sport = df.Sport.str.lower()\n",
        "  df.Discipline = df.Discipline.str.lower()\n",
        "  df.Event = df.Event.str.lower()\n",
        "  df.NOC = df.NOC.str.upper()\n",
        "  df.Medal = df.Medal.str.capitalize()\n",
        "  return df\n",
        "\n",
        "nw = preprocess_2008()\n",
        "nw.sample(3)"
      ]
    },
    {
      "cell_type": "markdown",
      "source": [
        "## Further Data Validation"
      ],
      "metadata": {
        "id": "L1yiHNB0Ohfm"
      }
    },
    {
      "cell_type": "code",
      "source": [
        "def preprocess(filename = \"olympics_1896_2004.csv\"):\n",
        "  \"\"\"Preparing and transforming dataframe\"\"\"\n",
        "  print(f\"Preprocessing {filename} ...\\n\")\n",
        "  ordered_medals = pd.api.types.CategoricalDtype(categories=[\"Bronze\", \"Silver\", \"Gold\"], ordered=True)\n",
        "  dtype_mapper = {\"Year\": \"int64\",\n",
        "                \"City\": \"string\",\n",
        "                \"Sport\": \"string\",\n",
        "                \"Discipline\": \"string\",\n",
        "                \"Athlete Name\": \"string\",\n",
        "                \"NOC\": \"string\",\n",
        "                \"Gender\": \"category\",\n",
        "                \"Event\": \"string\",\n",
        "                \"Event_gender\": \"category\",\n",
        "                \"Medal\": ordered_medals}\n",
        "  df = (pd.read_csv(filename, skiprows=5, dtype=dtype_mapper)\n",
        "        .drop('Position', axis=1)\n",
        "  )\n",
        "  df[\"Event Gender\"] = df[\"Event Gender\"].astype(\"category\")\n",
        "  return df\n",
        "\n",
        "oo = preprocess()\n",
        "\n",
        "def preprocess_2008(filename=\"olympics_2008.csv\"):\n",
        "  df = pd.read_csv(filename)\n",
        "  df.columns = ['City', 'Year', 'Sport', 'Discipline', 'Athlete Name', 'NOC',\n",
        "       'Gender', 'Event', 'Event Gender', 'Medal', 'Result']\n",
        "  df = df.drop(\"Result\", axis=1)\n",
        "  df.City = df.City.fillna(value=\"Beijing\")\n",
        "  df.Year = df.Year.fillna(value=2008)\n",
        "  df = df.dropna(subset=['Sport', 'Discipline', 'Athlete Name', 'NOC', 'Gender',\n",
        "       'Event', 'Event Gender', 'Medal'], how=\"all\")\n",
        "  df = df.drop_duplicates()\n",
        "  return df\n",
        "\n",
        "nw = preprocess_2008()\n",
        "nw.sample(3)"
      ],
      "metadata": {
        "id": "GOflVpGsZL_Q"
      },
      "execution_count": null,
      "outputs": []
    },
    {
      "cell_type": "code",
      "source": [
        "medals = ['Gold', 'Silver', 'Bronze', 'Bronze', 'Gold']\n",
        "medals"
      ],
      "metadata": {
        "id": "N6o2NYWie7D8"
      },
      "execution_count": null,
      "outputs": []
    },
    {
      "cell_type": "code",
      "source": [
        "medals[0]"
      ],
      "metadata": {
        "id": "v7c-iLUOQPsK"
      },
      "execution_count": null,
      "outputs": []
    },
    {
      "cell_type": "code",
      "source": [
        "medals[1]"
      ],
      "metadata": {
        "id": "jldc5g5fQRFH"
      },
      "execution_count": null,
      "outputs": []
    },
    {
      "cell_type": "code",
      "source": [
        "len(medals)"
      ],
      "metadata": {
        "id": "6Y0s7gi_Qh47"
      },
      "execution_count": null,
      "outputs": []
    },
    {
      "cell_type": "code",
      "source": [
        "nw[\"Athlete Name\"]"
      ],
      "metadata": {
        "id": "QeaYD5fwZyqj"
      },
      "execution_count": null,
      "outputs": []
    },
    {
      "cell_type": "code",
      "source": [
        "import re\n",
        "\n",
        "search_string = \"split\"\n",
        "\n",
        "[func for func in dir(nw[\"Athlete Name\"].str) if re.search(rf\"{search_string}\", func, re.IGNORECASE)]"
      ],
      "metadata": {
        "id": "1hoQ3x9jeptx"
      },
      "execution_count": null,
      "outputs": []
    },
    {
      "cell_type": "code",
      "source": [
        "nw[\"Athlete Name\"].str.split?"
      ],
      "metadata": {
        "id": "fh_rUyyieUm7"
      },
      "execution_count": null,
      "outputs": []
    },
    {
      "cell_type": "code",
      "source": [
        "nw[\"Athlete Name\"].str.split(\", \")"
      ],
      "metadata": {
        "id": "mf-ra6HlHOXq"
      },
      "execution_count": null,
      "outputs": []
    },
    {
      "cell_type": "code",
      "source": [
        "nw[\"Athlete Name\"].str.split(\", \").tolist()"
      ],
      "metadata": {
        "id": "EaXUuR-vHjVh"
      },
      "execution_count": null,
      "outputs": []
    },
    {
      "cell_type": "code",
      "source": [
        "athlete_names = nw[\"Athlete Name\"].str.split(\", \").tolist()\n",
        "athlete_names"
      ],
      "metadata": {
        "id": "2ejtl6psHnbN"
      },
      "execution_count": null,
      "outputs": []
    },
    {
      "cell_type": "code",
      "source": [
        "import re\n",
        "\n",
        "search_string = \"upper\"\n",
        "\n",
        "[func for func in dir(nw[\"Athlete Name\"].str) if re.search(rf\"{search_string}\", func, re.IGNORECASE)]"
      ],
      "metadata": {
        "id": "g1USKjupfWxT"
      },
      "execution_count": null,
      "outputs": []
    },
    {
      "cell_type": "code",
      "source": [
        "[athlete_name for athlete_name in athlete_names]"
      ],
      "metadata": {
        "id": "UAvRMk62IC9y"
      },
      "execution_count": null,
      "outputs": []
    },
    {
      "cell_type": "code",
      "source": [
        "[athlete_name[0] for athlete_name in athlete_names]"
      ],
      "metadata": {
        "id": "r1zOAWZhITjq"
      },
      "execution_count": null,
      "outputs": []
    },
    {
      "cell_type": "code",
      "source": [
        "[athlete_name[0].isupper() for athlete_name in athlete_names]"
      ],
      "metadata": {
        "id": "8rkOsk9cIZ9n"
      },
      "execution_count": null,
      "outputs": []
    },
    {
      "cell_type": "code",
      "source": [
        "len([item[0].isupper() for item in athlete_names])"
      ],
      "metadata": {
        "id": "0eyFKJTBG1FB"
      },
      "execution_count": null,
      "outputs": []
    },
    {
      "cell_type": "code",
      "source": [
        "nw.info()"
      ],
      "metadata": {
        "id": "AihTvS2aHFzJ"
      },
      "execution_count": null,
      "outputs": []
    },
    {
      "cell_type": "markdown",
      "source": [
        "##Updating the dtypes"
      ],
      "metadata": {
        "id": "nC0B3PtWD0H1"
      }
    },
    {
      "cell_type": "code",
      "source": [
        "!pip install --quiet pandas==2.0.2\n",
        "\n",
        "import pandas as pd\n",
        "from pathlib import Path\n",
        "\n",
        "if not Path(\"olympics_1896_2004.csv\").exists():\n",
        "  !wget https://github.com/jonfernandes/pandas_essential/raw/main/olympics_1896_2004.csv\n",
        "if not Path(\"olympics_2008.csv\").exists():\n",
        "  !wget https://github.com/jonfernandes/pandas_essential/raw/main/olympics_2008.csv\n",
        "\n",
        "filename = \"olympics_1896_2004.csv\"\n",
        "print(\"Installed all of the necessary files for this section ...\")"
      ],
      "metadata": {
        "id": "biY5wXHNq_Sv"
      },
      "execution_count": null,
      "outputs": []
    },
    {
      "cell_type": "code",
      "source": [
        "def preprocess(filename = \"olympics_1896_2004.csv\"):\n",
        "  \"\"\"Preparing and transforming dataframe\"\"\"\n",
        "  print(f\"Preprocessing {filename} ...\\n\")\n",
        "  ordered_medals = pd.api.types.CategoricalDtype(categories=[\"Bronze\", \"Silver\", \"Gold\"], ordered=True)\n",
        "  dtype_mapper = {\"Year\": \"int64\",\n",
        "                \"City\": \"string\",\n",
        "                \"Sport\": \"string\",\n",
        "                \"Discipline\": \"string\",\n",
        "                \"Athlete Name\": \"string\",\n",
        "                \"NOC\": \"string\",\n",
        "                \"Gender\": \"category\",\n",
        "                \"Event\": \"string\",\n",
        "                \"Event_gender\": \"category\",\n",
        "                \"Medal\": ordered_medals}\n",
        "  df = (pd.read_csv(filename, skiprows=5, dtype=dtype_mapper)\n",
        "        .drop('Position', axis=1)\n",
        "  )\n",
        "  df.Sport = df.Sport.str.lower()\n",
        "  df.Discipline = df.Discipline.str.lower()\n",
        "  df.Event = df.Event.str.lower()\n",
        "  df.NOC = df.NOC.str.upper()\n",
        "  df[\"Event Gender\"] = df[\"Event Gender\"].astype(\"category\")\n",
        "  df.loc[24676, \"Gender\"] = \"Women\"\n",
        "  return df\n",
        "\n",
        "def preprocess_2008(filename=\"olympics_2008.csv\"):\n",
        "  df = pd.read_csv(filename)\n",
        "  df.columns = ['City', 'Year', 'Sport', 'Discipline', 'Athlete Name', 'NOC',\n",
        "       'Gender', 'Event', 'Event Gender', 'Medal', 'Result']\n",
        "  df = df.drop(\"Result\", axis=1)\n",
        "  df.City = df.City.fillna(value=\"Beijing\")\n",
        "  df.Year = df.Year.fillna(value=2008)\n",
        "  df = df.dropna(subset=['Sport', 'Discipline', 'Athlete Name', 'NOC', 'Gender',\n",
        "       'Event', 'Event Gender', 'Medal'], how=\"all\")\n",
        "  df = df.drop_duplicates()\n",
        "  df.Sport = df.Sport.str.lower()\n",
        "  df.Discipline = df.Discipline.str.lower()\n",
        "  df.Event = df.Event.str.lower()\n",
        "  df.NOC = df.NOC.str.upper()\n",
        "  df.Medal = df.Medal.str.capitalize()\n",
        "  return df\n",
        "\n",
        "oo = preprocess()\n",
        "nw = preprocess_2008()\n",
        "nw.sample(3)"
      ],
      "metadata": {
        "id": "Ilm29tuCDmpV"
      },
      "execution_count": null,
      "outputs": []
    },
    {
      "cell_type": "code",
      "source": [
        "nw.dtypes"
      ],
      "metadata": {
        "id": "8ode2JHZD-4o"
      },
      "execution_count": null,
      "outputs": []
    },
    {
      "cell_type": "code",
      "source": [
        "oo.dtypes"
      ],
      "metadata": {
        "id": "LAuLw1l3T2jD"
      },
      "execution_count": null,
      "outputs": []
    },
    {
      "cell_type": "code",
      "source": [
        "def preprocess_2008(filename=\"olympics_2008.csv\"):\n",
        "  print(f\"Preprocessing {filename} ...\\n\")\n",
        "  df = pd.read_csv(filename)\n",
        "  df.columns = ['City', 'Year', 'Sport', 'Discipline', 'Athlete Name', 'NOC',\n",
        "       'Gender', 'Event', 'Event Gender', 'Medal', 'Result']\n",
        "  df = df.drop(\"Result\", axis=1)\n",
        "  df.City = df.City.fillna(value=\"Beijing\")\n",
        "  df.Year = df.Year.fillna(value=2008)\n",
        "  df = df.dropna(subset=['Sport', 'Discipline', 'Athlete Name', 'NOC', 'Gender',\n",
        "       'Event', 'Event Gender', 'Medal'], how=\"all\")\n",
        "  df = df.drop_duplicates()\n",
        "  df.Sport = df.Sport.str.lower()\n",
        "  df.Discipline = df.Discipline.str.lower()\n",
        "  df.Event = df.Event.str.lower()\n",
        "  df.NOC = df.NOC.str.upper()\n",
        "  df.Medal = df.Medal.str.capitalize()\n",
        "  df.City = df.City.astype(\"string\")\n",
        "  df.Year = df.Year.astype(int)\n",
        "  df.Sport = df.Sport.astype(\"string\")\n",
        "  df.Discipline = df.Discipline.astype(\"string\")\n",
        "  df[\"Athlete Name\"] = df[\"Athlete Name\"].astype(\"string\")\n",
        "  df.NOC = df.NOC.astype(\"string\")\n",
        "  df.Gender = df.Gender.astype(\"category\")\n",
        "  df.Event = df.Event.astype(\"string\")\n",
        "  df['Event Gender'] = df['Event Gender'].astype(\"category\")\n",
        "  medal_order = [\"Bronze\", \"Silver\", \"Gold\"]\n",
        "  df.Medal = pd.Categorical(df.Medal, categories=medal_order, ordered=True)\n",
        "\n",
        "  return df\n",
        "\n",
        "nw = preprocess_2008()\n",
        "nw.sample(3)\n",
        "\n"
      ],
      "metadata": {
        "id": "JPZ847t7ERLs"
      },
      "execution_count": null,
      "outputs": []
    },
    {
      "cell_type": "code",
      "source": [
        "nw.dtypes"
      ],
      "metadata": {
        "id": "WmhfHI5KERIT"
      },
      "execution_count": null,
      "outputs": []
    },
    {
      "cell_type": "markdown",
      "source": [
        "## Combine the datasets"
      ],
      "metadata": {
        "id": "BdOwoiXDISBA"
      }
    },
    {
      "cell_type": "code",
      "source": [
        "!pip install --quiet pandas==2.0.2\n",
        "\n",
        "import pandas as pd\n",
        "from pathlib import Path\n",
        "\n",
        "if not Path(\"olympics_1896_2004.csv\").exists():\n",
        "  !wget https://github.com/jonfernandes/pandas_essential/raw/main/olympics_1896_2004.csv\n",
        "if not Path(\"olympics_2008.csv\").exists():\n",
        "  !wget https://github.com/jonfernandes/pandas_essential/raw/main/olympics_2008.csv\n",
        "\n",
        "filename = \"olympics_1896_2004.csv\"\n",
        "print(\"Installed all of the necessary files for this section ...\")"
      ],
      "metadata": {
        "id": "r76ijBJvqLIj"
      },
      "execution_count": null,
      "outputs": []
    },
    {
      "cell_type": "code",
      "source": [
        "def preprocess(filename = \"olympics_1896_2004.csv\"):\n",
        "  \"\"\"Preparing and transforming dataframe\"\"\"\n",
        "  print(f\"Preprocessing {filename} ...\\n\")\n",
        "  ordered_medals = pd.api.types.CategoricalDtype(categories=[\"Bronze\", \"Silver\", \"Gold\"], ordered=True)\n",
        "  dtype_mapper = {\"Year\": \"int64\",\n",
        "                \"City\": \"string\",\n",
        "                \"Sport\": \"string\",\n",
        "                \"Discipline\": \"string\",\n",
        "                \"Athlete Name\": \"string\",\n",
        "                \"NOC\": \"string\",\n",
        "                \"Gender\": \"category\",\n",
        "                \"Event\": \"string\",\n",
        "                \"Event_gender\": \"category\",\n",
        "                \"Medal\": ordered_medals}\n",
        "  df = (pd.read_csv(filename, skiprows=5, dtype=dtype_mapper)\n",
        "        .drop('Position', axis=1)\n",
        "  )\n",
        "  df[\"Event Gender\"] = df[\"Event Gender\"].astype(\"category\")\n",
        "  df.loc[24676, \"Gender\"] = \"Women\"\n",
        "  df.Sport = df.Sport.str.lower()\n",
        "  df.Discipline = df.Discipline.str.lower()\n",
        "  df.Event = df.Event.str.lower()\n",
        "  df.NOC = df.NOC.str.upper()\n",
        "  return df\n",
        "\n",
        "def preprocess_2008(filename=\"olympics_2008.csv\"):\n",
        "  print(f\"Preprocessing {filename} ...\\n\")\n",
        "  df = pd.read_csv(filename)\n",
        "  df.columns = ['City', 'Year', 'Sport', 'Discipline', 'Athlete Name', 'NOC',\n",
        "       'Gender', 'Event', 'Event Gender', 'Medal', 'Result']\n",
        "  df = df.drop(\"Result\", axis=1)\n",
        "  df.City = df.City.fillna(value=\"Beijing\")\n",
        "  df.Year = df.Year.fillna(value=2008)\n",
        "  df = df.dropna(subset=['Sport', 'Discipline', 'Athlete Name', 'NOC', 'Gender',\n",
        "       'Event', 'Event Gender', 'Medal'], how=\"all\")\n",
        "  df = df.drop_duplicates()\n",
        "  df.Sport = df.Sport.str.lower()\n",
        "  df.Discipline = df.Discipline.str.lower()\n",
        "  df.Event = df.Event.str.lower()\n",
        "  df.NOC = df.NOC.str.upper()\n",
        "  df.Medal = df.Medal.str.capitalize()\n",
        "  df.City = df.City.astype(\"string\")\n",
        "  df.Year = df.Year.astype(int)\n",
        "  df.Sport = df.Sport.astype(\"string\")\n",
        "  df.Discipline = df.Discipline.astype(\"string\")\n",
        "  df[\"Athlete Name\"] = df[\"Athlete Name\"].astype(\"string\")\n",
        "  df.NOC = df.NOC.astype(\"string\")\n",
        "  df.Gender = df.Gender.astype(\"category\")\n",
        "  df.Event = df.Event.astype(\"string\")\n",
        "  df['Event Gender'] = df['Event Gender'].astype(\"category\")\n",
        "  medal_order = [\"Bronze\", \"Silver\", \"Gold\"]\n",
        "  df.Medal = pd.Categorical(df.Medal, categories=medal_order, ordered=True)\n",
        "\n",
        "  return df\n"
      ],
      "metadata": {
        "id": "jO66AK7yYYpE"
      },
      "execution_count": null,
      "outputs": []
    },
    {
      "cell_type": "code",
      "source": [
        "oo = preprocess()\n",
        "oo.sample(3)"
      ],
      "metadata": {
        "id": "OPd8JXEDERBV"
      },
      "execution_count": null,
      "outputs": []
    },
    {
      "cell_type": "code",
      "source": [
        "oo.dtypes"
      ],
      "metadata": {
        "id": "F7vBfS85JK5j"
      },
      "execution_count": null,
      "outputs": []
    },
    {
      "cell_type": "code",
      "source": [
        "nw = preprocess_2008()\n",
        "nw.sample(3)"
      ],
      "metadata": {
        "id": "fJrBOACtERE4"
      },
      "execution_count": null,
      "outputs": []
    },
    {
      "cell_type": "code",
      "source": [
        "nw.dtypes"
      ],
      "metadata": {
        "id": "nVorqQPcJM_f"
      },
      "execution_count": null,
      "outputs": []
    },
    {
      "cell_type": "code",
      "source": [
        "pd.concat([oo, nw])"
      ],
      "metadata": {
        "id": "KXeIQvOUEQ8-"
      },
      "execution_count": null,
      "outputs": []
    },
    {
      "cell_type": "code",
      "source": [
        "pd.concat([oo, nw]).dtypes"
      ],
      "metadata": {
        "id": "V-YFZ-lqEQ5D"
      },
      "execution_count": null,
      "outputs": []
    },
    {
      "cell_type": "code",
      "source": [
        "up = pd.concat([oo, nw])\n",
        "up.sample(3)"
      ],
      "metadata": {
        "id": "-jegITAgEQxf"
      },
      "execution_count": null,
      "outputs": []
    },
    {
      "cell_type": "code",
      "source": [
        "up.dtypes"
      ],
      "metadata": {
        "id": "4PmCLeOil6cf"
      },
      "execution_count": null,
      "outputs": []
    },
    {
      "cell_type": "markdown",
      "source": [
        "##Plotting data"
      ],
      "metadata": {
        "id": "kH9DmNEweaVZ"
      }
    },
    {
      "cell_type": "code",
      "source": [
        "!pip install --quiet pandas==2.0.2\n",
        "\n",
        "import pandas as pd\n",
        "from pathlib import Path\n",
        "import matplotlib.pyplot as plt\n",
        "\n",
        "\n",
        "if not Path(\"olympics_1896_2004.csv\").exists():\n",
        "  !wget https://github.com/jonfernandes/pandas_essential/raw/main/olympics_1896_2004.csv\n",
        "if not Path(\"olympics_2008.csv\").exists():\n",
        "  !wget https://github.com/jonfernandes/pandas_essential/raw/main/olympics_2008.csv\n",
        "\n",
        "filename = \"olympics_1896_2004.csv\"\n",
        "print(\"Installed all of the necessary files for this section ...\")"
      ],
      "metadata": {
        "id": "ESgPIHjNqVjk"
      },
      "execution_count": null,
      "outputs": []
    },
    {
      "cell_type": "code",
      "source": [
        "def preprocess(filename = \"olympics_1896_2004.csv\"):\n",
        "  \"\"\"Preparing and transforming dataframe\"\"\"\n",
        "  print(f\"Preprocessing {filename} ...\\n\")\n",
        "  ordered_medals = pd.api.types.CategoricalDtype(categories=[\"Bronze\", \"Silver\", \"Gold\"], ordered=True)\n",
        "  dtype_mapper = {\"Year\": \"int64\",\n",
        "                \"City\": \"string\",\n",
        "                \"Sport\": \"string\",\n",
        "                \"Discipline\": \"string\",\n",
        "                \"Athlete Name\": \"string\",\n",
        "                \"NOC\": \"string\",\n",
        "                \"Gender\": \"category\",\n",
        "                \"Event\": \"string\",\n",
        "                \"Event_gender\": \"category\",\n",
        "                \"Medal\": ordered_medals}\n",
        "  df = (pd.read_csv(filename, skiprows=5, dtype=dtype_mapper)\n",
        "        .drop('Position', axis=1)\n",
        "  )\n",
        "  df[\"Event Gender\"] = df[\"Event Gender\"].astype(\"category\")\n",
        "  df.loc[24676, \"Gender\"] = \"Women\"\n",
        "  df.Sport = df.Sport.str.lower()\n",
        "  df.Discipline = df.Discipline.str.lower()\n",
        "  df.Event = df.Event.str.lower()\n",
        "  df.NOC = df.NOC.str.upper()\n",
        "  return df\n",
        "\n",
        "\n",
        "def preprocess_2008(filename=\"olympics_2008.csv\"):\n",
        "  print(f\"Preprocessing {filename} ...\\n\")\n",
        "  df = pd.read_csv(filename)\n",
        "  df.columns = ['City', 'Year', 'Sport', 'Discipline', 'Athlete Name', 'NOC',\n",
        "       'Gender', 'Event', 'Event Gender', 'Medal', 'Result']\n",
        "  df = df.drop(\"Result\", axis=1)\n",
        "  df.City = df.City.fillna(value=\"Beijing\")\n",
        "  df.Year = df.Year.fillna(value=2008)\n",
        "  df = df.dropna(subset=['Sport', 'Discipline', 'Athlete Name', 'NOC', 'Gender',\n",
        "       'Event', 'Event Gender', 'Medal'], how=\"all\")\n",
        "  df = df.drop_duplicates()\n",
        "  df.Sport = df.Sport.str.lower()\n",
        "  df.Discipline = df.Discipline.str.lower()\n",
        "  df.Event = df.Event.str.lower()\n",
        "  df.NOC = df.NOC.str.upper()\n",
        "  df.Medal = df.Medal.str.capitalize()\n",
        "  df.City = df.City.astype(\"string\")\n",
        "  df.Year = df.Year.astype(int)\n",
        "  df.Sport = df.Sport.astype(\"string\")\n",
        "  df.Discipline = df.Discipline.astype(\"string\")\n",
        "  df[\"Athlete Name\"] = df[\"Athlete Name\"].astype(\"string\")\n",
        "  df.NOC = df.NOC.astype(\"string\")\n",
        "  df.Gender = df.Gender.astype(\"category\")\n",
        "  df.Event = df.Event.astype(\"string\")\n",
        "  df['Event Gender'] = df['Event Gender'].astype(\"category\")\n",
        "  medal_order = [\"Bronze\", \"Silver\", \"Gold\"]\n",
        "  df.Medal = pd.Categorical(df.Medal, categories=medal_order, ordered=True)\n",
        "\n",
        "  return df\n",
        "\n",
        "oo = preprocess()\n",
        "nw = preprocess_2008()\n",
        "up = pd.concat([oo, nw])\n",
        "up.sample(3)"
      ],
      "metadata": {
        "id": "e7WwBAKBfZ_x"
      },
      "execution_count": null,
      "outputs": []
    },
    {
      "cell_type": "code",
      "source": [
        "import matplotlib.pyplot as plt"
      ],
      "metadata": {
        "id": "hDcHyZ0Zee4H"
      },
      "execution_count": null,
      "outputs": []
    },
    {
      "cell_type": "markdown",
      "source": [
        "**For the first Olympics, how many events were there for each of the different sports? Plot them using different graphs.**"
      ],
      "metadata": {
        "id": "_0kw7_W7fOnW"
      }
    },
    {
      "cell_type": "code",
      "source": [
        "first_games = up[up.Year == 1896]\n",
        "first_games"
      ],
      "metadata": {
        "id": "e5bQRFKLee0U"
      },
      "execution_count": null,
      "outputs": []
    },
    {
      "cell_type": "code",
      "source": [
        "first_games.Sport.value_counts()"
      ],
      "metadata": {
        "id": "bl7_0MNUfo9F"
      },
      "execution_count": null,
      "outputs": []
    },
    {
      "cell_type": "code",
      "source": [
        "first_games.Sport.value_counts().plot?"
      ],
      "metadata": {
        "id": "GsrXzz2Ngqc6"
      },
      "execution_count": null,
      "outputs": []
    },
    {
      "cell_type": "code",
      "source": [
        "type(first_games.Sport.value_counts())"
      ],
      "metadata": {
        "id": "3HerIqOQh1b8"
      },
      "execution_count": null,
      "outputs": []
    },
    {
      "cell_type": "code",
      "source": [
        "dir(pd.Series)"
      ],
      "metadata": {
        "id": "WM5f-w3AhRRt"
      },
      "execution_count": null,
      "outputs": []
    },
    {
      "cell_type": "code",
      "source": [
        "pd.Series.plot?"
      ],
      "metadata": {
        "id": "NC2Py4eigDCw"
      },
      "execution_count": null,
      "outputs": []
    },
    {
      "cell_type": "code",
      "source": [
        "first_games.Sport.value_counts().plot(kind='line')"
      ],
      "metadata": {
        "id": "BvvtW4gzfo5J"
      },
      "execution_count": null,
      "outputs": []
    },
    {
      "cell_type": "code",
      "source": [
        "first_games.Sport.value_counts().plot(figsize=(10,3))"
      ],
      "metadata": {
        "id": "Atn1b3-vhSwy"
      },
      "execution_count": null,
      "outputs": []
    },
    {
      "cell_type": "code",
      "source": [
        "(first_games\n",
        " .Sport\n",
        " .value_counts()\n",
        " .plot(figsize=(10,3))\n",
        ")"
      ],
      "metadata": {
        "id": "bkX2FsJPj1GH"
      },
      "execution_count": null,
      "outputs": []
    },
    {
      "cell_type": "code",
      "source": [
        "(first_games\n",
        " .Sport\n",
        " .value_counts()\n",
        " #.plot(figsize=(10,3))\n",
        ")"
      ],
      "metadata": {
        "id": "PT2Y9QQFkEqa"
      },
      "execution_count": null,
      "outputs": []
    },
    {
      "cell_type": "code",
      "source": [
        "(first_games\n",
        " .Sport\n",
        " .value_counts()\n",
        " .plot(kind='bar')\n",
        ")"
      ],
      "metadata": {
        "id": "u9WiJO5Afo1h"
      },
      "execution_count": null,
      "outputs": []
    },
    {
      "cell_type": "code",
      "source": [
        "(first_games\n",
        " .Sport\n",
        " .value_counts()\n",
        " .plot\n",
        " .bar()\n",
        ")"
      ],
      "metadata": {
        "id": "G_UpM4MPh5yG"
      },
      "execution_count": null,
      "outputs": []
    },
    {
      "cell_type": "code",
      "source": [
        "(first_games\n",
        " .Sport\n",
        " .value_counts()\n",
        " .plot(kind='barh')\n",
        ")"
      ],
      "metadata": {
        "id": "xcCfatDefoxw"
      },
      "execution_count": null,
      "outputs": []
    },
    {
      "cell_type": "code",
      "source": [
        "(first_games\n",
        " .Sport\n",
        " .value_counts()\n",
        " .plot(kind='barh', color='red')\n",
        ")"
      ],
      "metadata": {
        "id": "Q_Tm9qp6y7aA"
      },
      "execution_count": null,
      "outputs": []
    },
    {
      "cell_type": "code",
      "source": [
        "(first_games\n",
        " .Sport\n",
        " .value_counts()\n",
        " .plot(kind='barh', color=['blue', 'red'])\n",
        ")"
      ],
      "metadata": {
        "id": "21U9xe7UzItK"
      },
      "execution_count": null,
      "outputs": []
    },
    {
      "cell_type": "markdown",
      "source": [
        "##Working with colormaps and Seaborn"
      ],
      "metadata": {
        "id": "486bDzcSDjs9"
      }
    },
    {
      "cell_type": "code",
      "source": [
        "!pip install --quiet pandas==2.0.2\n",
        "\n",
        "import pandas as pd\n",
        "from pathlib import Path\n",
        "import matplotlib.pyplot as plt\n",
        "\n",
        "if not Path(\"olympics_1896_2004.csv\").exists():\n",
        "  !wget https://github.com/jonfernandes/pandas_essential/raw/main/olympics_1896_2004.csv\n",
        "if not Path(\"olympics_2008.csv\").exists():\n",
        "  !wget https://github.com/jonfernandes/pandas_essential/raw/main/olympics_2008.csv\n",
        "\n",
        "filename = \"olympics_1896_2004.csv\"\n",
        "print(\"Installed all of the necessary files for this section ...\")"
      ],
      "metadata": {
        "id": "DpnRrEIoqid-"
      },
      "execution_count": null,
      "outputs": []
    },
    {
      "cell_type": "code",
      "source": [
        "def preprocess(filename = \"olympics_1896_2004.csv\"):\n",
        "  \"\"\"Preparing and transforming dataframe\"\"\"\n",
        "  print(f\"Preprocessing {filename} ...\\n\")\n",
        "  ordered_medals = pd.api.types.CategoricalDtype(categories=[\"Bronze\", \"Silver\", \"Gold\"], ordered=True)\n",
        "  dtype_mapper = {\"Year\": \"int64\",\n",
        "                \"City\": \"string\",\n",
        "                \"Sport\": \"string\",\n",
        "                \"Discipline\": \"string\",\n",
        "                \"Athlete Name\": \"string\",\n",
        "                \"NOC\": \"string\",\n",
        "                \"Gender\": \"category\",\n",
        "                \"Event\": \"string\",\n",
        "                \"Event_gender\": \"category\",\n",
        "                \"Medal\": ordered_medals}\n",
        "  df = (pd.read_csv(filename, skiprows=5, dtype=dtype_mapper)\n",
        "        .drop('Position', axis=1)\n",
        "  )\n",
        "  df[\"Event Gender\"] = df[\"Event Gender\"].astype(\"category\")\n",
        "  df.loc[24676, \"Gender\"] = \"Women\"\n",
        "  df.Sport = df.Sport.str.lower()\n",
        "  df.Discipline = df.Discipline.str.lower()\n",
        "  df.Event = df.Event.str.lower()\n",
        "  df.NOC = df.NOC.str.upper()\n",
        "  return df\n",
        "\n",
        "def preprocess_2008(filename=\"olympics_2008.csv\"):\n",
        "  print(f\"Preprocessing {filename} ...\\n\")\n",
        "  df = pd.read_csv(filename)\n",
        "  df.columns = ['City', 'Year', 'Sport', 'Discipline', 'Athlete Name', 'NOC',\n",
        "       'Gender', 'Event', 'Event Gender', 'Medal', 'Result']\n",
        "  df = df.drop(\"Result\", axis=1)\n",
        "  df.City = df.City.fillna(value=\"Beijing\")\n",
        "  df.Year = df.Year.fillna(value=2008)\n",
        "  df = df.dropna(subset=['Sport', 'Discipline', 'Athlete Name', 'NOC', 'Gender',\n",
        "       'Event', 'Event Gender', 'Medal'], how=\"all\")\n",
        "  df = df.drop_duplicates()\n",
        "  df.Sport = df.Sport.str.lower()\n",
        "  df.Discipline = df.Discipline.str.lower()\n",
        "  df.Event = df.Event.str.lower()\n",
        "  df.NOC = df.NOC.str.upper()\n",
        "  df.Medal = df.Medal.str.capitalize()\n",
        "  df.City = df.City.astype(\"string\")\n",
        "  df.Year = df.Year.astype(int)\n",
        "  df.Sport = df.Sport.astype(\"string\")\n",
        "  df.Discipline = df.Discipline.astype(\"string\")\n",
        "  df[\"Athlete Name\"] = df[\"Athlete Name\"].astype(\"string\")\n",
        "  df.NOC = df.NOC.astype(\"string\")\n",
        "  df.Gender = df.Gender.astype(\"category\")\n",
        "  df.Event = df.Event.astype(\"string\")\n",
        "  df['Event Gender'] = df['Event Gender'].astype(\"category\")\n",
        "  medal_order = [\"Bronze\", \"Silver\", \"Gold\"]\n",
        "  df.Medal = pd.Categorical(df.Medal, categories=medal_order, ordered=True)\n",
        "\n",
        "  return df\n",
        "\n",
        "oo = preprocess()\n",
        "nw = preprocess_2008()\n",
        "up = pd.concat([oo, nw])\n",
        "up.sample(3)"
      ],
      "metadata": {
        "id": "Ur60DjmuFL1V"
      },
      "execution_count": null,
      "outputs": []
    },
    {
      "cell_type": "code",
      "source": [
        "games_2008 = up[up.Year == 2008]\n",
        "games_2008.sample(3)"
      ],
      "metadata": {
        "id": "U76lkf7sfoor"
      },
      "execution_count": null,
      "outputs": []
    },
    {
      "cell_type": "code",
      "source": [
        "(games_2008\n",
        " .Medal\n",
        " .value_counts())"
      ],
      "metadata": {
        "id": "oSg5G5_EfolO"
      },
      "execution_count": null,
      "outputs": []
    },
    {
      "cell_type": "code",
      "source": [
        "import seaborn as sns"
      ],
      "metadata": {
        "id": "6fbPnUCrfohj"
      },
      "execution_count": null,
      "outputs": []
    },
    {
      "cell_type": "code",
      "source": [
        "plt.figure(figsize=(5,3))\n",
        "plt.title(\"Medals from the 2008 games\")\n",
        "sns.countplot(data=games_2008,\n",
        "              x='Medal',\n",
        "              )\n"
      ],
      "metadata": {
        "id": "_lEr91CVfoZy"
      },
      "execution_count": null,
      "outputs": []
    },
    {
      "cell_type": "code",
      "source": [
        "plt.figure(figsize=(5,3))\n",
        "plt.title(\"Medals from the 2008 games\")\n",
        "sns.countplot(data=games_2008,\n",
        "              x='Medal',\n",
        "              order=[\"Gold\", \"Silver\", \"Bronze\"])"
      ],
      "metadata": {
        "id": "ONwg1H21yJSk"
      },
      "execution_count": null,
      "outputs": []
    },
    {
      "cell_type": "code",
      "source": [
        "plt.figure(figsize=(5,3))\n",
        "plt.title(\"Medals from the 2008 games\")\n",
        "sns.countplot(data=games_2008,\n",
        "              x='Medal',\n",
        "              order=[\"Gold\", \"Silver\", \"Bronze\"],\n",
        "              hue='Gender')"
      ],
      "metadata": {
        "id": "nDzVng1P0xsO"
      },
      "execution_count": null,
      "outputs": []
    },
    {
      "cell_type": "code",
      "source": [
        "plt.figure(figsize=(5,3))\n",
        "plt.title(\"Medals from the 2008 games\")\n",
        "sns.countplot(data=games_2008,\n",
        "              x='Medal',\n",
        "              order=[\"Gold\", \"Silver\", \"Bronze\"],\n",
        "              hue='Gender',\n",
        "              palette='seismic')"
      ],
      "metadata": {
        "id": "7DWDpQWe05b4"
      },
      "execution_count": null,
      "outputs": []
    },
    {
      "cell_type": "code",
      "source": [
        "plt.figure(figsize=(5,3))\n",
        "plt.title(\"Medals from the 2008 games\")\n",
        "sns.countplot(data=games_2008,\n",
        "              x='Medal',\n",
        "              order=[\"Gold\", \"Silver\", \"Bronze\"],\n",
        "              hue='Gender',\n",
        "              palette='coolwarm')"
      ],
      "metadata": {
        "id": "OrMVWF7406Af"
      },
      "execution_count": null,
      "outputs": []
    },
    {
      "cell_type": "code",
      "source": [
        "plt.figure(figsize=(5,3))\n",
        "plt.title(\"Medals from the 2008 games\")\n",
        "sns.countplot(data=games_2008,\n",
        "              x='Medal',\n",
        "              order=[\"Gold\", \"Silver\", \"Bronze\"],\n",
        "              hue='Gender',\n",
        "              palette='bwr')"
      ],
      "metadata": {
        "id": "IUwowuAG1pMo"
      },
      "execution_count": null,
      "outputs": []
    },
    {
      "cell_type": "code",
      "source": [
        "plt.figure(figsize=(5,3))\n",
        "plt.title(\"Medals from the 2008 games\")\n",
        "sns.countplot(data=games_2008,\n",
        "              x='Medal',\n",
        "              order=[\"Gold\", \"Silver\", \"Bronze\"],\n",
        "              hue='Gender',\n",
        "              palette='bwr_r')"
      ],
      "metadata": {
        "id": "V1PuecS106i2"
      },
      "execution_count": null,
      "outputs": []
    },
    {
      "cell_type": "markdown",
      "source": [
        "##Working with groupby"
      ],
      "metadata": {
        "id": "Qr68snfKFo33"
      }
    },
    {
      "cell_type": "code",
      "source": [
        "!pip install --quiet pandas==2.0.2\n",
        "\n",
        "import pandas as pd\n",
        "from pathlib import Path\n",
        "import matplotlib.pyplot as plt\n",
        "\n",
        "\n",
        "if not Path(\"olympics_1896_2004.csv\").exists():\n",
        "  !wget https://github.com/jonfernandes/pandas_essential/raw/main/olympics_1896_2004.csv\n",
        "if not Path(\"olympics_2008.csv\").exists():\n",
        "  !wget https://github.com/jonfernandes/pandas_essential/raw/main/olympics_2008.csv\n",
        "\n",
        "filename = \"olympics_1896_2004.csv\"\n",
        "print(\"Installed all of the necessary files for this section ...\")"
      ],
      "metadata": {
        "id": "h6s7DYd4q5Mk"
      },
      "execution_count": null,
      "outputs": []
    },
    {
      "cell_type": "code",
      "source": [
        "def preprocess(filename = \"olympics_1896_2004.csv\"):\n",
        "  \"\"\"Preparing and transforming dataframe\"\"\"\n",
        "  print(f\"Preprocessing {filename} ...\\n\")\n",
        "  ordered_medals = pd.api.types.CategoricalDtype(categories=[\"Bronze\", \"Silver\", \"Gold\"], ordered=True)\n",
        "  dtype_mapper = {\"Year\": \"int64\",\n",
        "                \"City\": \"string\",\n",
        "                \"Sport\": \"string\",\n",
        "                \"Discipline\": \"string\",\n",
        "                \"Athlete Name\": \"string\",\n",
        "                \"NOC\": \"string\",\n",
        "                \"Gender\": \"category\",\n",
        "                \"Event\": \"string\",\n",
        "                \"Event_gender\": \"category\",\n",
        "                \"Medal\": ordered_medals}\n",
        "  df = (pd.read_csv(filename, skiprows=5, dtype=dtype_mapper)\n",
        "        .drop('Position', axis=1)\n",
        "  )\n",
        "  df[\"Event Gender\"] = df[\"Event Gender\"].astype(\"category\")\n",
        "  df.loc[24676, \"Gender\"] = \"Women\"\n",
        "  df.Sport = df.Sport.str.lower()\n",
        "  df.Discipline = df.Discipline.str.lower()\n",
        "  df.Event = df.Event.str.lower()\n",
        "  df.NOC = df.NOC.str.upper()\n",
        "  return df\n",
        "\n",
        "def preprocess_2008(filename=\"olympics_2008.csv\"):\n",
        "  print(f\"Preprocessing {filename} ...\\n\")\n",
        "  df = pd.read_csv(filename)\n",
        "  df.columns = ['City', 'Year', 'Sport', 'Discipline', 'Athlete Name', 'NOC',\n",
        "       'Gender', 'Event', 'Event Gender', 'Medal', 'Result']\n",
        "  df = df.drop(\"Result\", axis=1)\n",
        "  df.City = df.City.fillna(value=\"Beijing\")\n",
        "  df.Year = df.Year.fillna(value=2008)\n",
        "  df = df.dropna(subset=['Sport', 'Discipline', 'Athlete Name', 'NOC', 'Gender',\n",
        "       'Event', 'Event Gender', 'Medal'], how=\"all\")\n",
        "  df = df.drop_duplicates()\n",
        "  df.Sport = df.Sport.str.lower()\n",
        "  df.Discipline = df.Discipline.str.lower()\n",
        "  df.Event = df.Event.str.lower()\n",
        "  df.NOC = df.NOC.str.upper()\n",
        "  df.Medal = df.Medal.str.capitalize()\n",
        "  df.City = df.City.astype(\"string\")\n",
        "  df.Year = df.Year.astype(int)\n",
        "  df.Sport = df.Sport.astype(\"string\")\n",
        "  df.Discipline = df.Discipline.astype(\"string\")\n",
        "  df[\"Athlete Name\"] = df[\"Athlete Name\"].astype(\"string\")\n",
        "  df.NOC = df.NOC.astype(\"string\")\n",
        "  df.Gender = df.Gender.astype(\"category\")\n",
        "  df.Event = df.Event.astype(\"string\")\n",
        "  df['Event Gender'] = df['Event Gender'].astype(\"category\")\n",
        "  medal_order = [\"Bronze\", \"Silver\", \"Gold\"]\n",
        "  df.Medal = pd.Categorical(df.Medal, categories=medal_order, ordered=True)\n",
        "\n",
        "  return df\n",
        "\n",
        "oo = preprocess()\n",
        "nw = preprocess_2008()\n",
        "up = pd.concat([oo, nw])\n",
        "up.sample(3)"
      ],
      "metadata": {
        "id": "jLYyLD1F-PAT"
      },
      "execution_count": null,
      "outputs": []
    },
    {
      "cell_type": "code",
      "source": [
        "sprints = up[(up.Year == 2008) & ((up.Event == '100m') | (up.Event == '200m'))]\n",
        "sprints"
      ],
      "metadata": {
        "id": "fjqov5kh_FHa"
      },
      "execution_count": null,
      "outputs": []
    },
    {
      "cell_type": "code",
      "source": [
        "sp = sprints.groupby(['NOC', 'Gender', 'Event'])\n",
        "sp"
      ],
      "metadata": {
        "id": "hqdKX_EXAqrY"
      },
      "execution_count": null,
      "outputs": []
    },
    {
      "cell_type": "code",
      "source": [
        "up.groupby(\"Year\")"
      ],
      "metadata": {
        "id": "W95xeY7ZFtYb"
      },
      "execution_count": null,
      "outputs": []
    },
    {
      "cell_type": "code",
      "source": [
        "type(up.groupby('Year'))"
      ],
      "metadata": {
        "id": "xyac4sOnF7xV"
      },
      "execution_count": null,
      "outputs": []
    },
    {
      "cell_type": "code",
      "source": [
        "up.groupby(\"Year\").count()"
      ],
      "metadata": {
        "id": "yACDdzl9Fzr0"
      },
      "execution_count": null,
      "outputs": []
    },
    {
      "cell_type": "code",
      "source": [
        "for group_key, group_value in up.groupby('Year'):\n",
        "    print(group_key)\n",
        "    print(group_value)"
      ],
      "metadata": {
        "id": "NnugdlmPGfuV"
      },
      "execution_count": null,
      "outputs": []
    },
    {
      "cell_type": "code",
      "source": [
        "type(group_value)"
      ],
      "metadata": {
        "id": "PFvFNPieG6fw"
      },
      "execution_count": null,
      "outputs": []
    },
    {
      "cell_type": "code",
      "source": [
        "up.groupby(['Year']).count()"
      ],
      "metadata": {
        "id": "FUZ1XjrC_qMv"
      },
      "execution_count": null,
      "outputs": []
    },
    {
      "cell_type": "code",
      "source": [
        "up.groupby(\"Year\").size()"
      ],
      "metadata": {
        "id": "aXuPTFXeHACE"
      },
      "execution_count": null,
      "outputs": []
    },
    {
      "cell_type": "code",
      "source": [
        "up.groupby(['Year','NOC']).count()"
      ],
      "metadata": {
        "id": "5pqISQ6FIy2Q"
      },
      "execution_count": null,
      "outputs": []
    },
    {
      "cell_type": "code",
      "source": [
        "up.groupby(['Year','NOC'])['Medal'].count()"
      ],
      "metadata": {
        "id": "p5W-QKRzKXK1"
      },
      "execution_count": null,
      "outputs": []
    },
    {
      "cell_type": "code",
      "source": [
        "up.groupby(['Year','NOC']).size()"
      ],
      "metadata": {
        "id": "pJqhHLChIoAA"
      },
      "execution_count": null,
      "outputs": []
    },
    {
      "cell_type": "code",
      "source": [
        "up.groupby(['Year','NOC','Medal']).size()"
      ],
      "metadata": {
        "id": "_o3eF3uEHAFS"
      },
      "execution_count": null,
      "outputs": []
    },
    {
      "cell_type": "code",
      "source": [
        "up.groupby(['NOC'])['Year'].min()"
      ],
      "metadata": {
        "id": "NkPLhcA9KuMu"
      },
      "execution_count": null,
      "outputs": []
    },
    {
      "cell_type": "code",
      "source": [
        "up.groupby(['NOC'])['Year'].max()"
      ],
      "metadata": {
        "id": "N7_2PKh8K79g"
      },
      "execution_count": null,
      "outputs": []
    },
    {
      "cell_type": "code",
      "source": [
        "up.groupby(['NOC'])['Year'].min()"
      ],
      "metadata": {
        "id": "nclk4Xx3cON6"
      },
      "execution_count": null,
      "outputs": []
    },
    {
      "cell_type": "code",
      "source": [
        "up.groupby(['NOC'])['Year'].agg(['min', 'max', 'count'])"
      ],
      "metadata": {
        "id": "2fC52zyTG_-e"
      },
      "execution_count": null,
      "outputs": []
    },
    {
      "cell_type": "markdown",
      "source": [
        "##Reshaping data: Stacking, Unstacking and MultiIndex"
      ],
      "metadata": {
        "id": "G4oDXcOu6cNf"
      }
    },
    {
      "cell_type": "code",
      "source": [
        "!pip install --quiet pandas==2.0.2\n",
        "\n",
        "import pandas as pd\n",
        "from pathlib import Path\n",
        "import matplotlib.pyplot as plt\n",
        "\n",
        "\n",
        "if not Path(\"olympics_1896_2004.csv\").exists():\n",
        "  !wget https://github.com/jonfernandes/pandas_essential/raw/main/olympics_1896_2004.csv\n",
        "if not Path(\"olympics_2008.csv\").exists():\n",
        "  !wget https://github.com/jonfernandes/pandas_essential/raw/main/olympics_2008.csv\n",
        "\n",
        "filename = \"olympics_1896_2004.csv\"\n",
        "print(\"Installed all of the necessary files for this section ...\")"
      ],
      "metadata": {
        "id": "qRfLqK3V6nDb"
      },
      "execution_count": null,
      "outputs": []
    },
    {
      "cell_type": "code",
      "source": [
        "def preprocess(filename = \"olympics_1896_2004.csv\"):\n",
        "  \"\"\"Preparing and transforming dataframe\"\"\"\n",
        "  print(f\"Preprocessing {filename} ...\\n\")\n",
        "  ordered_medals = pd.api.types.CategoricalDtype(categories=[\"Bronze\", \"Silver\", \"Gold\"], ordered=True)\n",
        "  dtype_mapper = {\"Year\": \"int64\",\n",
        "                \"City\": \"string\",\n",
        "                \"Sport\": \"string\",\n",
        "                \"Discipline\": \"string\",\n",
        "                \"Athlete Name\": \"string\",\n",
        "                \"NOC\": \"string\",\n",
        "                \"Gender\": \"category\",\n",
        "                \"Event\": \"string\",\n",
        "                \"Event_gender\": \"category\",\n",
        "                \"Medal\": ordered_medals}\n",
        "  df = pd.read_csv(filename, skiprows=5, dtype=dtype_mapper)\n",
        "  df = df.drop('Position', axis=1)\n",
        "  df[\"Event Gender\"] = df[\"Event Gender\"].astype(\"category\")\n",
        "  df.loc[24676, \"Gender\"] = \"Women\"\n",
        "  df.Sport = df.Sport.str.lower()\n",
        "  df.Discipline = df.Discipline.str.lower()\n",
        "  df.Event = df.Event.str.lower()\n",
        "  df.NOC = df.NOC.str.upper()\n",
        "  return df\n",
        "\n",
        "def preprocess_2008(filename=\"olympics_2008.csv\"):\n",
        "  print(f\"Preprocessing {filename} ...\\n\")\n",
        "  df = pd.read_csv(filename)\n",
        "  df.columns = ['City', 'Year', 'Sport', 'Discipline', 'Athlete Name', 'NOC',\n",
        "       'Gender', 'Event', 'Event Gender', 'Medal', 'Result']\n",
        "  df = df.drop(\"Result\", axis=1)\n",
        "  df.City = df.City.fillna(value=\"Beijing\")\n",
        "  df.Year = df.Year.fillna(value=2008)\n",
        "  df = df.dropna(subset=['Sport', 'Discipline', 'Athlete Name', 'NOC', 'Gender',\n",
        "       'Event', 'Event Gender', 'Medal'], how=\"all\")\n",
        "  df = df.drop_duplicates()\n",
        "  df.Sport = df.Sport.str.lower()\n",
        "  df.Discipline = df.Discipline.str.lower()\n",
        "  df.Event = df.Event.str.lower()\n",
        "  df.NOC = df.NOC.str.upper()\n",
        "  df.Medal = df.Medal.str.capitalize()\n",
        "  df.City = df.City.astype(\"string\")\n",
        "  df.Year = df.Year.astype(int)\n",
        "  df.Sport = df.Sport.astype(\"string\")\n",
        "  df.Discipline = df.Discipline.astype(\"string\")\n",
        "  df[\"Athlete Name\"] = df[\"Athlete Name\"].astype(\"string\")\n",
        "  df.NOC = df.NOC.astype(\"string\")\n",
        "  df.Gender = df.Gender.astype(\"category\")\n",
        "  df.Event = df.Event.astype(\"string\")\n",
        "  df['Event Gender'] = df['Event Gender'].astype(\"category\")\n",
        "  medal_order = [\"Bronze\", \"Silver\", \"Gold\"]\n",
        "  df.Medal = pd.Categorical(df.Medal, categories=medal_order, ordered=True)\n",
        "\n",
        "  return df\n",
        "\n",
        "oo = preprocess()\n",
        "nw = preprocess_2008()\n",
        "up = pd.concat([oo, nw])\n",
        "up.sample(3)"
      ],
      "metadata": {
        "id": "XuhND-Tz6nDb"
      },
      "execution_count": null,
      "outputs": []
    },
    {
      "cell_type": "code",
      "source": [
        "sprints = up[(up.Year == 2008) & ( (up.Event == '100m') | (up.Event == '200m'))]\n",
        "sprints"
      ],
      "metadata": {
        "id": "HPvTlgBv6g1l"
      },
      "execution_count": null,
      "outputs": []
    },
    {
      "cell_type": "code",
      "source": [
        "sp = sprints.groupby(['NOC','Gender','Event']).size()\n",
        "sp"
      ],
      "metadata": {
        "id": "bl6fTsV064ji"
      },
      "execution_count": null,
      "outputs": []
    },
    {
      "cell_type": "code",
      "source": [
        "sp.unstack?"
      ],
      "metadata": {
        "id": "rqB_IGRlS-3t"
      },
      "execution_count": null,
      "outputs": []
    },
    {
      "cell_type": "code",
      "source": [
        "sp.unstack('Gender', fill_value=0)"
      ],
      "metadata": {
        "id": "aOZjOX4c8zig"
      },
      "execution_count": null,
      "outputs": []
    },
    {
      "cell_type": "code",
      "source": [
        "(sp\n",
        " .unstack('Gender', fill_value=0)\n",
        " .unstack('Event', fill_value=0)\n",
        ")"
      ],
      "metadata": {
        "id": "tSipFwZU87rU"
      },
      "execution_count": null,
      "outputs": []
    },
    {
      "cell_type": "code",
      "source": [
        "sp.unstack?"
      ],
      "metadata": {
        "id": "F3OkF_UyQTC5"
      },
      "execution_count": null,
      "outputs": []
    },
    {
      "cell_type": "code",
      "source": [
        "sp.unstack(['Gender', 'Event'], fill_value=0)"
      ],
      "metadata": {
        "id": "zkfX-zpO64do"
      },
      "execution_count": null,
      "outputs": []
    },
    {
      "cell_type": "code",
      "source": [
        "sp = sprints.groupby(['NOC','Gender','Event']).size()\n",
        "sp"
      ],
      "metadata": {
        "id": "sw378hByAh_z"
      },
      "execution_count": null,
      "outputs": []
    },
    {
      "cell_type": "code",
      "source": [
        "sp.unstack(level=1, fill_value=0)"
      ],
      "metadata": {
        "id": "HeayOcw3V8Vg"
      },
      "execution_count": null,
      "outputs": []
    },
    {
      "cell_type": "code",
      "source": [
        "sprints_table = sp.unstack(level=1, fill_value=0).unstack(level=1, fill_value=0)\n",
        "sprints_table"
      ],
      "metadata": {
        "id": "AwUsaAcRWKtN"
      },
      "execution_count": null,
      "outputs": []
    },
    {
      "cell_type": "code",
      "source": [
        "sprints_NOC = sprints_table.stack(\"Gender\")\n",
        "sprints_NOC"
      ],
      "metadata": {
        "id": "9qhYg3pm64PS"
      },
      "execution_count": null,
      "outputs": []
    },
    {
      "cell_type": "code",
      "source": [
        "sprints_NOC.index"
      ],
      "metadata": {
        "id": "BygN_yLAXMM3"
      },
      "execution_count": null,
      "outputs": []
    },
    {
      "cell_type": "code",
      "source": [
        "sprints_NOC.loc[('JAM',   'Men'), :]"
      ],
      "metadata": {
        "id": "J2iY34Vr64Gj"
      },
      "execution_count": null,
      "outputs": []
    },
    {
      "cell_type": "code",
      "source": [
        "sprints_NOC.loc[('JAM',   'Men'), '100m']"
      ],
      "metadata": {
        "id": "EupzuYGO64Bk"
      },
      "execution_count": null,
      "outputs": []
    },
    {
      "cell_type": "code",
      "source": [
        "sprints_NOC.iloc[0, :]"
      ],
      "metadata": {
        "id": "YrJ9kCCdYE_R"
      },
      "execution_count": null,
      "outputs": []
    },
    {
      "cell_type": "code",
      "source": [
        "sprints_NOC.iloc[0, 0]"
      ],
      "metadata": {
        "id": "gxcj_y-qYMHm"
      },
      "execution_count": null,
      "outputs": []
    },
    {
      "cell_type": "code",
      "source": [
        "sprints_NOC.stack?"
      ],
      "metadata": {
        "id": "DkrFQ0XGB5Oj"
      },
      "execution_count": null,
      "outputs": []
    },
    {
      "cell_type": "code",
      "source": [
        "sprints_NOC.unstack?"
      ],
      "metadata": {
        "id": "bwoHmR7aB_Pr"
      },
      "execution_count": null,
      "outputs": []
    },
    {
      "cell_type": "markdown",
      "source": [
        "## Challenge"
      ],
      "metadata": {
        "id": "prwKaxHRupV5"
      }
    },
    {
      "cell_type": "code",
      "source": [
        "!pip install --quiet pandas==2.0.2\n",
        "\n",
        "import pandas as pd\n",
        "from pathlib import Path\n",
        "import matplotlib.pyplot as plt\n",
        "\n",
        "if not Path(\"olympics_1896_2004.csv\").exists():\n",
        "  !wget https://github.com/jonfernandes/pandas_essential/raw/main/olympics_1896_2004.csv\n",
        "if not Path(\"olympics_2008.csv\").exists():\n",
        "  !wget https://github.com/jonfernandes/pandas_essential/raw/main/olympics_2008.csv\n",
        "\n",
        "filename = \"olympics_1896_2004.csv\"\n",
        "print(\"Installed all of the necessary files for this section ...\")"
      ],
      "metadata": {
        "id": "pUFO5mPbexfs"
      },
      "execution_count": null,
      "outputs": []
    },
    {
      "cell_type": "code",
      "source": [
        "def preprocess(filename = \"olympics_1896_2004.csv\"):\n",
        "  \"\"\"Preparing and transforming dataframe\"\"\"\n",
        "  print(f\"Preprocessing {filename} ...\\n\")\n",
        "  ordered_medals = pd.api.types.CategoricalDtype(categories=[\"Bronze\", \"Silver\", \"Gold\"], ordered=True)\n",
        "  dtype_mapper = {\"Year\": \"int64\",\n",
        "                \"City\": \"string\",\n",
        "                \"Sport\": \"string\",\n",
        "                \"Discipline\": \"string\",\n",
        "                \"Athlete Name\": \"string\",\n",
        "                \"NOC\": \"string\",\n",
        "                \"Gender\": \"category\",\n",
        "                \"Event\": \"string\",\n",
        "                \"Event_gender\": \"category\",\n",
        "                \"Medal\": ordered_medals}\n",
        "  df = pd.read_csv(filename, skiprows=5, dtype=dtype_mapper)\n",
        "  df = df.drop('Position', axis=1)\n",
        "  df[\"Event Gender\"] = df[\"Event Gender\"].astype(\"category\")\n",
        "  df.loc[24676, \"Gender\"] = \"Women\"\n",
        "  df.Sport = df.Sport.str.lower()\n",
        "  df.Discipline = df.Discipline.str.lower()\n",
        "  df.Event = df.Event.str.lower()\n",
        "  df.NOC = df.NOC.str.upper()\n",
        "  return df\n",
        "\n",
        "def preprocess_2008(filename=\"olympics_2008.csv\"):\n",
        "  print(f\"Preprocessing {filename} ...\\n\")\n",
        "  df = pd.read_csv(filename)\n",
        "  df.columns = ['City', 'Year', 'Sport', 'Discipline', 'Athlete Name', 'NOC',\n",
        "       'Gender', 'Event', 'Event Gender', 'Medal', 'Result']\n",
        "  df = df.drop(\"Result\", axis=1)\n",
        "  df.City = df.City.fillna(value=\"Beijing\")\n",
        "  df.Year = df.Year.fillna(value=2008)\n",
        "  df = df.dropna(subset=['Sport', 'Discipline', 'Athlete Name', 'NOC', 'Gender',\n",
        "       'Event', 'Event Gender', 'Medal'], how=\"all\")\n",
        "  df = df.drop_duplicates()\n",
        "  df.Sport = df.Sport.str.lower()\n",
        "  df.Discipline = df.Discipline.str.lower()\n",
        "  df.Event = df.Event.str.lower()\n",
        "  df.NOC = df.NOC.str.upper()\n",
        "  df.Medal = df.Medal.str.capitalize()\n",
        "  df.City = df.City.astype(\"string\")\n",
        "  df.Year = df.Year.astype(int)\n",
        "  df.Sport = df.Sport.astype(\"string\")\n",
        "  df.Discipline = df.Discipline.astype(\"string\")\n",
        "  df[\"Athlete Name\"] = df[\"Athlete Name\"].astype(\"string\")\n",
        "  df.NOC = df.NOC.astype(\"string\")\n",
        "  df.Gender = df.Gender.astype(\"category\")\n",
        "  df.Event = df.Event.astype(\"string\")\n",
        "  df['Event Gender'] = df['Event Gender'].astype(\"category\")\n",
        "  medal_order = [\"Bronze\", \"Silver\", \"Gold\"]\n",
        "  df.Medal = pd.Categorical(df.Medal, categories=medal_order, ordered=True)\n",
        "\n",
        "  return df\n",
        "\n",
        "oo = preprocess()\n",
        "nw = preprocess_2008()\n",
        "up = pd.concat([oo, nw])\n",
        "up.sample(3)"
      ],
      "metadata": {
        "id": "pDC_nItNexfs"
      },
      "execution_count": null,
      "outputs": []
    },
    {
      "cell_type": "markdown",
      "source": [
        "**Using a line graph, plot the number of gold medals won by the USA male and female Olympians throughout the history of the Olympics?\n",
        "Distinguish between the male and female Olympians in the line graph using blue and pink**"
      ],
      "metadata": {
        "id": "r5o55t_3uuwb"
      }
    },
    {
      "cell_type": "code",
      "source": [],
      "metadata": {
        "id": "C_RNt_Ef639H"
      },
      "execution_count": null,
      "outputs": []
    },
    {
      "cell_type": "markdown",
      "source": [
        "**Using a bar chart, plot the 5 Olympians who have won the most gold medals from the dataset (1896 to 2008). When there is a tie, consider the number of silver medals, then bronze medals.**"
      ],
      "metadata": {
        "id": "Tb5t8FCK3hwH"
      }
    },
    {
      "cell_type": "markdown",
      "source": [
        "##Solution"
      ],
      "metadata": {
        "id": "UeJT-eycu6o9"
      }
    },
    {
      "cell_type": "markdown",
      "source": [
        "**Using a line graph, plot the number of gold medals won by the USA male and female Olympians throughout the history of the Olympics?\n",
        "Distinguish between the male and female Olympians in the line graph using blue (male) and pink (female)**"
      ],
      "metadata": {
        "id": "Q9Qf05NHu6o9"
      }
    },
    {
      "cell_type": "code",
      "source": [
        "!pip install --quiet pandas==2.0.2\n",
        "\n",
        "import pandas as pd\n",
        "from pathlib import Path\n",
        "import matplotlib.pyplot as plt\n",
        "\n",
        "if not Path(\"olympics_1896_2004.csv\").exists():\n",
        "  !wget https://github.com/jonfernandes/pandas_essential/raw/main/olympics_1896_2004.csv\n",
        "if not Path(\"olympics_2008.csv\").exists():\n",
        "  !wget https://github.com/jonfernandes/pandas_essential/raw/main/olympics_2008.csv\n",
        "\n",
        "filename = \"olympics_1896_2004.csv\"\n",
        "print(\"Installed all of the necessary files for this section ...\")"
      ],
      "metadata": {
        "id": "dYNEO227vQiv"
      },
      "execution_count": null,
      "outputs": []
    },
    {
      "cell_type": "code",
      "source": [
        "def preprocess(filename = \"olympics_1896_2004.csv\"):\n",
        "  \"\"\"Preparing and transforming dataframe\"\"\"\n",
        "  print(f\"Preprocessing {filename} ...\\n\")\n",
        "  ordered_medals = pd.api.types.CategoricalDtype(categories=[\"Bronze\", \"Silver\", \"Gold\"], ordered=True)\n",
        "  dtype_mapper = {\"Year\": \"int64\",\n",
        "                \"City\": \"string\",\n",
        "                \"Sport\": \"string\",\n",
        "                \"Discipline\": \"string\",\n",
        "                \"Athlete Name\": \"string\",\n",
        "                \"NOC\": \"string\",\n",
        "                \"Gender\": \"category\",\n",
        "                \"Event\": \"string\",\n",
        "                \"Event_gender\": \"category\",\n",
        "                \"Medal\": ordered_medals}\n",
        "  df = pd.read_csv(filename, skiprows=5, dtype=dtype_mapper)\n",
        "  df = df.drop('Position', axis=1)\n",
        "  df[\"Event Gender\"] = df[\"Event Gender\"].astype(\"category\")\n",
        "  df.loc[24676, \"Gender\"] = \"Women\"\n",
        "  df.Sport = df.Sport.str.lower()\n",
        "  df.Discipline = df.Discipline.str.lower()\n",
        "  df.Event = df.Event.str.lower()\n",
        "  df.NOC = df.NOC.str.upper()\n",
        "  return df\n",
        "\n",
        "def preprocess_2008(filename=\"olympics_2008.csv\"):\n",
        "  print(f\"Preprocessing {filename} ...\\n\")\n",
        "  df = pd.read_csv(filename)\n",
        "  df.columns = ['City', 'Year', 'Sport', 'Discipline', 'Athlete Name', 'NOC',\n",
        "       'Gender', 'Event', 'Event Gender', 'Medal', 'Result']\n",
        "  df = df.drop(\"Result\", axis=1)\n",
        "  df.City = df.City.fillna(value=\"Beijing\")\n",
        "  df.Year = df.Year.fillna(value=2008)\n",
        "  df = df.dropna(subset=['Sport', 'Discipline', 'Athlete Name', 'NOC', 'Gender',\n",
        "       'Event', 'Event Gender', 'Medal'], how=\"all\")\n",
        "  df = df.drop_duplicates()\n",
        "  df.Sport = df.Sport.str.lower()\n",
        "  df.Discipline = df.Discipline.str.lower()\n",
        "  df.Event = df.Event.str.lower()\n",
        "  df.NOC = df.NOC.str.upper()\n",
        "  df.Medal = df.Medal.str.capitalize()\n",
        "  df.City = df.City.astype(\"string\")\n",
        "  df.Year = df.Year.astype(int)\n",
        "  df.Sport = df.Sport.astype(\"string\")\n",
        "  df.Discipline = df.Discipline.astype(\"string\")\n",
        "  df[\"Athlete Name\"] = df[\"Athlete Name\"].astype(\"string\")\n",
        "  df.NOC = df.NOC.astype(\"string\")\n",
        "  df.Gender = df.Gender.astype(\"category\")\n",
        "  df.Event = df.Event.astype(\"string\")\n",
        "  df['Event Gender'] = df['Event Gender'].astype(\"category\")\n",
        "  medal_order = [\"Bronze\", \"Silver\", \"Gold\"]\n",
        "  df.Medal = pd.Categorical(df.Medal, categories=medal_order, ordered=True)\n",
        "\n",
        "  return df\n",
        "\n",
        "oo = preprocess()\n",
        "nw = preprocess_2008()\n",
        "up = pd.concat([oo, nw])\n",
        "up.sample(3)"
      ],
      "metadata": {
        "id": "QEVPTHlIvQiw"
      },
      "execution_count": null,
      "outputs": []
    },
    {
      "cell_type": "code",
      "source": [
        "usa_gold = up[(up.NOC == 'USA') & (up.Medal == 'Gold')]\n",
        "usa_gold"
      ],
      "metadata": {
        "id": "MphlXj4BvXNa"
      },
      "execution_count": null,
      "outputs": []
    },
    {
      "cell_type": "code",
      "source": [
        "usa_gold.groupby(['Year', 'Gender']).size()"
      ],
      "metadata": {
        "id": "cC_5dpdrvXKK"
      },
      "execution_count": null,
      "outputs": []
    },
    {
      "cell_type": "code",
      "source": [
        "usa_gold.groupby(['Year', 'Gender']).size().index"
      ],
      "metadata": {
        "id": "O5dFukxku6o-"
      },
      "execution_count": null,
      "outputs": []
    },
    {
      "cell_type": "code",
      "source": [
        "usa_gold.groupby(['Year', 'Gender']).size().plot(kind='line')"
      ],
      "metadata": {
        "id": "0Wz1wAS4z-xZ"
      },
      "execution_count": null,
      "outputs": []
    },
    {
      "cell_type": "code",
      "source": [
        "usa_gold.groupby(['Year', 'Gender']).size()"
      ],
      "metadata": {
        "id": "R_XDcQRT1A07"
      },
      "execution_count": null,
      "outputs": []
    },
    {
      "cell_type": "code",
      "source": [
        "usa_gold.groupby(['Year', 'Gender']).size().unstack('Gender')"
      ],
      "metadata": {
        "id": "v13F5zuIwuFm"
      },
      "execution_count": null,
      "outputs": []
    },
    {
      "cell_type": "code",
      "source": [
        "usa_gold.groupby(['Year', 'Gender']).size().unstack('Gender').plot(kind='line')"
      ],
      "metadata": {
        "id": "Ss-ROTMkwuCk"
      },
      "execution_count": null,
      "outputs": []
    },
    {
      "cell_type": "code",
      "source": [
        "usa_gold.groupby(['Year', 'Gender']).size().unstack('Gender').plot?"
      ],
      "metadata": {
        "id": "epfAeOuIZZhJ"
      },
      "execution_count": null,
      "outputs": []
    },
    {
      "cell_type": "code",
      "source": [
        "pd.Series.plot?"
      ],
      "metadata": {
        "id": "oRbk59AZZr_7"
      },
      "execution_count": null,
      "outputs": []
    },
    {
      "cell_type": "code",
      "source": [
        "usa_gold.groupby(['Year', 'Gender']).size().unstack('Gender').plot(kind='line', color=['blue', 'pink'])"
      ],
      "metadata": {
        "id": "LW0X9ze0wt8Z"
      },
      "execution_count": null,
      "outputs": []
    },
    {
      "cell_type": "code",
      "source": [
        "usa_gold.groupby(['Year', 'Gender']).size().unstack('Gender').plot(kind='line', color=['pink', 'blue'])"
      ],
      "metadata": {
        "id": "rFbw6oa2wt5d"
      },
      "execution_count": null,
      "outputs": []
    },
    {
      "cell_type": "markdown",
      "source": [
        "**Using a bar chart, plot the 5 Olympians who have won the most gold medals from the dataset (1896 to 2008). When there is a tie, consider the number of silver medals, then bronze medals.**"
      ],
      "metadata": {
        "id": "foilIThA354A"
      }
    },
    {
      "cell_type": "code",
      "source": [
        "up.groupby(['Athlete Name','Medal']).size()"
      ],
      "metadata": {
        "id": "NZOK4FC7wt2Y"
      },
      "execution_count": null,
      "outputs": []
    },
    {
      "cell_type": "code",
      "source": [
        "(up.groupby(['Athlete Name','Medal'])\n",
        ".size()\n",
        ".unstack('Medal', fill_value=0)\n",
        ")"
      ],
      "metadata": {
        "id": "WwmJr_heaCJI"
      },
      "execution_count": null,
      "outputs": []
    },
    {
      "cell_type": "code",
      "source": [
        "(up.groupby(['Athlete Name','Medal'])\n",
        ".size()\n",
        ".unstack('Medal', fill_value=0)\n",
        ".sort_values(['Gold', 'Silver', 'Bronze'], ascending=False)\n",
        ")"
      ],
      "metadata": {
        "id": "IwdoRPZtwtzO"
      },
      "execution_count": null,
      "outputs": []
    },
    {
      "cell_type": "code",
      "source": [
        "(up.groupby(['Athlete Name','Medal'])\n",
        ".size()\n",
        ".unstack('Medal', fill_value=0)\n",
        ".sort_values(['Gold', 'Silver', 'Bronze'], ascending=False)[['Gold', 'Silver', 'Bronze']]\n",
        ")"
      ],
      "metadata": {
        "id": "ULPVMVbBwtvx"
      },
      "execution_count": null,
      "outputs": []
    },
    {
      "cell_type": "code",
      "source": [
        "(up.groupby(['Athlete Name','Medal'])\n",
        ".size()\n",
        ".unstack('Medal', fill_value=0)\n",
        ".sort_values(['Gold', 'Silver', 'Bronze'], ascending=False)[['Gold', 'Silver', 'Bronze']]\n",
        ".head(5)\n",
        ")"
      ],
      "metadata": {
        "id": "uDO5cqLa5BOq"
      },
      "execution_count": null,
      "outputs": []
    },
    {
      "cell_type": "code",
      "source": [
        "(up.groupby(['Athlete Name','Medal'])\n",
        ".size()\n",
        ".unstack('Medal', fill_value=0)\n",
        ".sort_values(['Gold', 'Silver', 'Bronze'], ascending=False)[['Gold', 'Silver', 'Bronze']]\n",
        ".head(5)\n",
        ".plot(kind='bar')\n",
        ")"
      ],
      "metadata": {
        "id": "udOauxgS5pl8"
      },
      "execution_count": null,
      "outputs": []
    },
    {
      "cell_type": "markdown",
      "source": [
        "##Creating your own colormaps"
      ],
      "metadata": {
        "id": "w-w5R_xF7431"
      }
    },
    {
      "cell_type": "code",
      "source": [
        "!pip install --quiet pandas==2.0.2\n",
        "\n",
        "import pandas as pd\n",
        "from pathlib import Path\n",
        "import matplotlib.pyplot as plt\n",
        "\n",
        "if not Path(\"olympics_1896_2004.csv\").exists():\n",
        "  !wget https://github.com/jonfernandes/pandas_essential/raw/main/olympics_1896_2004.csv\n",
        "if not Path(\"olympics_2008.csv\").exists():\n",
        "  !wget https://github.com/jonfernandes/pandas_essential/raw/main/olympics_2008.csv\n",
        "\n",
        "filename = \"olympics_1896_2004.csv\"\n",
        "print(\"Installed all of the necessary files for this section ...\")"
      ],
      "metadata": {
        "id": "cHYafmKciN48"
      },
      "execution_count": null,
      "outputs": []
    },
    {
      "cell_type": "code",
      "source": [
        "def preprocess(filename = \"olympics_1896_2004.csv\"):\n",
        "  \"\"\"Preparing and transforming dataframe\"\"\"\n",
        "  print(f\"Preprocessing {filename} ...\\n\")\n",
        "  ordered_medals = pd.api.types.CategoricalDtype(categories=[\"Bronze\", \"Silver\", \"Gold\"], ordered=True)\n",
        "  dtype_mapper = {\"Year\": \"int64\",\n",
        "                \"City\": \"string\",\n",
        "                \"Sport\": \"string\",\n",
        "                \"Discipline\": \"string\",\n",
        "                \"Athlete Name\": \"string\",\n",
        "                \"NOC\": \"string\",\n",
        "                \"Gender\": \"category\",\n",
        "                \"Event\": \"string\",\n",
        "                \"Event_gender\": \"category\",\n",
        "                \"Medal\": ordered_medals}\n",
        "  df = pd.read_csv(filename, skiprows=5, dtype=dtype_mapper)\n",
        "  df = df.drop('Position', axis=1)\n",
        "  df[\"Event Gender\"] = df[\"Event Gender\"].astype(\"category\")\n",
        "  df.loc[24676, \"Gender\"] = \"Women\"\n",
        "  df.Sport = df.Sport.str.lower()\n",
        "  df.Discipline = df.Discipline.str.lower()\n",
        "  df.Event = df.Event.str.lower()\n",
        "  df.NOC = df.NOC.str.upper()\n",
        "  return df\n",
        "\n",
        "def preprocess_2008(filename=\"olympics_2008.csv\"):\n",
        "  print(f\"Preprocessing {filename} ...\\n\")\n",
        "  df = pd.read_csv(filename)\n",
        "  df.columns = ['City', 'Year', 'Sport', 'Discipline', 'Athlete Name', 'NOC',\n",
        "       'Gender', 'Event', 'Event Gender', 'Medal', 'Result']\n",
        "  df = df.drop(\"Result\", axis=1)\n",
        "  df.City = df.City.fillna(value=\"Beijing\")\n",
        "  df.Year = df.Year.fillna(value=2008)\n",
        "  df = df.dropna(subset=['Sport', 'Discipline', 'Athlete Name', 'NOC', 'Gender',\n",
        "       'Event', 'Event Gender', 'Medal'], how=\"all\")\n",
        "  df = df.drop_duplicates()\n",
        "  df.Sport = df.Sport.str.lower()\n",
        "  df.Discipline = df.Discipline.str.lower()\n",
        "  df.Event = df.Event.str.lower()\n",
        "  df.NOC = df.NOC.str.upper()\n",
        "  df.Medal = df.Medal.str.capitalize()\n",
        "  df.City = df.City.astype(\"string\")\n",
        "  df.Year = df.Year.astype(int)\n",
        "  df.Sport = df.Sport.astype(\"string\")\n",
        "  df.Discipline = df.Discipline.astype(\"string\")\n",
        "  df[\"Athlete Name\"] = df[\"Athlete Name\"].astype(\"string\")\n",
        "  df.NOC = df.NOC.astype(\"string\")\n",
        "  df.Gender = df.Gender.astype(\"category\")\n",
        "  df.Event = df.Event.astype(\"string\")\n",
        "  df['Event Gender'] = df['Event Gender'].astype(\"category\")\n",
        "  medal_order = [\"Bronze\", \"Silver\", \"Gold\"]\n",
        "  df.Medal = pd.Categorical(df.Medal, categories=medal_order, ordered=True)\n",
        "\n",
        "  return df\n",
        "\n",
        "oo = preprocess()\n",
        "nw = preprocess_2008()\n",
        "up = pd.concat([oo, nw])\n",
        "up.sample(3)"
      ],
      "metadata": {
        "id": "RdlXjxjGiN49"
      },
      "execution_count": null,
      "outputs": []
    },
    {
      "cell_type": "code",
      "source": [
        "(up.groupby(['Athlete Name','Medal'])\n",
        ".size()\n",
        ".unstack('Medal', fill_value=0)\n",
        ".sort_values(['Gold', 'Silver', 'Bronze'], ascending=False)[['Gold', 'Silver', 'Bronze']]\n",
        ".head(5)\n",
        ".plot(kind='bar')\n",
        ")"
      ],
      "metadata": {
        "id": "mHLjmflh7-nT"
      },
      "execution_count": null,
      "outputs": []
    },
    {
      "cell_type": "code",
      "source": [
        "from matplotlib.colors import ListedColormap"
      ],
      "metadata": {
        "id": "iYeTaMM87-kF"
      },
      "execution_count": null,
      "outputs": []
    },
    {
      "cell_type": "code",
      "source": [
        "ListedColormap?"
      ],
      "metadata": {
        "id": "qFIqIhPH7-gj"
      },
      "execution_count": null,
      "outputs": []
    },
    {
      "cell_type": "code",
      "source": [
        "gold_silver_bronze = ['#dbb40c','#c5c9c7','#a87900']"
      ],
      "metadata": {
        "id": "p0l6tR4z7-dP"
      },
      "execution_count": null,
      "outputs": []
    },
    {
      "cell_type": "code",
      "source": [
        "colormap = ListedColormap(gold_silver_bronze)\n",
        "colormap"
      ],
      "metadata": {
        "id": "AoZBeImP9yWf"
      },
      "execution_count": null,
      "outputs": []
    },
    {
      "cell_type": "code",
      "source": [
        "(up.groupby(['Athlete Name','Medal'])\n",
        ".size()\n",
        ".unstack('Medal', fill_value=0)\n",
        ".sort_values(['Gold', 'Silver', 'Bronze'], ascending=False)[['Gold', 'Silver', 'Bronze']]\n",
        ".head(5)\n",
        ".plot(kind='bar', colormap=colormap)\n",
        ")"
      ],
      "metadata": {
        "id": "D2yNdU-R9ySu"
      },
      "execution_count": null,
      "outputs": []
    },
    {
      "cell_type": "markdown",
      "source": [
        "##Final Challenge"
      ],
      "metadata": {
        "id": "Ffq41qyWCfrk"
      }
    },
    {
      "cell_type": "markdown",
      "source": [
        "For each Olympic year present in the dataset, show the US Olympian (and their sport) who has won the highest number of medals in that particular year.\n",
        "\n",
        "- In the case of a tie, Gold > Silver > Bronze\n",
        "- Include only one Olympian for each Olympic year i.e. If there are 2 Olympians in one year who have won exactly the same number and type of medals, then show only the first one based on sorting the names alphabetically by surname.\n",
        "\n",
        "- You should show the the following columns for each Olympic year:\n",
        "  - Athlete Name\n",
        "  - Sport\n",
        "  - Total\n"
      ],
      "metadata": {
        "id": "zMMgGjqYCsDE"
      }
    },
    {
      "cell_type": "code",
      "source": [
        "!pip install --quiet pandas==2.0.2\n",
        "\n",
        "import pandas as pd\n",
        "from pathlib import Path\n",
        "import matplotlib.pyplot as plt\n",
        "pd.set_option(\"display.width\", 100)\n",
        "\n",
        "if not Path(\"olympics_1896_2004.csv\").exists():\n",
        "  !wget https://github.com/jonfernandes/pandas_essential/raw/main/olympics_1896_2004.csv\n",
        "if not Path(\"olympics_2008.csv\").exists():\n",
        "  !wget https://github.com/jonfernandes/pandas_essential/raw/main/olympics_2008.csv\n",
        "\n",
        "filename = \"olympics_1896_2004.csv\"\n",
        "print(\"Installed all of the necessary files for this section ...\")"
      ],
      "metadata": {
        "id": "oqXcdInNjsca"
      },
      "execution_count": null,
      "outputs": []
    },
    {
      "cell_type": "code",
      "source": [
        "def preprocess(filename = \"olympics_1896_2004.csv\"):\n",
        "  \"\"\"Preparing and transforming dataframe\"\"\"\n",
        "  print(f\"Preprocessing {filename} ...\\n\")\n",
        "  ordered_medals = pd.api.types.CategoricalDtype(categories=[\"Bronze\", \"Silver\", \"Gold\"], ordered=True)\n",
        "  dtype_mapper = {\"Year\": \"int64\",\n",
        "                \"City\": \"string\",\n",
        "                \"Sport\": \"string\",\n",
        "                \"Discipline\": \"string\",\n",
        "                \"Athlete Name\": \"string\",\n",
        "                \"NOC\": \"string\",\n",
        "                \"Gender\": \"category\",\n",
        "                \"Event\": \"string\",\n",
        "                \"Event_gender\": \"category\",\n",
        "                \"Medal\": ordered_medals}\n",
        "  df = pd.read_csv(filename, skiprows=5, dtype=dtype_mapper)\n",
        "  df = df.drop('Position', axis=1)\n",
        "  df[\"Event Gender\"] = df[\"Event Gender\"].astype(\"category\")\n",
        "  df.loc[24676, \"Gender\"] = \"Women\"\n",
        "  df.Sport = df.Sport.str.lower()\n",
        "  df.Discipline = df.Discipline.str.lower()\n",
        "  df.Event = df.Event.str.lower()\n",
        "  df.NOC = df.NOC.str.upper()\n",
        "  return df\n",
        "\n",
        "def preprocess_2008(filename=\"olympics_2008.csv\"):\n",
        "  print(f\"Preprocessing {filename} ...\\n\")\n",
        "  df = pd.read_csv(filename)\n",
        "  df.columns = ['City', 'Year', 'Sport', 'Discipline', 'Athlete Name', 'NOC',\n",
        "       'Gender', 'Event', 'Event Gender', 'Medal', 'Result']\n",
        "  df = df.drop(\"Result\", axis=1)\n",
        "  df.City = df.City.fillna(value=\"Beijing\")\n",
        "  df.Year = df.Year.fillna(value=2008)\n",
        "  df = df.dropna(subset=['Sport', 'Discipline', 'Athlete Name', 'NOC', 'Gender',\n",
        "       'Event', 'Event Gender', 'Medal'], how=\"all\")\n",
        "  df = df.drop_duplicates()\n",
        "  df.Sport = df.Sport.str.lower()\n",
        "  df.Discipline = df.Discipline.str.lower()\n",
        "  df.Event = df.Event.str.lower()\n",
        "  df.NOC = df.NOC.str.upper()\n",
        "  df.Medal = df.Medal.str.capitalize()\n",
        "  df.City = df.City.astype(\"string\")\n",
        "  df.Year = df.Year.astype(int)\n",
        "  df.Sport = df.Sport.astype(\"string\")\n",
        "  df.Discipline = df.Discipline.astype(\"string\")\n",
        "  df[\"Athlete Name\"] = df[\"Athlete Name\"].astype(\"string\")\n",
        "  df.NOC = df.NOC.astype(\"string\")\n",
        "  df.Gender = df.Gender.astype(\"category\")\n",
        "  df.Event = df.Event.astype(\"string\")\n",
        "  df['Event Gender'] = df['Event Gender'].astype(\"category\")\n",
        "  medal_order = [\"Bronze\", \"Silver\", \"Gold\"]\n",
        "  df.Medal = pd.Categorical(df.Medal, categories=medal_order, ordered=True)\n",
        "\n",
        "  return df\n",
        "\n",
        "oo = preprocess()\n",
        "nw = preprocess_2008()\n",
        "up = pd.concat([oo, nw])\n",
        "up.sample(3)"
      ],
      "metadata": {
        "id": "i951MK2ojscb"
      },
      "execution_count": null,
      "outputs": []
    },
    {
      "cell_type": "code",
      "source": [],
      "metadata": {
        "id": "NGHBR0r1eqig"
      },
      "execution_count": null,
      "outputs": []
    },
    {
      "cell_type": "markdown",
      "source": [
        "##Solution"
      ],
      "metadata": {
        "id": "y4e4PWcferLR"
      }
    },
    {
      "cell_type": "markdown",
      "source": [
        "For each Olympic year present in the dataset, show the US Olympian (and their sport) who has won the highest number of medals in that particular year.\n",
        "\n",
        "- In the case of a tie, Gold > Silver > Bronze\n",
        "- Include only one Olympian for each Olympic year i.e. If there are 2 Olympians in one year who have won exactly the same number and type of medals, then show only the first one based on sorting the names alphabetically by surname.\n",
        "\n",
        "- You should show the the following columns for each Olympic year:\n",
        "  - Athlete Name\n",
        "  - Sport\n",
        "  - Total\n"
      ],
      "metadata": {
        "id": "yZMmxFA3ezMd"
      }
    },
    {
      "cell_type": "code",
      "source": [
        "!pip install --quiet pandas==2.0.2\n",
        "\n",
        "import pandas as pd\n",
        "from pathlib import Path\n",
        "import matplotlib.pyplot as plt\n",
        "pd.set_option(\"display.width\", 100)\n",
        "\n",
        "if not Path(\"olympics_1896_2004.csv\").exists():\n",
        "  !wget https://github.com/jonfernandes/pandas_essential/raw/main/olympics_1896_2004.csv\n",
        "if not Path(\"olympics_2008.csv\").exists():\n",
        "  !wget https://github.com/jonfernandes/pandas_essential/raw/main/olympics_2008.csv\n",
        "\n",
        "filename = \"olympics_1896_2004.csv\"\n",
        "print(\"Installed all of the necessary files for this section ...\")"
      ],
      "metadata": {
        "id": "MbU6X-CxeojY"
      },
      "execution_count": null,
      "outputs": []
    },
    {
      "cell_type": "code",
      "source": [
        "def preprocess(filename = \"olympics_1896_2004.csv\"):\n",
        "  \"\"\"Preparing and transforming dataframe\"\"\"\n",
        "  print(f\"Preprocessing {filename} ...\\n\")\n",
        "  ordered_medals = pd.api.types.CategoricalDtype(categories=[\"Bronze\", \"Silver\", \"Gold\"], ordered=True)\n",
        "  dtype_mapper = {\"Year\": \"int64\",\n",
        "                \"City\": \"string\",\n",
        "                \"Sport\": \"string\",\n",
        "                \"Discipline\": \"string\",\n",
        "                \"Athlete Name\": \"string\",\n",
        "                \"NOC\": \"string\",\n",
        "                \"Gender\": \"category\",\n",
        "                \"Event\": \"string\",\n",
        "                \"Event_gender\": \"category\",\n",
        "                \"Medal\": ordered_medals}\n",
        "  df = pd.read_csv(filename, skiprows=5, dtype=dtype_mapper)\n",
        "  df = df.drop('Position', axis=1)\n",
        "  df[\"Event Gender\"] = df[\"Event Gender\"].astype(\"category\")\n",
        "  df.loc[24676, \"Gender\"] = \"Women\"\n",
        "  df.Sport = df.Sport.str.lower()\n",
        "  df.Discipline = df.Discipline.str.lower()\n",
        "  df.Event = df.Event.str.lower()\n",
        "  df.NOC = df.NOC.str.upper()\n",
        "  return df\n",
        "\n",
        "def preprocess_2008(filename=\"olympics_2008.csv\"):\n",
        "  print(f\"Preprocessing {filename} ...\\n\")\n",
        "  df = pd.read_csv(filename)\n",
        "  df.columns = ['City', 'Year', 'Sport', 'Discipline', 'Athlete Name', 'NOC',\n",
        "       'Gender', 'Event', 'Event Gender', 'Medal', 'Result']\n",
        "  df = df.drop(\"Result\", axis=1)\n",
        "  df.City = df.City.fillna(value=\"Beijing\")\n",
        "  df.Year = df.Year.fillna(value=2008)\n",
        "  df = df.dropna(subset=['Sport', 'Discipline', 'Athlete Name', 'NOC', 'Gender',\n",
        "       'Event', 'Event Gender', 'Medal'], how=\"all\")\n",
        "  df = df.drop_duplicates()\n",
        "  df.Sport = df.Sport.str.lower()\n",
        "  df.Discipline = df.Discipline.str.lower()\n",
        "  df.Event = df.Event.str.lower()\n",
        "  df.NOC = df.NOC.str.upper()\n",
        "  df.Medal = df.Medal.str.capitalize()\n",
        "  df.City = df.City.astype(\"string\")\n",
        "  df.Year = df.Year.astype(int)\n",
        "  df.Sport = df.Sport.astype(\"string\")\n",
        "  df.Discipline = df.Discipline.astype(\"string\")\n",
        "  df[\"Athlete Name\"] = df[\"Athlete Name\"].astype(\"string\")\n",
        "  df.NOC = df.NOC.astype(\"string\")\n",
        "  df.Gender = df.Gender.astype(\"category\")\n",
        "  df.Event = df.Event.astype(\"string\")\n",
        "  df['Event Gender'] = df['Event Gender'].astype(\"category\")\n",
        "  medal_order = [\"Bronze\", \"Silver\", \"Gold\"]\n",
        "  df.Medal = pd.Categorical(df.Medal, categories=medal_order, ordered=True)\n",
        "\n",
        "  return df\n",
        "\n",
        "oo = preprocess()\n",
        "nw = preprocess_2008()\n",
        "up = pd.concat([oo, nw])\n",
        "up.sample(3)"
      ],
      "metadata": {
        "id": "By6xUA93eojY"
      },
      "execution_count": null,
      "outputs": []
    },
    {
      "cell_type": "code",
      "source": [
        "usa_olympian = up[up.NOC == 'USA']\n",
        "usa_olympian"
      ],
      "metadata": {
        "id": "OLZlVtDn9yO8"
      },
      "execution_count": null,
      "outputs": []
    },
    {
      "cell_type": "code",
      "source": [
        "usa_olympian.groupby(['Year', 'Athlete Name', 'Medal', 'Sport']).size()"
      ],
      "metadata": {
        "id": "hEh9oP6mDGWG"
      },
      "execution_count": null,
      "outputs": []
    },
    {
      "cell_type": "code",
      "source": [
        "(usa_olympian.groupby(['Year', 'Athlete Name', 'Medal', 'Sport'])\n",
        ".size()\n",
        ".unstack('Medal', fill_value=0)\n",
        ")"
      ],
      "metadata": {
        "id": "xUZBqPx6DGSj"
      },
      "execution_count": null,
      "outputs": []
    },
    {
      "cell_type": "code",
      "source": [
        "table = (usa_olympian.groupby(['Year', 'Athlete Name', 'Sport', 'Medal'])\n",
        ".size()\n",
        ".unstack('Medal', fill_value=0)\n",
        ")\n",
        "table"
      ],
      "metadata": {
        "id": "GxD7zqJ0DGO-"
      },
      "execution_count": null,
      "outputs": []
    },
    {
      "cell_type": "code",
      "source": [
        "table = (usa_olympian.groupby(['Year', 'Athlete Name', 'Sport', 'Medal'])\n",
        ".size()\n",
        ".unstack('Medal', fill_value=0)\n",
        ".assign(Total=table['Gold']+table['Silver']+table['Bronze'])\n",
        ")\n",
        "table"
      ],
      "metadata": {
        "id": "QvazfNN4fYC4"
      },
      "execution_count": null,
      "outputs": []
    },
    {
      "cell_type": "code",
      "source": [
        "table = (usa_olympian.groupby(['Year', 'Athlete Name', 'Sport', 'Medal'])\n",
        ".size()\n",
        ".unstack('Medal', fill_value=0)\n",
        ".assign(Total=table['Gold']+table['Silver']+table['Bronze'])\n",
        ".reset_index()\n",
        ")\n",
        "table"
      ],
      "metadata": {
        "id": "0NDJfhOEDGE_"
      },
      "execution_count": null,
      "outputs": []
    },
    {
      "cell_type": "code",
      "source": [
        "for year, group in table.groupby('Year'):\n",
        "  print(group)"
      ],
      "metadata": {
        "id": "ngE9HmQGDGBc"
      },
      "execution_count": null,
      "outputs": []
    },
    {
      "cell_type": "code",
      "source": [
        "for year, group in table.groupby('Year'):\n",
        "  print(group.sort_values('Total', ascending=False))"
      ],
      "metadata": {
        "id": "mlgTuzU3DF9-"
      },
      "execution_count": null,
      "outputs": []
    },
    {
      "cell_type": "code",
      "source": [
        "for year, group in table.groupby('Year'):\n",
        "  print(group.sort_values(['Total', 'Gold', 'Silver', 'Bronze', 'Athlete Name'], ascending=False))"
      ],
      "metadata": {
        "id": "EhbtvlD7DF6d"
      },
      "execution_count": null,
      "outputs": []
    },
    {
      "cell_type": "code",
      "source": [
        "for year, group in table.groupby('Year'):\n",
        "  print(group.sort_values(['Total', 'Gold', 'Silver', 'Bronze', 'Athlete Name'], ascending=False).head(1))"
      ],
      "metadata": {
        "id": "XYplgW07Al82"
      },
      "execution_count": null,
      "outputs": []
    },
    {
      "cell_type": "code",
      "source": [
        "winners = [\n",
        "    group.sort_values(['Total', 'Gold', 'Silver', 'Bronze', 'Athlete Name'], ascending=False).head(1)\n",
        "    for year, group in table.groupby('Year')\n",
        "]\n",
        "winners"
      ],
      "metadata": {
        "id": "NXtd9GEJDFx4"
      },
      "execution_count": null,
      "outputs": []
    },
    {
      "cell_type": "code",
      "source": [
        "winners[0]"
      ],
      "metadata": {
        "id": "07PdUFZew7Ex"
      },
      "execution_count": null,
      "outputs": []
    },
    {
      "cell_type": "code",
      "source": [
        "type(winners[0])"
      ],
      "metadata": {
        "id": "Jps9YCyhw9JR"
      },
      "execution_count": null,
      "outputs": []
    },
    {
      "cell_type": "code",
      "source": [
        "pd.concat(winners)"
      ],
      "metadata": {
        "id": "bHoG_62bDFud"
      },
      "execution_count": null,
      "outputs": []
    },
    {
      "cell_type": "code",
      "source": [
        "pd.concat(winners)[[\"Year\",\t\"Athlete Name\",\t\"Sport\", \"Total\"]]"
      ],
      "metadata": {
        "id": "Qkd4c8LKcOGt"
      },
      "execution_count": null,
      "outputs": []
    },
    {
      "cell_type": "code",
      "source": [
        "pd.concat(winners)[[\"Year\",\t\"Athlete Name\",\t\"Sport\", \"Total\"]].reset_index()"
      ],
      "metadata": {
        "id": "4azCAhsZcOCr"
      },
      "execution_count": null,
      "outputs": []
    },
    {
      "cell_type": "code",
      "source": [
        "pd.concat(winners)[[\"Year\",\t\"Athlete Name\",\t\"Sport\", \"Total\"]].reset_index?"
      ],
      "metadata": {
        "id": "oLalobULcN-l"
      },
      "execution_count": null,
      "outputs": []
    },
    {
      "cell_type": "code",
      "source": [
        "pd.DataFrame.reset_index?"
      ],
      "metadata": {
        "id": "XvlJx_mkcN6b"
      },
      "execution_count": null,
      "outputs": []
    },
    {
      "cell_type": "code",
      "source": [
        "pd.concat(winners)[[\"Year\",\t\"Athlete Name\",\t\"Sport\", \"Total\"]].reset_index(drop=True)"
      ],
      "metadata": {
        "id": "pu1EH5vZcN2i"
      },
      "execution_count": null,
      "outputs": []
    },
    {
      "cell_type": "code",
      "source": [],
      "metadata": {
        "id": "mkGHzL79b0v2"
      },
      "execution_count": null,
      "outputs": []
    },
    {
      "cell_type": "code",
      "source": [
        "#SDG"
      ],
      "metadata": {
        "id": "ysqHxer4b0m2"
      },
      "execution_count": null,
      "outputs": []
    },
    {
      "cell_type": "code",
      "source": [],
      "metadata": {
        "id": "VntgwLJzb0i_"
      },
      "execution_count": null,
      "outputs": []
    },
    {
      "cell_type": "code",
      "source": [],
      "metadata": {
        "id": "O01B55rUb0ec"
      },
      "execution_count": null,
      "outputs": []
    }
  ],
  "metadata": {
    "colab": {
      "collapsed_sections": [
        "nIp_KPjfO4J9",
        "1QP__-BYFIFN",
        "LRcakh4dQzWs",
        "vto6K36OcbBY",
        "Y7NNcfO4xlea",
        "cXD8zRjrB0vc",
        "dVneSuG42rEV",
        "Ckw-4M9hpoa3",
        "W9Nhfv3LkjL0",
        "KoS5odaaWiBi",
        "IEMaZhWNgH8S",
        "PLavnC_tldUv",
        "f6JGaT7avvyR",
        "B66y0jue2DMa",
        "gIiaB-pcEKdf",
        "tW9suZ3CGCpG",
        "fBBqvMS_uhNk",
        "RM1S3nJ0vcXs",
        "SCq05iZiwibC",
        "Z0rYN2NIPxNZ",
        "mFDo3MYfd60y",
        "bU802QvxZOh_",
        "DEyNm2RLoeGd",
        "FematpDlyP3J",
        "emB7XuGpBOPu",
        "Utjd5YTX5ruR",
        "UbtEix9Y-6Uc",
        "L1yiHNB0Ohfm",
        "nC0B3PtWD0H1",
        "BdOwoiXDISBA",
        "kH9DmNEweaVZ",
        "486bDzcSDjs9",
        "Qr68snfKFo33",
        "G4oDXcOu6cNf",
        "prwKaxHRupV5",
        "UeJT-eycu6o9",
        "w-w5R_xF7431",
        "Ffq41qyWCfrk",
        "y4e4PWcferLR"
      ],
      "provenance": []
    },
    "gpuClass": "standard",
    "kernelspec": {
      "display_name": "Python 3",
      "name": "python3"
    },
    "language_info": {
      "name": "python"
    }
  },
  "nbformat": 4,
  "nbformat_minor": 0
}